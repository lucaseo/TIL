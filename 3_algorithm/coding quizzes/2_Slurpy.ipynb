{
 "cells": [
  {
   "cell_type": "markdown",
   "metadata": {},
   "source": [
    "### 1.\n",
    "\n",
    "스러피(Slurpy)란 어떠한 속성이 존재하는 문자열이다. 문자열을 읽어서 스러피가 존재하는지를 판단하는 프로그램을 작성해야 한다.\n",
    "\n",
    "스럼프(Slump)는 다음 속성을 갖는 문자열이다.\n",
    "\n",
    "첫 번째 문자가 'D' 또는 'E'이다.\n",
    "첫 번째 문자 뒤에는 하나 이상의 'F'가 나온다.\n",
    "하나 이상의 'F' 뒤에는 또 다른 스럼프나 'G'가 온다. 스럼프는 'F' 끝에 오는 스럼프나 'G'로끝난다. 예를 들어, DFFEFFFG는 첫 번째 문자가 'D'로 시작하고 두 개의 'F'가 나오며, 또 다른스럼프 'EFFFG'로 끝난다.\n",
    "위의 경우가 아니면 스럼프가 아니다.\n",
    "\n",
    "\n",
    "스림프(Slimp)는 다음 속성을 갖는 문자열이다.\n",
    "\n",
    "첫 번째 문자는 'A'이다.\n",
    "두 개의 문자로만 된 스림프면, 두 번째 문자는 'H'이다.\n",
    "두 개의 문자로 된 스림프가 아니면 다음 형식 중의 하나가 된다.\n",
    "'A' + 'B' + 스림프 + 'C'. \n",
    "'A' + 스럼프 + 'C'.\n",
    "위의 경우가 아니면 스림프가 아니다.\n",
    "스러피(Slurpy)는 스림프(Slimp) 뒤에 스럼프(Slump)로 구성되는 문자열이다.\n",
    "\n",
    "\n",
    "- 다음은 그 예이다.\n",
    "\n",
    "    - Slumps : DFG, EFG, DFFFFFG, DFDFDFDFG, DFEFFFFFG\n",
    "    - Not Slumps: DFEFF, EFAHG, DEFG, DG, EFFFFDG  \n",
    "  \n",
    "    - Slimps: AH, ABAHC, ABABAHCC, ADFGC, ADFFFFGC, ABAEFGCC, ADFDFGC\n",
    "    - Not Slimps: ABC, ABAH, DFGC, ABABAHC, SLIMP, ADGC  \n",
    "  \n",
    "    - Slurpys: AHDFG, ADFGCDFFFFFG, ABAEFGCCDFEFFFFFG\n",
    "    - Not Slurpys: AHDFGA, DFGAH, ABABCC\n",
    "\n",
    "\n",
    "**입력**\n",
    "\n",
    "입력될 문자열의 개수를 나타내는 정수 N 이 1 ~ 10의 범위로 우선 입력된다. 다음 줄부터 N개의 문자열이 입력된다. 문자열은 1 ~ 60 개의 알파벳 문자로 구성된다.\n",
    "\n",
    "**출력**\n",
    "\n",
    "첫 줄에는 \"SLURPYS OUTPUT\"을 출력한다. N 개의 문자열 입력에 대해서 각 문자열이 스러피인지를 \"YES\" 또는 \"NO\"로 표기한다. 마지막으로 \"END OF OUTPUT\"를 출력한다.\n",
    "\n",
    "\n",
    "\n",
    "**Sample Input**\n",
    "\n",
    "2  \n",
    "AHDFG  \n",
    "DFGAH\n",
    "\n",
    "\n",
    "\n",
    "\n",
    "**Sample Output**\n",
    "\n",
    "SLURPYS OUTPUT  \n",
    "YES  \n",
    "NO  \n",
    "END OF OUTPUT"
   ]
  },
  {
   "cell_type": "code",
   "execution_count": null,
   "metadata": {},
   "outputs": [],
   "source": [
    "import re"
   ]
  },
  {
   "cell_type": "code",
   "execution_count": null,
   "metadata": {},
   "outputs": [],
   "source": [
    "slump = re.compile(\"[D|E]F+([D|E]F+)*G\")\n",
    "slimp = re.compile(\"AH|A([D|E]F+([D|E]F+)*G)+C|AB(AH|A([D|E]F+([D|E]F+)*G)+C|AB)+C\")"
   ]
  },
  {
   "cell_type": "code",
   "execution_count": null,
   "metadata": {},
   "outputs": [],
   "source": [
    "def slump_match(i):\n",
    "    m = slump.match(i)\n",
    "    if m:\n",
    "        print(\"match\")\n",
    "    else:\n",
    "        print(\"NO\")\n",
    "        \n",
    "def slimp_match(i):\n",
    "    m = slimp.match(i)\n",
    "    if m:\n",
    "        print(\"match\")\n",
    "    else:\n",
    "        print(\"NO\")\n",
    "        \n",
    "def slurpy_match(i):\n",
    "    m = slimp.match(i)\n",
    "    if m:\n",
    "        slump_loc = i[len(m.group()):]\n",
    "        slump_check = slump.match(slump_loc)\n",
    "        if slump_check:\n",
    "            print(\"YES\")\n",
    "        else:\n",
    "            print(\"NO\")\n",
    "        \n",
    "        \n",
    "        \n",
    "    else:\n",
    "        print(\"NO\")"
   ]
  },
  {
   "cell_type": "code",
   "execution_count": null,
   "metadata": {},
   "outputs": [],
   "source": [
    "n = int(input())\n",
    "string=[]\n",
    "for i in range(n):\n",
    "    arr = input()\n",
    "    string.append(arr)"
   ]
  },
  {
   "cell_type": "code",
   "execution_count": null,
   "metadata": {},
   "outputs": [],
   "source": [
    "print(\"SLURPYS OUTPUT\")\n",
    "for i in range(n):\n",
    "    slurpy_match(string[i])\n",
    "print(\"END OF OUTPUT\")"
   ]
  },
  {
   "cell_type": "code",
   "execution_count": null,
   "metadata": {},
   "outputs": [],
   "source": []
  }
 ],
 "metadata": {
  "kernelspec": {
   "display_name": "Python 3",
   "language": "python",
   "name": "python3"
  },
  "language_info": {
   "codemirror_mode": {
    "name": "ipython",
    "version": 3
   },
   "file_extension": ".py",
   "mimetype": "text/x-python",
   "name": "python",
   "nbconvert_exporter": "python",
   "pygments_lexer": "ipython3",
   "version": "3.6.2"
  }
 },
 "nbformat": 4,
 "nbformat_minor": 2
}
