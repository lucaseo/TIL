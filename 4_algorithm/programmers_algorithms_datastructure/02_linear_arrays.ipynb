{
 "cells": [
  {
   "cell_type": "markdown",
   "metadata": {},
   "source": [
    "# 선형배열 (Linear Arrays)\n",
    "\n",
    "파이썬에서는 선형배열을 리스트(List)로 구현할 수 있다.\n",
    "\n",
    "<br>\n",
    "<br>\n",
    "\n",
    "**배열 (array)** : 원소들을 순서대로 늘어놓은 것\n",
    "\n",
    "\n",
    "- 파이썬 리스트의 특징\n",
    "    - 각 요소들의 데이터타입이 달라도, 같은 리스트에 속할 수 있다."
   ]
  },
  {
   "cell_type": "code",
   "execution_count": 1,
   "metadata": {},
   "outputs": [],
   "source": [
    "L = ['Bob', 'Cat', 'Spam', 'Programmers']"
   ]
  },
  {
   "cell_type": "code",
   "execution_count": 2,
   "metadata": {},
   "outputs": [
    {
     "name": "stdout",
     "output_type": "stream",
     "text": [
      "앞에서 두 번째 : Cat\n",
      "뒤에서 첫 번째 : Programmers\n"
     ]
    }
   ],
   "source": [
    "# index를 통해서 각 원소에 접근할 수 있다.\n",
    "\n",
    "print(\"앞에서 두 번째 :\", L[1])\n",
    "print(\"뒤에서 첫 번째 :\", L[-1])"
   ]
  },
  {
   "cell_type": "code",
   "execution_count": 3,
   "metadata": {},
   "outputs": [
    {
     "name": "stdout",
     "output_type": "stream",
     "text": [
      "['Bob', 'Cat', 'Spam', 'Programmers', 'New']\n"
     ]
    }
   ],
   "source": [
    "# 새로운 원소를 배열에 덧붙이기\n",
    "\n",
    "L.append('New')\n",
    "print(L)"
   ]
  },
  {
   "cell_type": "code",
   "execution_count": 4,
   "metadata": {},
   "outputs": [
    {
     "name": "stdout",
     "output_type": "stream",
     "text": [
      "New\n",
      "['Bob', 'Cat', 'Spam', 'Programmers']\n"
     ]
    }
   ],
   "source": [
    "# 끝에 있는 원소를 삭제하기\n",
    "\n",
    "print(L.pop())\n",
    "print(L)"
   ]
  },
  {
   "cell_type": "markdown",
   "metadata": {},
   "source": [
    "배열의 끝에 원소를 더하거나 빼는 일은 ... \n",
    "- 리스트의 길이와 무관하게 빠른 작업이다.\n",
    "- Big O 표기법으로는 $\\rightarrow O(1)$ \n",
    "\n",
    "\n",
    "<br>\n",
    "\n",
    "* * * *\n",
    "\n",
    "그렇다면 리스트의 중간에 원소를 삽입하거나, 중간에 있는 원소를 삭제하는 연산은?"
   ]
  },
  {
   "cell_type": "code",
   "execution_count": 5,
   "metadata": {},
   "outputs": [
    {
     "name": "stdout",
     "output_type": "stream",
     "text": [
      "[20, 37, 58, 65, 72, 91]\n"
     ]
    }
   ],
   "source": [
    "# 리스트 중간에 원소 삽입하기\n",
    "\n",
    "L = [20, 37, 58, 72, 91]\n",
    "L.insert(3, 65) # index 3 위치에 65를 삽입\n",
    "print(L)"
   ]
  },
  {
   "cell_type": "code",
   "execution_count": 6,
   "metadata": {},
   "outputs": [
    {
     "name": "stdout",
     "output_type": "stream",
     "text": [
      "[20, 37, 65, 72, 91]\n"
     ]
    }
   ],
   "source": [
    "# 리스트 중간의 원소를 삭제하기\n",
    "\n",
    "del(L[2]) #리스트의 index 2 위치에 있는 원소를 삭제하라\n",
    "print(L)"
   ]
  },
  {
   "cell_type": "markdown",
   "metadata": {},
   "source": [
    "위의 연산처럼, 중간에 있는 원소를 삽입하거나 삭제하는 일은 ...\n",
    "- 리스트의 길이가 길면 오래 걸린다\n",
    "- 리스트의 길이에 비례한다\n",
    "- 선형 시간이 걸린다 $ \\rightarrow O(n)$\n",
    "\n",
    "<br>\n",
    "\n",
    "* * * *"
   ]
  },
  {
   "cell_type": "markdown",
   "metadata": {},
   "source": [
    "특정 원소의 위치를 알아보기 "
   ]
  },
  {
   "cell_type": "code",
   "execution_count": 7,
   "metadata": {},
   "outputs": [
    {
     "data": {
      "text/plain": [
       "2"
      ]
     },
     "execution_count": 7,
     "metadata": {},
     "output_type": "execute_result"
    }
   ],
   "source": [
    "# 찾고자 하는 원소의 index를 리턴하기\n",
    "\n",
    "L = ['Bob', 'Cat', 'Spam', 'Programmers']\n",
    "L.index('Spam')"
   ]
  },
  {
   "cell_type": "markdown",
   "metadata": {},
   "source": [
    "<br>\n",
    "<br>\n",
    "<br>\n",
    "\n",
    "* * * *"
   ]
  },
  {
   "cell_type": "markdown",
   "metadata": {},
   "source": [
    "### 연습문제 (1)\n",
    "\n",
    "\n",
    "리스트 L 과 정수 x 가 인자로 주어질 때, 리스트 내의 올바른 위치에 x 를 삽입하여 그 결과 리스트를 반환하는 함수 solution 을 완성하세요.\n",
    "\n",
    "인자로 주어지는 리스트 L 은 정수 원소들로 이루어져 있으며 크기에 따라 (오름차순으로) 정렬되어 있다고 가정합니다.\n",
    "\n",
    "예를 들어, L = [20, 37, 58, 72, 91] 이고 x = 65 인 경우, 올바른 리턴 값은 [20, 37, 58, 65, 72, 91] 입니다.\n",
    "\n",
    "**힌트:**\n",
    "- 순환문을 이용하여 올바른 위치를 결정하고 \n",
    "- insert() 메서드를 이용하여 삽입하는 것이 한 가지 방법입니다.\n",
    "\n",
    "**주의:**\n",
    "- 리스트 내에 존재하는 모든 원소들보다 작거나 모든 원소들보다 큰 정수가 주어지는 경우에 대해서도 올바르게 처리해야 합니다."
   ]
  },
  {
   "cell_type": "code",
   "execution_count": 8,
   "metadata": {},
   "outputs": [],
   "source": [
    "def solution(L, x):\n",
    "    \n",
    "    for idx, num in enumerate(L):\n",
    "        if num > x:\n",
    "            L.insert(idx, x)\n",
    "            break\n",
    "    \n",
    "    if L[-1] < x:\n",
    "        L.append(x)\n",
    "    else:\n",
    "        pass\n",
    "        \n",
    "    \n",
    "    return L"
   ]
  },
  {
   "cell_type": "code",
   "execution_count": 9,
   "metadata": {},
   "outputs": [
    {
     "name": "stdout",
     "output_type": "stream",
     "text": [
      "[20, 37, 58, 72, 91, 100]\n"
     ]
    }
   ],
   "source": [
    "L = [20, 37, 58, 72, 91]\n",
    "x = 100\n",
    "print(solution(L, x))"
   ]
  },
  {
   "cell_type": "markdown",
   "metadata": {},
   "source": [
    "### 연습문제 (2)\n",
    "\n",
    "인자로 주어지는 리스트 L 내에서, 또한 인자로 주어지는 원소 x 가 발견되는 모든 인덱스를 구하여 이 인덱스들로 이루어진 리스트를 반환하는 함수 solution 을 완성하세요.\n",
    "\n",
    "리스트 L 은 정수들로 이루어져 있고 그 순서는 임의로 부여되어 있다고 가정하며, 동일한 원소가 반복하여 들어 있을 수 있습니다. 이 안에 정수 x 가 존재하면 그것들을 모두 발견하여 해당 인덱스들을 리스트로 만들어 반환하고, 만약 존재하지 않으면 하나의 원소로 이루어진 리스트 [-1] 를 반환하는 함수를 완성하세요.\n",
    "\n",
    "예를 들어, L = [64, 72, 83, 72, 54] 이고 x = 72 인 경우의 올바른 리턴 값은 [1, 3] 입니다.  \n",
    "또 다른 예를 들어, L = [64, 72, 83, 72, 54] 이고 x = 83 인 경우의 올바른 리턴 값은 [2] 입니다.  \n",
    "마지막으로 또 다른 예를 들어, L = [64, 72, 83, 72, 54] 이고 x = 49 인 경우의 올바른 리턴 값은 [None] 입니다.\n",
    "\n",
    "**힌트 1:**\n",
    "- 리스트의 index() 메서드와 리스트 슬라이싱을 활용하는 것이 한 가지 방법이 됩니다.\n",
    "- 리스트 슬라이싱은 아래와 같이 동작합니다.\n",
    "\n",
    ">L = [6, 2, 8, 7, 3] 인 경우  \n",
    ">L[1:3] = [2, 8]  \n",
    ">L[2:] = [8, 7, 3]  \n",
    ">L[:3] = [6, 2, 8]  \n",
    "\n",
    "**힌트 2:**\n",
    "- 리스트의 index() 메서드는, 인자로 주어지는 원소가 리스트 내에 존재하지 않을 때 ValueError 를 일으킵니다. \n",
    "- 이것을 try ... except 로 처리해도 되고, if x in L 과 같은 조건문으로 특정 원소가 리스트 내에 존재하는지를 판단해도 됩니다."
   ]
  },
  {
   "cell_type": "code",
   "execution_count": 10,
   "metadata": {},
   "outputs": [],
   "source": [
    "def solution(L, x):\n",
    "    answer = []\n",
    "    for idx, num in enumerate(L):\n",
    "        if num == x:\n",
    "            answer.append(idx)\n",
    "    \n",
    "    if len(answer) == 0:\n",
    "        answer.append(-1)\n",
    "    \n",
    "    return answer"
   ]
  },
  {
   "cell_type": "code",
   "execution_count": 11,
   "metadata": {},
   "outputs": [
    {
     "name": "stdout",
     "output_type": "stream",
     "text": [
      "[1, 4]\n"
     ]
    }
   ],
   "source": [
    "L = [64, 72, 83, 54, 72]\n",
    "x = 72\n",
    "\n",
    "print(solution(L, x))"
   ]
  },
  {
   "cell_type": "code",
   "execution_count": 12,
   "metadata": {},
   "outputs": [
    {
     "name": "stdout",
     "output_type": "stream",
     "text": [
      "[-1]\n"
     ]
    }
   ],
   "source": [
    "L = [64, 72, 83, 72, 54]\n",
    "x = 49\n",
    "\n",
    "print(solution(L, x))"
   ]
  },
  {
   "cell_type": "code",
   "execution_count": null,
   "metadata": {},
   "outputs": [],
   "source": []
  }
 ],
 "metadata": {
  "kernelspec": {
   "display_name": "Python 3",
   "language": "python",
   "name": "python3"
  },
  "language_info": {
   "codemirror_mode": {
    "name": "ipython",
    "version": 3
   },
   "file_extension": ".py",
   "mimetype": "text/x-python",
   "name": "python",
   "nbconvert_exporter": "python",
   "pygments_lexer": "ipython3",
   "version": "3.6.2"
  }
 },
 "nbformat": 4,
 "nbformat_minor": 2
}
