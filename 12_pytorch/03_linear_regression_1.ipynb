{
 "cells": [
  {
   "cell_type": "markdown",
   "metadata": {},
   "source": [
    "### Linear Regression Basics\n",
    "\n",
    "$$ y = ax + \\beta$$"
   ]
  },
  {
   "cell_type": "markdown",
   "metadata": {},
   "source": [
    "### 1. Aim of Linear Regression\n",
    "- Minimize the distance between the ponts and the line ( $y = ax + \\beta$ )\n",
    "- By adjusting\n",
    "    - Coefficient ( $a$ )\n",
    "    - Bias/Intercept ( $\\beta$ )"
   ]
  },
  {
   "cell_type": "markdown",
   "metadata": {},
   "source": [
    "### 2. Building a Linear Regression Model\n",
    "\n",
    "$$ y = 2x + 1 $$\n",
    "\n",
    "- Coeffeicent $a = 2$\n",
    "- Bias / Intercept $\\beta = 1$"
   ]
  },
  {
   "cell_type": "markdown",
   "metadata": {},
   "source": [
    "### 2. 1. Building Dataset"
   ]
  },
  {
   "cell_type": "code",
   "execution_count": 62,
   "metadata": {},
   "outputs": [
    {
     "data": {
      "text/plain": [
       "[0, 1, 2, 3, 4, 5, 6, 7, 8, 9, 10]"
      ]
     },
     "execution_count": 62,
     "metadata": {},
     "output_type": "execute_result"
    }
   ],
   "source": [
    "# example dataset\n",
    "\n",
    "x_values = [i for i in range(11)]\n",
    "x_values"
   ]
  },
  {
   "cell_type": "code",
   "execution_count": 63,
   "metadata": {},
   "outputs": [
    {
     "name": "stdout",
     "output_type": "stream",
     "text": [
      "(11,)\n"
     ]
    }
   ],
   "source": [
    "# convert to numpy\n",
    "\n",
    "import numpy as np\n",
    "\n",
    "x_train = np.array(x_values, dtype=np.float32)\n",
    "print(x_train.shape)"
   ]
  },
  {
   "cell_type": "code",
   "execution_count": 64,
   "metadata": {},
   "outputs": [
    {
     "data": {
      "text/plain": [
       "(11, 1)"
      ]
     },
     "execution_count": 64,
     "metadata": {},
     "output_type": "execute_result"
    }
   ],
   "source": [
    "# we need 2 dimensional array\n",
    "\n",
    "x_train = x_train.reshape(-1, 1)\n",
    "x_train.shape"
   ]
  },
  {
   "cell_type": "code",
   "execution_count": 65,
   "metadata": {},
   "outputs": [],
   "source": [
    "y_values = [2*i +1 for i in x_values]"
   ]
  },
  {
   "cell_type": "code",
   "execution_count": 66,
   "metadata": {},
   "outputs": [
    {
     "data": {
      "text/plain": [
       "[1, 3, 5, 7, 9, 11, 13, 15, 17, 19, 21]"
      ]
     },
     "execution_count": 66,
     "metadata": {},
     "output_type": "execute_result"
    }
   ],
   "source": [
    "y_values"
   ]
  },
  {
   "cell_type": "code",
   "execution_count": 67,
   "metadata": {},
   "outputs": [
    {
     "data": {
      "text/plain": [
       "(11, 1)"
      ]
     },
     "execution_count": 67,
     "metadata": {},
     "output_type": "execute_result"
    }
   ],
   "source": [
    "y_train = np.array(y_values, dtype=np.float32)\n",
    "y_train = y_train.reshape(-1, 1)\n",
    "y_train.shape"
   ]
  },
  {
   "cell_type": "markdown",
   "metadata": {},
   "source": [
    "### 2. 2. Building Model"
   ]
  },
  {
   "cell_type": "code",
   "execution_count": 68,
   "metadata": {},
   "outputs": [],
   "source": [
    "import torch\n",
    "import torch.nn as nn  # required for linear regression model\n",
    "from torch.autograd import Variable"
   ]
  },
  {
   "cell_type": "markdown",
   "metadata": {},
   "source": [
    "1. Linear Model Equation\n",
    "    - $y = 2x + 1$\n",
    "    \n",
    "2. Forward\n",
    "    - Example\n",
    "        - Input $x = 1$\n",
    "        - Output $\\hat{y}  = ?$"
   ]
  },
  {
   "cell_type": "markdown",
   "metadata": {},
   "source": [
    "### 2. 3. Create Linear Regression Model Class"
   ]
  },
  {
   "cell_type": "code",
   "execution_count": 69,
   "metadata": {},
   "outputs": [],
   "source": [
    "# define model\n",
    "class LinearRegressionModel(nn.Module):\n",
    "    \n",
    "    # initialize\n",
    "    def __init__(self, input_size, output_size):\n",
    "        \n",
    "        # python super function\n",
    "        # inherite all from nn.Module\n",
    "        super(LinearRegressionModel, self).__init__()\n",
    "        \n",
    "        # pass input, output dimension \n",
    "        self.linear = nn.Linear(input_dim, output_dim)\n",
    "        \n",
    "    # for every value of x, goes through linear model\n",
    "    def forward(self, x):\n",
    "        out = self.linear(x)\n",
    "        return out"
   ]
  },
  {
   "cell_type": "code",
   "execution_count": 70,
   "metadata": {},
   "outputs": [],
   "source": [
    "input_dim = 1\n",
    "output_dim = 1\n",
    "\n",
    "model = LinearRegressionModel(input_dim, output_dim)"
   ]
  },
  {
   "cell_type": "markdown",
   "metadata": {},
   "source": [
    "### 2. 4. Create Loss Class\n",
    "\n",
    "- MSE Loss : Mean Squared Error\n",
    "- $MSE = \\dfrac{1}{n} \\sum_{i=1}^{n}(\\hat{y}_i - y_i$\n",
    "    - $\\hat{y}$ : prediction\n",
    "    - $y$ : true value"
   ]
  },
  {
   "cell_type": "code",
   "execution_count": 71,
   "metadata": {},
   "outputs": [],
   "source": [
    "criterion = nn.MSELoss()"
   ]
  },
  {
   "cell_type": "markdown",
   "metadata": {},
   "source": [
    "### 2. 5 Optimizer Class\n",
    "\n",
    "Simplified Equation\n",
    "- $\\theta = \\theta - \\eta \\cdot \\nabla_\\theta$\n",
    "- ( `parameters` = `parameters` - `learning_rate` x `parameters_gradient` )\n",
    "    - $\\theta$ : parameters(our variables)\n",
    "    - $\\eta$ : learning rate(how fast we want to learn\n",
    "    - $\\nabla_\\theta$ : parameters' gradients\n",
    "\n",
    "    \n",
    "- Parameters in our linear regression model\n",
    "    - $a$ , $\\beta$ in $y = ax + \\beta$"
   ]
  },
  {
   "cell_type": "code",
   "execution_count": 72,
   "metadata": {},
   "outputs": [],
   "source": [
    "learning_rate = 0.01\n",
    "\n",
    "# Steepest Gradient Decent\n",
    "optimizer = torch.optim.SGD(model.parameters(), lr = learning_rate)"
   ]
  },
  {
   "cell_type": "markdown",
   "metadata": {},
   "source": [
    "### 2. 6 Train Model\n",
    "\n",
    "- 1 epoch : going through the whole `x_train` data once\n",
    "    - 100 epoch:\n",
    "        - 100 x mapping `x_train`\n",
    "        \n",
    "- Process steps\n",
    "    1. convert inputs/labels to variables\n",
    "    2. clear gradent buffets\n",
    "    3. get output given inputs\n",
    "    4. get loss\n",
    "    5. get gradient w.r.t. parameters\n",
    "    6. update parameters using gradents\n",
    "        - `parameters` = `parameters` - `learning_rate` x `parameters_gradient`\n",
    "    7. Repeat Whole Process"
   ]
  },
  {
   "cell_type": "code",
   "execution_count": 73,
   "metadata": {},
   "outputs": [
    {
     "name": "stdout",
     "output_type": "stream",
     "text": [
      "epoch 1, loss158.53024291992188\n",
      "epoch 2, loss13.26687240600586\n",
      "epoch 3, loss1.414445400238037\n",
      "epoch 4, loss0.44397029280662537\n",
      "epoch 5, loss0.36114197969436646\n",
      "epoch 6, loss0.3507571220397949\n",
      "epoch 7, loss0.34632259607315063\n",
      "epoch 8, loss0.3424127697944641\n",
      "epoch 9, loss0.33858588337898254\n",
      "epoch 10, loss0.33480456471443176\n",
      "epoch 11, loss0.33106568455696106\n",
      "epoch 12, loss0.3273687958717346\n",
      "epoch 13, loss0.3237132132053375\n",
      "epoch 14, loss0.3200986087322235\n",
      "epoch 15, loss0.3165237009525299\n",
      "epoch 16, loss0.31298932433128357\n",
      "epoch 17, loss0.30949410796165466\n",
      "epoch 18, loss0.3060379922389984\n",
      "epoch 19, loss0.3026205599308014\n",
      "epoch 20, loss0.299241304397583\n",
      "epoch 21, loss0.29589974880218506\n",
      "epoch 22, loss0.2925955057144165\n",
      "epoch 23, loss0.28932827711105347\n",
      "epoch 24, loss0.28609699010849\n",
      "epoch 25, loss0.28290247917175293\n",
      "epoch 26, loss0.2797434329986572\n",
      "epoch 27, loss0.27661949396133423\n",
      "epoch 28, loss0.273530513048172\n",
      "epoch 29, loss0.2704758942127228\n",
      "epoch 30, loss0.2674556076526642\n",
      "epoch 31, loss0.2644689381122589\n",
      "epoch 32, loss0.2615155875682831\n",
      "epoch 33, loss0.2585952877998352\n",
      "epoch 34, loss0.2557077407836914\n",
      "epoch 35, loss0.2528523802757263\n",
      "epoch 36, loss0.2500286102294922\n",
      "epoch 37, loss0.24723675847053528\n",
      "epoch 38, loss0.24447602033615112\n",
      "epoch 39, loss0.24174578487873077\n",
      "epoch 40, loss0.23904626071453094\n",
      "epoch 41, loss0.23637697100639343\n",
      "epoch 42, loss0.23373737931251526\n",
      "epoch 43, loss0.23112693428993225\n",
      "epoch 44, loss0.2285463511943817\n",
      "epoch 45, loss0.22599412500858307\n",
      "epoch 46, loss0.22347024083137512\n",
      "epoch 47, loss0.22097477316856384\n",
      "epoch 48, loss0.21850737929344177\n",
      "epoch 49, loss0.21606749296188354\n",
      "epoch 50, loss0.21365433931350708\n",
      "epoch 51, loss0.2112688273191452\n",
      "epoch 52, loss0.2089095115661621\n",
      "epoch 53, loss0.20657669007778168\n",
      "epoch 54, loss0.2042699009180069\n",
      "epoch 55, loss0.20198866724967957\n",
      "epoch 56, loss0.19973331689834595\n",
      "epoch 57, loss0.19750289618968964\n",
      "epoch 58, loss0.19529730081558228\n",
      "epoch 59, loss0.1931164413690567\n",
      "epoch 60, loss0.1909598708152771\n",
      "epoch 61, loss0.1888274848461151\n",
      "epoch 62, loss0.18671880662441254\n",
      "epoch 63, loss0.18463386595249176\n",
      "epoch 64, loss0.18257224559783936\n",
      "epoch 65, loss0.18053334951400757\n",
      "epoch 66, loss0.17851725220680237\n",
      "epoch 67, loss0.1765240728855133\n",
      "epoch 68, loss0.17455270886421204\n",
      "epoch 69, loss0.17260347306728363\n",
      "epoch 70, loss0.1706760972738266\n",
      "epoch 71, loss0.16877013444900513\n",
      "epoch 72, loss0.16688549518585205\n",
      "epoch 73, loss0.16502206027507782\n",
      "epoch 74, loss0.16317901015281677\n",
      "epoch 75, loss0.16135694086551666\n",
      "epoch 76, loss0.15955522656440735\n",
      "epoch 77, loss0.15777334570884705\n",
      "epoch 78, loss0.1560114622116089\n",
      "epoch 79, loss0.15426918864250183\n",
      "epoch 80, loss0.15254658460617065\n",
      "epoch 81, loss0.15084317326545715\n",
      "epoch 82, loss0.14915873110294342\n",
      "epoch 83, loss0.1474931836128235\n",
      "epoch 84, loss0.1458461731672287\n",
      "epoch 85, loss0.14421746134757996\n",
      "epoch 86, loss0.1426069587469101\n",
      "epoch 87, loss0.14101451635360718\n",
      "epoch 88, loss0.13943980634212494\n",
      "epoch 89, loss0.13788273930549622\n",
      "epoch 90, loss0.13634298741817474\n",
      "epoch 91, loss0.1348205804824829\n",
      "epoch 92, loss0.13331489264965057\n",
      "epoch 93, loss0.1318262666463852\n",
      "epoch 94, loss0.1303541362285614\n",
      "epoch 95, loss0.1288984715938568\n",
      "epoch 96, loss0.12745918333530426\n",
      "epoch 97, loss0.12603594362735748\n",
      "epoch 98, loss0.12462838739156723\n",
      "epoch 99, loss0.12323673814535141\n",
      "epoch 100, loss0.12186045944690704\n",
      "epoch 101, loss0.12049966305494308\n",
      "epoch 102, loss0.11915422230958939\n",
      "epoch 103, loss0.11782349646091461\n",
      "epoch 104, loss0.1165078803896904\n",
      "epoch 105, loss0.11520689725875854\n",
      "epoch 106, loss0.11392047256231308\n",
      "epoch 107, loss0.11264820396900177\n",
      "epoch 108, loss0.11139025539159775\n",
      "epoch 109, loss0.11014633625745773\n",
      "epoch 110, loss0.10891634970903397\n",
      "epoch 111, loss0.10770028829574585\n",
      "epoch 112, loss0.10649742186069489\n",
      "epoch 113, loss0.10530818998813629\n",
      "epoch 114, loss0.1041322872042656\n",
      "epoch 115, loss0.10296948254108429\n",
      "epoch 116, loss0.10181958973407745\n",
      "epoch 117, loss0.10068246722221375\n",
      "epoch 118, loss0.09955830872058868\n",
      "epoch 119, loss0.09844667464494705\n",
      "epoch 120, loss0.09734727442264557\n",
      "epoch 121, loss0.096260204911232\n",
      "epoch 122, loss0.0951852798461914\n",
      "epoch 123, loss0.09412234276533127\n",
      "epoch 124, loss0.09307127445936203\n",
      "epoch 125, loss0.09203202277421951\n",
      "epoch 126, loss0.09100428968667984\n",
      "epoch 127, loss0.08998808264732361\n",
      "epoch 128, loss0.08898311853408813\n",
      "epoch 129, loss0.087989442050457\n",
      "epoch 130, loss0.08700693398714066\n",
      "epoch 131, loss0.08603535592556\n",
      "epoch 132, loss0.08507443964481354\n",
      "epoch 133, loss0.08412452787160873\n",
      "epoch 134, loss0.0831850990653038\n",
      "epoch 135, loss0.08225620537996292\n",
      "epoch 136, loss0.08133771270513535\n",
      "epoch 137, loss0.08042943477630615\n",
      "epoch 138, loss0.0795312225818634\n",
      "epoch 139, loss0.07864310592412949\n",
      "epoch 140, loss0.07776498794555664\n",
      "epoch 141, loss0.07689647376537323\n",
      "epoch 142, loss0.07603789865970612\n",
      "epoch 143, loss0.07518875598907471\n",
      "epoch 144, loss0.07434917986392975\n",
      "epoch 145, loss0.07351883500814438\n",
      "epoch 146, loss0.07269784808158875\n",
      "epoch 147, loss0.07188618928194046\n",
      "epoch 148, loss0.07108335196971893\n",
      "epoch 149, loss0.07028958946466446\n",
      "epoch 150, loss0.06950458884239197\n",
      "epoch 151, loss0.06872858852148056\n",
      "epoch 152, loss0.06796109676361084\n",
      "epoch 153, loss0.06720203161239624\n",
      "epoch 154, loss0.06645168364048004\n",
      "epoch 155, loss0.06570976227521896\n",
      "epoch 156, loss0.06497588753700256\n",
      "epoch 157, loss0.06425030529499054\n",
      "epoch 158, loss0.06353285908699036\n",
      "epoch 159, loss0.06282339245080948\n",
      "epoch 160, loss0.06212181970477104\n",
      "epoch 161, loss0.06142815575003624\n",
      "epoch 162, loss0.06074221059679985\n",
      "epoch 163, loss0.06006396561861038\n",
      "epoch 164, loss0.05939308926463127\n",
      "epoch 165, loss0.058729954063892365\n",
      "epoch 166, loss0.05807425454258919\n",
      "epoch 167, loss0.05742558091878891\n",
      "epoch 168, loss0.056784383952617645\n",
      "epoch 169, loss0.056150272488594055\n",
      "epoch 170, loss0.05552324652671814\n",
      "epoch 171, loss0.054903268814086914\n",
      "epoch 172, loss0.05429000407457352\n",
      "epoch 173, loss0.05368386209011078\n",
      "epoch 174, loss0.0530843622982502\n",
      "epoch 175, loss0.05249166116118431\n",
      "epoch 176, loss0.05190546438097954\n",
      "epoch 177, loss0.05132579058408737\n",
      "epoch 178, loss0.05075262859463692\n",
      "epoch 179, loss0.05018594115972519\n",
      "epoch 180, loss0.04962552711367607\n",
      "epoch 181, loss0.049071408808231354\n",
      "epoch 182, loss0.04852339252829552\n",
      "epoch 183, loss0.047981537878513336\n",
      "epoch 184, loss0.04744580760598183\n",
      "epoch 185, loss0.04691598564386368\n",
      "epoch 186, loss0.04639199748635292\n",
      "epoch 187, loss0.04587390646338463\n",
      "epoch 188, loss0.0453617163002491\n",
      "epoch 189, loss0.04485514760017395\n",
      "epoch 190, loss0.044354282319545746\n",
      "epoch 191, loss0.04385886341333389\n",
      "epoch 192, loss0.0433691143989563\n",
      "epoch 193, loss0.042884860187768936\n",
      "epoch 194, loss0.04240594431757927\n",
      "epoch 195, loss0.04193245247006416\n",
      "epoch 196, loss0.041464198380708694\n",
      "epoch 197, loss0.04100121930241585\n",
      "epoch 198, loss0.0405433289706707\n",
      "epoch 199, loss0.040090497583150864\n",
      "epoch 200, loss0.03964286670088768\n"
     ]
    },
    {
     "name": "stderr",
     "output_type": "stream",
     "text": [
      "/Library/Frameworks/Python.framework/Versions/3.6/lib/python3.6/site-packages/ipykernel_launcher.py:25: UserWarning: invalid index of a 0-dim tensor. This will be an error in PyTorch 0.5. Use tensor.item() to convert a 0-dim tensor to a Python number\n"
     ]
    }
   ],
   "source": [
    "epochs = 200\n",
    "\n",
    "for epoch in range(epochs):\n",
    "    epoch += 1\n",
    "    \n",
    "    # convert numpy array to Torch Variable\n",
    "    inputs = Variable(torch.from_numpy(x_train))\n",
    "    labels = Variable(torch.from_numpy(y_train))\n",
    "    \n",
    "    # clear gradient w.r.t. parameters\n",
    "    optimizer.zero_grad()\n",
    "    \n",
    "    # forward to get output\n",
    "    outputs = model(inputs)\n",
    "    \n",
    "    # calculate loss\n",
    "    loss = criterion(outputs, labels)\n",
    "    \n",
    "    # Getting gradients w.r.t. parameters\n",
    "    loss.backward()\n",
    "    \n",
    "    # updating parameters\n",
    "    optimizer.step()\n",
    "    \n",
    "    print('epoch {}, loss{}'.format(epoch, loss.data[0]))"
   ]
  },
  {
   "cell_type": "markdown",
   "metadata": {},
   "source": [
    "### 2. 7. Test Data"
   ]
  },
  {
   "cell_type": "code",
   "execution_count": 74,
   "metadata": {},
   "outputs": [
    {
     "data": {
      "text/plain": [
       "array([[ 0.62962395],\n",
       "       [ 2.6829612 ],\n",
       "       [ 4.7362986 ],\n",
       "       [ 6.789636  ],\n",
       "       [ 8.842974  ],\n",
       "       [10.896311  ],\n",
       "       [12.949649  ],\n",
       "       [15.002986  ],\n",
       "       [17.056322  ],\n",
       "       [19.10966   ],\n",
       "       [21.162996  ]], dtype=float32)"
      ]
     },
     "execution_count": 74,
     "metadata": {},
     "output_type": "execute_result"
    }
   ],
   "source": [
    "predicted = model(Variable(torch.from_numpy(x_train))).data.numpy()\n",
    "predicted"
   ]
  },
  {
   "cell_type": "code",
   "execution_count": 75,
   "metadata": {},
   "outputs": [
    {
     "data": {
      "text/plain": [
       "array([[ 1.],\n",
       "       [ 3.],\n",
       "       [ 5.],\n",
       "       [ 7.],\n",
       "       [ 9.],\n",
       "       [11.],\n",
       "       [13.],\n",
       "       [15.],\n",
       "       [17.],\n",
       "       [19.],\n",
       "       [21.]], dtype=float32)"
      ]
     },
     "execution_count": 75,
     "metadata": {},
     "output_type": "execute_result"
    }
   ],
   "source": [
    "y_train"
   ]
  },
  {
   "cell_type": "markdown",
   "metadata": {},
   "source": [
    "### 3. Plot Graph"
   ]
  },
  {
   "cell_type": "code",
   "execution_count": 79,
   "metadata": {},
   "outputs": [
    {
     "data": {
      "image/png": "[encoded data removed]",
      "text/plain": [
       "<matplotlib.figure.Figure at 0x11375a4a8>"
      ]
     },
     "metadata": {},
     "output_type": "display_data"
    }
   ],
   "source": [
    "import matplotlib.pyplot as plt\n",
    "\n",
    "plt.clf()\n",
    "predicted = predicted = model(Variable(torch.from_numpy(x_train))).data.numpy()\n",
    "plt.plot(x_train, y_train, 'go', label='True data', alpha=0.5)\n",
    "plt.plot(x_train, predicted, '--', label='Prediction', alpha=0.5)\n",
    "plt.legend(loc='best')\n",
    "plt.show()"
   ]
  },
  {
   "cell_type": "markdown",
   "metadata": {},
   "source": [
    "### 4. save and load model"
   ]
  },
  {
   "cell_type": "code",
   "execution_count": 80,
   "metadata": {},
   "outputs": [],
   "source": [
    "save_model = False\n",
    "if save_model is True:\n",
    "    torch.save(model.state_dict(), 'lr_model_example.pkl')"
   ]
  },
  {
   "cell_type": "code",
   "execution_count": 81,
   "metadata": {},
   "outputs": [],
   "source": [
    "load_model = False\n",
    "if load_model is True:\n",
    "    model.load_state_dict(torch.load('lr_model_example.pkl'))"
   ]
  },
  {
   "cell_type": "code",
   "execution_count": null,
   "metadata": {},
   "outputs": [],
   "source": []
  }
 ],
 "metadata": {
  "kernelspec": {
   "display_name": "Python 3",
   "language": "python",
   "name": "python3"
  },
  "language_info": {
   "codemirror_mode": {
    "name": "ipython",
    "version": 3
   },
   "file_extension": ".py",
   "mimetype": "text/x-python",
   "name": "python",
   "nbconvert_exporter": "python",
   "pygments_lexer": "ipython3",
   "version": "3.6.2"
  }
 },
 "nbformat": 4,
 "nbformat_minor": 2
}
