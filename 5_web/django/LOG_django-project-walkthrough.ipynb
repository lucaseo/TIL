{
 "cells": [
  {
   "cell_type": "markdown",
   "metadata": {},
   "source": [
    "# Django project walkthrough\n",
    "youtube tutorial link : https://youtu.be/yDv5FIAeyoY"
   ]
  },
  {
   "cell_type": "markdown",
   "metadata": {},
   "source": [
    "## 20180319 (00:00:00 ~ 00:31:58)\n",
    "\n",
    "### Getting Started with Django\n",
    "#### Django environment setup\n",
    "\n",
    "#### keywords: \n",
    ">- `virtualenv`\n",
    ">- `pip3 freeze`\n",
    ">- `startproject`\n",
    ">- manage.py\n",
    ">- base.py _vs_ local.py _vs_ production.py\n",
    "\n",
    "\n",
    "(reference : https://www.codingforentrepreneurs.com/blog/create-a-blank-django-project/)"
   ]
  },
  {
   "cell_type": "markdown",
   "metadata": {},
   "source": [
    "* * * *"
   ]
  },
  {
   "cell_type": "markdown",
   "metadata": {},
   "source": [
    "## 20180320 (00:31:58 ~ 00:45:14)\n",
    "\n",
    "### What Django Does\n",
    "#### Creating new Django project and Django app\n",
    "\n",
    "#### keywords: \n",
    ">- django app\n",
    ">- `startapp`\n",
    ">- view.py\n",
    ">- url.py\n",
    ">- runserver\n",
    "\n",
    "\n"
   ]
  },
  {
   "cell_type": "markdown",
   "metadata": {},
   "source": [
    "* * * *"
   ]
  },
  {
   "cell_type": "code",
   "execution_count": null,
   "metadata": {},
   "outputs": [],
   "source": []
  }
 ],
 "metadata": {
  "kernelspec": {
   "display_name": "Python 3",
   "language": "python",
   "name": "python3"
  },
  "language_info": {
   "codemirror_mode": {
    "name": "ipython",
    "version": 3
   },
   "file_extension": ".py",
   "mimetype": "text/x-python",
   "name": "python",
   "nbconvert_exporter": "python",
   "pygments_lexer": "ipython3",
   "version": "3.6.2"
  }
 },
 "nbformat": 4,
 "nbformat_minor": 2
}
