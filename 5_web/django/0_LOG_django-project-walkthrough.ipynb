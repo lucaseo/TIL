{
 "cells": [
  {
   "cell_type": "markdown",
   "metadata": {},
   "source": [
    "# Django project walkthrough"
   ]
  },
  {
   "cell_type": "markdown",
   "metadata": {},
   "source": [
    "### Django environment setup\n",
    "\n",
    "- date : 20180319\n",
    "- youtube link : https://youtu.be/yDv5FIAeyoY (00:00:00 ~ 00:31:58)\n",
    "\n",
    "\n",
    "#### keywords: \n",
    ">- `virtualenv`\n",
    ">- `pip3 freeze`\n",
    ">- `manage.py`\n",
    ">- `base.py` vs `local.py` vs `production.py`\n",
    "\n",
    "\n",
    "(reference : https://www.codingforentrepreneurs.com/blog/create-a-blank-django-project/)"
   ]
  },
  {
   "cell_type": "markdown",
   "metadata": {},
   "source": []
  },
  {
   "cell_type": "markdown",
   "metadata": {},
   "source": []
  },
  {
   "cell_type": "code",
   "execution_count": null,
   "metadata": {},
   "outputs": [],
   "source": []
  }
 ],
 "metadata": {
  "kernelspec": {
   "display_name": "Python 3",
   "language": "python",
   "name": "python3"
  },
  "language_info": {
   "codemirror_mode": {
    "name": "ipython",
    "version": 3
   },
   "file_extension": ".py",
   "mimetype": "text/x-python",
   "name": "python",
   "nbconvert_exporter": "python",
   "pygments_lexer": "ipython3",
   "version": "3.6.2"
  }
 },
 "nbformat": 4,
 "nbformat_minor": 2
}
