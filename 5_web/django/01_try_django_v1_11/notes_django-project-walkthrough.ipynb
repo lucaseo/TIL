{
 "cells": [
  {
   "cell_type": "markdown",
   "metadata": {},
   "source": [
    "# 20180319 Django project environment setup"
   ]
  },
  {
   "cell_type": "markdown",
   "metadata": {},
   "source": [
    "(1)  \n",
    "Create and move to directory purposed for general project storage  \n",
    "`cd django_v1_11`\n",
    "\n",
    "(2)  \n",
    "Create a python3 virtual environment  \n",
    "`django_v1_11 Seoluca$ virtualenv -p python3 .`\n",
    "\n",
    "#activate  \n",
    "`django_v1_11 Seoluca$ source bin/activate`  \n",
    "`(django_v1_11) MacBook-Pro:6_Django_v1_11 Seoluca$`\n",
    "\n",
    "\n",
    "(3)  \n",
    "Install Django 1.11.2 & start project  \n",
    "`django_v1_11 Seoluca$ pip3 install django==1.11.2`\n",
    "\n",
    "`django_v1_11 Seoluca$ mkdir src && cd src`\n",
    "\n",
    "`src Seoluca$ django-admin.py startproject project_uno .`\n",
    "\n",
    "\n",
    "(4)  \n",
    "`cd project_uno`\n",
    "`mkdir settings && cd settings`\n",
    "\n",
    "(5)  \n",
    "Create `__init__.py`  \n",
    "Create `base.py`  \n",
    "\n",
    "(6)\n",
    "Change `./project_uno/settings.py` to `./project_uno/old_settings.py`  \n",
    "Copy all of `old_settings.py` to `base.py`\n"
   ]
  },
  {
   "cell_type": "markdown",
   "metadata": {},
   "source": [
    "# 20180320 Django project environment setup"
   ]
  },
  {
   "cell_type": "markdown",
   "metadata": {},
   "source": [
    "What websites does.\n",
    "- handles URLs\n",
    "- return responses\n",
    "- remember things(log-in history, etc)\n",
    "\n",
    "In Django...  \n",
    "- A function is considered one \"django app\"\n",
    ">accounts  \n",
    ">video player  \n",
    ">analytics  \n",
    ">menu listings ... and so on\n",
    "\n",
    "- Django apps exist like modules and stored in **one django project**\n",
    "\n",
    "\n",
    "\n",
    "### Creating new Django project for new app\n",
    "- `src $ python3 manage.py startapp restaurants`\n",
    "- @ restaurant/migragion/view.py\n",
    ">**basic format**\n",
    ">```\n",
    "from django.shortcuts import render\n",
    "# function base view\n",
    "def home(request):\n",
    "    return render(request, \"template\", {}) #request\n",
    "```\n",
    "\n",
    "\n",
    "\n",
    "- @ restaurant/migration/view.py\n",
    ">final view\n",
    ">```\n",
    "from django.http import HttpResponse\n",
    "from django.shortcuts import render\n",
    "# Create your views here.\n",
    "# function base view\n",
    "def home(request):\n",
    "    return HttpResponse(\"Hello\")\n",
    "    # return render(request, \"home.html\", {}) #request\n",
    "```\n",
    "\n",
    "- @ project_uno/settings/url.py\n",
    "> add `from restaurants.views import home`  \n",
    "> add `url(r'^$', home),`\n",
    "\n",
    "- run server `python3 manage.py runserver`"
   ]
  },
  {
   "cell_type": "markdown",
   "metadata": {},
   "source": [
    "# 20180321 Django project Rendering HTML"
   ]
  },
  {
   "cell_type": "markdown",
   "metadata": {},
   "source": []
  },
  {
   "cell_type": "code",
   "execution_count": null,
   "metadata": {},
   "outputs": [],
   "source": []
  }
 ],
 "metadata": {
  "kernelspec": {
   "display_name": "Python 3",
   "language": "python",
   "name": "python3"
  },
  "language_info": {
   "codemirror_mode": {
    "name": "ipython",
    "version": 3
   },
   "file_extension": ".py",
   "mimetype": "text/x-python",
   "name": "python",
   "nbconvert_exporter": "python",
   "pygments_lexer": "ipython3",
   "version": "3.6.2"
  }
 },
 "nbformat": 4,
 "nbformat_minor": 2
}
