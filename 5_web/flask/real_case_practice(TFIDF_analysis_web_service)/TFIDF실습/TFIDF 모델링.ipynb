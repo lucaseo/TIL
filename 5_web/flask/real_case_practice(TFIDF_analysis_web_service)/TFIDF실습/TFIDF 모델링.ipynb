{
 "cells": [
  {
   "cell_type": "code",
   "execution_count": 3,
   "metadata": {},
   "outputs": [
    {
     "name": "stderr",
     "output_type": "stream",
     "text": [
      "/Library/Frameworks/Python.framework/Versions/3.6/lib/python3.6/importlib/_bootstrap.py:205: RuntimeWarning: numpy.dtype size changed, may indicate binary incompatibility. Expected 96, got 88\n",
      "  return f(*args, **kwds)\n"
     ]
    }
   ],
   "source": [
    "from sklearn.feature_extraction.text import CountVectorizer, TfidfVectorizer, HashingVectorizer\n",
    "from sklearn.model_selection import train_test_split\n",
    "from sklearn.naive_bayes import MultinomialNB\n",
    "from sklearn.pipeline import Pipeline\n",
    "from konlpy.tag import Twitter\n",
    "\n",
    "\n",
    "import pandas as pd\n",
    "import numpy as np\n",
    "\n",
    "import pickle"
   ]
  },
  {
   "cell_type": "markdown",
   "metadata": {},
   "source": [
    "### Load Dataset\n",
    "\n",
    "- 0: 정치\n",
    "- 1: 경제\n",
    "- 2: 사회\n",
    "- 3: 생활/문화\n",
    "- 4: 세계\n",
    "- 5: IT"
   ]
  },
  {
   "cell_type": "code",
   "execution_count": 5,
   "metadata": {},
   "outputs": [
    {
     "name": "stdout",
     "output_type": "stream",
     "text": [
      "2327\n"
     ]
    },
    {
     "data": {
      "text/html": [
       "<div>\n",
       "<style scoped>\n",
       "    .dataframe tbody tr th:only-of-type {\n",
       "        vertical-align: middle;\n",
       "    }\n",
       "\n",
       "    .dataframe tbody tr th {\n",
       "        vertical-align: top;\n",
       "    }\n",
       "\n",
       "    .dataframe thead th {\n",
       "        text-align: right;\n",
       "    }\n",
       "</style>\n",
       "<table border=\"1\" class=\"dataframe\">\n",
       "  <thead>\n",
       "    <tr style=\"text-align: right;\">\n",
       "      <th></th>\n",
       "      <th>newsid</th>\n",
       "      <th>oid</th>\n",
       "      <th>newspaper</th>\n",
       "      <th>title</th>\n",
       "      <th>link</th>\n",
       "      <th>comment</th>\n",
       "      <th>likeit</th>\n",
       "      <th>content</th>\n",
       "      <th>date</th>\n",
       "      <th>category</th>\n",
       "    </tr>\n",
       "  </thead>\n",
       "  <tbody>\n",
       "    <tr>\n",
       "      <th>2324</th>\n",
       "      <td>3179706</td>\n",
       "      <td>23</td>\n",
       "      <td>조선일보</td>\n",
       "      <td>[어수웅의 르네상스人] 종이 사전을 삼킨 남자, &amp;#39;웹 사전&amp;#39;을 낳다</td>\n",
       "      <td>http://news.naver.com/main/read.nhn?mode=LSD&amp;m...</td>\n",
       "      <td>0</td>\n",
       "      <td>2</td>\n",
       "      <td>[정철 카카오 웹 사전 기획자] 책 '검색, 사전을 삼키다' 펴내… 연세대에서 사전...</td>\n",
       "      <td>2016-06-01</td>\n",
       "      <td>5</td>\n",
       "    </tr>\n",
       "    <tr>\n",
       "      <th>2325</th>\n",
       "      <td>2976797</td>\n",
       "      <td>20</td>\n",
       "      <td>동아일보</td>\n",
       "      <td>中, M&amp;A로 특허 포식… 한국 미래산업 삼킨다</td>\n",
       "      <td>http://news.naver.com/main/read.nhn?mode=LSD&amp;m...</td>\n",
       "      <td>13</td>\n",
       "      <td>9</td>\n",
       "      <td>[동아일보]中, 로봇-IoT-바이오 등 M&amp;A; 규모… 올해 5월에 이미 작년 기록...</td>\n",
       "      <td>2016-06-01</td>\n",
       "      <td>5</td>\n",
       "    </tr>\n",
       "    <tr>\n",
       "      <th>2326</th>\n",
       "      <td>2620983</td>\n",
       "      <td>25</td>\n",
       "      <td>중앙일보</td>\n",
       "      <td>구글·애플 대항마…토종 앱 장터 원스토어 떴다</td>\n",
       "      <td>http://news.naver.com/main/read.nhn?mode=LSD&amp;m...</td>\n",
       "      <td>123</td>\n",
       "      <td>9</td>\n",
       "      <td>이통 3사, 네이버 손잡고 시장 40% 점유 목표| 양강 구도에 도전장…앱 생태계 ...</td>\n",
       "      <td>2016-06-01</td>\n",
       "      <td>5</td>\n",
       "    </tr>\n",
       "  </tbody>\n",
       "</table>\n",
       "</div>"
      ],
      "text/plain": [
       "       newsid  oid newspaper                                          title  \\\n",
       "2324  3179706   23      조선일보  [어수웅의 르네상스人] 종이 사전을 삼킨 남자, &#39;웹 사전&#39;을 낳다   \n",
       "2325  2976797   20      동아일보                     中, M&A로 특허 포식… 한국 미래산업 삼킨다   \n",
       "2326  2620983   25      중앙일보                      구글·애플 대항마…토종 앱 장터 원스토어 떴다   \n",
       "\n",
       "                                                   link  comment  likeit  \\\n",
       "2324  http://news.naver.com/main/read.nhn?mode=LSD&m...        0       2   \n",
       "2325  http://news.naver.com/main/read.nhn?mode=LSD&m...       13       9   \n",
       "2326  http://news.naver.com/main/read.nhn?mode=LSD&m...      123       9   \n",
       "\n",
       "                                                content        date  category  \n",
       "2324  [정철 카카오 웹 사전 기획자] 책 '검색, 사전을 삼키다' 펴내… 연세대에서 사전...  2016-06-01         5  \n",
       "2325  [동아일보]中, 로봇-IoT-바이오 등 M&A; 규모… 올해 5월에 이미 작년 기록...  2016-06-01         5  \n",
       "2326  이통 3사, 네이버 손잡고 시장 40% 점유 목표| 양강 구도에 도전장…앱 생태계 ...  2016-06-01         5  "
      ]
     },
     "execution_count": 5,
     "metadata": {},
     "output_type": "execute_result"
    }
   ],
   "source": [
    "article_df = pd.read_pickle(\"article_2016-06-01.plk\")\n",
    "print(len(article_df))\n",
    "article_df.tail(3)"
   ]
  },
  {
   "cell_type": "markdown",
   "metadata": {},
   "source": [
    "### Split Test Train"
   ]
  },
  {
   "cell_type": "code",
   "execution_count": 6,
   "metadata": {},
   "outputs": [],
   "source": [
    "X_train, X_test, y_train, y_test = train_test_split(article_df.content, article_df.category, test_size = 0.1, random_state=1)\n",
    "\n",
    "# randomstate = 1 ---> 셔플해서 섞은 다음에 split할 수 있도록 "
   ]
  },
  {
   "cell_type": "code",
   "execution_count": 8,
   "metadata": {},
   "outputs": [
    {
     "data": {
      "text/plain": [
       "(2094, 233)"
      ]
     },
     "execution_count": 8,
     "metadata": {},
     "output_type": "execute_result"
    }
   ],
   "source": [
    "X_train.shape[0], y_test.shape[0]"
   ]
  },
  {
   "cell_type": "code",
   "execution_count": 9,
   "metadata": {},
   "outputs": [
    {
     "data": {
      "text/plain": [
       "(2094, 233)"
      ]
     },
     "execution_count": 9,
     "metadata": {},
     "output_type": "execute_result"
    }
   ],
   "source": [
    "y_train.shape[0], y_test.shape[0]"
   ]
  },
  {
   "cell_type": "markdown",
   "metadata": {},
   "source": [
    "### Make Model"
   ]
  },
  {
   "cell_type": "code",
   "execution_count": 12,
   "metadata": {},
   "outputs": [],
   "source": [
    "clf = Pipeline([\n",
    "    ('vect', TfidfVectorizer()),\n",
    "    ('clf', MultinomialNB())\n",
    "])\n",
    "\n",
    "model = clf.fit(X_train, y_train)"
   ]
  },
  {
   "cell_type": "markdown",
   "metadata": {},
   "source": [
    "pipeline의 이유 : "
   ]
  },
  {
   "cell_type": "code",
   "execution_count": 13,
   "metadata": {},
   "outputs": [
    {
     "data": {
      "text/plain": [
       "Pipeline(memory=None,\n",
       "     steps=[('vect', TfidfVectorizer(analyzer='word', binary=False, decode_error='strict',\n",
       "        dtype=<class 'numpy.int64'>, encoding='utf-8', input='content',\n",
       "        lowercase=True, max_df=1.0, max_features=None, min_df=1,\n",
       "        ngram_range=(1, 1), norm='l2', preprocessor=None, smooth_idf=True,\n",
       "  ...rue,\n",
       "        vocabulary=None)), ('clf', MultinomialNB(alpha=1.0, class_prior=None, fit_prior=True))])"
      ]
     },
     "execution_count": 13,
     "metadata": {},
     "output_type": "execute_result"
    }
   ],
   "source": [
    "model"
   ]
  },
  {
   "cell_type": "markdown",
   "metadata": {},
   "source": [
    "### confusion matrix & classification report"
   ]
  },
  {
   "cell_type": "code",
   "execution_count": 14,
   "metadata": {},
   "outputs": [],
   "source": [
    "from sklearn.metrics import confusion_matrix, classification_report"
   ]
  },
  {
   "cell_type": "code",
   "execution_count": 18,
   "metadata": {},
   "outputs": [],
   "source": [
    "y_pred = model.predict(X_test)"
   ]
  },
  {
   "cell_type": "code",
   "execution_count": 19,
   "metadata": {},
   "outputs": [
    {
     "data": {
      "text/plain": [
       "array([1, 2, 2, 2, 1, 0, 0, 1, 2, 2, 2, 1, 1, 0, 2, 0, 0, 2, 0, 2, 2, 2,\n",
       "       1, 2, 2, 2, 1, 0, 2, 2, 2, 1, 2, 2, 0, 2, 2, 2, 0, 2, 2, 1, 2, 0,\n",
       "       0, 0, 0, 1, 2, 2, 2, 2, 2, 0, 1, 0, 0, 2, 0, 2, 2, 0, 2, 2, 2, 0,\n",
       "       0, 2, 0, 0, 0, 0, 0, 1, 0, 0, 0, 0, 2, 0, 0, 2, 2, 0, 1, 2, 1, 2,\n",
       "       2, 2, 1, 1, 2, 0, 1, 2, 2, 1, 0, 2, 1, 1, 2, 2, 0, 1, 2, 2, 0, 1,\n",
       "       2, 2, 0, 0, 1, 1, 2, 1, 2, 2, 2, 0, 2, 2, 2, 1, 2, 2, 0, 2, 2, 2,\n",
       "       2, 2, 2, 0, 1, 2, 2, 1, 2, 0, 2, 1, 2, 2, 0, 2, 0, 0, 0, 0, 2, 1,\n",
       "       0, 2, 1, 2, 0, 2, 2, 2, 1, 2, 1, 0, 0, 2, 0, 2, 0, 2, 2, 2, 0, 0,\n",
       "       1, 0, 2, 2, 1, 0, 2, 2, 2, 1, 2, 2, 1, 2, 0, 0, 2, 1, 2, 2, 2, 2,\n",
       "       0, 2, 0, 0, 2, 2, 2, 2, 2, 2, 4, 2, 2, 2, 2, 2, 2, 1, 2, 1, 2, 2,\n",
       "       1, 0, 2, 2, 1, 2, 2, 2, 2, 1, 2, 1, 2])"
      ]
     },
     "execution_count": 19,
     "metadata": {},
     "output_type": "execute_result"
    }
   ],
   "source": [
    "y_pred"
   ]
  },
  {
   "cell_type": "code",
   "execution_count": 22,
   "metadata": {},
   "outputs": [
    {
     "name": "stdout",
     "output_type": "stream",
     "text": [
      "[[42  0  4  0  0  0]\n",
      " [ 4 32  5  0  0  0]\n",
      " [ 2  2 79  0  0  0]\n",
      " [ 0  0 21  0  0  0]\n",
      " [15  3 10  0  1  0]\n",
      " [ 0  7  6  0  0  0]]\n"
     ]
    }
   ],
   "source": [
    "print(confusion_matrix(y_test, y_pred))"
   ]
  },
  {
   "cell_type": "code",
   "execution_count": 23,
   "metadata": {},
   "outputs": [
    {
     "name": "stdout",
     "output_type": "stream",
     "text": [
      "             precision    recall  f1-score   support\n",
      "\n",
      "          0       0.67      0.91      0.77        46\n",
      "          1       0.73      0.78      0.75        41\n",
      "          2       0.63      0.95      0.76        83\n",
      "          3       0.00      0.00      0.00        21\n",
      "          4       1.00      0.03      0.07        29\n",
      "          5       0.00      0.00      0.00        13\n",
      "\n",
      "avg / total       0.61      0.66      0.56       233\n",
      "\n"
     ]
    },
    {
     "name": "stderr",
     "output_type": "stream",
     "text": [
      "/Library/Frameworks/Python.framework/Versions/3.6/lib/python3.6/site-packages/sklearn/metrics/classification.py:1135: UndefinedMetricWarning: Precision and F-score are ill-defined and being set to 0.0 in labels with no predicted samples.\n",
      "  'precision', 'predicted', average, warn_for)\n"
     ]
    }
   ],
   "source": [
    "print(classification_report(y_test, y_pred))"
   ]
  },
  {
   "cell_type": "code",
   "execution_count": 28,
   "metadata": {},
   "outputs": [],
   "source": [
    "# 알파값 조정\n",
    "\n",
    "clf = Pipeline([\n",
    "    ('vect', TfidfVectorizer()),\n",
    "    ('clf', MultinomialNB(alpha = 0.01))\n",
    "])\n",
    "\n",
    "model = clf.fit(X_train, y_train)"
   ]
  },
  {
   "cell_type": "code",
   "execution_count": 29,
   "metadata": {},
   "outputs": [
    {
     "name": "stdout",
     "output_type": "stream",
     "text": [
      "[[41  0  3  1  1  0]\n",
      " [ 1 33  0  5  1  1]\n",
      " [ 1  2 77  2  1  0]\n",
      " [ 0  0  2 18  0  1]\n",
      " [ 1  1  2  0 25  0]\n",
      " [ 0  1  1  0  0 11]]\n",
      "             precision    recall  f1-score   support\n",
      "\n",
      "          0       0.93      0.89      0.91        46\n",
      "          1       0.89      0.80      0.85        41\n",
      "          2       0.91      0.93      0.92        83\n",
      "          3       0.69      0.86      0.77        21\n",
      "          4       0.89      0.86      0.88        29\n",
      "          5       0.85      0.85      0.85        13\n",
      "\n",
      "avg / total       0.88      0.88      0.88       233\n",
      "\n"
     ]
    }
   ],
   "source": [
    "y_pred = model.predict(X_test)\n",
    "print(confusion_matrix(y_test, y_pred))\n",
    "print(classification_report(y_test, y_pred))"
   ]
  },
  {
   "cell_type": "markdown",
   "metadata": {},
   "source": [
    "### Prediction"
   ]
  },
  {
   "cell_type": "code",
   "execution_count": 32,
   "metadata": {},
   "outputs": [
    {
     "data": {
      "text/plain": [
       "'인천 송도 삼성바이오로직스 현장을 가다“삼성이 처음 핸드폰 사업을 시작할 때 망치로 핸드폰을 깨부수는 등 온갖 실험을 했던 동영상도 보여주며 ‘이렇게 시작해 휴대폰 사업도 성공했다’고 어필하기도 했습니다.”지난달 31일 삼성그룹의 신수종 사업인 바이오제약 분야의 대표 회사인 삼성바이오로직스를 찾은 기자에게 윤호열 상무는 회사의 지난 5년을 이렇게 회고했다.“처음에는 거래선들이 ‘과연 너희들이 잘할 수 있겠느냐’고 의구심을 떨치지 못하더군요. 아무리 삼성이 글로벌 기업이지만 바이오분야는 처음이기 때문이었죠.”삼성바이오로직스의 5년은 역량을 키운 기간이자 글로벌 제약사들에게 인정받기 위한 ‘분투의 시간’이었다. 삼성바이오로직스가 바이오의약품 생산 세계 3위가 된 건 우연이 아니었다.자동차를 타고 뿌연 미세먼지를 헤치고 인천 연수구 송도동 바이오대로를 달리자 삼성바이오로직스의 웅장한 건물들이 나타났다. 맞은편에선 제3공장 건설이 한창이었다. 도로명은 처음 ‘지식대로’였다가 지난 4월 ‘바이오대로’로 바뀌었다. 삼성바이오로직스를 비롯해 셀트리온, 동아쏘시오홀딩스의 바이오의약품공장 등 25개 바이오기업이 입주해서다.관계자들의 안내로 제2공장 홍보관을 거쳐 내부로 들어서자 1만5000L급 세포배양 탱크 10기가 내려다보였다. 무균복을 입은 직원들이 생산 시설의 이곳저곳을 꼼꼼히 살피고 있었다‘송도캠퍼스’로 불리는 공장시설은 제1공장(생산능력 3만L)과 2공장(〃 15만L), 지난해 11월 공사를 시작한 제3공장(〃 18만L·착공), R&D센터 등으로 이뤄졌다. 주로 중형 바이오의약품을 생산하는 제1공장은 2013년 7월 가동을 시작했고 지난해 11월 미국 식품의약국(FDA)으로부터 제조승인을 획득, 북미시장의 길을 열었다. 지난 2월 시가동을 시작한 제2공장은 주로 대형 상업 바이오의약품을 생산하며, 생산능력은 15만L로 단일 공장으론 세계 최대 규모이다.삼성바이오로직스는 신약 개발이 아닌 첨단 바이오의약품 제조가 중심인 회사다. 즉 최고의 바이오의약품 제조 프랙티스를 확립하는 게 최우선 목표였다. 이를 위한 바이오의약품 생산 과정은 세포주 개발→공정기술 연구→원제 연구→완제품 생산이라는 프로세스를 밟는다고 강석윤 홍보파트장은 설명했다. 특히 제품의 성격상 완제품 생산 과정에서의 품질관리(QC)도 매우 중요하다고 한다. 170여명의 직원이 근무하는 QC파트의 경우 외부 검증 등을 감안해 모든 작업이 문서화된다. 최재웅 QC팀 파트장은 “원자재와 생산된 완제품의 품질 검사도 중요하지만 모든 작업과 근거를 기록으로 남겨야 한다”고 말했다. 재미있는 건 모든 공장의 회의실이 ‘빈’ ‘런던’ 등 세계 주요 도시의 이름이 붙어 있다. 회사의 글로벌 지향을 드러낸 것으로 보였다. 모든 통로마다 세스코가 설치돼 있기도 했다. 개미나 바퀴벌레 등에 대비한 방충 조치다.2011년 4월 설립된 회사는 2013년 7월 미국 BMS, 같은 해 10월 바이오제약 1위인 스위스 로슈(Roche)와 생산제휴를 맺는 등 임직원들의 노력으로 5년 만에 글로벌 바이오의약품 생산전문기업으로 발돋움할 수 있었다. 특히 이 과정에서 이재용 삼성전자 부회장도 적지 않은 노력을 한 것으로 알려졌다. 한 관계자는 “실무진에서 할 수 없는 것들은 이 부회장이 직접 나서서 도와줬기에 가능했다”고 귀띔했다. 바이오의약품은 1g당 5000달러에 이르는 고가이지만 부작용이 작고 효능이 높은 것으로 알려져 난치병이나 중증질환 환자 등의 치료에 쓰인다.송도=김용출·김수미 기자 kimgija@segye.com[단독]\\'파산 신청\\' 개그맨 황승환, 무속인 됐다[심층]\"헬조선 못 살겠다\" 고국 등지는 청년들ⓒ 세상을 보는 눈, 글로벌 미디어 세계일보'"
      ]
     },
     "execution_count": 32,
     "metadata": {},
     "output_type": "execute_result"
    }
   ],
   "source": [
    "X_test = X_test.reset_index(drop=True)\n",
    "X_test[0]"
   ]
  },
  {
   "cell_type": "code",
   "execution_count": 35,
   "metadata": {},
   "outputs": [
    {
     "data": {
      "text/plain": [
       "array([1, 2, 0])"
      ]
     },
     "execution_count": 35,
     "metadata": {},
     "output_type": "execute_result"
    }
   ],
   "source": [
    "result = model.predict([X_test[0], X_test[1], X_test[2]])\n",
    "result"
   ]
  },
  {
   "cell_type": "code",
   "execution_count": 36,
   "metadata": {},
   "outputs": [],
   "source": [
    "classifiation_dict = {\n",
    "    0: \"정치\",\n",
    "    1: \"경제\",\n",
    "    2: \"사회\",\n",
    "    3: \"생활/문화\",\n",
    "    4: \"세계\",\n",
    "    5: \"IT\",\n",
    "}"
   ]
  },
  {
   "cell_type": "code",
   "execution_count": 39,
   "metadata": {},
   "outputs": [
    {
     "name": "stdout",
     "output_type": "stream",
     "text": [
      "경제 인천 송도 삼성바이오로직스 현장을 가다“삼성이 처음 핸드폰 사업을 시작할 때 망치로 핸드폰\n",
      "사회 [구의역 사고를 보며] 청년을 위한 나라는 없다 [ 주동식 지역평등시민연대 대표] 요즘 사\n",
      "정치  [한겨레] 구의역·남양주 사고에 입법대책 분주더민주, 직접 고용법 제정안 발의국민의당, \n"
     ]
    }
   ],
   "source": [
    "for idx, category in enumerate(result):\n",
    "    print(classifiation_dict[category], X_test[idx][:50])"
   ]
  },
  {
   "cell_type": "code",
   "execution_count": null,
   "metadata": {},
   "outputs": [],
   "source": []
  },
  {
   "cell_type": "code",
   "execution_count": null,
   "metadata": {},
   "outputs": [],
   "source": []
  },
  {
   "cell_type": "code",
   "execution_count": null,
   "metadata": {},
   "outputs": [],
   "source": []
  },
  {
   "cell_type": "markdown",
   "metadata": {},
   "source": [
    "### Save & Load Model"
   ]
  },
  {
   "cell_type": "code",
   "execution_count": 40,
   "metadata": {},
   "outputs": [],
   "source": [
    "pickle.dump(model, open(\"classification.plk\", \"wb\"))"
   ]
  },
  {
   "cell_type": "code",
   "execution_count": 41,
   "metadata": {},
   "outputs": [],
   "source": [
    "load_model = pickle.load(open(\"classification.plk\", \"rb\"))"
   ]
  },
  {
   "cell_type": "code",
   "execution_count": 44,
   "metadata": {},
   "outputs": [],
   "source": [
    "test_str1 = \"데이터 사이언스는 어렵고 돈이 많이 들지만 4차 산업혁명에서 굉장한 순이익을 가져올 수 있다.\"\n",
    "test_str2 = \"방탄소년단이 가지는 경제적 가치는 매우 커\""
   ]
  },
  {
   "cell_type": "code",
   "execution_count": 53,
   "metadata": {},
   "outputs": [
    {
     "data": {
      "text/plain": [
       "('경제', '생활/문화')"
      ]
     },
     "execution_count": 53,
     "metadata": {},
     "output_type": "execute_result"
    }
   ],
   "source": [
    "classifiation_dict[load_model.predict([test_str1])[0]], \\\n",
    "classifiation_dict[load_model.predict([test_str2])[0]]"
   ]
  },
  {
   "cell_type": "code",
   "execution_count": 49,
   "metadata": {},
   "outputs": [
    {
     "data": {
      "text/plain": [
       "'생활/문화'"
      ]
     },
     "execution_count": 49,
     "metadata": {},
     "output_type": "execute_result"
    }
   ],
   "source": [
    "classifiation_dict[load_model.predict([test_str2])[0]]"
   ]
  },
  {
   "cell_type": "code",
   "execution_count": 52,
   "metadata": {},
   "outputs": [
    {
     "data": {
      "text/plain": [
       "array([0.20236396, 0.38392412, 0.26241059, 0.03323916, 0.03615464,\n",
       "       0.08190752])"
      ]
     },
     "execution_count": 52,
     "metadata": {},
     "output_type": "execute_result"
    }
   ],
   "source": [
    "load_model.predict_proba([test_str1])"
   ]
  },
  {
   "cell_type": "code",
   "execution_count": null,
   "metadata": {},
   "outputs": [],
   "source": []
  }
 ],
 "metadata": {
  "kernelspec": {
   "display_name": "Python 3",
   "language": "python",
   "name": "python3"
  },
  "language_info": {
   "codemirror_mode": {
    "name": "ipython",
    "version": 3
   },
   "file_extension": ".py",
   "mimetype": "text/x-python",
   "name": "python",
   "nbconvert_exporter": "python",
   "pygments_lexer": "ipython3",
   "version": "3.6.2"
  }
 },
 "nbformat": 4,
 "nbformat_minor": 2
}
