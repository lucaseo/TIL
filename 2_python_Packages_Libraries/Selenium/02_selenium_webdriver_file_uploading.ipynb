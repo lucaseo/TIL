{
 "cells": [
  {
   "cell_type": "markdown",
   "metadata": {},
   "source": [
    "# selenium & webdriver - 2\n",
    "\n",
    "- file uploading through selenium\n",
    "- use API "
   ]
  },
  {
   "cell_type": "code",
   "execution_count": 30,
   "metadata": {},
   "outputs": [],
   "source": [
    "import time\n",
    "from selenium import webdriver"
   ]
  },
  {
   "cell_type": "code",
   "execution_count": 31,
   "metadata": {},
   "outputs": [],
   "source": [
    "driver = webdriver.Chrome()"
   ]
  },
  {
   "cell_type": "code",
   "execution_count": 32,
   "metadata": {},
   "outputs": [],
   "source": [
    "driver.get('http://cloud.google.com/vision')"
   ]
  },
  {
   "cell_type": "markdown",
   "metadata": {},
   "source": [
    "### change iframe\n",
    "- upload image on google vision api test page and checking the result\n",
    "- the upload area is set as `iframe`, so we'll move the foucs to `iframe`"
   ]
  },
  {
   "cell_type": "code",
   "execution_count": 33,
   "metadata": {},
   "outputs": [],
   "source": [
    "iframe = driver.find_element_by_css_selector(\"#vision_demo_section iframe\")\n",
    "driver.switch_to_frame(iframe)"
   ]
  },
  {
   "cell_type": "markdown",
   "metadata": {},
   "source": [
    "### file upload"
   ]
  },
  {
   "cell_type": "code",
   "execution_count": 34,
   "metadata": {},
   "outputs": [
    {
     "data": {
      "text/plain": [
       "['/Users/Seoluca/Data_Analytics/Git/TIL/TIL/2_python_Packages_Libraries/Selenium']"
      ]
     },
     "execution_count": 34,
     "metadata": {},
     "output_type": "execute_result"
    }
   ],
   "source": [
    "# check current path\n",
    "path = !pwd\n",
    "path"
   ]
  },
  {
   "cell_type": "code",
   "execution_count": 35,
   "metadata": {},
   "outputs": [],
   "source": [
    "file_path = path[0] + \"/Drake.png\"\n",
    "driver.find_element_by_css_selector(\"#input\").send_keys(file_path)"
   ]
  },
  {
   "cell_type": "code",
   "execution_count": 37,
   "metadata": {},
   "outputs": [],
   "source": [
    "driver.find_element_by_css_selector(\"#webDetection\").click()"
   ]
  },
  {
   "cell_type": "code",
   "execution_count": 40,
   "metadata": {},
   "outputs": [
    {
     "data": {
      "text/plain": [
       "'The Weeknd'"
      ]
     },
     "execution_count": 40,
     "metadata": {},
     "output_type": "execute_result"
    }
   ],
   "source": [
    "driver.find_elements_by_css_selector('.style-scope .vs-web .name')[2].text"
   ]
  },
  {
   "cell_type": "markdown",
   "metadata": {},
   "source": [
    "### running all the code in one attempt"
   ]
  },
  {
   "cell_type": "code",
   "execution_count": 23,
   "metadata": {},
   "outputs": [
    {
     "name": "stdout",
     "output_type": "stream",
     "text": [
      "Drake\n"
     ]
    }
   ],
   "source": [
    "driver =  webdriver.Chrome()\n",
    "driver.get('https://cloud.google.com/vision/')\n",
    "\n",
    "iframe = driver.find_element_by_css_selector(\"#vision_demo_section iframe\")\n",
    "driver.switch_to_frame(iframe)\n",
    "file_path = path[0] + \"/Drake.png\"\n",
    "driver.find_element_by_css_selector(\"#input\").send_keys(file_path)\n",
    "time.sleep(10) # time allowance for uploading image and anaylzing\n",
    "driver.find_element_by_css_selector(\"#webDetection\").click()\n",
    "result = driver.find_elements_by_css_selector('.style-scope .vs-web .name')[0].text\n",
    "print(result)\n",
    "driver.close()"
   ]
  },
  {
   "cell_type": "markdown",
   "metadata": {},
   "source": [
    "### Check element while running\n",
    "- apply try and except"
   ]
  },
  {
   "cell_type": "code",
   "execution_count": 41,
   "metadata": {},
   "outputs": [],
   "source": [
    "def check_element(driver, selector):\n",
    "    try:\n",
    "        driver.find_element_by_css_selector(selector)\n",
    "        return True\n",
    "    except:\n",
    "        return False"
   ]
  },
  {
   "cell_type": "code",
   "execution_count": 45,
   "metadata": {},
   "outputs": [
    {
     "name": "stdout",
     "output_type": "stream",
     "text": [
      "1sec\n",
      "2sec\n",
      "3sec\n",
      "error\n"
     ]
    }
   ],
   "source": [
    "driver =  webdriver.Chrome()\n",
    "driver.get('https://cloud.google.com/vision/')\n",
    "\n",
    "iframe = driver.find_element_by_css_selector(\"#vision_demo_section iframe\")\n",
    "driver.switch_to_frame(iframe)\n",
    "file_path = path[0] + \"/Drake.png\"\n",
    "driver.find_element_by_css_selector(\"#input\").send_keys(file_path)\n",
    "\n",
    "selector = '.vs-web .name'\n",
    "sec, limit_sec = 0, 3 \n",
    "while True:\n",
    "    sec += 1\n",
    "    print(\"{}sec\".format(sec))\n",
    "    time.sleep(1)\n",
    "    \n",
    "    # check element\n",
    "    if check_element(driver, selector):\n",
    "        driver.find_element_by_css_selector(\"#webDetection\").click()\n",
    "        result = driver.find_elements_by_css_selector(selector)[0].text\n",
    "        print(result)\n",
    "        driver.close()\n",
    "        break;\n",
    "        \n",
    "    # if limit_sec exceeds, handle it 'except'\n",
    "    if sec + 1 > limit_sec:\n",
    "        print(\"error\")\n",
    "        driver.close()\n",
    "        break;"
   ]
  },
  {
   "cell_type": "code",
   "execution_count": null,
   "metadata": {},
   "outputs": [],
   "source": []
  }
 ],
 "metadata": {
  "kernelspec": {
   "display_name": "Python 3",
   "language": "python",
   "name": "python3"
  },
  "language_info": {
   "codemirror_mode": {
    "name": "ipython",
    "version": 3
   },
   "file_extension": ".py",
   "mimetype": "text/x-python",
   "name": "python",
   "nbconvert_exporter": "python",
   "pygments_lexer": "ipython3",
   "version": "3.6.2"
  }
 },
 "nbformat": 4,
 "nbformat_minor": 2
}
