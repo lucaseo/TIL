{
 "cells": [
  {
   "cell_type": "markdown",
   "metadata": {},
   "source": [
    "# Object-Relational Mapping (ORM)"
   ]
  },
  {
   "cell_type": "markdown",
   "metadata": {},
   "source": [
    "### SQLAlchemy\n",
    "\n",
    "- http://docs.sqlalchemy.org/en/latest/orm/tutorial.html\n",
    "- `pip3 install sqlalchemy`\n",
    "- python에서 사용하는 ORM\n",
    "\n",
    "ORM이란?\n",
    "- Object-relational mapping\n",
    "- 데이터 베이스를 객체화 시켜 데이터베이스에 있는 데이터를 CRUD를 할수 있음.\n",
    "- 사용하는 DB를 변경해야 할 경우 데이터 베이스 엔진만 바꾸면 됨\n",
    "\n",
    ">- cursur가 아닌 session(함수)를 실행해서 데이터를 주고 받을 수 있음 (query를 실행하는 것이 아니다)\n",
    ">- 데이터 베이스의 테이블을 객체화.\n",
    ">- 객체를 함수를 통해서 보낸다.\n",
    "\n",
    "- SQLAlchemy에서는 함수를 유지하고 엔진만 바꿔서 데이터베이스를 변경할 수 있다.\n"
   ]
  },
  {
   "cell_type": "markdown",
   "metadata": {},
   "source": [
    "1. db connect\n",
    "2. mapping class (db.table - class)\n",
    "3. insert\n",
    "4. select\n",
    "5. update\n",
    "6. delete"
   ]
  },
  {
   "cell_type": "code",
   "execution_count": 1,
   "metadata": {},
   "outputs": [],
   "source": [
    "import sqlalchemy, pickle\n",
    "from sqlalchemy.ext.declarative import declarative_base\n",
    "from sqlalchemy import Column, Integer, String, DateTime\n",
    "from sqlalchemy.orm import sessionmaker"
   ]
  },
  {
   "cell_type": "markdown",
   "metadata": {},
   "source": [
    "##### db connect"
   ]
  },
  {
   "cell_type": "code",
   "execution_count": 4,
   "metadata": {},
   "outputs": [],
   "source": [
    "# mysql+mysqldb://<사용자계정>:<비밀번호>@<호스트>/<데이터베이스_이름>\n",
    "# pw = pickle.load(open('pw.p','rb'))\n",
    "engine = sqlalchemy.create_engine(\"mysql+mysqldb://root:\" + \"110391\" + \"@127.0.0.1/test\")"
   ]
  },
  {
   "cell_type": "markdown",
   "metadata": {},
   "source": [
    "##### mapping class"
   ]
  },
  {
   "cell_type": "code",
   "execution_count": 6,
   "metadata": {},
   "outputs": [],
   "source": [
    "# __tablename__ : 데이터베이스의 테이블 이름\n",
    "\n",
    "Base = declarative_base()\n",
    "class User(Base):\n",
    "    __tablename__ = 'user2'\n",
    "\n",
    "    user_id = Column(Integer, primary_key=True)\n",
    "    name = Column(String)\n",
    "    email = Column(String)\n",
    "    age = Column(Integer)\n",
    "    rdate = Column(DateTime)\n",
    "    \n",
    "    def __init__(self, name, email, age, rdate):\n",
    "        self.name = name\n",
    "        self.email = email\n",
    "        self.age = age\n",
    "        self.rdate = rdate\n",
    "    \n",
    "    def __repr__(self):\n",
    "        return \"<User {}, {}, {}, {}>\".format(self.name, self.email, self.age, self.rdate)"
   ]
  },
  {
   "cell_type": "code",
   "execution_count": 7,
   "metadata": {},
   "outputs": [],
   "source": [
    "# engine에 연결된 데이터 베이스 테이블 생성 (연결, Mapping 실행)\n",
    "Base.metadata.create_all(engine)"
   ]
  },
  {
   "cell_type": "code",
   "execution_count": 8,
   "metadata": {},
   "outputs": [],
   "source": [
    "# 세션 생성 (sessionmaker기능)\n",
    "Session = sessionmaker(bind=engine)\n",
    "session = Session()"
   ]
  },
  {
   "cell_type": "markdown",
   "metadata": {},
   "source": [
    "##### insert"
   ]
  },
  {
   "cell_type": "code",
   "execution_count": 19,
   "metadata": {},
   "outputs": [],
   "source": [
    "# add user object to session\n",
    "# add one object\n",
    "# 하나의 데이터를 넣어줄 때는 add.\n",
    "# 하나의 데이터를 객체로 만들어서 집어 넣어준다\n",
    "user = User('jin', 'jin@gmail.com', '27', '2016-03-21')\n",
    "session.add(user)"
   ]
  },
  {
   "cell_type": "code",
   "execution_count": 15,
   "metadata": {},
   "outputs": [],
   "source": [
    "# 여러 개의 데이터를 넣어줄 때는 리스트 형태로\n",
    "# add multy objects\n",
    "users = [\n",
    "    User('alice', 'alice@gmail.com', '25', '2018-02-21'),\n",
    "    User('andy', 'andy@daum.net', '33', '2015-01-19'),\n",
    "]\n",
    "session.add_all(users)"
   ]
  },
  {
   "cell_type": "code",
   "execution_count": 20,
   "metadata": {},
   "outputs": [],
   "source": [
    "# run transaction (세선의 object가 insert)\n",
    "session.commit()"
   ]
  },
  {
   "cell_type": "code",
   "execution_count": 21,
   "metadata": {},
   "outputs": [],
   "source": [
    "# 롤백 (commit 하기 전에, commit 전의 상태에서 session을 초기화 하고 싶을 때)\n",
    "# rollback (session data clear)\n",
    "session.rollback()"
   ]
  },
  {
   "cell_type": "markdown",
   "metadata": {},
   "source": [
    "##### select\n",
    "- filter\n",
    "- order by"
   ]
  },
  {
   "cell_type": "code",
   "execution_count": 22,
   "metadata": {},
   "outputs": [],
   "source": [
    "# list 형태의 object 안의 요소를 하나씩 꺼내는 함수\n",
    "\n",
    "def disp(datas):\n",
    "    for data in datas:\n",
    "        print(data)"
   ]
  },
  {
   "cell_type": "code",
   "execution_count": 23,
   "metadata": {},
   "outputs": [
    {
     "name": "stdout",
     "output_type": "stream",
     "text": [
      "<User alice, alice@gmail.com, 25, 2018-02-21 00:00:00>\n",
      "<User andy, andy@daum.net, 33, 2015-01-19 00:00:00>\n",
      "<User jin, jin@gmail.com, 27, 2016-03-21 00:00:00>\n"
     ]
    }
   ],
   "source": [
    "results = session.query(User).all()\n",
    "disp(results)"
   ]
  },
  {
   "cell_type": "code",
   "execution_count": 29,
   "metadata": {},
   "outputs": [
    {
     "name": "stdout",
     "output_type": "stream",
     "text": [
      "<User jin, jin@gmail.com, 27, 2016-03-21 00:00:00>\n"
     ]
    }
   ],
   "source": [
    "# filter\n",
    "# ==, !=, >, <, >=, <=, like, in_, ~(not. 제외한 나머지 데이터 모두), \n",
    "results = session.query(User).filter(User.name == \"jin\")\n",
    "disp(results)"
   ]
  },
  {
   "cell_type": "code",
   "execution_count": 14,
   "metadata": {},
   "outputs": [
    {
     "name": "stdout",
     "output_type": "stream",
     "text": [
      "<User alice, alice@gmail.com, 25, 2018-02-21 00:00:00>\n",
      "<User andy, andy@daum.net, 33, 2015-01-19 00:00:00>\n"
     ]
    }
   ],
   "source": [
    "results = session.query(User).filter(User.name != \"jin\")\n",
    "disp(results)"
   ]
  },
  {
   "cell_type": "code",
   "execution_count": 30,
   "metadata": {},
   "outputs": [
    {
     "name": "stdout",
     "output_type": "stream",
     "text": [
      "<User andy, andy@daum.net, 33, 2015-01-19 00:00:00>\n",
      "<User jin, jin@gmail.com, 27, 2016-03-21 00:00:00>\n"
     ]
    }
   ],
   "source": [
    "results = session.query(User).filter(User.age > 26)\n",
    "disp(results)"
   ]
  },
  {
   "cell_type": "code",
   "execution_count": 31,
   "metadata": {},
   "outputs": [
    {
     "name": "stdout",
     "output_type": "stream",
     "text": [
      "<User alice, alice@gmail.com, 25, 2018-02-21 00:00:00>\n",
      "<User jin, jin@gmail.com, 27, 2016-03-21 00:00:00>\n"
     ]
    }
   ],
   "source": [
    "# like\n",
    "results = session.query(User).filter(User.email.like(\"%gmail%\"))\n",
    "disp(results)"
   ]
  },
  {
   "cell_type": "code",
   "execution_count": 32,
   "metadata": {},
   "outputs": [
    {
     "name": "stdout",
     "output_type": "stream",
     "text": [
      "<User alice, alice@gmail.com, 25, 2018-02-21 00:00:00>\n",
      "<User andy, andy@daum.net, 33, 2015-01-19 00:00:00>\n"
     ]
    }
   ],
   "source": [
    "# in_\n",
    "results = session.query(User).filter(User.name.in_([\"alice\",\"andy\"]))\n",
    "disp(results)"
   ]
  },
  {
   "cell_type": "code",
   "execution_count": 41,
   "metadata": {},
   "outputs": [
    {
     "name": "stdout",
     "output_type": "stream",
     "text": [
      "<User andy, andy@daum.net, 33, 2015-01-19 00:00:00>\n"
     ]
    }
   ],
   "source": [
    "# not\n",
    "results = session.query(User).filter(~User.email.like(\"%gmail%\"))\n",
    "disp(results)"
   ]
  },
  {
   "cell_type": "code",
   "execution_count": 34,
   "metadata": {},
   "outputs": [
    {
     "name": "stdout",
     "output_type": "stream",
     "text": [
      "<User andy, andy@daum.net, 33, 2015-01-19 00:00:00>\n",
      "<User jin, jin@gmail.com, 27, 2016-03-21 00:00:00>\n"
     ]
    }
   ],
   "source": [
    "# and_, or_\n",
    "from sqlalchemy import and_, or_\n",
    "results = session.query(User).filter(or_(User.name == \"jin\", User.age == 33))\n",
    "disp(results)"
   ]
  },
  {
   "cell_type": "code",
   "execution_count": 39,
   "metadata": {},
   "outputs": [
    {
     "name": "stdout",
     "output_type": "stream",
     "text": [
      "<User alice, alice@gmail.com, 25, 2018-02-21 00:00:00>\n",
      "<User jin, jin@gmail.com, 27, 2016-03-21 00:00:00>\n"
     ]
    }
   ],
   "source": [
    "results = session.query(User).filter(and_(User.age < 30, User.email.like(\"%gmail%\")))\n",
    "disp(results)"
   ]
  },
  {
   "cell_type": "code",
   "execution_count": 42,
   "metadata": {},
   "outputs": [
    {
     "name": "stdout",
     "output_type": "stream",
     "text": [
      "<User alice, alice@gmail.com, 25, 2018-02-21 00:00:00>\n",
      "<User jin, jin@gmail.com, 27, 2016-03-21 00:00:00>\n",
      "<User andy, andy@daum.net, 33, 2015-01-19 00:00:00>\n"
     ]
    }
   ],
   "source": [
    "# order_by\n",
    "results = session.query(User).order_by(User.age.asc())\n",
    "disp(results)"
   ]
  },
  {
   "cell_type": "code",
   "execution_count": 37,
   "metadata": {},
   "outputs": [
    {
     "name": "stdout",
     "output_type": "stream",
     "text": [
      "<User alice, alice@gmail.com, 25, 2018-02-21 00:00:00>\n",
      "<User jin, jin@gmail.com, 27, 2016-03-21 00:00:00>\n",
      "<User andy, andy@daum.net, 33, 2015-01-19 00:00:00>\n"
     ]
    }
   ],
   "source": [
    "results = session.query(User).order_by(User.age)\n",
    "disp(results)"
   ]
  },
  {
   "cell_type": "code",
   "execution_count": 43,
   "metadata": {},
   "outputs": [
    {
     "name": "stdout",
     "output_type": "stream",
     "text": [
      "<User andy, andy@daum.net, 33, 2015-01-19 00:00:00>\n",
      "<User jin, jin@gmail.com, 27, 2016-03-21 00:00:00>\n",
      "<User alice, alice@gmail.com, 25, 2018-02-21 00:00:00>\n"
     ]
    }
   ],
   "source": [
    "results = session.query(User).order_by(User.age.desc())\n",
    "disp(results)"
   ]
  },
  {
   "cell_type": "code",
   "execution_count": 44,
   "metadata": {},
   "outputs": [
    {
     "data": {
      "text/plain": [
       "3"
      ]
     },
     "execution_count": 44,
     "metadata": {},
     "output_type": "execute_result"
    }
   ],
   "source": [
    "# count\n",
    "session.query(User).count()"
   ]
  },
  {
   "cell_type": "markdown",
   "metadata": {},
   "source": [
    "##### update"
   ]
  },
  {
   "cell_type": "code",
   "execution_count": 50,
   "metadata": {},
   "outputs": [],
   "source": [
    "# one : 하나의 데이터를 가져온다\n",
    "# first : 가장 첫 데이터를 가져온다\n",
    "jin = session.query(User).filter(User.name == \"jin\").one()"
   ]
  },
  {
   "cell_type": "code",
   "execution_count": 51,
   "metadata": {},
   "outputs": [],
   "source": [
    "jin.age = 30"
   ]
  },
  {
   "cell_type": "code",
   "execution_count": 52,
   "metadata": {},
   "outputs": [],
   "source": [
    "session.add(jin)"
   ]
  },
  {
   "cell_type": "code",
   "execution_count": 53,
   "metadata": {},
   "outputs": [],
   "source": [
    "session.commit()"
   ]
  },
  {
   "cell_type": "markdown",
   "metadata": {},
   "source": [
    "##### delete"
   ]
  },
  {
   "cell_type": "code",
   "execution_count": 54,
   "metadata": {},
   "outputs": [
    {
     "data": {
      "text/plain": [
       "1"
      ]
     },
     "execution_count": 54,
     "metadata": {},
     "output_type": "execute_result"
    }
   ],
   "source": [
    "session.query(User).filter(User.name == \"jin\").delete()"
   ]
  },
  {
   "cell_type": "code",
   "execution_count": 55,
   "metadata": {},
   "outputs": [],
   "source": [
    "session.commit()"
   ]
  },
  {
   "cell_type": "code",
   "execution_count": 56,
   "metadata": {},
   "outputs": [],
   "source": [
    "# close session\n",
    "session.close()"
   ]
  },
  {
   "cell_type": "code",
   "execution_count": null,
   "metadata": {},
   "outputs": [],
   "source": []
  }
 ],
 "metadata": {
  "kernelspec": {
   "display_name": "Python 3",
   "language": "python",
   "name": "python3"
  },
  "language_info": {
   "codemirror_mode": {
    "name": "ipython",
    "version": 3
   },
   "file_extension": ".py",
   "mimetype": "text/x-python",
   "name": "python",
   "nbconvert_exporter": "python",
   "pygments_lexer": "ipython3",
   "version": "3.6.2"
  }
 },
 "nbformat": 4,
 "nbformat_minor": 2
}
