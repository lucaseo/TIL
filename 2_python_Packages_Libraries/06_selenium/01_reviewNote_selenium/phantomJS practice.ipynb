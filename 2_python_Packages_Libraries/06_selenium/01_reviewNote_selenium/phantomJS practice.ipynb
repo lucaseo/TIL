{
 "cells": [
  {
   "cell_type": "code",
   "execution_count": 44,
   "metadata": {},
   "outputs": [],
   "source": [
    "from selenium import webdriver\n",
    "import pandas as pd"
   ]
  },
  {
   "cell_type": "code",
   "execution_count": 45,
   "metadata": {},
   "outputs": [],
   "source": [
    "melon_weekly = pd.DataFrame(columns = [\"Ranking\", \"Song\", \"Artist\", \"Album\"])\n",
    "\n",
    "\n",
    "\n",
    "driver = webdriver.PhantomJS(\"/Users/Seoluca/Data_Analytics/Git/TIL/TIL/2_python_Packages_Libraries/06_selenium/01_reviewNote_selenium/phantomJS/phantomJS\")\n",
    "\n",
    "driver.get(\"http://www.melon.com/chart/week/index.htm#params%5Bidx%5D=1&params%5BstartDay%5D=20180219&params%5BendDay%5D=20180225&params%5BisFirstDate%5D=false&params%5BisLastDate%5D=true\")\n",
    "\n",
    "table_50 = driver.find_elements_by_css_selector(\"#tb_list tbody .lst50\")\n",
    "\n",
    "for table in table_50:\n",
    "\n",
    "    rank = table.find_element_by_css_selector(\".rank\").text\n",
    "    song = table.find_element_by_css_selector(\".wrap_song_info .ellipsis.rank01 a\").text\n",
    "    artist = table.find_element_by_css_selector(\".wrap_song_info .ellipsis.rank02 a\").text\n",
    "    album = table.find_element_by_css_selector(\".wrap_song_info .ellipsis.rank03 a\").text\n",
    "\n",
    "    data = {\"Ranking\" : rank, \n",
    "            \"Song\" : song, \n",
    "            \"Artist\" : artist, \n",
    "            \"Album\" : album, }\n",
    "\n",
    "    melon_weekly.loc[len(melon_100)] = data\n",
    "\n",
    "#     driver.execute_script(\"movePage(2);\")\n",
    "\n",
    "driver.get(\"http://www.melon.com/chart/week/index.htm#params%5Bidx%5D=1&params%5BstartDay%5D=20180219&params%5BendDay%5D=20180225&params%5BisFirstDate%5D=false&params%5BisLastDate%5D=true\")\n",
    "\n",
    "table_100 = driver.find_elements_by_css_selector(\"#tb_list tbody .lst100\")\n",
    "\n",
    "for table in table_100:\n",
    "\n",
    "    rank = table.find_element_by_css_selector(\".rank\").text\n",
    "    song = table.find_element_by_css_selector(\".wrap_song_info .ellipsis.rank01 a\").text\n",
    "    artist = table.find_element_by_css_selector(\".wrap_song_info .ellipsis.rank02 a\").text\n",
    "    album = table.find_element_by_css_selector(\".wrap_song_info .ellipsis.rank03 a\").text\n",
    "\n",
    "    data = {\"Ranking\" : rank, \n",
    "            \"Song\" : song, \n",
    "            \"Artist\" : artist, \n",
    "            \"Album\" : album, }\n",
    "\n",
    "    melon_weekly.loc[len(melon_weekly)] = data\n",
    "\n",
    "melon_weekly = melon_weekly.set_index('Ranking')\n",
    "\n",
    "melon_weekly.to_csv('melon_weekly_100')    \n",
    "\n",
    "driver.close()\n",
    "\n"
   ]
  },
  {
   "cell_type": "code",
   "execution_count": 46,
   "metadata": {},
   "outputs": [
    {
     "data": {
      "text/html": [
       "<div>\n",
       "<style scoped>\n",
       "    .dataframe tbody tr th:only-of-type {\n",
       "        vertical-align: middle;\n",
       "    }\n",
       "\n",
       "    .dataframe tbody tr th {\n",
       "        vertical-align: top;\n",
       "    }\n",
       "\n",
       "    .dataframe thead th {\n",
       "        text-align: right;\n",
       "    }\n",
       "</style>\n",
       "<table border=\"1\" class=\"dataframe\">\n",
       "  <thead>\n",
       "    <tr style=\"text-align: right;\">\n",
       "      <th></th>\n",
       "      <th>Song</th>\n",
       "      <th>Artist</th>\n",
       "      <th>Album</th>\n",
       "    </tr>\n",
       "    <tr>\n",
       "      <th>Ranking</th>\n",
       "      <th></th>\n",
       "      <th></th>\n",
       "      <th></th>\n",
       "    </tr>\n",
       "  </thead>\n",
       "  <tbody>\n",
       "  </tbody>\n",
       "</table>\n",
       "</div>"
      ],
      "text/plain": [
       "Empty DataFrame\n",
       "Columns: [Song, Artist, Album]\n",
       "Index: []"
      ]
     },
     "execution_count": 46,
     "metadata": {},
     "output_type": "execute_result"
    }
   ],
   "source": [
    "melon_weekly"
   ]
  },
  {
   "cell_type": "code",
   "execution_count": null,
   "metadata": {},
   "outputs": [],
   "source": []
  }
 ],
 "metadata": {
  "kernelspec": {
   "display_name": "Python 3",
   "language": "python",
   "name": "python3"
  },
  "language_info": {
   "codemirror_mode": {
    "name": "ipython",
    "version": 3
   },
   "file_extension": ".py",
   "mimetype": "text/x-python",
   "name": "python",
   "nbconvert_exporter": "python",
   "pygments_lexer": "ipython3",
   "version": "3.6.2"
  }
 },
 "nbformat": 4,
 "nbformat_minor": 2
}
