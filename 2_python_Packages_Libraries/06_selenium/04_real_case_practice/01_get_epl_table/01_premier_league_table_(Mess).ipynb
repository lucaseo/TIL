{
 "cells": [
  {
   "cell_type": "code",
   "execution_count": 1,
   "metadata": {},
   "outputs": [],
   "source": [
    "from selenium import webdriver\n",
    "import pandas as pd"
   ]
  },
  {
   "cell_type": "code",
   "execution_count": 2,
   "metadata": {},
   "outputs": [],
   "source": [
    "driver = webdriver.Chrome()\n",
    "driver.get('https://www.premierleague.com/tables')\n",
    "driver.find_element_by_css_selector(\"#advertClose\").click()"
   ]
  },
  {
   "cell_type": "code",
   "execution_count": 47,
   "metadata": {
    "scrolled": false
   },
   "outputs": [],
   "source": [
    "table = driver.find_elements_by_css_selector(\"#mainContent .tableBodyContainer\")[0]"
   ]
  },
  {
   "cell_type": "code",
   "execution_count": 54,
   "metadata": {},
   "outputs": [
    {
     "data": {
      "text/plain": [
       "<selenium.webdriver.remote.webelement.WebElement (session=\"a56602634bea9e9843e442c5b4399b84\", element=\"0.4219845431983993-10\")>"
      ]
     },
     "execution_count": 54,
     "metadata": {},
     "output_type": "execute_result"
    }
   ],
   "source": [
    "group = table.find_elements_by_css_selector(\".tableDark\")\n",
    "group[0]"
   ]
  },
  {
   "cell_type": "code",
   "execution_count": 39,
   "metadata": {},
   "outputs": [],
   "source": [
    "# for item in team:\n",
    "\n",
    "ranking = team.find_element_by_css_selector(\".value\").text\n",
    "club = team.find_element_by_css_selector(\".team > a\").text\n",
    "play = team.find_element_by_css_selector(\"td:nth-child(4)\").text\n",
    "win = team.find_element_by_css_selector(\"td:nth-child(5)\").text\n",
    "draw = team.find_element_by_css_selector(\"td:nth-child(6)\").text\n",
    "lose = team.find_element_by_css_selector(\"td:nth-child(7)\").text\n",
    "goal = team.find_element_by_css_selector(\"td:nth-child(10)\").text\n",
    "pts = team.find_element_by_css_selector(\".points\").text\n",
    "\n"
   ]
  },
  {
   "cell_type": "code",
   "execution_count": 40,
   "metadata": {},
   "outputs": [
    {
     "data": {
      "text/plain": [
       "('1', 'MCI', '27', '23', '3', '1', '+59', '72')"
      ]
     },
     "execution_count": 40,
     "metadata": {},
     "output_type": "execute_result"
    }
   ],
   "source": [
    "ranking, club, play, win, draw, lose, goal, pts"
   ]
  },
  {
   "cell_type": "code",
   "execution_count": 41,
   "metadata": {},
   "outputs": [],
   "source": [
    "data = {\"Ranking\" : ranking, \n",
    "        \"Club\" : club, \n",
    "        \"Pl\" : play,\n",
    "        \"W\" : win,\n",
    "        \"D\" : draw,\n",
    "        \"L\" : lose,\n",
    "        \"GD\": goal, \n",
    "        \"Pts\": pts}"
   ]
  },
  {
   "cell_type": "code",
   "execution_count": 34,
   "metadata": {},
   "outputs": [],
   "source": [
    "epl_table = pd.DataFrame(columns=['Ranking', 'Club', 'Pl', 'W', 'D', 'L', 'GD', 'Pts'])"
   ]
  },
  {
   "cell_type": "code",
   "execution_count": 42,
   "metadata": {},
   "outputs": [],
   "source": [
    "epl_table.loc[len(epl_table)] = data"
   ]
  },
  {
   "cell_type": "code",
   "execution_count": 43,
   "metadata": {},
   "outputs": [
    {
     "data": {
      "text/html": [
       "<div>\n",
       "<style scoped>\n",
       "    .dataframe tbody tr th:only-of-type {\n",
       "        vertical-align: middle;\n",
       "    }\n",
       "\n",
       "    .dataframe tbody tr th {\n",
       "        vertical-align: top;\n",
       "    }\n",
       "\n",
       "    .dataframe thead th {\n",
       "        text-align: right;\n",
       "    }\n",
       "</style>\n",
       "<table border=\"1\" class=\"dataframe\">\n",
       "  <thead>\n",
       "    <tr style=\"text-align: right;\">\n",
       "      <th></th>\n",
       "      <th>Ranking</th>\n",
       "      <th>Club</th>\n",
       "      <th>Pl</th>\n",
       "      <th>W</th>\n",
       "      <th>D</th>\n",
       "      <th>L</th>\n",
       "      <th>GD</th>\n",
       "      <th>Pts</th>\n",
       "    </tr>\n",
       "  </thead>\n",
       "  <tbody>\n",
       "    <tr>\n",
       "      <th>0</th>\n",
       "      <td>1</td>\n",
       "      <td>MCI</td>\n",
       "      <td>27</td>\n",
       "      <td>23</td>\n",
       "      <td>3</td>\n",
       "      <td>1</td>\n",
       "      <td>+59</td>\n",
       "      <td>72</td>\n",
       "    </tr>\n",
       "  </tbody>\n",
       "</table>\n",
       "</div>"
      ],
      "text/plain": [
       "  Ranking Club  Pl   W  D  L   GD Pts\n",
       "0       1  MCI  27  23  3  1  +59  72"
      ]
     },
     "execution_count": 43,
     "metadata": {},
     "output_type": "execute_result"
    }
   ],
   "source": [
    "epl_table"
   ]
  },
  {
   "cell_type": "code",
   "execution_count": null,
   "metadata": {},
   "outputs": [],
   "source": []
  },
  {
   "cell_type": "code",
   "execution_count": null,
   "metadata": {},
   "outputs": [],
   "source": [
    "table = driver.find_elements_by_css_selector(\"#mainContent .tableBodyContainer\")[0]\n",
    "# print(len(table))\n",
    "table.text"
   ]
  },
  {
   "cell_type": "code",
   "execution_count": null,
   "metadata": {},
   "outputs": [],
   "source": [
    "teams = table.find_elements_by_css_selector(\"tr.tableDark\")"
   ]
  },
  {
   "cell_type": "code",
   "execution_count": null,
   "metadata": {},
   "outputs": [],
   "source": [
    "teams[0].text"
   ]
  },
  {
   "cell_type": "code",
   "execution_count": 58,
   "metadata": {},
   "outputs": [
    {
     "data": {
      "text/plain": [
       "<selenium.webdriver.remote.webelement.WebElement (session=\"a56602634bea9e9843e442c5b4399b84\", element=\"0.4219845431983993-12\")>"
      ]
     },
     "execution_count": 58,
     "metadata": {},
     "output_type": "execute_result"
    }
   ],
   "source": [
    "teams2 = table.find_elements_by_css_selector(\"tr:nth-child(3)\")[0]\n",
    "teams2"
   ]
  },
  {
   "cell_type": "code",
   "execution_count": null,
   "metadata": {},
   "outputs": [],
   "source": [
    "teams = table.find_elements_by_css_selector(\"tr:nth-child(5)\")"
   ]
  },
  {
   "cell_type": "code",
   "execution_count": null,
   "metadata": {},
   "outputs": [],
   "source": [
    "teams[1].text"
   ]
  },
  {
   "cell_type": "code",
   "execution_count": null,
   "metadata": {},
   "outputs": [],
   "source": [
    "teams = table.find_elements_by_css_selector(\"tr:nth-child(7)\")"
   ]
  },
  {
   "cell_type": "code",
   "execution_count": null,
   "metadata": {},
   "outputs": [],
   "source": [
    "teams[1].text"
   ]
  },
  {
   "cell_type": "code",
   "execution_count": null,
   "metadata": {},
   "outputs": [],
   "source": [
    "teams = table.find_elements_by_css_selector(\"tr:nth-child(9)\")"
   ]
  },
  {
   "cell_type": "code",
   "execution_count": null,
   "metadata": {},
   "outputs": [],
   "source": [
    "teams[1].text"
   ]
  },
  {
   "cell_type": "code",
   "execution_count": null,
   "metadata": {},
   "outputs": [],
   "source": [
    "teams = table.find_elements_by_css_selector(\"tr:nth-child(11)\")\n",
    "teams[1].text"
   ]
  },
  {
   "cell_type": "code",
   "execution_count": null,
   "metadata": {},
   "outputs": [],
   "source": [
    "teams = table.find_elements_by_css_selector(\"tr:nth-child(13)\")\n",
    "teams[1].text"
   ]
  },
  {
   "cell_type": "code",
   "execution_count": null,
   "metadata": {},
   "outputs": [],
   "source": [
    "teams = table.find_elements_by_css_selector(\"tr:nth-child(15)\")\n",
    "teams[1].text"
   ]
  },
  {
   "cell_type": "code",
   "execution_count": 49,
   "metadata": {},
   "outputs": [
    {
     "name": "stdout",
     "output_type": "stream",
     "text": [
      "2\n",
      "MUN 27 17 5 5 +32 56\n",
      "3\n",
      "LIV 27 15 9 3 +30 54\n",
      "4\n",
      "CHE 27 16 5 6 +26 53\n",
      "5\n",
      "TOT 27 15 7 5 +28 52\n",
      "6\n",
      "ARS 27 13 6 8 +15 45\n",
      "7\n",
      "BUR 27 9 9 9 -3 36\n",
      "8\n",
      "LEI 27 9 8 10 -1 35\n",
      "9\n",
      "EVE 27 9 7 11 -14 34\n",
      "10\n",
      "BOU 27 8 7 12 -10 31\n",
      "11\n",
      "WAT 27 8 6 13 -10 30\n",
      "12\n",
      "WHU 27 7 9 11 -12 30\n",
      "13\n",
      "NEW 27 7 7 13 -11 28\n",
      "14\n",
      "BHA 27 6 10 11 -14 28\n",
      "[]\n"
     ]
    }
   ],
   "source": [
    "tmp_table = []\n",
    "\n",
    "for num in range(3, 29, 2):\n",
    "    team = table.find_elements_by_css_selector(\"tr:nth-child(\"+str(num)+\")\")\n",
    "    print(team[0].text)\n",
    "    \n",
    "\n",
    "print(tmp_table)"
   ]
  },
  {
   "cell_type": "code",
   "execution_count": 61,
   "metadata": {},
   "outputs": [
    {
     "name": "stdout",
     "output_type": "stream",
     "text": [
      "2\n",
      "MUN 27 17 5 5 +32 56\n",
      "3\n",
      "LIV 27 15 9 3 +30 54\n",
      "4\n",
      "CHE 27 16 5 6 +26 53\n",
      "5\n",
      "TOT 27 15 7 5 +28 52\n",
      "6\n",
      "ARS 27 13 6 8 +15 45\n",
      "7\n",
      "BUR 27 9 9 9 -3 36\n",
      "8\n",
      "LEI 27 9 8 10 -1 35\n",
      "9\n",
      "EVE 27 9 7 11 -14 34\n",
      "10\n",
      "BOU 27 8 7 12 -10 31\n",
      "11\n",
      "WAT 27 8 6 13 -10 30\n",
      "12\n",
      "WHU 27 7 9 11 -12 30\n",
      "13\n",
      "NEW 27 7 7 13 -11 28\n",
      "14\n",
      "BHA 27 6 10 11 -14 28\n",
      "15\n",
      "CRY 27 6 9 12 -17 27\n",
      "16\n",
      "SWA 27 7 6 14 -17 27\n",
      "17\n",
      "HUD 27 7 6 14 -24 27\n",
      "18\n",
      "SOU 27 5 11 11 -12 26\n",
      "19\n",
      "STK 27 6 7 14 -26 25\n",
      "20\n",
      "WBA 27 3 11 13 -19 20\n",
      "[]\n"
     ]
    }
   ],
   "source": [
    "tmp_table = []\n",
    "\n",
    "for num in range(3, 41, 2):\n",
    "    team = table.find_elements_by_css_selector(\"tr:nth-child(\"+str(num)+\")\")\n",
    "    print(team[0].text)\n",
    "    \n",
    "\n",
    "print(tmp_table)"
   ]
  },
  {
   "cell_type": "code",
   "execution_count": null,
   "metadata": {},
   "outputs": [],
   "source": [
    "#mainContent > div.tabbedContent > div.mainTableTab.active > div.allTablesContainer > div > div > div > table > tbody > tr:nth-child(29)"
   ]
  },
  {
   "cell_type": "code",
   "execution_count": null,
   "metadata": {},
   "outputs": [],
   "source": [
    "#mainContent > div.tabbedContent > div.mainTableTab.active > div.allTablesContainer > div > div > div > table > tbody > tr:nth-child(39)"
   ]
  },
  {
   "cell_type": "code",
   "execution_count": 60,
   "metadata": {},
   "outputs": [
    {
     "name": "stdout",
     "output_type": "stream",
     "text": [
      "15\n",
      "CRY 27 6 9 12 -17 27\n",
      "16\n",
      "SWA 27 7 6 14 -17 27\n",
      "17\n",
      "HUD 27 7 6 14 -24 27\n",
      "18\n",
      "SOU 27 5 11 11 -12 26\n",
      "19\n",
      "STK 27 6 7 14 -26 25\n",
      "20\n",
      "WBA 27 3 11 13 -19 20\n"
     ]
    }
   ],
   "source": [
    "for num in range(29, 41, 2):\n",
    "    team = table.find_elements_by_css_selector(\"tr:nth-child(\"+str(num)+\")\")\n",
    "    print(team[0].text)"
   ]
  },
  {
   "cell_type": "code",
   "execution_count": null,
   "metadata": {},
   "outputs": [],
   "source": []
  },
  {
   "cell_type": "code",
   "execution_count": null,
   "metadata": {},
   "outputs": [],
   "source": []
  },
  {
   "cell_type": "code",
   "execution_count": null,
   "metadata": {},
   "outputs": [],
   "source": []
  },
  {
   "cell_type": "code",
   "execution_count": null,
   "metadata": {},
   "outputs": [],
   "source": []
  },
  {
   "cell_type": "code",
   "execution_count": null,
   "metadata": {},
   "outputs": [],
   "source": []
  },
  {
   "cell_type": "code",
   "execution_count": 88,
   "metadata": {},
   "outputs": [],
   "source": [
    "def epl_table():\n",
    "    driver = webdriver.Chrome()\n",
    "    driver.get('https://www.premierleague.com/tables')\n",
    "    driver.find_element_by_css_selector(\"#advertClose\").click()\n",
    "    \n",
    "    table = driver.find_elements_by_css_selector(\"#mainContent .tableBodyContainer\")[0]\n",
    "    \n",
    "    groups = []\n",
    "    group_1 = table.find_elements_by_css_selector(\".tableDark\")[0]\n",
    "    groups.append(group_1)\n",
    "    \n",
    "    for num in range(3, 41, 2):\n",
    "        group_2 = table.find_elements_by_css_selector(\"tr:nth-child(\"+str(num)+\")\")[0]\n",
    "        groups.append(group_2)\n",
    "    \n",
    "    epl_table = pd.DataFrame(columns=['Ranking', 'Club', 'Pl', 'W', 'D', 'L', 'GD', 'Pts'])\n",
    "    \n",
    "    for team in groups:\n",
    "        ranking = team.find_element_by_css_selector(\".value\").text\n",
    "        club = team.find_element_by_css_selector(\".team > a:last-child\").text\n",
    "        play = team.find_element_by_css_selector(\"td:nth-child(4)\").text\n",
    "        win = team.find_element_by_css_selector(\"td:nth-child(5)\").text\n",
    "        draw = team.find_element_by_css_selector(\"td:nth-child(6)\").text\n",
    "        lose = team.find_element_by_css_selector(\"td:nth-child(7)\").text\n",
    "        goal = team.find_element_by_css_selector(\"td:nth-child(10)\").text\n",
    "        pts = team.find_element_by_css_selector(\".points\").text\n",
    "\n",
    "        data = {\"Ranking\" : ranking, \n",
    "                \"Club\" : club, \n",
    "                \"Pl\" : play,\n",
    "                \"W\" : win,\n",
    "                \"D\" : draw,\n",
    "                \"L\" : lose,\n",
    "                \"GD\": goal, \n",
    "                \"Pts\": pts}\n",
    "\n",
    "        epl_table.loc[len(epl_table)] = data\n",
    "    \n",
    "    epl_table.set_index('Ranking', inplace=True)\n",
    "    epl_table.to_csv('epl_table',  index=False)\n",
    "    \n",
    "    driver close\n",
    "   \n",
    "    return"
   ]
  },
  {
   "cell_type": "code",
   "execution_count": 89,
   "metadata": {},
   "outputs": [
    {
     "data": {
      "text/html": [
       "<div>\n",
       "<style scoped>\n",
       "    .dataframe tbody tr th:only-of-type {\n",
       "        vertical-align: middle;\n",
       "    }\n",
       "\n",
       "    .dataframe tbody tr th {\n",
       "        vertical-align: top;\n",
       "    }\n",
       "\n",
       "    .dataframe thead th {\n",
       "        text-align: right;\n",
       "    }\n",
       "</style>\n",
       "<table border=\"1\" class=\"dataframe\">\n",
       "  <thead>\n",
       "    <tr style=\"text-align: right;\">\n",
       "      <th></th>\n",
       "      <th>Club</th>\n",
       "      <th>Pl</th>\n",
       "      <th>W</th>\n",
       "      <th>D</th>\n",
       "      <th>L</th>\n",
       "      <th>GD</th>\n",
       "      <th>Pts</th>\n",
       "    </tr>\n",
       "    <tr>\n",
       "      <th>Ranking</th>\n",
       "      <th></th>\n",
       "      <th></th>\n",
       "      <th></th>\n",
       "      <th></th>\n",
       "      <th></th>\n",
       "      <th></th>\n",
       "      <th></th>\n",
       "    </tr>\n",
       "  </thead>\n",
       "  <tbody>\n",
       "    <tr>\n",
       "      <th>1</th>\n",
       "      <td>Manchester City</td>\n",
       "      <td>27</td>\n",
       "      <td>23</td>\n",
       "      <td>3</td>\n",
       "      <td>1</td>\n",
       "      <td>+59</td>\n",
       "      <td>72</td>\n",
       "    </tr>\n",
       "    <tr>\n",
       "      <th>2</th>\n",
       "      <td>Manchester United</td>\n",
       "      <td>27</td>\n",
       "      <td>17</td>\n",
       "      <td>5</td>\n",
       "      <td>5</td>\n",
       "      <td>+32</td>\n",
       "      <td>56</td>\n",
       "    </tr>\n",
       "    <tr>\n",
       "      <th>3</th>\n",
       "      <td>Liverpool</td>\n",
       "      <td>27</td>\n",
       "      <td>15</td>\n",
       "      <td>9</td>\n",
       "      <td>3</td>\n",
       "      <td>+30</td>\n",
       "      <td>54</td>\n",
       "    </tr>\n",
       "    <tr>\n",
       "      <th>4</th>\n",
       "      <td>Chelsea</td>\n",
       "      <td>27</td>\n",
       "      <td>16</td>\n",
       "      <td>5</td>\n",
       "      <td>6</td>\n",
       "      <td>+26</td>\n",
       "      <td>53</td>\n",
       "    </tr>\n",
       "    <tr>\n",
       "      <th>5</th>\n",
       "      <td>Tottenham Hotspur</td>\n",
       "      <td>27</td>\n",
       "      <td>15</td>\n",
       "      <td>7</td>\n",
       "      <td>5</td>\n",
       "      <td>+28</td>\n",
       "      <td>52</td>\n",
       "    </tr>\n",
       "    <tr>\n",
       "      <th>6</th>\n",
       "      <td>Arsenal</td>\n",
       "      <td>27</td>\n",
       "      <td>13</td>\n",
       "      <td>6</td>\n",
       "      <td>8</td>\n",
       "      <td>+15</td>\n",
       "      <td>45</td>\n",
       "    </tr>\n",
       "    <tr>\n",
       "      <th>7</th>\n",
       "      <td>Burnley</td>\n",
       "      <td>27</td>\n",
       "      <td>9</td>\n",
       "      <td>9</td>\n",
       "      <td>9</td>\n",
       "      <td>-3</td>\n",
       "      <td>36</td>\n",
       "    </tr>\n",
       "    <tr>\n",
       "      <th>8</th>\n",
       "      <td>Leicester City</td>\n",
       "      <td>27</td>\n",
       "      <td>9</td>\n",
       "      <td>8</td>\n",
       "      <td>10</td>\n",
       "      <td>-1</td>\n",
       "      <td>35</td>\n",
       "    </tr>\n",
       "    <tr>\n",
       "      <th>9</th>\n",
       "      <td>Everton</td>\n",
       "      <td>27</td>\n",
       "      <td>9</td>\n",
       "      <td>7</td>\n",
       "      <td>11</td>\n",
       "      <td>-14</td>\n",
       "      <td>34</td>\n",
       "    </tr>\n",
       "    <tr>\n",
       "      <th>10</th>\n",
       "      <td>Bournemouth</td>\n",
       "      <td>27</td>\n",
       "      <td>8</td>\n",
       "      <td>7</td>\n",
       "      <td>12</td>\n",
       "      <td>-10</td>\n",
       "      <td>31</td>\n",
       "    </tr>\n",
       "    <tr>\n",
       "      <th>11</th>\n",
       "      <td>Watford</td>\n",
       "      <td>27</td>\n",
       "      <td>8</td>\n",
       "      <td>6</td>\n",
       "      <td>13</td>\n",
       "      <td>-10</td>\n",
       "      <td>30</td>\n",
       "    </tr>\n",
       "    <tr>\n",
       "      <th>12</th>\n",
       "      <td>West Ham United</td>\n",
       "      <td>27</td>\n",
       "      <td>7</td>\n",
       "      <td>9</td>\n",
       "      <td>11</td>\n",
       "      <td>-12</td>\n",
       "      <td>30</td>\n",
       "    </tr>\n",
       "    <tr>\n",
       "      <th>13</th>\n",
       "      <td>Newcastle United</td>\n",
       "      <td>27</td>\n",
       "      <td>7</td>\n",
       "      <td>7</td>\n",
       "      <td>13</td>\n",
       "      <td>-11</td>\n",
       "      <td>28</td>\n",
       "    </tr>\n",
       "    <tr>\n",
       "      <th>14</th>\n",
       "      <td>Brighton and Hove Albion</td>\n",
       "      <td>27</td>\n",
       "      <td>6</td>\n",
       "      <td>10</td>\n",
       "      <td>11</td>\n",
       "      <td>-14</td>\n",
       "      <td>28</td>\n",
       "    </tr>\n",
       "    <tr>\n",
       "      <th>15</th>\n",
       "      <td>Crystal Palace</td>\n",
       "      <td>27</td>\n",
       "      <td>6</td>\n",
       "      <td>9</td>\n",
       "      <td>12</td>\n",
       "      <td>-17</td>\n",
       "      <td>27</td>\n",
       "    </tr>\n",
       "    <tr>\n",
       "      <th>16</th>\n",
       "      <td>Swansea City</td>\n",
       "      <td>27</td>\n",
       "      <td>7</td>\n",
       "      <td>6</td>\n",
       "      <td>14</td>\n",
       "      <td>-17</td>\n",
       "      <td>27</td>\n",
       "    </tr>\n",
       "    <tr>\n",
       "      <th>17</th>\n",
       "      <td>Huddersfield Town</td>\n",
       "      <td>27</td>\n",
       "      <td>7</td>\n",
       "      <td>6</td>\n",
       "      <td>14</td>\n",
       "      <td>-24</td>\n",
       "      <td>27</td>\n",
       "    </tr>\n",
       "    <tr>\n",
       "      <th>18</th>\n",
       "      <td>Southampton</td>\n",
       "      <td>27</td>\n",
       "      <td>5</td>\n",
       "      <td>11</td>\n",
       "      <td>11</td>\n",
       "      <td>-12</td>\n",
       "      <td>26</td>\n",
       "    </tr>\n",
       "    <tr>\n",
       "      <th>19</th>\n",
       "      <td>Stoke City</td>\n",
       "      <td>27</td>\n",
       "      <td>6</td>\n",
       "      <td>7</td>\n",
       "      <td>14</td>\n",
       "      <td>-26</td>\n",
       "      <td>25</td>\n",
       "    </tr>\n",
       "    <tr>\n",
       "      <th>20</th>\n",
       "      <td>West Bromwich Albion</td>\n",
       "      <td>27</td>\n",
       "      <td>3</td>\n",
       "      <td>11</td>\n",
       "      <td>13</td>\n",
       "      <td>-19</td>\n",
       "      <td>20</td>\n",
       "    </tr>\n",
       "  </tbody>\n",
       "</table>\n",
       "</div>"
      ],
      "text/plain": [
       "                             Club  Pl   W   D   L   GD Pts\n",
       "Ranking                                                   \n",
       "1                 Manchester City  27  23   3   1  +59  72\n",
       "2               Manchester United  27  17   5   5  +32  56\n",
       "3                       Liverpool  27  15   9   3  +30  54\n",
       "4                         Chelsea  27  16   5   6  +26  53\n",
       "5               Tottenham Hotspur  27  15   7   5  +28  52\n",
       "6                         Arsenal  27  13   6   8  +15  45\n",
       "7                         Burnley  27   9   9   9   -3  36\n",
       "8                  Leicester City  27   9   8  10   -1  35\n",
       "9                         Everton  27   9   7  11  -14  34\n",
       "10                    Bournemouth  27   8   7  12  -10  31\n",
       "11                        Watford  27   8   6  13  -10  30\n",
       "12                West Ham United  27   7   9  11  -12  30\n",
       "13               Newcastle United  27   7   7  13  -11  28\n",
       "14       Brighton and Hove Albion  27   6  10  11  -14  28\n",
       "15                 Crystal Palace  27   6   9  12  -17  27\n",
       "16                   Swansea City  27   7   6  14  -17  27\n",
       "17              Huddersfield Town  27   7   6  14  -24  27\n",
       "18                    Southampton  27   5  11  11  -12  26\n",
       "19                     Stoke City  27   6   7  14  -26  25\n",
       "20           West Bromwich Albion  27   3  11  13  -19  20"
      ]
     },
     "execution_count": 89,
     "metadata": {},
     "output_type": "execute_result"
    }
   ],
   "source": [
    "epl_table()"
   ]
  }
 ],
 "metadata": {
  "kernelspec": {
   "display_name": "Python 3",
   "language": "python",
   "name": "python3"
  },
  "language_info": {
   "codemirror_mode": {
    "name": "ipython",
    "version": 3
   },
   "file_extension": ".py",
   "mimetype": "text/x-python",
   "name": "python",
   "nbconvert_exporter": "python",
   "pygments_lexer": "ipython3",
   "version": "3.6.2"
  }
 },
 "nbformat": 4,
 "nbformat_minor": 2
}
