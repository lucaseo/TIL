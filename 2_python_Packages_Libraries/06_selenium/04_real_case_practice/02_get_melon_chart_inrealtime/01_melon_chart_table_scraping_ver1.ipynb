{
 "cells": [
  {
   "cell_type": "code",
   "execution_count": null,
   "metadata": {},
   "outputs": [],
   "source": [
    "from selenium import webdriver\n",
    "import pandas as pd"
   ]
  },
  {
   "cell_type": "code",
   "execution_count": null,
   "metadata": {},
   "outputs": [],
   "source": [
    "melon_100 = pd.DataFrame(columns = [\"Ranking\", \"Song\", \"Artist\", \"Album\"])\n",
    "melon_100"
   ]
  },
  {
   "cell_type": "code",
   "execution_count": null,
   "metadata": {},
   "outputs": [],
   "source": [
    "# 1~50\n",
    "url = \"http://www.melon.com/chart/day/index.htm\""
   ]
  },
  {
   "cell_type": "code",
   "execution_count": null,
   "metadata": {},
   "outputs": [],
   "source": [
    "driver = webdriver.Chrome()"
   ]
  },
  {
   "cell_type": "code",
   "execution_count": null,
   "metadata": {},
   "outputs": [],
   "source": [
    "driver.get(url)"
   ]
  },
  {
   "cell_type": "code",
   "execution_count": null,
   "metadata": {},
   "outputs": [],
   "source": [
    "table_50 = driver.find_elements_by_css_selector(\"#tb_list tbody #lst50\")"
   ]
  },
  {
   "cell_type": "code",
   "execution_count": null,
   "metadata": {},
   "outputs": [],
   "source": [
    "# get data of ranking 1~50\n",
    "\n",
    "for table in table_50:\n",
    "    \n",
    "    rank = table.find_element_by_css_selector(\".rank\").text\n",
    "    song = table.find_element_by_css_selector(\".wrap_song_info .ellipsis.rank01 a\").text\n",
    "    artist = table.find_element_by_css_selector(\".wrap_song_info .ellipsis.rank02 a\").text\n",
    "    album = table.find_element_by_css_selector(\".wrap_song_info .ellipsis.rank03 a\").text\n",
    "    \n",
    "    data = {\"Ranking\" : rank, \n",
    "            \"Song\" : song, \n",
    "            \"Artist\" : artist, \n",
    "            \"Album\" : album, }\n",
    "    \n",
    "    melon_100.loc[len(melon_100)] = data\n",
    "    "
   ]
  },
  {
   "cell_type": "code",
   "execution_count": null,
   "metadata": {},
   "outputs": [],
   "source": [
    "melon_100"
   ]
  },
  {
   "cell_type": "code",
   "execution_count": null,
   "metadata": {},
   "outputs": [],
   "source": [
    "driver.get(\"http://www.melon.com/chart/day/index.htm#params%5Bidx%5D=51\")"
   ]
  },
  {
   "cell_type": "code",
   "execution_count": null,
   "metadata": {},
   "outputs": [],
   "source": [
    "table_100 = driver.find_elements_by_css_selector(\"#tb_list tbody .lst100\")"
   ]
  },
  {
   "cell_type": "code",
   "execution_count": null,
   "metadata": {},
   "outputs": [],
   "source": [
    "# get data of ranking 51~100\n",
    "for table in table_100:\n",
    "    \n",
    "    rank = table.find_element_by_css_selector(\".rank\").text\n",
    "    song = table.find_element_by_css_selector(\".wrap_song_info .ellipsis.rank01 a\").text\n",
    "    artist = table.find_element_by_css_selector(\".wrap_song_info .ellipsis.rank02 a\").text\n",
    "    album = table.find_element_by_css_selector(\".wrap_song_info .ellipsis.rank03 a\").text\n",
    "    \n",
    "    data = {\"Ranking\" : rank, \n",
    "            \"Song\" : song, \n",
    "            \"Artist\" : artist, \n",
    "            \"Album\" : album, }\n",
    "    \n",
    "    melon_100.loc[len(melon_100)] = data"
   ]
  },
  {
   "cell_type": "code",
   "execution_count": null,
   "metadata": {},
   "outputs": [],
   "source": [
    "melon_100 = melon_100.set_index('Ranking')"
   ]
  },
  {
   "cell_type": "code",
   "execution_count": null,
   "metadata": {
    "scrolled": false
   },
   "outputs": [],
   "source": [
    "melon_100"
   ]
  },
  {
   "cell_type": "code",
   "execution_count": null,
   "metadata": {},
   "outputs": [],
   "source": [
    "melon_100.to_csv('melon_chart_100')"
   ]
  },
  {
   "cell_type": "code",
   "execution_count": null,
   "metadata": {},
   "outputs": [],
   "source": [
    "driver.close()"
   ]
  },
  {
   "cell_type": "code",
   "execution_count": null,
   "metadata": {},
   "outputs": [],
   "source": []
  },
  {
   "cell_type": "code",
   "execution_count": null,
   "metadata": {},
   "outputs": [],
   "source": [
    "melon_100 = pd.read_csv('melon_chart_100', index_col=0)"
   ]
  },
  {
   "cell_type": "code",
   "execution_count": null,
   "metadata": {},
   "outputs": [],
   "source": []
  },
  {
   "cell_type": "code",
   "execution_count": null,
   "metadata": {},
   "outputs": [],
   "source": []
  }
 ],
 "metadata": {
  "kernelspec": {
   "display_name": "Python 3",
   "language": "python",
   "name": "python3"
  },
  "language_info": {
   "codemirror_mode": {
    "name": "ipython",
    "version": 3
   },
   "file_extension": ".py",
   "mimetype": "text/x-python",
   "name": "python",
   "nbconvert_exporter": "python",
   "pygments_lexer": "ipython3",
   "version": "3.6.2"
  }
 },
 "nbformat": 4,
 "nbformat_minor": 2
}
