{
 "cells": [
  {
   "cell_type": "markdown",
   "metadata": {},
   "source": [
    "Tutorial walkthrough (https://medium.freecodecamp.org/sqlalchemy-makes-etl-magically-easy-ab2bd0df928)"
   ]
  },
  {
   "cell_type": "markdown",
   "metadata": {},
   "source": [
    "#### Install SQLalchemy"
   ]
  },
  {
   "cell_type": "markdown",
   "metadata": {},
   "source": [
    "`$ pip install sqlalchemy`"
   ]
  },
  {
   "cell_type": "markdown",
   "metadata": {},
   "source": [
    "# WHAT IS ETL process?\n",
    "\n",
    "### Extract - from our datasource\n",
    "### Transform - into appropriate format in order to store in our DB\n",
    "### Load - the data into our DB"
   ]
  },
  {
   "cell_type": "markdown",
   "metadata": {},
   "source": [
    "* * * *"
   ]
  },
  {
   "cell_type": "markdown",
   "metadata": {},
   "source": [
    "### Defininig Schema"
   ]
  },
  {
   "cell_type": "markdown",
   "metadata": {},
   "source": [
    "database schema defines the structure of a dabase system\n",
    "- tables\n",
    "- columns\n",
    "- fields\n",
    "- the relationships between them\n",
    "\n",
    "Schemas can be defined in raw SQL, or through the use of SQLAlchemy's ORM feature\n",
    "\n",
    "* * * *"
   ]
  },
  {
   "cell_type": "markdown",
   "metadata": {},
   "source": [
    "#### (1) Import SQLAlchemy"
   ]
  },
  {
   "cell_type": "code",
   "execution_count": 1,
   "metadata": {},
   "outputs": [],
   "source": [
    "from sqlalchemy import *\n",
    "from sqlalchemy.ext.declarative import declarative_base\n",
    "from sqlalchemy.orm import sessionmaker\n",
    "from sqlalchemy.sql import *\n",
    "\n",
    "\n",
    "import pickle"
   ]
  },
  {
   "cell_type": "markdown",
   "metadata": {},
   "source": [
    "#### (2) Connect to database\n",
    "\n",
    "For engine configuration for different Database, check the link below  \n",
    "<http://docs.sqlalchemy.org/en/latest/core/engines.html>"
   ]
  },
  {
   "cell_type": "raw",
   "metadata": {},
   "source": [
    "# save password as pickle\n",
    "pw_input = \n",
    "file = open(\"sqlalchemy_mysql_pw.pickle\", \"wb\")\n",
    "pickle.dump(pw_input, file)"
   ]
  },
  {
   "cell_type": "code",
   "execution_count": 2,
   "metadata": {},
   "outputs": [],
   "source": [
    "pw = pickle.load(open(\"sqlalchemy_mysql_pw.pickle\", \"rb\"))"
   ]
  },
  {
   "cell_type": "code",
   "execution_count": 3,
   "metadata": {},
   "outputs": [],
   "source": [
    "engine = create_engine(\"mysql+mysqldb://root:\" + pw + \"@52.78.44.120/test_alchemy\")"
   ]
  },
  {
   "cell_type": "markdown",
   "metadata": {},
   "source": [
    "#### (3) Define table classes\n",
    "\n",
    "- format --> `<ColumnName> = Column(type)`\n",
    "\n",
    "`type` is a data type *such as Interger, String, Datetime and so on.  \n",
    "Use `primary_key=True` to denote columns which will be used as primary keys"
   ]
  },
  {
   "cell_type": "code",
   "execution_count": 4,
   "metadata": {},
   "outputs": [],
   "source": [
    "Base = declarative_base()"
   ]
  },
  {
   "cell_type": "code",
   "execution_count": 5,
   "metadata": {},
   "outputs": [],
   "source": [
    "class Users(Base):\n",
    "    __tablename__ = \"users\"\n",
    "    UserId = Column(Integer, primary_key=True)\n",
    "    Title = Column(VARCHAR(255))\n",
    "    FirstName = Column(VARCHAR(255))\n",
    "    LastName = Column(VARCHAR(255))\n",
    "    Email = Column(VARCHAR(255))\n",
    "    UserName = Column(VARCHAR(255))\n",
    "    DOB = Column(DateTime)"
   ]
  },
  {
   "cell_type": "code",
   "execution_count": 6,
   "metadata": {},
   "outputs": [],
   "source": [
    "class Uploads(Base):\n",
    "    __tablename__ = \"uploads\"\n",
    "    UploadId = Column(Integer, primary_key=True)\n",
    "    UserId = Column(Integer)\n",
    "    Title = Column(VARCHAR(255))\n",
    "    Body = Column(VARCHAR(255))\n",
    "    Timestamp = Column(DateTime)"
   ]
  },
  {
   "cell_type": "markdown",
   "metadata": {},
   "source": [
    "#### (4) Create tables.\n",
    "\n",
    "`checkfirst=True` parameter ensures that new tables are only created if they do not currently exist in the database"
   ]
  },
  {
   "cell_type": "code",
   "execution_count": 7,
   "metadata": {},
   "outputs": [],
   "source": [
    "Users.__table__.create(bind=engine, checkfirst=True)\n",
    "Uploads.__table__.create(bind=engine, checkfirst=True)"
   ]
  },
  {
   "cell_type": "markdown",
   "metadata": {},
   "source": [
    "* * * *"
   ]
  },
  {
   "cell_type": "markdown",
   "metadata": {},
   "source": [
    "### Extract"
   ]
  },
  {
   "cell_type": "markdown",
   "metadata": {},
   "source": [
    "Once the schema has been defined, the next task is Extraction of raw data from its source"
   ]
  },
  {
   "cell_type": "code",
   "execution_count": 8,
   "metadata": {},
   "outputs": [],
   "source": [
    "import requests"
   ]
  },
  {
   "cell_type": "markdown",
   "metadata": {},
   "source": [
    "The example data is held in two objects in JSON format"
   ]
  },
  {
   "cell_type": "code",
   "execution_count": 9,
   "metadata": {},
   "outputs": [],
   "source": [
    "url = 'https://randomuser.me/api/?results=10'\n",
    "users_json = requests.get(url).json()"
   ]
  },
  {
   "cell_type": "code",
   "execution_count": 10,
   "metadata": {},
   "outputs": [],
   "source": [
    "url2 = 'https://jsonplaceholder.typicode.com/posts/'\n",
    "uploads_json = requests.get(url2).json()"
   ]
  },
  {
   "cell_type": "code",
   "execution_count": 11,
   "metadata": {},
   "outputs": [
    {
     "data": {
      "text/plain": [
       "{'info': {'page': 1,\n",
       "  'results': 10,\n",
       "  'seed': '9eee90dcd7c3ba33',\n",
       "  'version': '1.1'},\n",
       " 'results': [{'cell': '(267)-965-7640',\n",
       "   'dob': '1989-11-30 10:01:50',\n",
       "   'email': 'dwight.parker@example.com',\n",
       "   'gender': 'male',\n",
       "   'id': {'name': 'SSN', 'value': '194-66-8550'},\n",
       "   'location': {'city': 'buffalo',\n",
       "    'postcode': 50614,\n",
       "    'state': 'nevada',\n",
       "    'street': '5579 bruce st'},\n",
       "   'login': {'md5': '40cf5ed27da942bda80f6b467c89c5aa',\n",
       "    'password': 'rugby1',\n",
       "    'salt': 'Qo0IRzUs',\n",
       "    'sha1': 'a2badb4e585c430f249609a8f9b48a65fbfc498a',\n",
       "    'sha256': 'e42afa5b4ccc3d37f0d4145ce731784309dd9746a16fe45a4ee672165672d7e4',\n",
       "    'username': 'greenpanda303'},\n",
       "   'name': {'first': 'dwight', 'last': 'parker', 'title': 'mr'},\n",
       "   'nat': 'US',\n",
       "   'phone': '(924)-134-8657',\n",
       "   'picture': {'large': 'https://randomuser.me/api/portraits/men/15.jpg',\n",
       "    'medium': 'https://randomuser.me/api/portraits/med/men/15.jpg',\n",
       "    'thumbnail': 'https://randomuser.me/api/portraits/thumb/men/15.jpg'},\n",
       "   'registered': '2009-08-12 19:16:11'},\n",
       "  {'cell': '081-873-1943',\n",
       "   'dob': '1958-06-08 03:28:17',\n",
       "   'email': 'britney.watson@example.com',\n",
       "   'gender': 'female',\n",
       "   'id': {'name': 'PPS', 'value': '8604903T'},\n",
       "   'location': {'city': 'kilkenny',\n",
       "    'postcode': 70217,\n",
       "    'state': 'roscommon',\n",
       "    'street': '3998 victoria road'},\n",
       "   'login': {'md5': '778c7cb93b690ca3fdc5e0c52e1b79ac',\n",
       "    'password': 'lacrosse',\n",
       "    'salt': 'kOilsOZw',\n",
       "    'sha1': '7062bb6f563db627a585fb73b27edca58b46de07',\n",
       "    'sha256': 'e509bc2964ad840774eff9e7d72929eb06dacc56183df0be06c1e01b3eea90d2',\n",
       "    'username': 'greenleopard913'},\n",
       "   'name': {'first': 'britney', 'last': 'watson', 'title': 'miss'},\n",
       "   'nat': 'IE',\n",
       "   'phone': '041-581-0138',\n",
       "   'picture': {'large': 'https://randomuser.me/api/portraits/women/2.jpg',\n",
       "    'medium': 'https://randomuser.me/api/portraits/med/women/2.jpg',\n",
       "    'thumbnail': 'https://randomuser.me/api/portraits/thumb/women/2.jpg'},\n",
       "   'registered': '2010-02-17 15:58:13'},\n",
       "  {'cell': '0448-389-876',\n",
       "   'dob': '1954-09-04 19:15:25',\n",
       "   'email': 'daniel.ford@example.com',\n",
       "   'gender': 'male',\n",
       "   'id': {'name': 'TFN', 'value': '051769543'},\n",
       "   'location': {'city': 'adelaide',\n",
       "    'postcode': 2270,\n",
       "    'state': 'south australia',\n",
       "    'street': '3294 groveland terrace'},\n",
       "   'login': {'md5': 'e49c9c0956a02b19844ae8a5e9efe8d3',\n",
       "    'password': 'corleone',\n",
       "    'salt': 'puOb0TGT',\n",
       "    'sha1': 'aaa7efb8af17535d6b2e74a5c2f81b3c48e48799',\n",
       "    'sha256': '7b2b1d8ac6b194d4d5445ab87a220431160b83dd42d7c892b00b251079cb5076',\n",
       "    'username': 'orangemouse486'},\n",
       "   'name': {'first': 'daniel', 'last': 'ford', 'title': 'mr'},\n",
       "   'nat': 'AU',\n",
       "   'phone': '03-0367-1618',\n",
       "   'picture': {'large': 'https://randomuser.me/api/portraits/men/0.jpg',\n",
       "    'medium': 'https://randomuser.me/api/portraits/med/men/0.jpg',\n",
       "    'thumbnail': 'https://randomuser.me/api/portraits/thumb/men/0.jpg'},\n",
       "   'registered': '2008-03-01 23:21:21'},\n",
       "  {'cell': '081-853-3016',\n",
       "   'dob': '1944-11-03 03:11:46',\n",
       "   'email': 'albert.franklin@example.com',\n",
       "   'gender': 'male',\n",
       "   'id': {'name': 'PPS', 'value': '9733301T'},\n",
       "   'location': {'city': 'newbridge',\n",
       "    'postcode': 28780,\n",
       "    'state': 'cork',\n",
       "    'street': '1222 rookery road'},\n",
       "   'login': {'md5': '7ea13498dcb19719d37c763c59d49345',\n",
       "    'password': 'option',\n",
       "    'salt': 'SiEKOaS2',\n",
       "    'sha1': '5c906749d999b9cad5e79f99c753102870a6e9c7',\n",
       "    'sha256': 'da156dd0e3b363c9da934fb35e9d857da56aeaaa17920c242559ecc24b65d9a2',\n",
       "    'username': 'browndog567'},\n",
       "   'name': {'first': 'albert', 'last': 'franklin', 'title': 'mr'},\n",
       "   'nat': 'IE',\n",
       "   'phone': '061-622-9281',\n",
       "   'picture': {'large': 'https://randomuser.me/api/portraits/men/31.jpg',\n",
       "    'medium': 'https://randomuser.me/api/portraits/med/men/31.jpg',\n",
       "    'thumbnail': 'https://randomuser.me/api/portraits/thumb/men/31.jpg'},\n",
       "   'registered': '2005-04-24 16:22:20'},\n",
       "  {'cell': '621-662-554',\n",
       "   'dob': '1945-07-22 18:15:54',\n",
       "   'email': 'catalina.hidalgo@example.com',\n",
       "   'gender': 'female',\n",
       "   'id': {'name': 'DNI', 'value': '17883507-H'},\n",
       "   'location': {'city': 'torrejón de ardoz',\n",
       "    'postcode': 51118,\n",
       "    'state': 'castilla la mancha',\n",
       "    'street': '3409 calle de tetuán'},\n",
       "   'login': {'md5': '584c350ce257da58da538ea0a9b4084b',\n",
       "    'password': 'cowgirl',\n",
       "    'salt': 'd5F83UVL',\n",
       "    'sha1': 'dc269a894b10e35c552a71fb9ed0ad1684c1dacd',\n",
       "    'sha256': '9df9d607a05178dabcf99114f7268a30da3858eafe4186e7f4fa47dd56a16e21',\n",
       "    'username': 'ticklishpanda188'},\n",
       "   'name': {'first': 'catalina', 'last': 'hidalgo', 'title': 'mrs'},\n",
       "   'nat': 'ES',\n",
       "   'phone': '934-358-859',\n",
       "   'picture': {'large': 'https://randomuser.me/api/portraits/women/8.jpg',\n",
       "    'medium': 'https://randomuser.me/api/portraits/med/women/8.jpg',\n",
       "    'thumbnail': 'https://randomuser.me/api/portraits/thumb/women/8.jpg'},\n",
       "   'registered': '2012-02-12 12:58:00'},\n",
       "  {'cell': '(840)-095-8853',\n",
       "   'dob': '1984-11-07 23:45:06',\n",
       "   'email': 'nurdan.oraloğlu@example.com',\n",
       "   'gender': 'female',\n",
       "   'id': {'name': '', 'value': None},\n",
       "   'location': {'city': 'isparta',\n",
       "    'postcode': 40085,\n",
       "    'state': 'İstanbul',\n",
       "    'street': '7246 necatibey cd'},\n",
       "   'login': {'md5': 'ac7dd595baafb25a86776263f8f0af39',\n",
       "    'password': 'muffy',\n",
       "    'salt': 'vv8kjJdz',\n",
       "    'sha1': '2d4641b09fa3433738930f1c458b0bdc66d84df5',\n",
       "    'sha256': '1e5bbd08b0aeebc3acf18cd3e48263156032e4654948b8ca9b4d37ebcfe6a20d',\n",
       "    'username': 'blackbird184'},\n",
       "   'name': {'first': 'nurdan', 'last': 'oraloğlu', 'title': 'miss'},\n",
       "   'nat': 'TR',\n",
       "   'phone': '(975)-384-3853',\n",
       "   'picture': {'large': 'https://randomuser.me/api/portraits/women/13.jpg',\n",
       "    'medium': 'https://randomuser.me/api/portraits/med/women/13.jpg',\n",
       "    'thumbnail': 'https://randomuser.me/api/portraits/thumb/women/13.jpg'},\n",
       "   'registered': '2003-01-23 19:32:09'},\n",
       "  {'cell': '0901-311-7960',\n",
       "   'dob': '1991-09-19 12:40:02',\n",
       "   'email': 'علی رضا.گلشن@example.com',\n",
       "   'gender': 'male',\n",
       "   'id': {'name': '', 'value': None},\n",
       "   'location': {'city': 'اهواز',\n",
       "    'postcode': 67652,\n",
       "    'state': 'سیستان و بلوچستان',\n",
       "    'street': '2602 آیت الله سعیدی'},\n",
       "   'login': {'md5': 'a3968ead8ae0c0f8443eb942766083b0',\n",
       "    'password': '1025',\n",
       "    'salt': 'L6xvpeJ5',\n",
       "    'sha1': 'c63ff9c1aefd35183530939116ac1eb37ed2ee95',\n",
       "    'sha256': 'ecf128e2a5d5a00b900b485f58f5ada38ef5ee7154ca525fd93d3b28b3e68ecd',\n",
       "    'username': 'ticklishgoose461'},\n",
       "   'name': {'first': 'علی رضا', 'last': 'گلشن', 'title': 'mr'},\n",
       "   'nat': 'IR',\n",
       "   'phone': '035-01347577',\n",
       "   'picture': {'large': 'https://randomuser.me/api/portraits/men/39.jpg',\n",
       "    'medium': 'https://randomuser.me/api/portraits/med/men/39.jpg',\n",
       "    'thumbnail': 'https://randomuser.me/api/portraits/thumb/men/39.jpg'},\n",
       "   'registered': '2002-06-10 18:41:07'},\n",
       "  {'cell': '112-443-7690',\n",
       "   'dob': '1991-06-07 07:42:07',\n",
       "   'email': 'antoine.gauthier@example.com',\n",
       "   'gender': 'male',\n",
       "   'id': {'name': '', 'value': None},\n",
       "   'location': {'city': 'sherbrooke',\n",
       "    'postcode': 56476,\n",
       "    'state': 'new brunswick',\n",
       "    'street': '7424 15th st'},\n",
       "   'login': {'md5': '60906456f3f4608340508fdadd76e461',\n",
       "    'password': 'harris',\n",
       "    'salt': 'OA7U6UMV',\n",
       "    'sha1': '87e80d3b578c970f571717513d2508798d0c038c',\n",
       "    'sha256': '04d489554e8b20781141e77730558ac5dca3b23ba81df6a37721a98310c032f8',\n",
       "    'username': 'orangecat322'},\n",
       "   'name': {'first': 'antoine', 'last': 'gauthier', 'title': 'mr'},\n",
       "   'nat': 'CA',\n",
       "   'phone': '886-436-7892',\n",
       "   'picture': {'large': 'https://randomuser.me/api/portraits/men/9.jpg',\n",
       "    'medium': 'https://randomuser.me/api/portraits/med/men/9.jpg',\n",
       "    'thumbnail': 'https://randomuser.me/api/portraits/thumb/men/9.jpg'},\n",
       "   'registered': '2005-09-21 18:03:04'},\n",
       "  {'cell': '(74) 2108-4903',\n",
       "   'dob': '1987-12-28 10:09:53',\n",
       "   'email': 'domingas.damota@example.com',\n",
       "   'gender': 'female',\n",
       "   'id': {'name': '', 'value': None},\n",
       "   'location': {'city': 'garanhuns',\n",
       "    'postcode': 45047,\n",
       "    'state': 'distrito federal',\n",
       "    'street': '7502 rua um'},\n",
       "   'login': {'md5': 'a7b385bf32730544a72892769053efb4',\n",
       "    'password': '0.0.000',\n",
       "    'salt': 'ElIb9pGg',\n",
       "    'sha1': 'e6b3f239320c612872049770962da212cf123b74',\n",
       "    'sha256': '901fd73ce5bf5c679c5500b8f1433077b0d7f1e8fd02f4d54f81a7c7258cc55a',\n",
       "    'username': 'heavygoose337'},\n",
       "   'name': {'first': 'domingas', 'last': 'da mota', 'title': 'mrs'},\n",
       "   'nat': 'BR',\n",
       "   'phone': '(38) 3980-5255',\n",
       "   'picture': {'large': 'https://randomuser.me/api/portraits/women/0.jpg',\n",
       "    'medium': 'https://randomuser.me/api/portraits/med/women/0.jpg',\n",
       "    'thumbnail': 'https://randomuser.me/api/portraits/thumb/women/0.jpg'},\n",
       "   'registered': '2011-03-13 23:26:10'},\n",
       "  {'cell': '0416-406-422',\n",
       "   'dob': '1958-12-30 10:57:40',\n",
       "   'email': 'chris.stanley@example.com',\n",
       "   'gender': 'male',\n",
       "   'id': {'name': 'TFN', 'value': '091401499'},\n",
       "   'location': {'city': 'albury',\n",
       "    'postcode': 8437,\n",
       "    'state': 'tasmania',\n",
       "    'street': '7115 hillcrest rd'},\n",
       "   'login': {'md5': 'fec9ff7ca385b5dfc9662fb8f52cc5c1',\n",
       "    'password': 'stratus',\n",
       "    'salt': 'van7FTzX',\n",
       "    'sha1': 'b47db66bcea9513b5c72fa0fcac17b8cf10166d1',\n",
       "    'sha256': 'd7c29ded69648edd1fdbe0a50755de217a461e71674d5617202ebf72408416d8',\n",
       "    'username': 'silvermeercat338'},\n",
       "   'name': {'first': 'chris', 'last': 'stanley', 'title': 'mr'},\n",
       "   'nat': 'AU',\n",
       "   'phone': '00-5525-5258',\n",
       "   'picture': {'large': 'https://randomuser.me/api/portraits/men/95.jpg',\n",
       "    'medium': 'https://randomuser.me/api/portraits/med/men/95.jpg',\n",
       "    'thumbnail': 'https://randomuser.me/api/portraits/thumb/men/95.jpg'},\n",
       "   'registered': '2010-03-22 10:45:17'}]}"
      ]
     },
     "execution_count": 11,
     "metadata": {},
     "output_type": "execute_result"
    }
   ],
   "source": [
    "users_json"
   ]
  },
  {
   "cell_type": "code",
   "execution_count": 12,
   "metadata": {},
   "outputs": [
    {
     "data": {
      "text/plain": [
       "[{'body': 'quia et suscipit\\nsuscipit recusandae consequuntur expedita et cum\\nreprehenderit molestiae ut ut quas totam\\nnostrum rerum est autem sunt rem eveniet architecto',\n",
       "  'id': 1,\n",
       "  'title': 'sunt aut facere repellat provident occaecati excepturi optio reprehenderit',\n",
       "  'userId': 1},\n",
       " {'body': 'est rerum tempore vitae\\nsequi sint nihil reprehenderit dolor beatae ea dolores neque\\nfugiat blanditiis voluptate porro vel nihil molestiae ut reiciendis\\nqui aperiam non debitis possimus qui neque nisi nulla',\n",
       "  'id': 2,\n",
       "  'title': 'qui est esse',\n",
       "  'userId': 1},\n",
       " {'body': 'et iusto sed quo iure\\nvoluptatem occaecati omnis eligendi aut ad\\nvoluptatem doloribus vel accusantium quis pariatur\\nmolestiae porro eius odio et labore et velit aut',\n",
       "  'id': 3,\n",
       "  'title': 'ea molestias quasi exercitationem repellat qui ipsa sit aut',\n",
       "  'userId': 1},\n",
       " {'body': 'ullam et saepe reiciendis voluptatem adipisci\\nsit amet autem assumenda provident rerum culpa\\nquis hic commodi nesciunt rem tenetur doloremque ipsam iure\\nquis sunt voluptatem rerum illo velit',\n",
       "  'id': 4,\n",
       "  'title': 'eum et est occaecati',\n",
       "  'userId': 1},\n",
       " {'body': 'repudiandae veniam quaerat sunt sed\\nalias aut fugiat sit autem sed est\\nvoluptatem omnis possimus esse voluptatibus quis\\nest aut tenetur dolor neque',\n",
       "  'id': 5,\n",
       "  'title': 'nesciunt quas odio',\n",
       "  'userId': 1},\n",
       " {'body': 'ut aspernatur corporis harum nihil quis provident sequi\\nmollitia nobis aliquid molestiae\\nperspiciatis et ea nemo ab reprehenderit accusantium quas\\nvoluptate dolores velit et doloremque molestiae',\n",
       "  'id': 6,\n",
       "  'title': 'dolorem eum magni eos aperiam quia',\n",
       "  'userId': 1},\n",
       " {'body': 'dolore placeat quibusdam ea quo vitae\\nmagni quis enim qui quis quo nemo aut saepe\\nquidem repellat excepturi ut quia\\nsunt ut sequi eos ea sed quas',\n",
       "  'id': 7,\n",
       "  'title': 'magnam facilis autem',\n",
       "  'userId': 1},\n",
       " {'body': 'dignissimos aperiam dolorem qui eum\\nfacilis quibusdam animi sint suscipit qui sint possimus cum\\nquaerat magni maiores excepturi\\nipsam ut commodi dolor voluptatum modi aut vitae',\n",
       "  'id': 8,\n",
       "  'title': 'dolorem dolore est ipsam',\n",
       "  'userId': 1},\n",
       " {'body': 'consectetur animi nesciunt iure dolore\\nenim quia ad\\nveniam autem ut quam aut nobis\\net est aut quod aut provident voluptas autem voluptas',\n",
       "  'id': 9,\n",
       "  'title': 'nesciunt iure omnis dolorem tempora et accusantium',\n",
       "  'userId': 1},\n",
       " {'body': 'quo et expedita modi cum officia vel magni\\ndoloribus qui repudiandae\\nvero nisi sit\\nquos veniam quod sed accusamus veritatis error',\n",
       "  'id': 10,\n",
       "  'title': 'optio molestias id quia eum',\n",
       "  'userId': 1},\n",
       " {'body': 'delectus reiciendis molestiae occaecati non minima eveniet qui voluptatibus\\naccusamus in eum beatae sit\\nvel qui neque voluptates ut commodi qui incidunt\\nut animi commodi',\n",
       "  'id': 11,\n",
       "  'title': 'et ea vero quia laudantium autem',\n",
       "  'userId': 2},\n",
       " {'body': 'itaque id aut magnam\\npraesentium quia et ea odit et ea voluptas et\\nsapiente quia nihil amet occaecati quia id voluptatem\\nincidunt ea est distinctio odio',\n",
       "  'id': 12,\n",
       "  'title': 'in quibusdam tempore odit est dolorem',\n",
       "  'userId': 2},\n",
       " {'body': 'aut dicta possimus sint mollitia voluptas commodi quo doloremque\\niste corrupti reiciendis voluptatem eius rerum\\nsit cumque quod eligendi laborum minima\\nperferendis recusandae assumenda consectetur porro architecto ipsum ipsam',\n",
       "  'id': 13,\n",
       "  'title': 'dolorum ut in voluptas mollitia et saepe quo animi',\n",
       "  'userId': 2},\n",
       " {'body': 'fuga et accusamus dolorum perferendis illo voluptas\\nnon doloremque neque facere\\nad qui dolorum molestiae beatae\\nsed aut voluptas totam sit illum',\n",
       "  'id': 14,\n",
       "  'title': 'voluptatem eligendi optio',\n",
       "  'userId': 2},\n",
       " {'body': 'reprehenderit quos placeat\\nvelit minima officia dolores impedit repudiandae molestiae nam\\nvoluptas recusandae quis delectus\\nofficiis harum fugiat vitae',\n",
       "  'id': 15,\n",
       "  'title': 'eveniet quod temporibus',\n",
       "  'userId': 2},\n",
       " {'body': 'suscipit nam nisi quo aperiam aut\\nasperiores eos fugit maiores voluptatibus quia\\nvoluptatem quis ullam qui in alias quia est\\nconsequatur magni mollitia accusamus ea nisi voluptate dicta',\n",
       "  'id': 16,\n",
       "  'title': 'sint suscipit perspiciatis velit dolorum rerum ipsa laboriosam odio',\n",
       "  'userId': 2},\n",
       " {'body': 'eos voluptas et aut odit natus earum\\naspernatur fuga molestiae ullam\\ndeserunt ratione qui eos\\nqui nihil ratione nemo velit ut aut id quo',\n",
       "  'id': 17,\n",
       "  'title': 'fugit voluptas sed molestias voluptatem provident',\n",
       "  'userId': 2},\n",
       " {'body': 'eveniet quo quis\\nlaborum totam consequatur non dolor\\nut et est repudiandae\\nest voluptatem vel debitis et magnam',\n",
       "  'id': 18,\n",
       "  'title': 'voluptate et itaque vero tempora molestiae',\n",
       "  'userId': 2},\n",
       " {'body': 'illum quis cupiditate provident sit magnam\\nea sed aut omnis\\nveniam maiores ullam consequatur atque\\nadipisci quo iste expedita sit quos voluptas',\n",
       "  'id': 19,\n",
       "  'title': 'adipisci placeat illum aut reiciendis qui',\n",
       "  'userId': 2},\n",
       " {'body': 'qui consequuntur ducimus possimus quisquam amet similique\\nsuscipit porro ipsam amet\\neos veritatis officiis exercitationem vel fugit aut necessitatibus totam\\nomnis rerum consequatur expedita quidem cumque explicabo',\n",
       "  'id': 20,\n",
       "  'title': 'doloribus ad provident suscipit at',\n",
       "  'userId': 2},\n",
       " {'body': 'repellat aliquid praesentium dolorem quo\\nsed totam minus non itaque\\nnihil labore molestiae sunt dolor eveniet hic recusandae veniam\\ntempora et tenetur expedita sunt',\n",
       "  'id': 21,\n",
       "  'title': 'asperiores ea ipsam voluptatibus modi minima quia sint',\n",
       "  'userId': 3},\n",
       " {'body': 'eos qui et ipsum ipsam suscipit aut\\nsed omnis non odio\\nexpedita earum mollitia molestiae aut atque rem suscipit\\nnam impedit esse',\n",
       "  'id': 22,\n",
       "  'title': 'dolor sint quo a velit explicabo quia nam',\n",
       "  'userId': 3},\n",
       " {'body': 'veritatis unde neque eligendi\\nquae quod architecto quo neque vitae\\nest illo sit tempora doloremque fugit quod\\net et vel beatae sequi ullam sed tenetur perspiciatis',\n",
       "  'id': 23,\n",
       "  'title': 'maxime id vitae nihil numquam',\n",
       "  'userId': 3},\n",
       " {'body': 'enim et ex nulla\\nomnis voluptas quia qui\\nvoluptatem consequatur numquam aliquam sunt\\ntotam recusandae id dignissimos aut sed asperiores deserunt',\n",
       "  'id': 24,\n",
       "  'title': 'autem hic labore sunt dolores incidunt',\n",
       "  'userId': 3},\n",
       " {'body': 'ullam consequatur ut\\nomnis quis sit vel consequuntur\\nipsa eligendi ipsum molestiae et omnis error nostrum\\nmolestiae illo tempore quia et distinctio',\n",
       "  'id': 25,\n",
       "  'title': 'rem alias distinctio quo quis',\n",
       "  'userId': 3},\n",
       " {'body': 'similique esse doloribus nihil accusamus\\nomnis dolorem fuga consequuntur reprehenderit fugit recusandae temporibus\\nperspiciatis cum ut laudantium\\nomnis aut molestiae vel vero',\n",
       "  'id': 26,\n",
       "  'title': 'est et quae odit qui non',\n",
       "  'userId': 3},\n",
       " {'body': 'eum sed dolores ipsam sint possimus debitis occaecati\\ndebitis qui qui et\\nut placeat enim earum aut odit facilis\\nconsequatur suscipit necessitatibus rerum sed inventore temporibus consequatur',\n",
       "  'id': 27,\n",
       "  'title': 'quasi id et eos tenetur aut quo autem',\n",
       "  'userId': 3},\n",
       " {'body': 'non et quaerat ex quae ad maiores\\nmaiores recusandae totam aut blanditiis mollitia quas illo\\nut voluptatibus voluptatem\\nsimilique nostrum eum',\n",
       "  'id': 28,\n",
       "  'title': 'delectus ullam et corporis nulla voluptas sequi',\n",
       "  'userId': 3},\n",
       " {'body': 'odit magnam ut saepe sed non qui\\ntempora atque nihil\\naccusamus illum doloribus illo dolor\\neligendi repudiandae odit magni similique sed cum maiores',\n",
       "  'id': 29,\n",
       "  'title': 'iusto eius quod necessitatibus culpa ea',\n",
       "  'userId': 3},\n",
       " {'body': 'alias dolor cumque\\nimpedit blanditiis non eveniet odio maxime\\nblanditiis amet eius quis tempora quia autem rem\\na provident perspiciatis quia',\n",
       "  'id': 30,\n",
       "  'title': 'a quo magni similique perferendis',\n",
       "  'userId': 3},\n",
       " {'body': 'debitis eius sed quibusdam non quis consectetur vitae\\nimpedit ut qui consequatur sed aut in\\nquidem sit nostrum et maiores adipisci atque\\nquaerat voluptatem adipisci repudiandae',\n",
       "  'id': 31,\n",
       "  'title': 'ullam ut quidem id aut vel consequuntur',\n",
       "  'userId': 4},\n",
       " {'body': 'deserunt eos nobis asperiores et hic\\nest debitis repellat molestiae optio\\nnihil ratione ut eos beatae quibusdam distinctio maiores\\nearum voluptates et aut adipisci ea maiores voluptas maxime',\n",
       "  'id': 32,\n",
       "  'title': 'doloremque illum aliquid sunt',\n",
       "  'userId': 4},\n",
       " {'body': 'rerum ut et numquam laborum odit est sit\\nid qui sint in\\nquasi tenetur tempore aperiam et quaerat qui in\\nrerum officiis sequi cumque quod',\n",
       "  'id': 33,\n",
       "  'title': 'qui explicabo molestiae dolorem',\n",
       "  'userId': 4},\n",
       " {'body': 'ea velit perferendis earum ut voluptatem voluptate itaque iusto\\ntotam pariatur in\\nnemo voluptatem voluptatem autem magni tempora minima in\\nest distinctio qui assumenda accusamus dignissimos officia nesciunt nobis',\n",
       "  'id': 34,\n",
       "  'title': 'magnam ut rerum iure',\n",
       "  'userId': 4},\n",
       " {'body': 'nisi error delectus possimus ut eligendi vitae\\nplaceat eos harum cupiditate facilis reprehenderit voluptatem beatae\\nmodi ducimus quo illum voluptas eligendi\\net nobis quia fugit',\n",
       "  'id': 35,\n",
       "  'title': 'id nihil consequatur molestias animi provident',\n",
       "  'userId': 4},\n",
       " {'body': 'ad mollitia et omnis minus architecto odit\\nvoluptas doloremque maxime aut non ipsa qui alias veniam\\nblanditiis culpa aut quia nihil cumque facere et occaecati\\nqui aspernatur quia eaque ut aperiam inventore',\n",
       "  'id': 36,\n",
       "  'title': 'fuga nam accusamus voluptas reiciendis itaque',\n",
       "  'userId': 4},\n",
       " {'body': 'debitis et eaque non officia sed nesciunt pariatur vel\\nvoluptatem iste vero et ea\\nnumquam aut expedita ipsum nulla in\\nvoluptates omnis consequatur aut enim officiis in quam qui',\n",
       "  'id': 37,\n",
       "  'title': 'provident vel ut sit ratione est',\n",
       "  'userId': 4},\n",
       " {'body': 'animi esse sit aut sit nesciunt assumenda eum voluptas\\nquia voluptatibus provident quia necessitatibus ea\\nrerum repudiandae quia voluptatem delectus fugit aut id quia\\nratione optio eos iusto veniam iure',\n",
       "  'id': 38,\n",
       "  'title': 'explicabo et eos deleniti nostrum ab id repellendus',\n",
       "  'userId': 4},\n",
       " {'body': 'corporis rerum ducimus vel eum accusantium\\nmaxime aspernatur a porro possimus iste omnis\\nest in deleniti asperiores fuga aut\\nvoluptas sapiente vel dolore minus voluptatem incidunt ex',\n",
       "  'id': 39,\n",
       "  'title': 'eos dolorem iste accusantium est eaque quam',\n",
       "  'userId': 4},\n",
       " {'body': 'ut voluptatum aliquid illo tenetur nemo sequi quo facilis\\nipsum rem optio mollitia quas\\nvoluptatem eum voluptas qui\\nunde omnis voluptatem iure quasi maxime voluptas nam',\n",
       "  'id': 40,\n",
       "  'title': 'enim quo cumque',\n",
       "  'userId': 4},\n",
       " {'body': 'molestias id nostrum\\nexcepturi molestiae dolore omnis repellendus quaerat saepe\\nconsectetur iste quaerat tenetur asperiores accusamus ex ut\\nnam quidem est ducimus sunt debitis saepe',\n",
       "  'id': 41,\n",
       "  'title': 'non est facere',\n",
       "  'userId': 5},\n",
       " {'body': 'odio fugit voluptatum ducimus earum autem est incidunt voluptatem\\nodit reiciendis aliquam sunt sequi nulla dolorem\\nnon facere repellendus voluptates quia\\nratione harum vitae ut',\n",
       "  'id': 42,\n",
       "  'title': 'commodi ullam sint et excepturi error explicabo praesentium voluptas',\n",
       "  'userId': 5},\n",
       " {'body': 'similique fugit est\\nillum et dolorum harum et voluptate eaque quidem\\nexercitationem quos nam commodi possimus cum odio nihil nulla\\ndolorum exercitationem magnam ex et a et distinctio debitis',\n",
       "  'id': 43,\n",
       "  'title': 'eligendi iste nostrum consequuntur adipisci praesentium sit beatae perferendis',\n",
       "  'userId': 5},\n",
       " {'body': 'temporibus est consectetur dolore\\net libero debitis vel velit laboriosam quia\\nipsum quibusdam qui itaque fuga rem aut\\nea et iure quam sed maxime ut distinctio quae',\n",
       "  'id': 44,\n",
       "  'title': 'optio dolor molestias sit',\n",
       "  'userId': 5},\n",
       " {'body': 'est natus reiciendis nihil possimus aut provident\\nex et dolor\\nrepellat pariatur est\\nnobis rerum repellendus dolorem autem',\n",
       "  'id': 45,\n",
       "  'title': 'ut numquam possimus omnis eius suscipit laudantium iure',\n",
       "  'userId': 5},\n",
       " {'body': 'voluptatem quisquam iste\\nvoluptatibus natus officiis facilis dolorem\\nquis quas ipsam\\nvel et voluptatum in aliquid',\n",
       "  'id': 46,\n",
       "  'title': 'aut quo modi neque nostrum ducimus',\n",
       "  'userId': 5},\n",
       " {'body': 'voluptatem assumenda ut qui ut cupiditate aut impedit veniam\\noccaecati nemo illum voluptatem laudantium\\nmolestiae beatae rerum ea iure soluta nostrum\\neligendi et voluptate',\n",
       "  'id': 47,\n",
       "  'title': 'quibusdam cumque rem aut deserunt',\n",
       "  'userId': 5},\n",
       " {'body': 'voluptates quo voluptatem facilis iure occaecati\\nvel assumenda rerum officia et\\nillum perspiciatis ab deleniti\\nlaudantium repellat ad ut et autem reprehenderit',\n",
       "  'id': 48,\n",
       "  'title': 'ut voluptatem illum ea doloribus itaque eos',\n",
       "  'userId': 5},\n",
       " {'body': 'inventore ab sint\\nnatus fugit id nulla sequi architecto nihil quaerat\\neos tenetur in in eum veritatis non\\nquibusdam officiis aspernatur cumque aut commodi aut',\n",
       "  'id': 49,\n",
       "  'title': 'laborum non sunt aut ut assumenda perspiciatis voluptas',\n",
       "  'userId': 5},\n",
       " {'body': 'error suscipit maxime adipisci consequuntur recusandae\\nvoluptas eligendi et est et voluptates\\nquia distinctio ab amet quaerat molestiae et vitae\\nadipisci impedit sequi nesciunt quis consectetur',\n",
       "  'id': 50,\n",
       "  'title': 'repellendus qui recusandae incidunt voluptates tenetur qui omnis exercitationem',\n",
       "  'userId': 5},\n",
       " {'body': 'sunt dolores aut doloribus\\ndolore doloribus voluptates tempora et\\ndoloremque et quo\\ncum asperiores sit consectetur dolorem',\n",
       "  'id': 51,\n",
       "  'title': 'soluta aliquam aperiam consequatur illo quis voluptas',\n",
       "  'userId': 6},\n",
       " {'body': 'iusto est quibusdam fuga quas quaerat molestias\\na enim ut sit accusamus enim\\ntemporibus iusto accusantium provident architecto\\nsoluta esse reprehenderit qui laborum',\n",
       "  'id': 52,\n",
       "  'title': 'qui enim et consequuntur quia animi quis voluptate quibusdam',\n",
       "  'userId': 6},\n",
       " {'body': 'minima harum praesentium eum rerum illo dolore\\nquasi exercitationem rerum nam\\nporro quis neque quo\\nconsequatur minus dolor quidem veritatis sunt non explicabo similique',\n",
       "  'id': 53,\n",
       "  'title': 'ut quo aut ducimus alias',\n",
       "  'userId': 6},\n",
       " {'body': 'totam corporis dignissimos\\nvitae dolorem ut occaecati accusamus\\nex velit deserunt\\net exercitationem vero incidunt corrupti mollitia',\n",
       "  'id': 54,\n",
       "  'title': 'sit asperiores ipsam eveniet odio non quia',\n",
       "  'userId': 6},\n",
       " {'body': 'debitis excepturi ea perferendis harum libero optio\\neos accusamus cum fuga ut sapiente repudiandae\\net ut incidunt omnis molestiae\\nnihil ut eum odit',\n",
       "  'id': 55,\n",
       "  'title': 'sit vel voluptatem et non libero',\n",
       "  'userId': 6},\n",
       " {'body': 'aut est omnis dolores\\nneque rerum quod ea rerum velit pariatur beatae excepturi\\net provident voluptas corrupti\\ncorporis harum reprehenderit dolores eligendi',\n",
       "  'id': 56,\n",
       "  'title': 'qui et at rerum necessitatibus',\n",
       "  'userId': 6},\n",
       " {'body': 'at pariatur consequuntur earum quidem\\nquo est laudantium soluta voluptatem\\nqui ullam et est\\net cum voluptas voluptatum repellat est',\n",
       "  'id': 57,\n",
       "  'title': 'sed ab est est',\n",
       "  'userId': 6},\n",
       " {'body': 'veniam voluptatum quae adipisci id\\net id quia eos ad et dolorem\\naliquam quo nisi sunt eos impedit error\\nad similique veniam',\n",
       "  'id': 58,\n",
       "  'title': 'voluptatum itaque dolores nisi et quasi',\n",
       "  'userId': 6},\n",
       " {'body': 'perspiciatis et quam ea autem temporibus non voluptatibus qui\\nbeatae a earum officia nesciunt dolores suscipit voluptas et\\nanimi doloribus cum rerum quas et magni\\net hic ut ut commodi expedita sunt',\n",
       "  'id': 59,\n",
       "  'title': 'qui commodi dolor at maiores et quis id accusantium',\n",
       "  'userId': 6},\n",
       " {'body': 'asperiores sunt ab assumenda cumque modi velit\\nqui esse omnis\\nvoluptate et fuga perferendis voluptas\\nillo ratione amet aut et omnis',\n",
       "  'id': 60,\n",
       "  'title': 'consequatur placeat omnis quisquam quia reprehenderit fugit veritatis facere',\n",
       "  'userId': 6},\n",
       " {'body': 'ab nemo optio odio\\ndelectus tenetur corporis similique nobis repellendus rerum omnis facilis\\nvero blanditiis debitis in nesciunt doloribus dicta dolores\\nmagnam minus velit',\n",
       "  'id': 61,\n",
       "  'title': 'voluptatem doloribus consectetur est ut ducimus',\n",
       "  'userId': 7},\n",
       " {'body': 'enim aspernatur illo distinctio quae praesentium\\nbeatae alias amet delectus qui voluptate distinctio\\nodit sint accusantium autem omnis\\nquo molestiae omnis ea eveniet optio',\n",
       "  'id': 62,\n",
       "  'title': 'beatae enim quia vel',\n",
       "  'userId': 7},\n",
       " {'body': 'enim adipisci aspernatur nemo\\nnumquam omnis facere dolorem dolor ex quis temporibus incidunt\\nab delectus culpa quo reprehenderit blanditiis asperiores\\naccusantium ut quam in voluptatibus voluptas ipsam dicta',\n",
       "  'id': 63,\n",
       "  'title': 'voluptas blanditiis repellendus animi ducimus error sapiente et suscipit',\n",
       "  'userId': 7},\n",
       " {'body': 'id velit blanditiis\\neum ea voluptatem\\nmolestiae sint occaecati est eos perspiciatis\\nincidunt a error provident eaque aut aut qui',\n",
       "  'id': 64,\n",
       "  'title': 'et fugit quas eum in in aperiam quod',\n",
       "  'userId': 7},\n",
       " {'body': 'voluptatibus ex esse\\nsint explicabo est aliquid cumque adipisci fuga repellat labore\\nmolestiae corrupti ex saepe at asperiores et perferendis\\nnatus id esse incidunt pariatur',\n",
       "  'id': 65,\n",
       "  'title': 'consequatur id enim sunt et et',\n",
       "  'userId': 7},\n",
       " {'body': 'officia veritatis tenetur vero qui itaque\\nsint non ratione\\nsed et ut asperiores iusto eos molestiae nostrum\\nveritatis quibusdam et nemo iusto saepe',\n",
       "  'id': 66,\n",
       "  'title': 'repudiandae ea animi iusto',\n",
       "  'userId': 7},\n",
       " {'body': 'reprehenderit id nostrum\\nvoluptas doloremque pariatur sint et accusantium quia quod aspernatur\\net fugiat amet\\nnon sapiente et consequatur necessitatibus molestiae',\n",
       "  'id': 67,\n",
       "  'title': 'aliquid eos sed fuga est maxime repellendus',\n",
       "  'userId': 7},\n",
       " {'body': 'magnam molestiae perferendis quisquam\\nqui cum reiciendis\\nquaerat animi amet hic inventore\\nea quia deleniti quidem saepe porro velit',\n",
       "  'id': 68,\n",
       "  'title': 'odio quis facere architecto reiciendis optio',\n",
       "  'userId': 7},\n",
       " {'body': 'officiis error culpa consequatur modi asperiores et\\ndolorum assumenda voluptas et vel qui aut vel rerum\\nvoluptatum quisquam perspiciatis quia rerum consequatur totam quas\\nsequi commodi repudiandae asperiores et saepe a',\n",
       "  'id': 69,\n",
       "  'title': 'fugiat quod pariatur odit minima',\n",
       "  'userId': 7},\n",
       " {'body': 'sunt repellendus quae\\nest asperiores aut deleniti esse accusamus repellendus quia aut\\nquia dolorem unde\\neum tempora esse dolore',\n",
       "  'id': 70,\n",
       "  'title': 'voluptatem laborum magni',\n",
       "  'userId': 7},\n",
       " {'body': 'occaecati a doloribus\\niste saepe consectetur placeat eum voluptate dolorem et\\nqui quo quia voluptas\\nrerum ut id enim velit est perferendis',\n",
       "  'id': 71,\n",
       "  'title': 'et iusto veniam et illum aut fuga',\n",
       "  'userId': 8},\n",
       " {'body': 'quam occaecati qui deleniti consectetur\\nconsequatur aut facere quas exercitationem aliquam hic voluptas\\nneque id sunt ut aut accusamus\\nsunt consectetur expedita inventore velit',\n",
       "  'id': 72,\n",
       "  'title': 'sint hic doloribus consequatur eos non id',\n",
       "  'userId': 8},\n",
       " {'body': 'voluptatem cumque tenetur consequatur expedita ipsum nemo quia explicabo\\naut eum minima consequatur\\ntempore cumque quae est et\\net in consequuntur voluptatem voluptates aut',\n",
       "  'id': 73,\n",
       "  'title': 'consequuntur deleniti eos quia temporibus ab aliquid at',\n",
       "  'userId': 8},\n",
       " {'body': 'odit qui et et necessitatibus sint veniam\\nmollitia amet doloremque molestiae commodi similique magnam et quam\\nblanditiis est itaque\\nquo et tenetur ratione occaecati molestiae tempora',\n",
       "  'id': 74,\n",
       "  'title': 'enim unde ratione doloribus quas enim ut sit sapiente',\n",
       "  'userId': 8},\n",
       " {'body': 'commodi non non omnis et voluptas sit\\nautem aut nobis magnam et sapiente voluptatem\\net laborum repellat qui delectus facilis temporibus\\nrerum amet et nemo voluptate expedita adipisci error dolorem',\n",
       "  'id': 75,\n",
       "  'title': 'dignissimos eum dolor ut enim et delectus in',\n",
       "  'userId': 8},\n",
       " {'body': 'ut animi facere\\ntotam iusto tempore\\nmolestiae eum aut et dolorem aperiam\\nquaerat recusandae totam odio',\n",
       "  'id': 76,\n",
       "  'title': 'doloremque officiis ad et non perferendis',\n",
       "  'userId': 8},\n",
       " {'body': 'modi ut in nulla repudiandae dolorum nostrum eos\\naut consequatur omnis\\nut incidunt est omnis iste et quam\\nvoluptates sapiente aliquam asperiores nobis amet corrupti repudiandae provident',\n",
       "  'id': 77,\n",
       "  'title': 'necessitatibus quasi exercitationem odio',\n",
       "  'userId': 8},\n",
       " {'body': 'nobis facilis odit tempore cupiditate quia\\nassumenda doloribus rerum qui ea\\nillum et qui totam\\naut veniam repellendus',\n",
       "  'id': 78,\n",
       "  'title': 'quam voluptatibus rerum veritatis',\n",
       "  'userId': 8},\n",
       " {'body': 'libero accusantium et et facere incidunt sit dolorem\\nnon excepturi qui quia sed laudantium\\nquisquam molestiae ducimus est\\nofficiis esse molestiae iste et quos',\n",
       "  'id': 79,\n",
       "  'title': 'pariatur consequatur quia magnam autem omnis non amet',\n",
       "  'userId': 8},\n",
       " {'body': 'ex quod dolorem ea eum iure qui provident amet\\nquia qui facere excepturi et repudiandae\\nasperiores molestias provident\\nminus incidunt vero fugit rerum sint sunt excepturi provident',\n",
       "  'id': 80,\n",
       "  'title': 'labore in ex et explicabo corporis aut quas',\n",
       "  'userId': 8},\n",
       " {'body': 'facere qui nesciunt est voluptatum voluptatem nisi\\nsequi eligendi necessitatibus ea at rerum itaque\\nharum non ratione velit laboriosam quis consequuntur\\nex officiis minima doloremque voluptas ut aut',\n",
       "  'id': 81,\n",
       "  'title': 'tempora rem veritatis voluptas quo dolores vero',\n",
       "  'userId': 9},\n",
       " {'body': 'ut libero sit aut totam inventore sunt\\nporro sint qui sunt molestiae\\nconsequatur cupiditate qui iste ducimus adipisci\\ndolor enim assumenda soluta laboriosam amet iste delectus hic',\n",
       "  'id': 82,\n",
       "  'title': 'laudantium voluptate suscipit sunt enim enim',\n",
       "  'userId': 9},\n",
       " {'body': 'est molestiae facilis quis tempora numquam nihil qui\\nvoluptate sapiente consequatur est qui\\nnecessitatibus autem aut ipsa aperiam modi dolore numquam\\nreprehenderit eius rem quibusdam',\n",
       "  'id': 83,\n",
       "  'title': 'odit et voluptates doloribus alias odio et',\n",
       "  'userId': 9},\n",
       " {'body': 'sint molestiae magni a et quos\\neaque et quasi\\nut rerum debitis similique veniam\\nrecusandae dignissimos dolor incidunt consequatur odio',\n",
       "  'id': 84,\n",
       "  'title': 'optio ipsam molestias necessitatibus occaecati facilis veritatis dolores aut',\n",
       "  'userId': 9},\n",
       " {'body': 'similique sed nisi voluptas iusto omnis\\nmollitia et quo\\nassumenda suscipit officia magnam sint sed tempora\\nenim provident pariatur praesentium atque animi amet ratione',\n",
       "  'id': 85,\n",
       "  'title': 'dolore veritatis porro provident adipisci blanditiis et sunt',\n",
       "  'userId': 9},\n",
       " {'body': 'quasi excepturi consequatur iste autem temporibus sed molestiae beatae\\net quaerat et esse ut\\nvoluptatem occaecati et vel explicabo autem\\nasperiores pariatur deserunt optio',\n",
       "  'id': 86,\n",
       "  'title': 'placeat quia et porro iste',\n",
       "  'userId': 9},\n",
       " {'body': 'eos et molestiae\\nnesciunt ut a\\ndolores perspiciatis repellendus repellat aliquid\\nmagnam sint rem ipsum est',\n",
       "  'id': 87,\n",
       "  'title': 'nostrum quis quasi placeat',\n",
       "  'userId': 9},\n",
       " {'body': 'consequatur omnis est praesentium\\nducimus non iste\\nneque hic deserunt\\nvoluptatibus veniam cum et rerum sed',\n",
       "  'id': 88,\n",
       "  'title': 'sapiente omnis fugit eos',\n",
       "  'userId': 9},\n",
       " {'body': 'repellat aut aperiam totam temporibus autem et\\narchitecto magnam ut\\nconsequatur qui cupiditate rerum quia soluta dignissimos nihil iure\\ntempore quas est',\n",
       "  'id': 89,\n",
       "  'title': 'sint soluta et vel magnam aut ut sed qui',\n",
       "  'userId': 9},\n",
       " {'body': 'minus omnis soluta quia\\nqui sed adipisci voluptates illum ipsam voluptatem\\neligendi officia ut in\\neos soluta similique molestias praesentium blanditiis',\n",
       "  'id': 90,\n",
       "  'title': 'ad iusto omnis odit dolor voluptatibus',\n",
       "  'userId': 9},\n",
       " {'body': 'libero voluptate eveniet aperiam sed\\nsunt placeat suscipit molestias\\nsimilique fugit nam natus\\nexpedita consequatur consequatur dolores quia eos et placeat',\n",
       "  'id': 91,\n",
       "  'title': 'aut amet sed',\n",
       "  'userId': 10},\n",
       " {'body': 'aut et excepturi dicta laudantium sint rerum nihil\\nlaudantium et at\\na neque minima officia et similique libero et\\ncommodi voluptate qui',\n",
       "  'id': 92,\n",
       "  'title': 'ratione ex tenetur perferendis',\n",
       "  'userId': 10},\n",
       " {'body': 'dolorem quibusdam ducimus consequuntur dicta aut quo laboriosam\\nvoluptatem quis enim recusandae ut sed sunt\\nnostrum est odit totam\\nsit error sed sunt eveniet provident qui nulla',\n",
       "  'id': 93,\n",
       "  'title': 'beatae soluta recusandae',\n",
       "  'userId': 10},\n",
       " {'body': 'aspernatur expedita soluta quo ab ut similique\\nexpedita dolores amet\\nsed temporibus distinctio magnam saepe deleniti\\nomnis facilis nam ipsum natus sint similique omnis',\n",
       "  'id': 94,\n",
       "  'title': 'qui qui voluptates illo iste minima',\n",
       "  'userId': 10},\n",
       " {'body': 'earum voluptatem facere provident blanditiis velit laboriosam\\npariatur accusamus odio saepe\\ncumque dolor qui a dicta ab doloribus consequatur omnis\\ncorporis cupiditate eaque assumenda ad nesciunt',\n",
       "  'id': 95,\n",
       "  'title': 'id minus libero illum nam ad officiis',\n",
       "  'userId': 10},\n",
       " {'body': 'in non odio excepturi sint eum\\nlabore voluptates vitae quia qui et\\ninventore itaque rerum\\nveniam non exercitationem delectus aut',\n",
       "  'id': 96,\n",
       "  'title': 'quaerat velit veniam amet cupiditate aut numquam ut sequi',\n",
       "  'userId': 10},\n",
       " {'body': 'eum non blanditiis soluta porro quibusdam voluptas\\nvel voluptatem qui placeat dolores qui velit aut\\nvel inventore aut cumque culpa explicabo aliquid at\\nperspiciatis est et voluptatem dignissimos dolor itaque sit nam',\n",
       "  'id': 97,\n",
       "  'title': 'quas fugiat ut perspiciatis vero provident',\n",
       "  'userId': 10},\n",
       " {'body': 'doloremque ex facilis sit sint culpa\\nsoluta assumenda eligendi non ut eius\\nsequi ducimus vel quasi\\nveritatis est dolores',\n",
       "  'id': 98,\n",
       "  'title': 'laboriosam dolor voluptates',\n",
       "  'userId': 10},\n",
       " {'body': 'quo deleniti praesentium dicta non quod\\naut est molestias\\nmolestias et officia quis nihil\\nitaque dolorem quia',\n",
       "  'id': 99,\n",
       "  'title': 'temporibus sit alias delectus eligendi possimus magni',\n",
       "  'userId': 10},\n",
       " {'body': 'cupiditate quo est a modi nesciunt soluta\\nipsa voluptas error itaque dicta in\\nautem qui minus magnam et distinctio eum\\naccusamus ratione error aut',\n",
       "  'id': 100,\n",
       "  'title': 'at nam consequatur ea labore ea harum',\n",
       "  'userId': 10}]"
      ]
     },
     "execution_count": 12,
     "metadata": {},
     "output_type": "execute_result"
    }
   ],
   "source": [
    "uploads_json"
   ]
  },
  {
   "cell_type": "markdown",
   "metadata": {},
   "source": [
    "* * * *"
   ]
  },
  {
   "cell_type": "markdown",
   "metadata": {},
   "source": [
    "### Transform"
   ]
  },
  {
   "cell_type": "markdown",
   "metadata": {},
   "source": [
    "It is important to ensure that it is in the correct format. The JSON objects created in the code above are nested, and contain more data than is requred fro the tables defined\n",
    "\n",
    "Intermediary step **Data Tranformation** is important for the current nested JSONN format, so that the flat format can be safely written to the database without error"
   ]
  },
  {
   "cell_type": "markdown",
   "metadata": {},
   "source": [
    "The code below creates two lists, `users` and `uploads`"
   ]
  },
  {
   "cell_type": "code",
   "execution_count": 13,
   "metadata": {},
   "outputs": [],
   "source": [
    "from datetime import datetime, timedelta\n",
    "from random import randint"
   ]
  },
  {
   "cell_type": "code",
   "execution_count": 14,
   "metadata": {},
   "outputs": [],
   "source": [
    "users = []\n",
    "uploads = []"
   ]
  },
  {
   "cell_type": "code",
   "execution_count": 15,
   "metadata": {},
   "outputs": [],
   "source": [
    "for i, result in enumerate(users_json['results']):\n",
    "    row = {}\n",
    "    row['UserId'] = i\n",
    "    row['Title'] = result['name']['title']\n",
    "    row['FirstName'] = result['name']['first']\n",
    "    row['LastName'] = result['name']['last']\n",
    "    row['Email'] = result['email']\n",
    "    row['UserName'] = result['login']['username']\n",
    "    dob = datetime.strptime(result['dob'], '%Y-%m-%d %H:%M:%S')\n",
    "    row['DOB'] = dob.date()\n",
    "    users.append(row)"
   ]
  },
  {
   "cell_type": "code",
   "execution_count": 16,
   "metadata": {},
   "outputs": [],
   "source": [
    "for result in uploads_json:\n",
    "    row = {}\n",
    "    row['UploadId'] = result['id']\n",
    "    row['UserId'] = result['userId']\n",
    "    row['Title'] = result['title']\n",
    "    row['Body'] = result['body']\n",
    "    delta = timedelta(seconds=randint(1, 86400))\n",
    "    row['Timestamp'] = datetime.now() - delta\n",
    "    uploads.append(row)"
   ]
  },
  {
   "cell_type": "code",
   "execution_count": 21,
   "metadata": {},
   "outputs": [],
   "source": [
    "users[0]['UserId'] = 10"
   ]
  },
  {
   "cell_type": "markdown",
   "metadata": {},
   "source": [
    "The main goal for the for loops is to iterate through the JSON objects. For each result, create a new Python dictionary object with keys corresponding to each column defined for the relevant table in the schema. This ensures that the data is no longer nested but keeps only the data we need for the database tables\n",
    "\n",
    "The other step is to use Python's `datetime` module to parse dates and transform them into `DateTime` type objects that can be written to the databse. For the sake of this example, random `DataTime` objects are generated using the timedelta() method.\n",
    "\n",
    "Each creaed dictionary is appended to a list"
   ]
  },
  {
   "cell_type": "markdown",
   "metadata": {},
   "source": [
    "* * * *"
   ]
  },
  {
   "cell_type": "markdown",
   "metadata": {},
   "source": [
    "### Load"
   ]
  },
  {
   "cell_type": "markdown",
   "metadata": {},
   "source": [
    "Finally, the data is in a form that can be loaded into the database. SQLAlchemy makes this step straightforward through its Session API\n",
    "\n",
    "The Session API acts a bit like a middleman, or \"holding zone,\" for Python objects you have either loaded from or associated with the database. These objects can be manipulated within the session before being committed to the database:"
   ]
  },
  {
   "cell_type": "markdown",
   "metadata": {},
   "source": [
    "`sessionmaker` is used to generate newly-configured `Session` classes"
   ]
  },
  {
   "cell_type": "code",
   "execution_count": 22,
   "metadata": {},
   "outputs": [],
   "source": [
    "Session = sessionmaker(bind=engine)\n",
    "session = Session()"
   ]
  },
  {
   "cell_type": "markdown",
   "metadata": {},
   "source": [
    "Next up are two loops which iterate through the `users` and `uploads` lists. The dictionary objects whose keys correspond to the columns given in the `Users` and `Uploads` classes defined previously. \n",
    "\n",
    "Each object is used to instantiate a new instance of the relevant class (using Python's `some_function(**some_dict**)` trick). The object is added to the current session with `session.add()`"
   ]
  },
  {
   "cell_type": "code",
   "execution_count": 23,
   "metadata": {},
   "outputs": [],
   "source": [
    "for user in users:\n",
    "    row = Users(**user)\n",
    "    session.add(row)"
   ]
  },
  {
   "cell_type": "code",
   "execution_count": 24,
   "metadata": {},
   "outputs": [],
   "source": [
    "for upload in uploads:\n",
    "    row = Uploads(**upload)\n",
    "    session.add(row)"
   ]
  },
  {
   "cell_type": "code",
   "execution_count": 25,
   "metadata": {},
   "outputs": [],
   "source": [
    "session.commit()"
   ]
  },
  {
   "cell_type": "markdown",
   "metadata": {},
   "source": [
    "Finally, when the session contains the rwos to be added, `session.commit()` is used to commit the transaction to the database."
   ]
  },
  {
   "cell_type": "markdown",
   "metadata": {},
   "source": [
    "* * * *"
   ]
  },
  {
   "cell_type": "markdown",
   "metadata": {},
   "source": [
    "Different versions of SQL have somewhat incompatible syntaxes, but AQLAlchemy's Expression Language acts as a lingua franca between them.\n",
    "\n",
    "Also, being able to query and interact with your database in a Python is a real advantage to developers whod'prefer working with Python. However, SQLAlchemy also lets you work in plain SQL, for cases when it is simpler to use a pre-written query."
   ]
  },
  {
   "cell_type": "markdown",
   "metadata": {},
   "source": [
    "### Aggregating"
   ]
  },
  {
   "cell_type": "markdown",
   "metadata": {},
   "source": [
    "Here, we'll create an aggregarted table, showing how many articles each user has posted, and the time they were last active."
   ]
  },
  {
   "cell_type": "code",
   "execution_count": 26,
   "metadata": {},
   "outputs": [],
   "source": [
    "class UploadCounts(Base):\n",
    "    __tablename__ = \"upload_counts\"\n",
    "    UserId = Column(Integer, primary_key=True)\n",
    "    LastActive = Column(DateTime)\n",
    "    PostCount = Column(Integer)"
   ]
  },
  {
   "cell_type": "code",
   "execution_count": 27,
   "metadata": {},
   "outputs": [],
   "source": [
    "UploadCounts.__table__.create(bind=engine, checkfirst=True)"
   ]
  },
  {
   "cell_type": "markdown",
   "metadata": {},
   "source": [
    "In plain SQL, this table would be poplulated using a query along th elines of :\n",
    "\n",
    "```\n",
    "INSERT INTO upload_counts\n",
    "SELECT\n",
    "    UserId,\n",
    "    MAX(Timestamp) AS LastActive,\n",
    "    COUNT(UploadId) AS PostCount\n",
    "FROM\n",
    "    uploads\n",
    "GROUP BY 1;\n",
    "```\n"
   ]
  },
  {
   "cell_type": "code",
   "execution_count": 28,
   "metadata": {},
   "outputs": [],
   "source": [
    "connection = engine.connect()"
   ]
  },
  {
   "cell_type": "markdown",
   "metadata": {},
   "source": [
    "The query is defined using the select() function\n",
    "\n",
    "This query is the same as the plain SQL version given above. \n",
    "- Selects the `UserId` column from the uploads table. \n",
    "- Applies `func.max()` to the Timestamp column, which identifies the most recent timestamp. \n",
    "    - Labelled `LastActive` using the label() method.\n",
    "- Applies `func.count()` to count the number of records that appear in the Title column. \n",
    "    - Labelled `PostCount` using the label() method.\n",
    "- Uses `group_by()` to group results by `UserID`"
   ]
  },
  {
   "cell_type": "code",
   "execution_count": 38,
   "metadata": {},
   "outputs": [],
   "source": [
    "query = select([Uploads.UserId,\n",
    "               func.max(Uploads.Timestamp).label('LastActive'),\n",
    "               func.count(Uploads.UploadId).label('PostCount')]).\\\n",
    "               group_by('UserId')"
   ]
  },
  {
   "cell_type": "markdown",
   "metadata": {},
   "source": [
    "To use the results of the query, a for loop iterates over the row objects returned by `connection.execute(query)`. "
   ]
  },
  {
   "cell_type": "code",
   "execution_count": 39,
   "metadata": {},
   "outputs": [],
   "source": [
    "results = connection.execute(query)"
   ]
  },
  {
   "cell_type": "code",
   "execution_count": 40,
   "metadata": {},
   "outputs": [],
   "source": [
    "for result in results:\n",
    "    row = UploadCounts(**result)\n",
    "    session.add(row)"
   ]
  },
  {
   "cell_type": "markdown",
   "metadata": {},
   "source": [
    "Each row is added to the `session` object, and finally the session is committed to the databse"
   ]
  },
  {
   "cell_type": "code",
   "execution_count": 41,
   "metadata": {},
   "outputs": [],
   "source": [
    "session.commit()"
   ]
  },
  {
   "cell_type": "code",
   "execution_count": 42,
   "metadata": {},
   "outputs": [],
   "source": [
    "session.close()"
   ]
  },
  {
   "cell_type": "markdown",
   "metadata": {},
   "source": [
    "* * * *"
   ]
  }
 ],
 "metadata": {
  "kernelspec": {
   "display_name": "Python 3",
   "language": "python",
   "name": "python3"
  },
  "language_info": {
   "codemirror_mode": {
    "name": "ipython",
    "version": 3
   },
   "file_extension": ".py",
   "mimetype": "text/x-python",
   "name": "python",
   "nbconvert_exporter": "python",
   "pygments_lexer": "ipython3",
   "version": "3.6.2"
  }
 },
 "nbformat": 4,
 "nbformat_minor": 2
}
