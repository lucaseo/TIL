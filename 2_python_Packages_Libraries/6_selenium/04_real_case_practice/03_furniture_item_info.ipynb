{
 "cells": [
  {
   "cell_type": "code",
   "execution_count": 29,
   "metadata": {},
   "outputs": [],
   "source": [
    "from selenium import webdriver"
   ]
  },
  {
   "cell_type": "code",
   "execution_count": 30,
   "metadata": {},
   "outputs": [],
   "source": [
    "url = \"https://ohou.se/productions/feed?best=true&selling=true\""
   ]
  },
  {
   "cell_type": "code",
   "execution_count": 31,
   "metadata": {},
   "outputs": [],
   "source": [
    "driver = webdriver.Chrome()"
   ]
  },
  {
   "cell_type": "code",
   "execution_count": 32,
   "metadata": {},
   "outputs": [],
   "source": [
    "driver.get(url)"
   ]
  },
  {
   "cell_type": "code",
   "execution_count": 33,
   "metadata": {},
   "outputs": [],
   "source": [
    "top_100 = driver.find_elements_by_css_selector(\"#productions\")[0]"
   ]
  },
  {
   "cell_type": "code",
   "execution_count": 34,
   "metadata": {},
   "outputs": [
    {
     "data": {
      "text/plain": [
       "('[단독특가] Mary Bath Mat(규조토 발매트)_3colors_(칫솔꽂이/비누받침/트레이 추가)',\n",
       " '[기간한정] 액자테이블 베스트 25종 모음전')"
      ]
     },
     "execution_count": 34,
     "metadata": {},
     "output_type": "execute_result"
    }
   ],
   "source": [
    "titles_1 = top_100.find_elements_by_css_selector(\".production .contents .name\")[5].text\n",
    "titles_2 = top_100.find_elements_by_css_selector(\".production .contents .name\")[6].text\n",
    "titles_1,titles_2 "
   ]
  },
  {
   "cell_type": "code",
   "execution_count": 35,
   "metadata": {},
   "outputs": [
    {
     "data": {
      "text/plain": [
       "('25,800원', '20,900원')"
      ]
     },
     "execution_count": 35,
     "metadata": {},
     "output_type": "execute_result"
    }
   ],
   "source": [
    "real_cost_1 = top_100.find_elements_by_css_selector(\".production .contents .real_cost\")[5].text\n",
    "real_cost_2 = top_100.find_elements_by_css_selector(\".production .contents .real_cost\")[6].text\n",
    "real_cost_1, real_cost_2"
   ]
  },
  {
   "cell_type": "code",
   "execution_count": 36,
   "metadata": {},
   "outputs": [
    {
     "data": {
      "text/plain": [
       "('9,800원', '14,900원')"
      ]
     },
     "execution_count": 36,
     "metadata": {},
     "output_type": "execute_result"
    }
   ],
   "source": [
    "selling_cost_1 = top_100.find_elements_by_css_selector(\".production .contents .selling_cost\")[5].text\n",
    "selling_cost_2 = top_100.find_elements_by_css_selector(\".production .contents .selling_cost\")[6].text\n",
    "selling_cost_1, selling_cost_2"
   ]
  },
  {
   "cell_type": "code",
   "execution_count": null,
   "metadata": {},
   "outputs": [],
   "source": []
  }
 ],
 "metadata": {
  "kernelspec": {
   "display_name": "Python 3",
   "language": "python",
   "name": "python3"
  },
  "language_info": {
   "codemirror_mode": {
    "name": "ipython",
    "version": 3
   },
   "file_extension": ".py",
   "mimetype": "text/x-python",
   "name": "python",
   "nbconvert_exporter": "python",
   "pygments_lexer": "ipython3",
   "version": "3.6.2"
  }
 },
 "nbformat": 4,
 "nbformat_minor": 2
}
