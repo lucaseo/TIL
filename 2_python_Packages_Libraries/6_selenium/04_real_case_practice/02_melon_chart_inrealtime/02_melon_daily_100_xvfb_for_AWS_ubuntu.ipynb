{
 "cells": [
  {
   "cell_type": "code",
   "execution_count": 4,
   "metadata": {},
   "outputs": [
    {
     "name": "stderr",
     "output_type": "stream",
     "text": [
      "Exception ignored in: <bound method Service.__del__ of <selenium.webdriver.phantomjs.service.Service object at 0x106599198>>\n",
      "Traceback (most recent call last):\n",
      "  File \"/Library/Frameworks/Python.framework/Versions/3.6/lib/python3.6/site-packages/selenium/webdriver/common/service.py\", line 151, in __del__\n",
      "    self.stop()\n",
      "  File \"/Library/Frameworks/Python.framework/Versions/3.6/lib/python3.6/site-packages/selenium/webdriver/common/service.py\", line 123, in stop\n",
      "    if self.process is None:\n",
      "AttributeError: 'Service' object has no attribute 'process'\n"
     ]
    }
   ],
   "source": [
    "from selenium import webdriver\n",
    "import pandas as pd\n",
    "import datetime\n",
    "\n",
    "\n",
    "\n",
    "url_1 = \"https://www.melon.com/chart/day/index.htm\"\n",
    "url_2 = \"https://www.melon.com/chart/day/index.htm#params%5Bidx%5D=51\"\n",
    "\n",
    "def melon_daily_100():\n",
    "    \n",
    "    melon_day = pd.DataFrame(columns = [\"Ranking\", \"Song\", \"Artist\", \"Album\"])\n",
    "    \n",
    "    driver = webdriver.PhantomJS(\"/Users/Seoluca/Data_Analytics/Git/TIL/TIL/2_python_Packages_Libraries/06_selenium/01_reviewNote_selenium/phantomJS/phantomJS\")\n",
    "    \n",
    "    driver.get(url_1) \n",
    "    table_50 = driver.find_elements_by_css_selector(\"#tb_list tbody #lst50\")\n",
    "    \n",
    "    for table in table_50:\n",
    "\n",
    "        rank = table.find_element_by_css_selector(\".rank\").text\n",
    "        song = table.find_element_by_css_selector(\".wrap_song_info .ellipsis.rank01 a\").text\n",
    "        artist = table.find_element_by_css_selector(\".wrap_song_info .ellipsis.rank02 a\").text\n",
    "        album = table.find_element_by_css_selector(\".wrap_song_info .ellipsis.rank03 a\").text\n",
    "\n",
    "        data = {\"Ranking\" : rank, \n",
    "                \"Song\" : song, \n",
    "                \"Artist\" : artist, \n",
    "                \"Album\" : album, }\n",
    "\n",
    "        melon_day.loc[len(melon_day)] = data\n",
    "    \n",
    "    \n",
    "    \n",
    "    driver.get(url_2)\n",
    "    table_100 = driver.find_elements_by_css_selector(\"#tb_list tbody .lst100\")\n",
    "    \n",
    "    for table in table_100:\n",
    "\n",
    "        rank = table.find_element_by_css_selector(\".rank\").text\n",
    "        song = table.find_element_by_css_selector(\".wrap_song_info .ellipsis.rank01 a\").text\n",
    "        artist = table.find_element_by_css_selector(\".wrap_song_info .ellipsis.rank02 a\").text\n",
    "        album = table.find_element_by_css_selector(\".wrap_song_info .ellipsis.rank03 a\").text\n",
    "\n",
    "        data = {\"Ranking\" : rank, \n",
    "                \"Song\" : song, \n",
    "                \"Artist\" : artist, \n",
    "                \"Album\" : album, }\n",
    "\n",
    "        melon_day.loc[len(melon_day)] = data\n",
    "    \n",
    "    \n",
    "    melon_day = melon_day.set_index('Ranking')\n",
    "    \n",
    "    now = datetime.datetime.now()\n",
    "    current_time = now.strftime(\"%Y-%m-%d\")\n",
    "\n",
    "    melon_day.to_csv('melon_daily_100_(' + str(current_time) + ')' )\n",
    "    \n",
    "    driver.close()\n",
    "    \n",
    "melon_daily_100()"
   ]
  }
 ],
 "metadata": {
  "kernelspec": {
   "display_name": "Python 3",
   "language": "python",
   "name": "python3"
  },
  "language_info": {
   "codemirror_mode": {
    "name": "ipython",
    "version": 3
   },
   "file_extension": ".py",
   "mimetype": "text/x-python",
   "name": "python",
   "nbconvert_exporter": "python",
   "pygments_lexer": "ipython3",
   "version": "3.6.2"
  }
 },
 "nbformat": 4,
 "nbformat_minor": 2
}
