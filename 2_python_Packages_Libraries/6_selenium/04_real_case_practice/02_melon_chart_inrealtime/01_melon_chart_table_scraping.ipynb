{
 "cells": [
  {
   "cell_type": "markdown",
   "metadata": {},
   "source": [
    "# 문제점\n",
    "\n",
    "선언된 `url` 내부에서 \n",
    "- 1~50위에 대한 web element 선언\n",
    "- 51~100위에 대한 데이터에 접근하기 위해 XPATH (or자바스크립트 명령어)를 실행해서 51~100위 페이지로 이동.\n",
    "- 51~100위 web element 선언\n",
    "- 1~50위의 데이터에 접근 시, 마찬가지로 stale element 에러 메세지 발생"
   ]
  },
  {
   "cell_type": "code",
   "execution_count": 1,
   "metadata": {},
   "outputs": [],
   "source": [
    "from selenium import webdriver\n",
    "import pandas as pd"
   ]
  },
  {
   "cell_type": "code",
   "execution_count": 2,
   "metadata": {},
   "outputs": [],
   "source": [
    "url = \"http://www.melon.com/chart/\""
   ]
  },
  {
   "cell_type": "code",
   "execution_count": 3,
   "metadata": {},
   "outputs": [],
   "source": [
    "driver = webdriver.Chrome()"
   ]
  },
  {
   "cell_type": "code",
   "execution_count": 4,
   "metadata": {},
   "outputs": [],
   "source": [
    "driver.get(url)"
   ]
  },
  {
   "cell_type": "code",
   "execution_count": 5,
   "metadata": {},
   "outputs": [],
   "source": [
    "table_50 = driver.find_elements_by_css_selector(\"#tb_list tbody .lst50\")"
   ]
  },
  {
   "cell_type": "code",
   "execution_count": 6,
   "metadata": {},
   "outputs": [
    {
     "data": {
      "text/plain": [
       "'1\\n사랑을 했다 (LOVE SCENARIO)\\niKON\\nReturn\\n좋아요\\n154,043'"
      ]
     },
     "execution_count": 6,
     "metadata": {},
     "output_type": "execute_result"
    }
   ],
   "source": [
    "table_50[0].text"
   ]
  },
  {
   "cell_type": "code",
   "execution_count": 7,
   "metadata": {},
   "outputs": [],
   "source": [
    "driver.find_element_by_xpath(\"\"\"//*[@id=\"tb_list\"]/div/span/a\"\"\").click()"
   ]
  },
  {
   "cell_type": "code",
   "execution_count": 8,
   "metadata": {},
   "outputs": [],
   "source": [
    "table_100 = driver.find_elements_by_css_selector(\"#tb_list tbody .lst100\")"
   ]
  },
  {
   "cell_type": "code",
   "execution_count": 9,
   "metadata": {},
   "outputs": [
    {
     "data": {
      "text/plain": [
       "'51\\n5\\n노력\\n박원\\n1/24\\n좋아요\\n103,774'"
      ]
     },
     "execution_count": 9,
     "metadata": {},
     "output_type": "execute_result"
    }
   ],
   "source": [
    "table_100[0].text"
   ]
  },
  {
   "cell_type": "code",
   "execution_count": 10,
   "metadata": {},
   "outputs": [],
   "source": [
    "table_50.extend(table_100)\n",
    "table_all = table_50"
   ]
  },
  {
   "cell_type": "code",
   "execution_count": 11,
   "metadata": {},
   "outputs": [
    {
     "data": {
      "text/plain": [
       "100"
      ]
     },
     "execution_count": 11,
     "metadata": {},
     "output_type": "execute_result"
    }
   ],
   "source": [
    "len(table_all)"
   ]
  },
  {
   "cell_type": "code",
   "execution_count": null,
   "metadata": {},
   "outputs": [],
   "source": [
    "table_all[0]"
   ]
  },
  {
   "cell_type": "code",
   "execution_count": null,
   "metadata": {},
   "outputs": [],
   "source": [
    "table_all[51]"
   ]
  },
  {
   "cell_type": "code",
   "execution_count": null,
   "metadata": {},
   "outputs": [],
   "source": [
    "melon_100 = pd.DataFrame(columns = [\"Ranking\", \"Song\", \"Artist\", \"Album\"])\n",
    "melon_100"
   ]
  },
  {
   "cell_type": "markdown",
   "metadata": {},
   "source": [
    "# Get all data"
   ]
  },
  {
   "cell_type": "code",
   "execution_count": null,
   "metadata": {},
   "outputs": [],
   "source": [
    "# get all data and store\n",
    "\n",
    "for table in tables:\n",
    "    \n",
    "    rank = table.find_element_by_css_selector(\".rank\").text\n",
    "    song = table.find_element_by_css_selector(\".wrap_song_info .ellipsis.rank01 a\").text\n",
    "    artist = table.find_element_by_css_selector(\".wrap_song_info .ellipsis.rank02 a\").text\n",
    "    album = table.find_element_by_css_selector(\".wrap_song_info .ellipsis.rank03 a\").text\n",
    "    \n",
    "    data = {\"Ranking\" : rank, \n",
    "            \"Song\" : song, \n",
    "            \"Artist\" : artist, \n",
    "            \"Album\" : album, }\n",
    "    \n",
    "    melon_100.loc[len(melon_100)] = data\n",
    "    "
   ]
  },
  {
   "cell_type": "code",
   "execution_count": null,
   "metadata": {},
   "outputs": [],
   "source": [
    "melon_100 = melon_100.set_index('Ranking')"
   ]
  },
  {
   "cell_type": "code",
   "execution_count": null,
   "metadata": {},
   "outputs": [],
   "source": [
    "driver.close()"
   ]
  },
  {
   "cell_type": "code",
   "execution_count": null,
   "metadata": {},
   "outputs": [],
   "source": [
    "melon_100.to_csv('melon_chart_100')"
   ]
  },
  {
   "cell_type": "code",
   "execution_count": null,
   "metadata": {},
   "outputs": [],
   "source": []
  }
 ],
 "metadata": {
  "kernelspec": {
   "display_name": "Python 3",
   "language": "python",
   "name": "python3"
  },
  "language_info": {
   "codemirror_mode": {
    "name": "ipython",
    "version": 3
   },
   "file_extension": ".py",
   "mimetype": "text/x-python",
   "name": "python",
   "nbconvert_exporter": "python",
   "pygments_lexer": "ipython3",
   "version": "3.6.2"
  }
 },
 "nbformat": 4,
 "nbformat_minor": 2
}
