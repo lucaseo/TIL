{
 "cells": [
  {
   "cell_type": "markdown",
   "metadata": {},
   "source": [
    "##### 네이버 중고나라 크롤링\n",
    "- http://cafe.naver.com/joonggonara\n",
    "- 중고나라 검색 키워드를 입력받아 판매중인 상품에 대한 제목, 링크, 조회수, 등록날짜, 가격을 크롤링하여 데이터 프레임 만들기\n",
    "- 모바일 페이지를 활용하세요\n",
    "\n",
    "\n",
    "- get_total : 전체 데이터 갯수를 가져오는 함수\n",
    "- get_items : 아이템 리스트를 가져오는 함수\n",
    "- get_price : 상세 페이지에서 가격정보를 가져오는 함수\n",
    "- make_datas : 아이템을 데이터 리스트로 만드는 함수 (판매 중인 데이터만)\n",
    "- all_datas : 키워드를 입력받아 전체 데이터를 가져오는 함수"
   ]
  },
  {
   "cell_type": "code",
   "execution_count": null,
   "metadata": {},
   "outputs": [],
   "source": [
    "import requests\n",
    "import pandas as pd \n",
    "from bs4 import BeautifulSoup"
   ]
  },
  {
   "cell_type": "code",
   "execution_count": null,
   "metadata": {},
   "outputs": [],
   "source": [
    "# 전체 데이터 갯수를 가져오는 함수\n",
    "def get_total(keyword):\n",
    "    pass\n",
    "\n",
    "# 테스트 코드\n",
    "get_total(\"트레이더스 에어프라이어\")"
   ]
  },
  {
   "cell_type": "code",
   "execution_count": null,
   "metadata": {},
   "outputs": [],
   "source": [
    "# 아이템 리스트를 가져오는 함수\n",
    "def get_items(keyword, page):\n",
    "    pass\n",
    "\n",
    "# 테스트 코드\n",
    "items = get_items(\"트레이더스 에어프라이어\", 1)    \n",
    "len(items)"
   ]
  },
  {
   "cell_type": "code",
   "execution_count": null,
   "metadata": {},
   "outputs": [],
   "source": [
    "# 상세 페이지에서 가격정보를 가져오는 함수\n",
    "def get_price(link):\n",
    "    pass\n",
    "    \n",
    "# 테스트 코드\n",
    "link = \"https://m.cafe.naver.com/ArticleRead.nhn?clubid=10050146&menuid=451&articleid=455147331&query=%ED%8A%B8%EB%A0%88%EC%9D%B4%EB%8D%94%EC%8A%A4+%EC%97%90%EC%96%B4%ED%94%84%EB%9D%BC%EC%9D%B4%EC%96%B4\"\n",
    "get_price(link)"
   ]
  },
  {
   "cell_type": "code",
   "execution_count": null,
   "metadata": {},
   "outputs": [],
   "source": [
    "# 아이템을 데이터 리스트로 만드는 함수\n",
    "def make_datas(items):\n",
    "    pass\n",
    "\n",
    "# 테스트 코드\n",
    "datas = make_datas(items)\n",
    "len(datas)"
   ]
  },
  {
   "cell_type": "code",
   "execution_count": null,
   "metadata": {},
   "outputs": [],
   "source": [
    "# 키워드를 입력받아 전체 데이터를 가져오는 함수\n",
    "def all_datas(keyword):\n",
    "    pass\n",
    "    \n",
    "# 테스트 코드\n",
    "datas = all_datas(\"트레이더스 에어프라이어\")\n",
    "len(datas)"
   ]
  },
  {
   "cell_type": "code",
   "execution_count": null,
   "metadata": {},
   "outputs": [],
   "source": [
    "# 데이터 프레임을 만드는 코드\n",
    "datas = all_datas(\"트레이더스 에어프라이어\")\n",
    "\n",
    "columns = [\"title\", \"link\", \"views\", \"date\", \"price\"]\n",
    "df = pd.DataFrame(datas, columns=columns)\n",
    "df"
   ]
  },
  {
   "cell_type": "code",
   "execution_count": null,
   "metadata": {},
   "outputs": [],
   "source": []
  },
  {
   "cell_type": "code",
   "execution_count": null,
   "metadata": {},
   "outputs": [],
   "source": []
  },
  {
   "cell_type": "code",
   "execution_count": null,
   "metadata": {},
   "outputs": [],
   "source": []
  },
  {
   "cell_type": "code",
   "execution_count": null,
   "metadata": {},
   "outputs": [],
   "source": []
  },
  {
   "cell_type": "markdown",
   "metadata": {},
   "source": [
    "네이버의 쿠키 저장 공간에 로그인 정보가 저장됨.\n",
    "이 정보를 끌어와서 리퀘스트를 통해서 크롤링"
   ]
  },
  {
   "cell_type": "code",
   "execution_count": 1,
   "metadata": {},
   "outputs": [],
   "source": [
    "import requests\n",
    "import pandas as pd \n",
    "from bs4 import BeautifulSoup"
   ]
  },
  {
   "cell_type": "code",
   "execution_count": 2,
   "metadata": {},
   "outputs": [],
   "source": [
    "url = \"https://m.cafe.naver.com/ArticleSearchList.nhn?search.clubid=10050146\""
   ]
  },
  {
   "cell_type": "code",
   "execution_count": 3,
   "metadata": {},
   "outputs": [
    {
     "data": {
      "text/plain": [
       "'2000'"
      ]
     },
     "execution_count": 3,
     "metadata": {},
     "output_type": "execute_result"
    }
   ],
   "source": [
    "# 전체 데이터 갯수를 가져오는 함수\n",
    "def get_total(keyword):\n",
    "    url = \"https://m.cafe.naver.com/ArticleSearchList.nhn?search.query=\"+ keyword + \"&search.menuid=&search.searchBy=0&search.sortBy=date&search.clubid=10050146&search.option=0&search.defaultValue=1\"\n",
    "    response = requests.get(url)\n",
    "    dom = BeautifulSoup(response.content, \"html.parser\")\n",
    "    return dom.select_one(\"#ct > div.search_contents > div.search_sort > div.sort_l > span\").text\n",
    "    \n",
    "\n",
    "# 테스트 코드\n",
    "get_total(\"맥북\")"
   ]
  },
  {
   "cell_type": "markdown",
   "metadata": {},
   "source": [
    "중간 참고 : 네트워크 -> 더보기 -> url\n",
    "\n",
    "\n",
    "url = https://m.cafe.naver.com/ArticleSearchListAjax.nhn?search.query=%EB%A7%A5%EB%B6%81&search.menuid=&search.searchBy=1&search.sortBy=date&search.clubid=10050146&search.option=0&search.defaultValue=&search.page=3"
   ]
  },
  {
   "cell_type": "code",
   "execution_count": 8,
   "metadata": {},
   "outputs": [
    {
     "data": {
      "text/plain": [
       "20"
      ]
     },
     "execution_count": 8,
     "metadata": {},
     "output_type": "execute_result"
    }
   ],
   "source": [
    "# 아이템 리스트를 가져오는 함수\n",
    "def get_items(keyword, page):\n",
    "    url = \"https://m.cafe.naver.com/ArticleSearchListAjax.nhn?search.query=\" + keyword + \"&search.menuid=&search.searchBy=1&search.sortBy=date&search.clubid=10050146&search.option=0&search.defaultValue=&search.page=\" + str(page)\n",
    "    response = requests.get(url)\n",
    "    dom = BeautifulSoup(response.content, \"html.parser\")\n",
    "    return dom.select(\"ul li\")\n",
    "     \n",
    "    \n",
    "# 테스트 코드\n",
    "items = get_items(\"맥북\", 1)    \n",
    "len(items)"
   ]
  },
  {
   "cell_type": "markdown",
   "metadata": {},
   "source": [
    "dev tool -> network -> 새로고침 -> All -> request headers 복사 ->  아래와 같이 cookie dictionary로 입력\n",
    "\n",
    "쿠키데이터는 유효기간이 있을 수 있다."
   ]
  },
  {
   "cell_type": "code",
   "execution_count": 10,
   "metadata": {},
   "outputs": [
    {
     "data": {
      "text/plain": [
       "'2,290'"
      ]
     },
     "execution_count": 10,
     "metadata": {},
     "output_type": "execute_result"
    }
   ],
   "source": [
    "#내용물은 중고나라 로그인이 되어야 보이는 페이지.\n",
    "\n",
    "def get_price(link):\n",
    "    headers = {\n",
    "        \"cookie\" : \"npic=YgVSpvAFP4Chu0ZYxS3xXns9fHkyHNK4MMGtbZxqcWl17ZTD6Q6eDpK+jBsV+hyLCA==; NNB=UAETZEDVVY2VU; nx_ssl=2; nci4=0c38dff3e5aec47429c780979a68176ecf946a80d48f7db36ea4bf4fc65aa701932dee35b43ba4aefe520ec570d150ad74532734d8e3fbdcc82bbd509fa03ddb82cdbeb190b784a2b4bb9eb98fc3aca783ab98d7a0af8aada2ed9e96b295a889919da483b0fdf8f9f9faf7f6f0818cd4f0c18886ea848385ec819cf18299a9; ncvid=#vid#_121.130.43.3vicf; nid_inf=297471555; NID_AUT=70mXfWJXbQ1dNeSf7HRrKIa5aZCmfR4aU9SY+oldWGRz1iV+hDx3jOeujfAYB59J; NID_SES=AAABpe/ZyMtUfs4IKf2tz2oIm3Kqqx5rdHUKa5n6s0gV/4G96YIyg9goPZcBh2DnAQtrKXgm/9XRuF9EjCAe4bCGnJdd/uMrsIy5H11no84tC9hPvhx2viEBW3UPOXxq9MGmwnTs3URoW9DVGFpLLGL0CCdMv2gQTico8kR5PNu2uO+GjsxRFwKjTqyx6pyM48nv1oe2oMs41QgdpgbXGiAh5huFD8aHC3TWJvc/oCoAU6lkr0GNZNGGmOrBvpjVBsxA919ZAev8DyO3zqzPcrENNmJFZfWAC0PiotgyAm02HQzwLHfpKrdtxKN2eJaeyAfXpRo/J4A9V4Q+OkfzMN1Nh0IaHeYdYEXIaO6+A3BSSu3Bl6YxUaBDxMXDetGi5kqMQFHdyb5Yh8DO6RRhZ6sDDGeV4Qv3GavExJtsxNrRCDSvtE6OibRO7gmDUl2QC4Fx23mBGOB1HJcpi+FFFmpeoSV2nqub7HU8ZsUPgBYyfZ4F5TkSQoSVMYsDI6iYKbErSc8lgiIyBo5+zTJxdYAhoZIeBwRcXe84PdJNFW5+CgLG2KC9jIRNeY0FAST+TjUP0w==; rmvc=10050146; ncvc2=7e1ee6c296a0a11038c7b98ab44c2c52efa01be6b9e843837eba8251e9cf2efd2ed216d61428b291e5745f8f119322c80e3e1714e8dbeacbf9348f4e8fbe00c5ada9a8b3a9b5a8aea7a6aea0a6a263; ncu=81ad5c77762a4fa3806009497abae6afcd8e6ad8ae956e; personaconmain|lucaseo1991=EAE11B32508CF3CE089CFFC4BB8EEC1F8564AF82B9A1D7244F37A9D77BE7957F; personacon|lucaseo1991=119992DE84D3513177F09197B8CBA0CE7F184F4F1FFAE17CD9556B795FBE971F845E79DA02B04219; JSESSIONID=0CFB08DEAEE32B07C571F48801CCFAE0; BMR=\"\n",
    "#         \"user-agent\" : \"Mozilla/5.0 (Macintosh; Intel Mac OS X 10_13_3) AppleWebKit/537.36 (KHTML, like Gecko) Chrome/64.0.3282.186 Safari/537.36\"\n",
    "    }\n",
    "    \n",
    "    response = requests.get(link, headers=headers)\n",
    "    dom = BeautifulSoup(response.content, \"html.parser\")\n",
    "    return dom.select_one(\".price em\").text\n",
    "\n",
    "\n",
    "\n",
    "# 테스트 코드\n",
    "link = \"https://m.cafe.naver.com/ArticleRead.nhn?clubid=10050146&menuid=334&articleid=455335959&query=%EB%A7%A5%EB%B6%81\"\n",
    "\n",
    "get_price(link)"
   ]
  },
  {
   "cell_type": "code",
   "execution_count": 11,
   "metadata": {},
   "outputs": [
    {
     "data": {
      "text/plain": [
       "18"
      ]
     },
     "execution_count": 11,
     "metadata": {},
     "output_type": "execute_result"
    }
   ],
   "source": [
    "# 아이템을 데이터 리스트로 만드는 함수\n",
    "def make_datas(items):\n",
    "\n",
    "    datas = []\n",
    "    \n",
    "    for item in items:\n",
    "        \n",
    "        try:\n",
    "            sell = item.select_one(\".icon_txt\").text\n",
    "            if sell == \"완료\":\n",
    "                continue\n",
    "\n",
    "        except:\n",
    "            continue\n",
    "\n",
    "        \n",
    "        title = item.select_one(\"h3\").text\n",
    "        link = \"https://m.cafe.naver.com/\" + item.select_one(\"a\").attrs[\"href\"]\n",
    "        view = item.select_one(\".no em\").text\n",
    "        time = item.select_one(\".time\").text\n",
    "        price = get_price(link)\n",
    "        \n",
    "        datas.append([title, link, view, time, price])\n",
    "        # 리스트 안에 리스트가 들어가는 형태 --> 데이터프레임에 집어넣어주기 편하다\n",
    "    return datas\n",
    "\n",
    "# 테스트 코드\n",
    "datas = make_datas(items)\n",
    "len(datas)"
   ]
  },
  {
   "cell_type": "code",
   "execution_count": 12,
   "metadata": {},
   "outputs": [
    {
     "data": {
      "text/plain": [
       "29"
      ]
     },
     "execution_count": 12,
     "metadata": {},
     "output_type": "execute_result"
    }
   ],
   "source": [
    "def all_datas(keyword):\n",
    "    \n",
    "    total = get_total(keyword)\n",
    "    pages = int(total) // 20 +1\n",
    "    datas = []\n",
    "    \n",
    "    for page in range(1, 3):\n",
    "        items = get_items(keyword, page)\n",
    "        datas += make_datas(items)\n",
    "        \n",
    "    return datas\n",
    "        \n",
    "    \n",
    "# 테스트 코드\n",
    "datas = all_datas(\"캐논카메라\")\n",
    "len(datas)"
   ]
  },
  {
   "cell_type": "code",
   "execution_count": 13,
   "metadata": {},
   "outputs": [
    {
     "data": {
      "text/html": [
       "<div>\n",
       "<style scoped>\n",
       "    .dataframe tbody tr th:only-of-type {\n",
       "        vertical-align: middle;\n",
       "    }\n",
       "\n",
       "    .dataframe tbody tr th {\n",
       "        vertical-align: top;\n",
       "    }\n",
       "\n",
       "    .dataframe thead th {\n",
       "        text-align: right;\n",
       "    }\n",
       "</style>\n",
       "<table border=\"1\" class=\"dataframe\">\n",
       "  <thead>\n",
       "    <tr style=\"text-align: right;\">\n",
       "      <th></th>\n",
       "      <th>title</th>\n",
       "      <th>link</th>\n",
       "      <th>views</th>\n",
       "      <th>date</th>\n",
       "      <th>price</th>\n",
       "    </tr>\n",
       "  </thead>\n",
       "  <tbody>\n",
       "    <tr>\n",
       "      <th>0</th>\n",
       "      <td>이마트 트레이더스 에어프라이어 교환원해요~</td>\n",
       "      <td>https://m.cafe.naver.com//ArticleRead.nhn?club...</td>\n",
       "      <td>51</td>\n",
       "      <td>17:59</td>\n",
       "      <td>2,222</td>\n",
       "    </tr>\n",
       "    <tr>\n",
       "      <th>1</th>\n",
       "      <td>이마트 트레이더스 에어프라이어</td>\n",
       "      <td>https://m.cafe.naver.com//ArticleRead.nhn?club...</td>\n",
       "      <td>269</td>\n",
       "      <td>16:09</td>\n",
       "      <td>2,222</td>\n",
       "    </tr>\n",
       "    <tr>\n",
       "      <th>2</th>\n",
       "      <td>[양산/김해/부산/삽니다]이마트 트레이더스 에어프라이어 5.2L 삽니다(직거래)</td>\n",
       "      <td>https://m.cafe.naver.com//ArticleRead.nhn?club...</td>\n",
       "      <td>51</td>\n",
       "      <td>16:09</td>\n",
       "      <td>110,000</td>\n",
       "    </tr>\n",
       "    <tr>\n",
       "      <th>3</th>\n",
       "      <td>트레이더스 에어프라이어 삽니다! 창원</td>\n",
       "      <td>https://m.cafe.naver.com//ArticleRead.nhn?club...</td>\n",
       "      <td>95</td>\n",
       "      <td>13:23</td>\n",
       "      <td>2,000</td>\n",
       "    </tr>\n",
       "    <tr>\n",
       "      <th>4</th>\n",
       "      <td>이마트 트레이더스 에어프라이어 플러스 삽니다!</td>\n",
       "      <td>https://m.cafe.naver.com//ArticleRead.nhn?club...</td>\n",
       "      <td>140</td>\n",
       "      <td>13:20</td>\n",
       "      <td>100,000</td>\n",
       "    </tr>\n",
       "    <tr>\n",
       "      <th>5</th>\n",
       "      <td>트레이더스 에어프라이어(5.2L) 판매합니다 - 완료</td>\n",
       "      <td>https://m.cafe.naver.com//ArticleRead.nhn?club...</td>\n",
       "      <td>210</td>\n",
       "      <td>10:36</td>\n",
       "      <td>110,000</td>\n",
       "    </tr>\n",
       "    <tr>\n",
       "      <th>6</th>\n",
       "      <td>트레이더스 에어프라이어 5.2L삽니다</td>\n",
       "      <td>https://m.cafe.naver.com//ArticleRead.nhn?club...</td>\n",
       "      <td>95</td>\n",
       "      <td>09:11</td>\n",
       "      <td>110,000</td>\n",
       "    </tr>\n",
       "    <tr>\n",
       "      <th>7</th>\n",
       "      <td>비싼고가 에어프라이어 저렴히 드립니다(새상품)57000원 /이마트트레이더스 에어프라...</td>\n",
       "      <td>https://m.cafe.naver.com//ArticleRead.nhn?club...</td>\n",
       "      <td>149</td>\n",
       "      <td>09:08</td>\n",
       "      <td>57,000</td>\n",
       "    </tr>\n",
       "    <tr>\n",
       "      <th>8</th>\n",
       "      <td>트레이더스 에어프라이어</td>\n",
       "      <td>https://m.cafe.naver.com//ArticleRead.nhn?club...</td>\n",
       "      <td>234</td>\n",
       "      <td>05:57</td>\n",
       "      <td>110,000</td>\n",
       "    </tr>\n",
       "    <tr>\n",
       "      <th>9</th>\n",
       "      <td>트레이더스 에어프라이어</td>\n",
       "      <td>https://m.cafe.naver.com//ArticleRead.nhn?club...</td>\n",
       "      <td>311</td>\n",
       "      <td>18.03.05.</td>\n",
       "      <td>110,000</td>\n",
       "    </tr>\n",
       "    <tr>\n",
       "      <th>10</th>\n",
       "      <td>이마트 트레이더스 에어 프라이어 사기 속지마세요</td>\n",
       "      <td>https://m.cafe.naver.com//ArticleRead.nhn?club...</td>\n",
       "      <td>665</td>\n",
       "      <td>18.03.05.</td>\n",
       "      <td>12,345</td>\n",
       "    </tr>\n",
       "    <tr>\n",
       "      <th>11</th>\n",
       "      <td>트레이더스 에어프라이어</td>\n",
       "      <td>https://m.cafe.naver.com//ArticleRead.nhn?club...</td>\n",
       "      <td>339</td>\n",
       "      <td>18.03.05.</td>\n",
       "      <td>110,000</td>\n",
       "    </tr>\n",
       "    <tr>\n",
       "      <th>12</th>\n",
       "      <td>트레이더스 에어프라이어</td>\n",
       "      <td>https://m.cafe.naver.com//ArticleRead.nhn?club...</td>\n",
       "      <td>313</td>\n",
       "      <td>18.03.04.</td>\n",
       "      <td>110,000</td>\n",
       "    </tr>\n",
       "    <tr>\n",
       "      <th>13</th>\n",
       "      <td>트레이더스 에어프라이어 삽니나. (대구)</td>\n",
       "      <td>https://m.cafe.naver.com//ArticleRead.nhn?club...</td>\n",
       "      <td>203</td>\n",
       "      <td>18.03.04.</td>\n",
       "      <td>95,000</td>\n",
       "    </tr>\n",
       "    <tr>\n",
       "      <th>14</th>\n",
       "      <td>더 에어프라이어 플러스 이마트 트레이더스 제품 삽니다</td>\n",
       "      <td>https://m.cafe.naver.com//ArticleRead.nhn?club...</td>\n",
       "      <td>282</td>\n",
       "      <td>18.03.03.</td>\n",
       "      <td>110,000</td>\n",
       "    </tr>\n",
       "    <tr>\n",
       "      <th>15</th>\n",
       "      <td>트레이더스 에어프라이어 울산직거래 삽니다</td>\n",
       "      <td>https://m.cafe.naver.com//ArticleRead.nhn?club...</td>\n",
       "      <td>183</td>\n",
       "      <td>18.03.03.</td>\n",
       "      <td>100,000</td>\n",
       "    </tr>\n",
       "  </tbody>\n",
       "</table>\n",
       "</div>"
      ],
      "text/plain": [
       "                                                title  \\\n",
       "0                             이마트 트레이더스 에어프라이어 교환원해요~   \n",
       "1                                    이마트 트레이더스 에어프라이어   \n",
       "2        [양산/김해/부산/삽니다]이마트 트레이더스 에어프라이어 5.2L 삽니다(직거래)   \n",
       "3                                트레이더스 에어프라이어 삽니다! 창원   \n",
       "4                           이마트 트레이더스 에어프라이어 플러스 삽니다!   \n",
       "5                       트레이더스 에어프라이어(5.2L) 판매합니다 - 완료   \n",
       "6                                트레이더스 에어프라이어 5.2L삽니다   \n",
       "7   비싼고가 에어프라이어 저렴히 드립니다(새상품)57000원 /이마트트레이더스 에어프라...   \n",
       "8                                        트레이더스 에어프라이어   \n",
       "9                                        트레이더스 에어프라이어   \n",
       "10                         이마트 트레이더스 에어 프라이어 사기 속지마세요   \n",
       "11                                       트레이더스 에어프라이어   \n",
       "12                                       트레이더스 에어프라이어   \n",
       "13                             트레이더스 에어프라이어 삽니나. (대구)   \n",
       "14                      더 에어프라이어 플러스 이마트 트레이더스 제품 삽니다   \n",
       "15                             트레이더스 에어프라이어 울산직거래 삽니다   \n",
       "\n",
       "                                                 link views       date  \\\n",
       "0   https://m.cafe.naver.com//ArticleRead.nhn?club...    51      17:59   \n",
       "1   https://m.cafe.naver.com//ArticleRead.nhn?club...   269      16:09   \n",
       "2   https://m.cafe.naver.com//ArticleRead.nhn?club...    51      16:09   \n",
       "3   https://m.cafe.naver.com//ArticleRead.nhn?club...    95      13:23   \n",
       "4   https://m.cafe.naver.com//ArticleRead.nhn?club...   140      13:20   \n",
       "5   https://m.cafe.naver.com//ArticleRead.nhn?club...   210      10:36   \n",
       "6   https://m.cafe.naver.com//ArticleRead.nhn?club...    95      09:11   \n",
       "7   https://m.cafe.naver.com//ArticleRead.nhn?club...   149      09:08   \n",
       "8   https://m.cafe.naver.com//ArticleRead.nhn?club...   234      05:57   \n",
       "9   https://m.cafe.naver.com//ArticleRead.nhn?club...   311  18.03.05.   \n",
       "10  https://m.cafe.naver.com//ArticleRead.nhn?club...   665  18.03.05.   \n",
       "11  https://m.cafe.naver.com//ArticleRead.nhn?club...   339  18.03.05.   \n",
       "12  https://m.cafe.naver.com//ArticleRead.nhn?club...   313  18.03.04.   \n",
       "13  https://m.cafe.naver.com//ArticleRead.nhn?club...   203  18.03.04.   \n",
       "14  https://m.cafe.naver.com//ArticleRead.nhn?club...   282  18.03.03.   \n",
       "15  https://m.cafe.naver.com//ArticleRead.nhn?club...   183  18.03.03.   \n",
       "\n",
       "      price  \n",
       "0     2,222  \n",
       "1     2,222  \n",
       "2   110,000  \n",
       "3     2,000  \n",
       "4   100,000  \n",
       "5   110,000  \n",
       "6   110,000  \n",
       "7    57,000  \n",
       "8   110,000  \n",
       "9   110,000  \n",
       "10   12,345  \n",
       "11  110,000  \n",
       "12  110,000  \n",
       "13   95,000  \n",
       "14  110,000  \n",
       "15  100,000  "
      ]
     },
     "execution_count": 13,
     "metadata": {},
     "output_type": "execute_result"
    }
   ],
   "source": [
    "datas = all_datas(\"트레이더스 에어프라이어\")\n",
    "\n",
    "columns = [\"title\", \"link\", \"views\", \"date\", \"price\"]\n",
    "df = pd.DataFrame(datas, columns=columns)\n",
    "df"
   ]
  },
  {
   "cell_type": "code",
   "execution_count": null,
   "metadata": {},
   "outputs": [],
   "source": []
  }
 ],
 "metadata": {
  "kernelspec": {
   "display_name": "Python 3",
   "language": "python",
   "name": "python3"
  },
  "language_info": {
   "codemirror_mode": {
    "name": "ipython",
    "version": 3
   },
   "file_extension": ".py",
   "mimetype": "text/x-python",
   "name": "python",
   "nbconvert_exporter": "python",
   "pygments_lexer": "ipython3",
   "version": "3.6.2"
  }
 },
 "nbformat": 4,
 "nbformat_minor": 2
}
