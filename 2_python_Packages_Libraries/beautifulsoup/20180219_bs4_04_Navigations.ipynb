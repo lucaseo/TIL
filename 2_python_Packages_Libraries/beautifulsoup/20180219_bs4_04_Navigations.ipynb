{
 "cells": [
  {
   "cell_type": "markdown",
   "metadata": {},
   "source": [
    "# Navigating Beautiful Soup "
   ]
  },
  {
   "cell_type": "code",
   "execution_count": 1,
   "metadata": {},
   "outputs": [],
   "source": [
    "from bs4 import BeautifulSoup"
   ]
  },
  {
   "cell_type": "code",
   "execution_count": 2,
   "metadata": {},
   "outputs": [],
   "source": [
    "html = \"\"\"\n",
    "<!DOCTYPE html>\n",
    "<html lang=\"en\">\n",
    "<head>\n",
    "    <meta charset=\"UTF-8\">\n",
    "    <title>First HTML Page</title>\n",
    "</head>\n",
    "<body>\n",
    "  <div id=\"first\">\n",
    "    <h3 data-example=\"yes\">hi</h3>\n",
    "    <p>more text.</p>\n",
    "  </div>\n",
    "  <ol>\n",
    "    <li class=\"super-special\">This list item is special.</li>\n",
    "    <li>This list item is not special.</li>\n",
    "    <li class=\"special\">This list item is also very special.</li>\n",
    "  </ol>\n",
    "  <div data-example=\"yes\">bye</div>\n",
    "</body>\n",
    "</html>\n",
    "\"\"\""
   ]
  },
  {
   "cell_type": "code",
   "execution_count": 3,
   "metadata": {},
   "outputs": [],
   "source": [
    "soup = BeautifulSoup(html, \"html.parser\")"
   ]
  },
  {
   "cell_type": "markdown",
   "metadata": {},
   "source": [
    "## how to nagivate the `soup`?\n",
    "\n",
    "**via Tags**\n",
    "\n",
    "- parents / parents\n",
    "- contents\n",
    "- next_siblings / next_siblings\n",
    "- previous_sibling / previous_siblings\n",
    "\n",
    "**via Searching**\n",
    "- find_parent / find_parents\n",
    "- find_next_sibling / find_next_siblings"
   ]
  },
  {
   "cell_type": "markdown",
   "metadata": {},
   "source": [
    "### `contents` via Tags\n",
    "- returns all contents within each Tags as a list \n",
    "- elements are seperated with `\\n`"
   ]
  },
  {
   "cell_type": "code",
   "execution_count": 9,
   "metadata": {},
   "outputs": [
    {
     "name": "stdout",
     "output_type": "stream",
     "text": [
      "['\\n', <div id=\"first\">\n",
      "<h3 data-example=\"yes\">hi</h3>\n",
      "<p>more text.</p>\n",
      "</div>, '\\n', <ol>\n",
      "<li class=\"super-special\">This list item is special.</li>\n",
      "<li>This list item is not special.</li>\n",
      "<li class=\"special\">This list item is also very special.</li>\n",
      "</ol>, '\\n', <div data-example=\"yes\">bye</div>, '\\n']\n"
     ]
    }
   ],
   "source": [
    "data = soup.body.contents\n",
    "print(data)"
   ]
  },
  {
   "cell_type": "code",
   "execution_count": 6,
   "metadata": {},
   "outputs": [
    {
     "name": "stdout",
     "output_type": "stream",
     "text": [
      "<div id=\"first\">\n",
      "<h3 data-example=\"yes\">hi</h3>\n",
      "<p>more text.</p>\n",
      "</div>\n"
     ]
    }
   ],
   "source": [
    "# the first element[0] is is '\\n'. so we go for [1]\n",
    "data = soup.body.contents[1] \n",
    "print(data)"
   ]
  },
  {
   "cell_type": "code",
   "execution_count": 7,
   "metadata": {},
   "outputs": [
    {
     "name": "stdout",
     "output_type": "stream",
     "text": [
      "<h3 data-example=\"yes\">hi</h3>\n"
     ]
    }
   ],
   "source": [
    "data = soup.body.contents[1].contents[1] \n",
    "print(data)"
   ]
  },
  {
   "cell_type": "code",
   "execution_count": 8,
   "metadata": {},
   "outputs": [
    {
     "data": {
      "text/plain": [
       "'yes'"
      ]
     },
     "execution_count": 8,
     "metadata": {},
     "output_type": "execute_result"
    }
   ],
   "source": [
    "data['data-example']"
   ]
  },
  {
   "cell_type": "markdown",
   "metadata": {},
   "source": [
    "### via Searching\n",
    "- ex) < div > and < ol > are sibling Tags (sibling)\n",
    "- They are on the same level"
   ]
  },
  {
   "cell_type": "markdown",
   "metadata": {},
   "source": [
    "#### `next_sibling`"
   ]
  },
  {
   "cell_type": "code",
   "execution_count": 12,
   "metadata": {},
   "outputs": [
    {
     "name": "stdout",
     "output_type": "stream",
     "text": [
      "<div id=\"first\">\n",
      "<h3 data-example=\"yes\">hi</h3>\n",
      "<p>more text.</p>\n",
      "</div>\n"
     ]
    }
   ],
   "source": [
    "data_2 = soup.body.contents[1]\n",
    "print(data_2)"
   ]
  },
  {
   "cell_type": "code",
   "execution_count": 13,
   "metadata": {},
   "outputs": [
    {
     "name": "stdout",
     "output_type": "stream",
     "text": [
      "<ol>\n",
      "<li class=\"super-special\">This list item is special.</li>\n",
      "<li>This list item is not special.</li>\n",
      "<li class=\"special\">This list item is also very special.</li>\n",
      "</ol>\n"
     ]
    }
   ],
   "source": [
    "data_2 = soup.body.contents[1].next_sibling.next_sibling\n",
    "print(data_2)"
   ]
  },
  {
   "cell_type": "markdown",
   "metadata": {},
   "source": [
    "**`find_next_sibling`** skips '/n' newline"
   ]
  },
  {
   "cell_type": "code",
   "execution_count": 19,
   "metadata": {},
   "outputs": [
    {
     "name": "stdout",
     "output_type": "stream",
     "text": [
      "<div id=\"first\">\n",
      "<h3 data-example=\"yes\">hi</h3>\n",
      "<p>more text.</p>\n",
      "</div>\n"
     ]
    }
   ],
   "source": [
    "data = soup.find(id = \"first\")\n",
    "print(data)"
   ]
  },
  {
   "cell_type": "code",
   "execution_count": 20,
   "metadata": {},
   "outputs": [
    {
     "name": "stdout",
     "output_type": "stream",
     "text": [
      "<ol>\n",
      "<li class=\"super-special\">This list item is special.</li>\n",
      "<li>This list item is not special.</li>\n",
      "<li class=\"special\">This list item is also very special.</li>\n",
      "</ol>\n"
     ]
    }
   ],
   "source": [
    "data = soup.find(id = \"first\").find_next_sibling()\n",
    "print(data)"
   ]
  },
  {
   "cell_type": "code",
   "execution_count": 21,
   "metadata": {},
   "outputs": [
    {
     "name": "stdout",
     "output_type": "stream",
     "text": [
      "<div data-example=\"yes\">bye</div>\n"
     ]
    }
   ],
   "source": [
    "data = soup.find(id = \"first\").find_next_sibling().find_next_sibling()\n",
    "print(data)"
   ]
  },
  {
   "cell_type": "markdown",
   "metadata": {},
   "source": [
    "**`find_previous_sibling`**"
   ]
  },
  {
   "cell_type": "code",
   "execution_count": 22,
   "metadata": {},
   "outputs": [
    {
     "name": "stdout",
     "output_type": "stream",
     "text": [
      "<ol>\n",
      "<li class=\"super-special\">This list item is special.</li>\n",
      "<li>This list item is not special.</li>\n",
      "<li class=\"special\">This list item is also very special.</li>\n",
      "</ol>\n"
     ]
    }
   ],
   "source": [
    "data = soup.select(\"[data-example]\")[1].find_previous_sibling()\n",
    "print(data)"
   ]
  },
  {
   "cell_type": "code",
   "execution_count": 23,
   "metadata": {},
   "outputs": [
    {
     "name": "stdout",
     "output_type": "stream",
     "text": [
      "<ol>\n",
      "<li class=\"super-special\">This list item is special.</li>\n",
      "<li>This list item is not special.</li>\n",
      "<li class=\"special\">This list item is also very special.</li>\n",
      "</ol>\n"
     ]
    }
   ],
   "source": [
    "#find previous sibling with certain condition\n",
    "data = soup.select(\"[data-example]\")[1].find_previous_sibling()\n",
    "print(data)"
   ]
  },
  {
   "cell_type": "markdown",
   "metadata": {},
   "source": [
    "#### `parent`"
   ]
  },
  {
   "cell_type": "code",
   "execution_count": 15,
   "metadata": {},
   "outputs": [
    {
     "name": "stdout",
     "output_type": "stream",
     "text": [
      "<li class=\"super-special\">This list item is special.</li>\n"
     ]
    }
   ],
   "source": [
    "data_3 = soup.find(class_=\"super-special\")\n",
    "print(data_3)"
   ]
  },
  {
   "cell_type": "code",
   "execution_count": 16,
   "metadata": {},
   "outputs": [
    {
     "name": "stdout",
     "output_type": "stream",
     "text": [
      "<ol>\n",
      "<li class=\"super-special\">This list item is special.</li>\n",
      "<li>This list item is not special.</li>\n",
      "<li class=\"special\">This list item is also very special.</li>\n",
      "</ol>\n"
     ]
    }
   ],
   "source": [
    "data_3 = soup.find(class_=\"super-special\").parent\n",
    "print(data_3)"
   ]
  },
  {
   "cell_type": "code",
   "execution_count": 17,
   "metadata": {},
   "outputs": [
    {
     "name": "stdout",
     "output_type": "stream",
     "text": [
      "<body>\n",
      "<div id=\"first\">\n",
      "<h3 data-example=\"yes\">hi</h3>\n",
      "<p>more text.</p>\n",
      "</div>\n",
      "<ol>\n",
      "<li class=\"super-special\">This list item is special.</li>\n",
      "<li>This list item is not special.</li>\n",
      "<li class=\"special\">This list item is also very special.</li>\n",
      "</ol>\n",
      "<div data-example=\"yes\">bye</div>\n",
      "</body>\n"
     ]
    }
   ],
   "source": [
    "data_3 = soup.find(class_=\"super-special\").parent.parent\n",
    "print(data_3)"
   ]
  },
  {
   "cell_type": "markdown",
   "metadata": {},
   "source": [
    "**`find_parent`** skips '\\n' newline"
   ]
  },
  {
   "cell_type": "code",
   "execution_count": 26,
   "metadata": {},
   "outputs": [
    {
     "name": "stdout",
     "output_type": "stream",
     "text": [
      "<div id=\"first\">\n",
      "<h3 data-example=\"yes\">hi</h3>\n",
      "<p>more text.</p>\n",
      "</div>\n"
     ]
    }
   ],
   "source": [
    "data = soup.find(\"h3\").find_parent()\n",
    "print(data)"
   ]
  },
  {
   "cell_type": "code",
   "execution_count": 27,
   "metadata": {},
   "outputs": [
    {
     "name": "stdout",
     "output_type": "stream",
     "text": [
      "<body>\n",
      "<div id=\"first\">\n",
      "<h3 data-example=\"yes\">hi</h3>\n",
      "<p>more text.</p>\n",
      "</div>\n",
      "<ol>\n",
      "<li class=\"super-special\">This list item is special.</li>\n",
      "<li>This list item is not special.</li>\n",
      "<li class=\"special\">This list item is also very special.</li>\n",
      "</ol>\n",
      "<div data-example=\"yes\">bye</div>\n",
      "</body>\n"
     ]
    }
   ],
   "source": [
    "# find parent with certain condition\n",
    "data = soup.find(\"h3\").find_parent(\"body\")\n",
    "print(data)"
   ]
  },
  {
   "cell_type": "code",
   "execution_count": null,
   "metadata": {},
   "outputs": [],
   "source": []
  }
 ],
 "metadata": {
  "kernelspec": {
   "display_name": "Python 3",
   "language": "python",
   "name": "python3"
  },
  "language_info": {
   "codemirror_mode": {
    "name": "ipython",
    "version": 3
   },
   "file_extension": ".py",
   "mimetype": "text/x-python",
   "name": "python",
   "nbconvert_exporter": "python",
   "pygments_lexer": "ipython3",
   "version": "3.6.2"
  }
 },
 "nbformat": 4,
 "nbformat_minor": 2
}
