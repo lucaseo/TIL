{
 "cells": [
  {
   "cell_type": "markdown",
   "metadata": {},
   "source": [
    "# MySQL Basic Command on Terminal\n",
    "\n",
    "<br>\n",
    "\n",
    "## 1. System\n",
    "\n",
    "- return MySQL command list  \n",
    "`mysql> help`\n",
    "\n",
    "- check MySQL status  \n",
    "`mysql> status`\n",
    "\n",
    "- end connection  \n",
    "`mysql> exit`  \n",
    "`mysql> quit`\n",
    "\n",
    "- change password  \n",
    "`mysql> ALTER USER 'root'@'localhost' IDENTIFIED BY 'johndoe1234'`\n",
    "\n",
    "\n",
    "## 2. Database command\n",
    "\n",
    "- show database list  \n",
    "`mysql> show database;`\n",
    "\n",
    "- create Database  \n",
    "`mysql> create database <name>;`\n",
    "\n",
    "- connect to Database  \n",
    "`mysql> select database();`\n",
    "\n",
    "- delete Database and check the result  \n",
    "`mysql> drop database <name>;`  \n",
    "`mysql> show database;`  \n",
    "\n"
   ]
  },
  {
   "cell_type": "code",
   "execution_count": null,
   "metadata": {},
   "outputs": [],
   "source": []
  }
 ],
 "metadata": {
  "kernelspec": {
   "display_name": "Python 3",
   "language": "python",
   "name": "python3"
  },
  "language_info": {
   "codemirror_mode": {
    "name": "ipython",
    "version": 3
   },
   "file_extension": ".py",
   "mimetype": "text/x-python",
   "name": "python",
   "nbconvert_exporter": "python",
   "pygments_lexer": "ipython3",
   "version": "3.6.2"
  }
 },
 "nbformat": 4,
 "nbformat_minor": 2
}
