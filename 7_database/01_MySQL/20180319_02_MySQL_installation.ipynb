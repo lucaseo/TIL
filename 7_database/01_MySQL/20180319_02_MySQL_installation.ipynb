{
 "cells": [
  {
   "cell_type": "markdown",
   "metadata": {},
   "source": [
    "# MySQL installation on Mac OS\n",
    "\n",
    "<br>\n",
    "\n",
    "#### 1. Install homebrew\n",
    "\n",
    "Install **homebrew** a package management software from <https://brew.sh/index_ko.html>\n",
    "\n",
    "<br>\n",
    "\n",
    "#### 2. Install MySQL\n",
    "\n",
    "`$ brew install mysql`\n",
    "\n",
    "<br>\n",
    "\n",
    "#### 3. Additional Configuration & Execution\n",
    "\n",
    "- set homebrew to use `homebrew/service` as a storage  \n",
    "`$ brew tap homebrew/service`\n",
    "\n",
    "- run MySQL through homebrew  \n",
    "`$ brew services start mysql`\n",
    "\n",
    "- stop MySQL through homebrew  \n",
    "`$ brew services stop mysql`\n",
    "\n",
    "- restart MySQL through homebrew  \n",
    "`$ brew services restart mysql`\n",
    "\n",
    "- confirm service list running on homebrew  \n",
    "`$ brew services list`\n",
    "\n",
    "<br>\n",
    "\n",
    "#### 4. Setting Password\n",
    "\n",
    "`$mysqladmin -u root password [yourpassword]`\n",
    "\n",
    "<br>\n",
    "\n",
    "#### 5. Connect to mysql\n",
    "\n",
    "`$ mysql -u root -p`  \n",
    "`Enter password: xxxx`\n",
    "\n",
    "<br>\n",
    "\n",
    "#### 6.\n",
    "\n",
    "Once terminal shows as following, we are set.\n",
    "\n",
    "`mysql>`"
   ]
  },
  {
   "cell_type": "code",
   "execution_count": null,
   "metadata": {},
   "outputs": [],
   "source": []
  }
 ],
 "metadata": {
  "kernelspec": {
   "display_name": "Python 3",
   "language": "python",
   "name": "python3"
  },
  "language_info": {
   "codemirror_mode": {
    "name": "ipython",
    "version": 3
   },
   "file_extension": ".py",
   "mimetype": "text/x-python",
   "name": "python",
   "nbconvert_exporter": "python",
   "pygments_lexer": "ipython3",
   "version": "3.6.2"
  }
 },
 "nbformat": 4,
 "nbformat_minor": 2
}
