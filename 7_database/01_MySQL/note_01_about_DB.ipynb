{
 "cells": [
  {
   "cell_type": "markdown",
   "metadata": {},
   "source": [
    "# Database"
   ]
  },
  {
   "cell_type": "markdown",
   "metadata": {},
   "source": [
    "### DB\n",
    "\n",
    "- 데이터를 통합하여 관리하는 데이터의 집합"
   ]
  },
  {
   "cell_type": "markdown",
   "metadata": {},
   "source": [
    "### DBMS (Database Management System)\n",
    "\n",
    "- 데이터베이스를 관리하는 미들웨어 시스템\n",
    "- 미들웨어 : 하드웨어 자원과 램을 연결해주는 시스템\n",
    "- ex) mySQL, MongoDB ..."
   ]
  },
  {
   "cell_type": "markdown",
   "metadata": {},
   "source": [
    "# Database Classification"
   ]
  },
  {
   "cell_type": "markdown",
   "metadata": {},
   "source": [
    "### RDBMS"
   ]
  },
  {
   "cell_type": "markdown",
   "metadata": {},
   "source": [
    "- Relational Database Management System (관계가 있는 시스템)\n",
    "\n",
    "- 종류\n",
    "    - **오라클(시장 독점 솔루션), Mysql, Postgresql(Django에서 많이 씀), Sqlite(심플)**\n",
    "- 예)\n",
    "    - 데이터 베이서 : 엑셀파일\n",
    "    - 테이블 : 엑셀 시트\n",
    "- 엑셀 파일 안에 시트가 여러개 있는 형태처럼\n",
    "- 테이블과 테이블 사이에 키값으로 관계를 가지고 있는 데이터베이스\n",
    "- 데이터 사이의 관계를 설정해서 최적화된 스키마를 설계 가능\n",
    "    - 스키마 설계 후 테이블 설정\n",
    "- Mysql 학습\n",
    "- 키값으로 쪼개서 저장하기 때문에 저장공간이 크게 필요가 없음"
   ]
  },
  {
   "cell_type": "markdown",
   "metadata": {},
   "source": [
    "### NoSQL\n",
    "\n",
    "- MongoDB, Hbase, Cassandra\n",
    "- 데이터 테이블 사이에 관계가 없이 저장하는 데이터베이스\n",
    "- JSON 포맷의 텍스트 데이터를 그냥 저장\n",
    "- 당연히 스키마가 없음\n",
    "    - 그러므로 복잡성이 줄고 많은 데이터를 저장 가능\n",
    "    - 대신 통째로 저장해야하고, 많은 공간이 필요\n",
    "- Insert, Input이 빠르다. 빅데이터에 용이."
   ]
  },
  {
   "cell_type": "markdown",
   "metadata": {},
   "source": [
    "# MySQL"
   ]
  },
  {
   "cell_type": "markdown",
   "metadata": {},
   "source": [
    "### Feature\n",
    "- C++ 베이스\n",
    "- 오픈소스, 다중사용자, 다중스레드 지원 (듀얼, 쿼드, 옥타코어 사용 가능)\n",
    "- 다양한 운영체제, 프로그래밍 언어 지원 \n",
    "- 표준 SQL 사용\n",
    "- 세계적으로 보편화\n",
    "- 작고, 강력, 가격이 저렴\n",
    "    - 배포시 소스를 공개하면 무료, \n",
    "    - 소스 배포 원치 않을 시, 상용라이센스 필요\n",
    "- 서비스에 이용하는 것은 무료\n",
    "- 작고 강력하지만 확장성이 약함"
   ]
  },
  {
   "cell_type": "markdown",
   "metadata": {},
   "source": [
    "# RDBMS"
   ]
  },
  {
   "cell_type": "markdown",
   "metadata": {},
   "source": [
    "### Feature\n",
    "- 데이터의 분류, 정렬, 탐색속도가 빠름\n",
    "- 높은 신뢰성\n",
    "- 스키마 수정이 어렵다\n",
    "    - 한번 구축한 구조를 바꾸는 것이 어렵다. 확장성의 한계\n",
    "구조 : Server > Database > Table > Row > Value\n",
    "\n",
    "### Structure\n",
    "행 : 튜플 , 레코드  \n",
    "열 : 필드, 속성\n",
    "\n",
    "**Table**\n",
    "- 행과 열로 이루어져 있는 데이터베이스를 이루는 기본 단위\n",
    "- Storage Engine\n",
    "    - MyISAM : \n",
    "        - full text index 지원 \n",
    "        - table 단위 lock\n",
    "        - 빠른 select, 단순한 구조\n",
    "    - InnoDB : (금융권)\n",
    "        - transaction 지원\n",
    "        - row 단위 lock\n",
    "        - 많은 자원을 사용\n",
    "        - 복잡한 구조  \n",
    "        \n",
    "**Column**\n",
    "- 테이블의 세로축 데이터\n",
    "- Field, Attribute\n",
    "\n",
    "**Row**\n",
    "- 테이블의 가로축 데이터\n",
    "- Tuple, Record\n",
    "\n",
    "**Value**\n",
    "- 행과 열에 포함되어 있는 데이터\n",
    "\n",
    "**Key**\n",
    "- 행의 식별자로 사용\n",
    "\n",
    "**Relationship**\n",
    "- 1:1\n",
    "- 1:n\n",
    "- n:n\n",
    "\n",
    "\n",
    "### 스키마 (schema)\n",
    "- 데이터 베이스의 구조를 만드는 디자인"
   ]
  },
  {
   "cell_type": "markdown",
   "metadata": {},
   "source": [
    "# NoSQL (Not only sql)"
   ]
  },
  {
   "cell_type": "markdown",
   "metadata": {},
   "source": [
    "### NoSQL\n",
    "- RDBMS 한계를 극복하기 위한 데이터베이스\n",
    "- 확장성 좋음 / 분산처리 용이 (샤딩)\n",
    "- 유연한 데이터 저장, 구조의 변경이 불필요\n",
    "- Insert가 빨라 대용량 데이터베이스에 많이 사용 됨 (대신 select는 느림)\n",
    "- 스키마 및 join이 없음\n",
    "    - 많은 저장공간이 필요하다\n",
    "- JSON 포맷의 Key-Value 형태로 저장되는 데이터\n",
    "- transaction (동시에 접근했을 때, 순서에 따라 수정하는 기능) 지원되지 않음(동시수정에 대한 신뢰성 떨어짐)"
   ]
  },
  {
   "cell_type": "markdown",
   "metadata": {},
   "source": [
    "#### MongoDB\n",
    "- C++ 베이스 오픈소스 데이터 베이스\n",
    "- 뛰어난 확장성과 성능\n",
    "- 인지도가 제일 높은 NoSQL\n",
    "\n",
    "#### Collection\n",
    "- RDBMS의 Table과 같은 개념\n",
    "\n",
    "#### Document\n",
    "- RDBMS의 Row와 같은 개념\n",
    "\n",
    "#### Key\n",
    "- RDBMS의 column과 같은 개념"
   ]
  },
  {
   "cell_type": "code",
   "execution_count": null,
   "metadata": {},
   "outputs": [],
   "source": []
  },
  {
   "cell_type": "code",
   "execution_count": null,
   "metadata": {},
   "outputs": [],
   "source": []
  },
  {
   "cell_type": "code",
   "execution_count": null,
   "metadata": {},
   "outputs": [],
   "source": []
  },
  {
   "cell_type": "code",
   "execution_count": null,
   "metadata": {},
   "outputs": [],
   "source": []
  },
  {
   "cell_type": "code",
   "execution_count": null,
   "metadata": {},
   "outputs": [],
   "source": []
  }
 ],
 "metadata": {
  "kernelspec": {
   "display_name": "Python 3",
   "language": "python",
   "name": "python3"
  },
  "language_info": {
   "codemirror_mode": {
    "name": "ipython",
    "version": 3
   },
   "file_extension": ".py",
   "mimetype": "text/x-python",
   "name": "python",
   "nbconvert_exporter": "python",
   "pygments_lexer": "ipython3",
   "version": "3.6.2"
  }
 },
 "nbformat": 4,
 "nbformat_minor": 2
}
