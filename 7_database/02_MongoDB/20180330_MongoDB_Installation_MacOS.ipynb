{
 "cells": [
  {
   "cell_type": "markdown",
   "metadata": {},
   "source": [
    "# MongoDB Installation\n",
    "\n",
    "<br>\n",
    "\n",
    "## on Mac OS\n",
    "\n",
    "#### 1. Install homebrew\n",
    "\n",
    "Install **homebrew** a package management software from <https://brew.sh/index_ko.html>\n",
    "\n",
    "<br>\n",
    "\n",
    "#### 2. Install MongoDB\n",
    "\n",
    "`$ brew install mongodb`\n",
    "\n",
    "<br>\n",
    "\n",
    "#### 3. Additional Configuration & Execution\n",
    "\n",
    "- set homebrew to use `homebrew/service` as a storage  \n",
    "`$ brew tap homebrew/service`\n",
    "\n",
    "- run MongoDB through homebrew  \n",
    "`$ brew services start mongodb`\n",
    "\n",
    "- stop MongoDB through homebrew  \n",
    "`$ brew services stop mongoDB`\n",
    "\n",
    "- restart MongoDB through homebrew  \n",
    "`$ brew services restart mongoDB`\n",
    "\n",
    "- confirm service list running on homebrew  \n",
    "`$ brew services list`\n",
    "\n",
    "<br>\n",
    "\n",
    "\n",
    "#### 4. Connect to MongoDB\n",
    "\n",
    "`$ mongo`\n"
   ]
  },
  {
   "cell_type": "code",
   "execution_count": null,
   "metadata": {},
   "outputs": [],
   "source": []
  }
 ],
 "metadata": {
  "kernelspec": {
   "display_name": "Python 3",
   "language": "python",
   "name": "python3"
  },
  "language_info": {
   "codemirror_mode": {
    "name": "ipython",
    "version": 3
   },
   "file_extension": ".py",
   "mimetype": "text/x-python",
   "name": "python",
   "nbconvert_exporter": "python",
   "pygments_lexer": "ipython3",
   "version": "3.6.2"
  }
 },
 "nbformat": 4,
 "nbformat_minor": 2
}
