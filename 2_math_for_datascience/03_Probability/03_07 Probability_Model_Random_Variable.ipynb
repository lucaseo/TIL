{
 "cells": [
  {
   "cell_type": "markdown",
   "metadata": {},
   "source": [
    "# 확률 모형 (Probability Model)\n",
    "\n",
    "데이터는 실험, 조사를 통해 얻어진다.  \n",
    "이 데이터들이 어떤 특성에 따라 생성이 됐는지, 이 특성을 알기 위해 우리는 데이터를 분석하는 것.\n",
    "\n",
    "$$ \\text{데이터를 확률모형으로 바라본다} $$\n",
    "\n",
    "**표본공간 $\\Omega$** 와 표본 공간의 모든 사건에 대한 **확률**이 정해져 있을 때, 확률모형으로 샘플링을 할 수 있다\n",
    "\n",
    "가상의 데이터 생성기 ; **확률모형**  \n",
    "확률모형을 통해 데이터를 생성하는 과정 ; **샘플링** or **실현**"
   ]
  },
  {
   "cell_type": "markdown",
   "metadata": {},
   "source": [
    "### 데이터의 특성\n",
    "\n",
    "확률 모형 $\\leftrightarrow$ 실제 데이터 \n",
    "\n",
    ">(1) 확률 모형 자체는 여러번의 반복 후에도 변하지 않는다.  \n",
    "\n",
    "\n",
    ">(2) 확률 모형은 관찰할 수 없다.\n",
    ">- 확률 모형을 통해 생성되는 데이터 값을 통해 이러할 것이라고 추정/가정 할 뿐.\n",
    "\n",
    "\n",
    ">(3) 확률 모형을 통해 만들어진 데이터의 값은 확률 모형의 특성을 반영한다.\n",
    ">- 데이터의 갯수가 적을 수록 부정확. 확률 모형의 특징을 정확하게 추정할 수 없다."
   ]
  },
  {
   "cell_type": "markdown",
   "metadata": {},
   "source": [
    "### 데이터분석 flow  \n",
    "데이터 확보 $\\rightarrow$ 확률 모형의 표본 가정 $\\rightarrow$ 확률 모형의 종류 결정 $\\rightarrow$ 모수 추정 $\\rightarrow$ 구해진 확률모형으로 데이터의 특성 도출 $\\rightarrow$ 데이터 예측"
   ]
  },
  {
   "cell_type": "markdown",
   "metadata": {},
   "source": [
    "# 확률 변수 (Random Variable)\n",
    "표본 공간의 표본에 실수 값을 붙인 것\n",
    "\n",
    "확률변수 : 함수\n",
    "    - 표본공간이 정의역(domain)\n",
    "    - 실수가 공역(range)\n",
    "   \n",
    "$$ \\omega \\in \\Omega \\;\\;\\; \\xrightarrow{X} \\;\\;\\; \\text{실수 } x \\in \\mathbb{R} $$\n",
    "\n",
    "$$ X(\\omega) = x, \\;\\; x \\in \\mathbf{R} $$\n",
    "\n",
    "확률 : 사건에 할당된 숫자 (0~1)  \n",
    "확률변수 : 표본 하나 하나에 대해 할당된 숫자 (모든 실수 범위)\n",
    "\n",
    "### 특징\n",
    ">1. 이벤트를 하나의 수직선으로 구현 (실수의 집합)\n",
    ">2. 수직선 상 하나의 구간으로 사건(이벤트)을 나타낼 수 있음\n",
    ">3. 시작점, 끝점 구간으로 표현하기 용이하다\n",
    "\n",
    "$$ \\text{구간 표기 : } A = \\{ \\omega ; a \\leq X(\\omega) < b \\} = \\{ a \\leq X < b \\} $$"
   ]
  },
  {
   "cell_type": "markdown",
   "metadata": {},
   "source": [
    "# 이산 확률 변수 (Discrete Random Variable)\n",
    "\n",
    ">확률 변수 값이 연속적이지 않고 떨어져 있는 변수 ( ex. 주사위 )\n",
    "\n",
    "값이 이산성일 뿐, 유한한 것은 아니다. 값 자체는 무한대도 가능."
   ]
  },
  {
   "cell_type": "markdown",
   "metadata": {},
   "source": [
    "# 연속 확률 변수 (Continuous Random Variable)\n",
    "\n",
    ">확률 변수 값이 연속적, 무한 개인 경우 ( ex. 시간을 가리키는 시계바늘)  \n",
    ">구간(interval)이라는 사건(event)에 대해 확률을 정의\n",
    "\n",
    "\n",
    "a보다 크나 같고 b보다 작은 모든 표본을 모아 놓은 부분집합  \n",
    "$$P(\\{ a \\leq X < b \\}) = P(\\{ \\omega ; a \\leq X(\\omega) < b \\})  $$\n",
    "\n",
    "\n",
    "여러 개의 구간으로 이루어진 복잡한 사건의 경우, 콜모고로프의 공리에 의해 각 단순 구간의 합으로 구함.  \n",
    "\n",
    "$$ x_1 < x_2 < x_3 < x_4 이면 $$\n",
    "\n",
    "$$P(\\{ x_1 \\leq x \\leq x_2 \\}, \\{ x_3 \\leq x \\leq x_4\\}) = P(\\{ x_1 \\leq x \\leq x_2 \\}) + P(\\{ x_3 \\leq x \\leq x_4\\})$$"
   ]
  },
  {
   "cell_type": "code",
   "execution_count": null,
   "metadata": {},
   "outputs": [],
   "source": []
  }
 ],
 "metadata": {
  "kernelspec": {
   "display_name": "Python 3",
   "language": "python",
   "name": "python3"
  },
  "language_info": {
   "codemirror_mode": {
    "name": "ipython",
    "version": 3
   },
   "file_extension": ".py",
   "mimetype": "text/x-python",
   "name": "python",
   "nbconvert_exporter": "python",
   "pygments_lexer": "ipython3",
   "version": "3.6.2"
  }
 },
 "nbformat": 4,
 "nbformat_minor": 2
}
