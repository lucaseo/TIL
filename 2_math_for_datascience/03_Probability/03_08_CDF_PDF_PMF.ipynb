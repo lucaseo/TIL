{
 "cells": [
  {
   "cell_type": "markdown",
   "metadata": {},
   "source": [
    "# 확률 분표 (Probability Distribution)\n",
    "어떤 사건에 어느 정도의 확률이 할당되었는지 묘사한 것"
   ]
  },
  {
   "cell_type": "markdown",
   "metadata": {},
   "source": [
    "확률변수에서 사건에 할당된 숫자는 시작점과 끝점, 즉 구간(interval)으로 나타낸다.\n",
    "\n",
    "$$P(\\{ a \\leq x < b \\}) = P(a, b)$$"
   ]
  },
  {
   "cell_type": "markdown",
   "metadata": {},
   "source": [
    "시작점과 끝점. 두 개의 숫자가 아닌, 하나의 숫자로도 표현이 가능하다.\n",
    "\n",
    "$$\\{ a < X \\} = \\{ -\\infty \\leq X < a \\}$$\n",
    "$$\\{ X < b \\} = \\{ -\\infty \\leq X < b \\}$$\n",
    "\n",
    "그리고\n",
    "\n",
    "$$\\{ a < X < b \\} = \\{ -\\infty \\leq X < b \\} - \\{ -\\infty \\leq X < a \\}$$"
   ]
  },
  {
   "cell_type": "markdown",
   "metadata": {},
   "source": [
    "# 누적 분포 함수 (CDF)"
   ]
  },
  {
   "cell_type": "markdown",
   "metadata": {},
   "source": [
    "정의) 시작점과 끝점의 구간을 통해 확률을 묘사하는 함수\n",
    "\n",
    "$$ F(x) = P(\\{X < x\\}) $$\n",
    "\n",
    "특징)  \n",
    "\n",
    "- $F(-\\infty) = 0$  \n",
    "- $F(+\\infty) = 1$  \n",
    "- $F(x) \\geq F(y) \\;\\; \\text{ if } \\;\\; x > y $\n"
   ]
  },
  {
   "cell_type": "markdown",
   "metadata": {},
   "source": [
    "### **CDF 그래프** (높이가 확률)  \n",
    "\n",
    "예) 시계바늘\n",
    "- 구간은 0~360까지. \n",
    "- 0 =< 0     ( $-\\infty$ )\n",
    "- 360 >= 1   ( $+\\infty$ )\n",
    "- CDF의 기울기는 절대 아래를 향하지 않는다 (0~1의 양수)"
   ]
  },
  {
   "cell_type": "code",
   "execution_count": 51,
   "metadata": {},
   "outputs": [
    {
     "data": {
      "image/png": "[encoded data removed]",
      "text/plain": [
       "<matplotlib.figure.Figure at 0x105b10518>"
      ]
     },
     "metadata": {},
     "output_type": "display_data"
    }
   ],
   "source": [
    "t = np.linspace(-100, 500, 100)\n",
    "# x축 구간 설정\n",
    "\n",
    "F = t / 360\n",
    "# 구간 별 F값 360도\n",
    "\n",
    "F[t < 0] = 0\n",
    "F[t > 360] = 1\n",
    "# 구간은 0~360까지. 0 이하는 0, 360 이상은 1\n",
    "\n",
    "plt.plot(t, F)\n",
    "plt.ylim(-0.1, 1.1)\n",
    "plt.xticks([0, 180, 360])\n",
    "plt.title(\"CDF of clock needle probability\")\n",
    "plt.xlabel(\"x (deg.)\")\n",
    "plt.ylabel(\"F(x)\")\n",
    "\n",
    "plt.show()"
   ]
  },
  {
   "cell_type": "code",
   "execution_count": 53,
   "metadata": {},
   "outputs": [
    {
     "ename": "ValueError",
     "evalue": "The truth value of an array with more than one element is ambiguous. Use a.any() or a.all()",
     "output_type": "error",
     "traceback": [
      "\u001b[0;31m---------------------------------------------------------------------------\u001b[0m",
      "\u001b[0;31mValueError\u001b[0m                                Traceback (most recent call last)",
      "\u001b[0;32m<ipython-input-53-ac158234a976>\u001b[0m in \u001b[0;36m<module>\u001b[0;34m()\u001b[0m\n\u001b[1;32m      4\u001b[0m \u001b[0;31m# x축 구간 설정\u001b[0m\u001b[0;34m\u001b[0m\u001b[0;34m\u001b[0m\u001b[0m\n\u001b[1;32m      5\u001b[0m \u001b[0;34m\u001b[0m\u001b[0m\n\u001b[0;32m----> 6\u001b[0;31m \u001b[0mF\u001b[0m \u001b[0;34m=\u001b[0m \u001b[0;36m0\u001b[0m \u001b[0;34m<\u001b[0m \u001b[0mt\u001b[0m \u001b[0;34m<\u001b[0m\u001b[0;36m180\u001b[0m\u001b[0;34m\u001b[0m\u001b[0m\n\u001b[0m\u001b[1;32m      7\u001b[0m \u001b[0;31m# 구간 별 F값, 360도\u001b[0m\u001b[0;34m\u001b[0m\u001b[0;34m\u001b[0m\u001b[0m\n\u001b[1;32m      8\u001b[0m \u001b[0;34m\u001b[0m\u001b[0m\n",
      "\u001b[0;31mValueError\u001b[0m: The truth value of an array with more than one element is ambiguous. Use a.any() or a.all()"
     ]
    }
   ],
   "source": [
    "# 0~6시까지의 구간의 확률이 6~12시 구간보다 2배 더 높다면...?\n",
    "\n",
    "t = np.linspace(-100, 500, 100)\n",
    "# x축 구간 설정\n",
    "\n",
    "F = 0 < t <180\n",
    "# 구간 별 F값, 360도\n",
    "\n",
    "# F[t < 0] = 0\n",
    "# F[t > 360] = 1\n",
    "# 구간은 0~360까지. 0 이하는 0, 360 이상은 1\n",
    "\n",
    "plt.plot(t, F)\n",
    "plt.ylim(-0.1, 1.1)\n",
    "plt.xticks([0, 180, 360])\n",
    "plt.title(\"CDF of clock needle probability\")\n",
    "plt.xlabel(\"x (deg.)\")\n",
    "plt.ylabel(\"F(x)\")\n",
    "\n",
    "plt.show()"
   ]
  },
  {
   "cell_type": "markdown",
   "metadata": {},
   "source": [
    "**Note**  \n",
    "\n",
    "CDF는 확률의 경향을 체크할 수 있지만, \n",
    "- 분포의 형상을 설명하기가 어려움"
   ]
  },
  {
   "cell_type": "markdown",
   "metadata": {},
   "source": [
    "# 확률 밀도 함수 (PDF)\n",
    "### 정의 \n",
    "'상대적인' 확률 분포의 형태만 확인하기 위한 함수. 값 자체가 확률은 아니다.  \n",
    "CDF를 미분하면 CDF의 기울기가 나온다. 이 기울기를 통해, 구간에 얼마나 분포해 있는지 알 수 있다.\n",
    "\n",
    "1. CDF를 미분\n",
    "$$ F(x) \\rightarrow \\dfrac{dF(x)}{dx} \\rightarrow f(x) $$\n",
    "\n",
    "2. 이를 적분 (구간의 합)\n",
    "$$ F(x) = \\int_{-\\infty}^{x} f(u) du $$"
   ]
  },
  {
   "cell_type": "markdown",
   "metadata": {},
   "source": [
    "### 특징\n",
    "\n",
    "1) $-\\infty$ 부터 $\\infty$ 까지 적분하면 그 값은 1 \n",
    "\n",
    "$$ \\int_{-\\infty}^{\\infty} f(u)du = 1$$\n",
    "\n",
    "2) CDF의 기울기가 0보다 크거나 같기 때문에, PDF 또한 0보다 같거나 큼\n",
    "\n",
    "$$ f(x) \\geq 0 $$"
   ]
  },
  {
   "cell_type": "markdown",
   "metadata": {},
   "source": [
    "### PDF 그래프 그리기 (면적이 확률; 면적의 합은 1)\n",
    "\n",
    "예시) 시계바늘 그래프\n",
    "- 0시부터 12시까지 확률이 동일하다\n",
    "- 1/360 = 0.00278 균일"
   ]
  },
  {
   "cell_type": "code",
   "execution_count": 59,
   "metadata": {},
   "outputs": [
    {
     "data": {
      "image/png": "[encoded data removed]",
      "text/plain": [
       "<matplotlib.figure.Figure at 0x1148bc160>"
      ]
     },
     "metadata": {},
     "output_type": "display_data"
    }
   ],
   "source": [
    "t = np.linspace(-100, 500, 1000)\n",
    "F = t / 360\n",
    "F[t < 0] = 0\n",
    "F[t > 360] = 1\n",
    "f = np.gradient(F, 600/1000)  # 수치미분\n",
    "plt.plot(t, f)\n",
    "plt.ylim(-0.0001, f.max()*1.1)\n",
    "plt.xticks([0, 180, 360])\n",
    "plt.title(\"Probability Density Function\")\n",
    "plt.xlabel(\"$x$ (deg.)\")\n",
    "plt.ylabel(\"$f(x)$\")\n",
    "plt.show()"
   ]
  },
  {
   "cell_type": "code",
   "execution_count": 60,
   "metadata": {},
   "outputs": [
    {
     "ename": "SyntaxError",
     "evalue": "invalid syntax (<ipython-input-60-a0a7bd095056>, line 4)",
     "output_type": "error",
     "traceback": [
      "\u001b[0;36m  File \u001b[0;32m\"<ipython-input-60-a0a7bd095056>\"\u001b[0;36m, line \u001b[0;32m4\u001b[0m\n\u001b[0;31m    F = t /\u001b[0m\n\u001b[0m            ^\u001b[0m\n\u001b[0;31mSyntaxError\u001b[0m\u001b[0;31m:\u001b[0m invalid syntax\n"
     ]
    }
   ],
   "source": [
    "# 0~6시까지의 구간의 확률이 6~12시 구간보다 2배 더 높다면...?\n",
    "\n",
    "t = np.linspace(-100, 500, 1000)\n",
    "F = t / \n",
    "F[t < 0] = 0\n",
    "F[t > 360] = 1\n",
    "f = np.gradient(F, 600/1000)  # 수치미분\n",
    "plt.plot(t, f)\n",
    "plt.ylim(-0.0001, f.max()*1.1)\n",
    "plt.xticks([0, 180, 360])\n",
    "plt.title(\"Probability Density Function\")\n",
    "plt.xlabel(\"$x$ (deg.)\")\n",
    "plt.ylabel(\"$f(x)$\")\n",
    "plt.show()"
   ]
  },
  {
   "cell_type": "markdown",
   "metadata": {},
   "source": [
    "# 확률 질량 함수(PMF)\n",
    "\n",
    "### 정의\n",
    "이산 확률 변수의 할당된 값마다 확률을 정의 한 함수\n",
    "\n",
    "예시)  \n",
    "6면체 주사위에 3이 비정상적으로 많이 나오게 만든 unfair dice의 PMF"
   ]
  },
  {
   "cell_type": "code",
   "execution_count": 61,
   "metadata": {},
   "outputs": [
    {
     "data": {
      "image/png": "[encoded data removed]",
      "text/plain": [
       "<matplotlib.figure.Figure at 0x11498cb38>"
      ]
     },
     "metadata": {},
     "output_type": "display_data"
    }
   ],
   "source": [
    "x = np.arange(1,7)\n",
    "y = np.array([0.1, 0.1, 0.4, 0.2, 0.1, 0.1])\n",
    "plt.stem(x, y)\n",
    "plt.xlim(0, 7)`\n",
    "plt.ylim(-0.01, 0.5)\n",
    "plt.show()"
   ]
  },
  {
   "cell_type": "markdown",
   "metadata": {},
   "source": [
    "위 PMF의 CDF"
   ]
  },
  {
   "cell_type": "code",
   "execution_count": 63,
   "metadata": {},
   "outputs": [
    {
     "data": {
      "image/png": "[encoded data removed]",
      "text/plain": [
       "<matplotlib.figure.Figure at 0x11498c8d0>"
      ]
     },
     "metadata": {},
     "output_type": "display_data"
    }
   ],
   "source": [
    "x = np.arange(1,7)\n",
    "y = np.array([0.1, 0.1, 0.4, 0.2, 0.1, 0.1])\n",
    "z = np.cumsum(y)\n",
    "plt.step(x, z, where=\"post\");\n",
    "plt.xlim(0, 7);\n",
    "plt.ylim(-0.01, 1.1)\n",
    "plt.show()"
   ]
  },
  {
   "cell_type": "code",
   "execution_count": null,
   "metadata": {},
   "outputs": [],
   "source": []
  }
 ],
 "metadata": {
  "kernelspec": {
   "display_name": "Python 3",
   "language": "python",
   "name": "python3"
  },
  "language_info": {
   "codemirror_mode": {
    "name": "ipython",
    "version": 3
   },
   "file_extension": ".py",
   "mimetype": "text/x-python",
   "name": "python",
   "nbconvert_exporter": "python",
   "pygments_lexer": "ipython3",
   "version": "3.6.2"
  }
 },
 "nbformat": 4,
 "nbformat_minor": 2
}
