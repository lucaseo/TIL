{
 "cells": [
  {
   "cell_type": "markdown",
   "metadata": {},
   "source": [
    "- 분산과 표준편차는 제곱의 하고 안 하고의 차이이기 때문에 동일하게 본다.\n",
    "- 분산은 분포의 폭(width)를 대표하는 값"
   ]
  },
  {
   "cell_type": "markdown",
   "metadata": {},
   "source": [
    "# 샘플 분산 (Sample Variance) - 현실세계\n",
    "\n",
    "(표본분산)\n",
    "\n",
    "(식)\n",
    "$$ s^2 = \\dfrac{1}{N}\\sum_{i=1}^{N} (x_i-m)^2 $$\n",
    "\n",
    "- 중심($m$=샘플평균)에서 $x_i$까지의 거리를 평균낸 것이다.\n",
    "- 편차를 모두 더하면 0이 되기 때문에 의미 있는 숫자를 만들지 못 함\n",
    "- 그리고, $x_i$이 평균보다 작을 때는 음수가 나오므로 제곱을 통해 부호 제거\n",
    "- $x_i$이 모여있으면 분산은 작아지고\n",
    "- $x_i$이 퍼져있으면 분산은 커진다\n",
    "\n",
    "\n",
    "_비편향샘플분산...? (정리 필요)_"
   ]
  },
  {
   "cell_type": "markdown",
   "metadata": {},
   "source": [
    "# 확률분포의 분산 - 이상 세계\n",
    "\n",
    "(모분산)\n",
    "\n",
    "(식)\n",
    "$$ \\sigma^2 = \\text{Var}{[X]} = \\text{E}[(X- \\mu)^2] $$\n",
    "\n",
    "연속 확률 변수 (확률밀도함수 f(x) 사용)\n",
    "$$ \\sigma^2 = \\text{Var}{[X]} = \\text{E}{(X- \\mu)^2} = \\int_{-\\infty}^{\\infty} (x- \\mu)^2 f(x)dx $$\n",
    "\n",
    "이산 확률 변수 (확률질량함수 P(x) 사용)\n",
    "$$ \\sigma^2 = \\text{Var}{[X]} = \\text{E}{(X- \\mu)^2} = \\sum (x- \\mu)^2 P(x)$$\n",
    "\n",
    "\n",
    "\n",
    "- Var[____] : 분산을 구하는 연산자 \n",
    "- $\\sigma^2$ : 분산값 \n",
    "\n",
    "(평균으로부터 데이터까지의 거리 제곱을 P(x)이나 f(x)라는 가중치로 하여 평균한 것)"
   ]
  },
  {
   "cell_type": "markdown",
   "metadata": {},
   "source": [
    "# 분산의 성질\n",
    "\n",
    "0 또는 양수  \n",
    "(1) $ \\text{Var}[X] \\geq 0$\n",
    "\n",
    "상수 값 c에 대해  \n",
    "(2) $ \\text{Var}[c] = 0 $  \n",
    "(3) $ \\text{Var}[cX] = c^2\\text{Var}[X] $\n",
    "\n",
    "기대값의 성질을 이용  \n",
    "(4) $ \\text{Var}[X] = \\text{E}[X^2] - (\\text{E}[X])^2 = \\text{E}[X^2] - \\mu^2$  \n",
    "(5) $ \\text{E}[X^2] = \\text{Var}[X] + \\mu^2 $\n",
    "\n",
    ">(증명)  \n",
    "\\begin{eqnarray}\n",
    "\\text{Var}[X]\n",
    "&=& \\text{E}[(X-\\mu)^2] \\\\\n",
    "&=& \\text{E}[X^2-2\\mu X+\\mu^2] \\\\\n",
    "&=& \\text{E}X^2 - 2\\mu\\text{E}[X] + \\mu^2 \\\\\n",
    "&=& \\text{E}X^2 - 2\\mu\\cdot\\mu + \\mu^2 \\\\\n",
    "&=& \\text{E}X^2 - \\mu^2 \\\\\n",
    "\\end{eqnarray}"
   ]
  },
  {
   "cell_type": "markdown",
   "metadata": {},
   "source": [
    "# '두 확률 변수(X, Y)의 합'의 분산\n",
    "\n",
    "$$\\text{Var}[ X + Y ] =\n",
    "\\text{Var}[ X ] + \\text{Var}[ Y ]+ 2\\text{E}[ (X-\\mu_X)(Y-\\mu_Y) ] $$\n",
    "\n",
    ">(증명)\n",
    "\\begin{eqnarray}\n",
    "\\text{Var}\\left[ X + Y \\right] \n",
    "&=& \\text{E}\\left[ (X + Y - (\\mu_X + \\mu_Y))^2 \\right] \\\\\n",
    "&=& \\text{E}\\left[ ((X -\\mu_X) + (Y - \\mu_Y))^2 \\right] \\\\\n",
    "&=& \\text{E}\\left[ (X -\\mu_X)^2 + (Y - \\mu_Y)^2 + 2(X-\\mu_X)(Y-\\mu_Y) \\right] \\\\\n",
    "&=& \\text{E}\\left[ (X -\\mu_X)^2 \\right] + \\text{E}\\left[ (Y - \\mu_Y)^2 \\right] + 2\\text{E}\\left[ (X-\\mu_X)(Y-\\mu_Y) \\right] \n",
    "\\end{eqnarray}\n",
    "\n",
    "X, Y가 서로 독립이라면, 서로에게 영향을 미치지 않음\n",
    "\n",
    "$$ \\text{Var}[ X + Y ] =  \\text{Var}[ X ] + \\text{Var}[ Y ] = \n",
    "\\text{E}[ (X -\\mu_X)^2 ] + \\text{E}[ (Y - \\mu_Y)^2 ]$$\n",
    "\n",
    "$$ \\text{E}[(X -\\mu_X)(Y - \\mu_Y)] = 0 $$"
   ]
  },
  {
   "cell_type": "markdown",
   "metadata": {},
   "source": [
    "# 샘플 평균의 분산\n",
    "\n",
    "$$ \\text{E}[\\bar{X}] = \\text{E}[X] \\longrightarrow \\text{Var}[\\bar{X}] = \\dfrac{\\sigma^2}{N-1}$$\n",
    "\n",
    "(증명)\n",
    "\n",
    "$$ \n",
    "\\begin{eqnarray}\n",
    "\\text{Var}[\\bar{X}] \n",
    "&=& \\text{Var} \\left[ \\dfrac{1}{N} \\sum_{i=1}^N X_i \\right] \\\\\\\\\n",
    "&=& \\text{E} \\left[ \\left( \\dfrac{1}{N} \\sum_{i=1}^N X_i - \\mu \\right)^2 \\right] \\\\\\\\\n",
    "&=& \\text{E} \\left[ \\left( \\dfrac{1}{N} \\sum_{i=1}^N X_i - \\dfrac{1}{N}N\\mu \\right)^2 \\right] \\\\\\\\\n",
    "&=& \\text{E} \\left[ \\left( \\dfrac{1}{N} \\left( \\sum_{i=1}^N X_i - N\\mu \\right) \\right)^2 \\right] \\\\\\\\\n",
    "&=& \\text{E} \\left[ \\left( \\dfrac{1}{N} \\sum_{i=1}^N (X_i - \\mu) \\right)^2 \\right] \\\\\\\\\n",
    "&=& \\text{E} \\left[ \\dfrac{1}{N^2} \\sum_{i=1}^N \\sum_{j=1}^N (X_i - \\mu) (X_j - \\mu)  \\right] \\\\\\\\\\end{eqnarray}$$\n",
    "\n",
    "\n",
    "$X_i$와 $X_j$가 독립 일 때, ($i \\neq j$)  $ \\longrightarrow \\text{E}\\left[ (X_i-\\mu)(X_j-\\mu) \\right] = 0 $ 활용하면  \n",
    "\n",
    "$ i = j $인 항, 즉 제곱항만 남게 됨\n",
    "\n",
    "$$\n",
    "\\begin{eqnarray}\n",
    "\\text{E}[X]\n",
    "&=& \\text{E} [\\dfrac{1}{N^2} \\sum_{i=1}^N (X_i - \\mu)^2 ] \\\\\n",
    "&=& \\text{E} [\\dfrac{1}{N^2} \\sum_{i=1}^N (X - \\mu)^2 ] \\\\\n",
    "&=& \\text{E} [\\dfrac{1}{N^2} N (X - \\mu)^2 ] \\\\\n",
    "&=& \\text{E} [\\dfrac{1}{N} (X - \\mu)^2 ] \\\\\n",
    "&=& \\dfrac{1}{N} \\text{Var}[X] = \\dfrac{\\sigma^2}{N} \\\\\n",
    "\\end{eqnarray}\n",
    "$$\n"
   ]
  },
  {
   "cell_type": "markdown",
   "metadata": {},
   "source": [
    "# 샘플 분산의 기대값\n",
    "\n",
    "샘플 분산의 기대값은 모분산의 $ \\dfrac{N-1}{N}$ 배\n",
    "$$\\text{E}[s^2] = \\dfrac{N-1}{N}\\sigma^2$$\n",
    "\n",
    "(증명)\n",
    "$$ \\begin{eqnarray}\n",
    "\\text{E}[s^2] \n",
    "&=& \\text{E} [ \\dfrac{1}{N}\\sum_{i=1}^N (X_i - \\bar{X})^2] ( \\mu 를 더 하고 뺀다)\\\\\n",
    "&=& \\text{E} [\\dfrac{1}{N}\\sum_{i=1}^N\\{ (X_i -\\mu) - (\\bar{X} - \\mu)  \\}^2] \\\\\\\\\n",
    "&=& \\text{E}[ \\dfrac{1}{N}\\sum_{i=1}^N\\{ (X_i -\\mu)^2 - 2 (X_i -\\mu)(\\bar{X} - \\mu) +  (\\bar{X} - \\mu)^2 \\}  ] \\\\\\\\\n",
    "&=&  \\text{E} [ \\dfrac{1}{N} \\sum_{i=1}^N (X_i -\\mu)^2] \n",
    "  - 2 \\text{E} [ { \\dfrac{1}{N} \\sum_{i=1}^N (X_i -\\mu)(\\bar{X} - \\mu) } ] \n",
    "  +  \\text{E} [ { \\dfrac{1}{N} \\sum_{i=1}^N (\\bar{X} - \\mu)^2 } ] \n",
    "\\end{eqnarray} $$\n",
    "\n",
    "\n",
    "(첫번 째 항 계산)\n",
    "$$ \\begin{eqnarray}\n",
    "\\text{E} [ \\dfrac{1}{N} \\sum_{i=1}^N (X_i -\\mu)^2 ] \n",
    "&=& \\text{E} [ \\dfrac{1}{N} \\sum_{i=1}^N (X -\\mu)^2 ] \\\\\n",
    "&=& \\text{E} [ \\dfrac{1}{N} N (X -\\mu)^2 ] \\\\\n",
    "&=& \\text{E} [ (X -\\mu)^2 ] \\\\\n",
    "&=& \\text{Var}[X] \\\\\n",
    "&=& \\sigma^2 \n",
    "\\end{eqnarray} $$\n",
    "\n",
    "(두번 째 항 계산)\n",
    "$$ \\begin{eqnarray}\n",
    "\\text{E} \\left[ { \\dfrac{1}{N} \\sum_{i=1}^N (X_i -\\mu)(\\bar{X} - \\mu) } \\right] \n",
    "&=& \\text{E} \\left[ { \\dfrac{1}{N} \\sum_{i=1}^N (X_i -\\mu) \\left( \\dfrac{1}{N} \\sum_{j=1}^N X_j - \\mu \\right) } \\right]  \\\\\\\\\n",
    "&=& \\text{E} \\left[ { \\dfrac{1}{N} \\sum_{i=1}^N (X_i -\\mu) \\left( \\dfrac{1}{N} \\sum_{j=1}^N ( X_j - \\mu ) \\right) } \\right]  \\\\\\\\\n",
    "&=& \\text{E} \\left[ { \\dfrac{1}{N^2} \\sum_{i=1}^N \\sum_{j=1}^N (X_i -\\mu)  ( X_j - \\mu )} \\right]  \\\\\\\\\n",
    "&=& \\dfrac{1}{N} \\text{Var}[X] \\\\\\\\\n",
    "&=& \\dfrac{\\sigma^2}{N}\n",
    "\\end{eqnarray} $$\n",
    "\n",
    "(세번 째 항 계산)\n",
    "$$\\text{E} \\left[ { \\dfrac{1}{N} \\sum_{i=1}^N (\\bar{X} - \\mu)^2 } \\right] = \\dfrac{1}{N} \\text{Var}[X] = \\dfrac{\\sigma^2}{N}$$\n",
    "\n",
    "(종합)\n",
    "\n",
    "$$ \\text{E}[s^2] = \\sigma^2 - \\dfrac{\\sigma^2}{N} + \\dfrac{\\sigma^2}{N} = \\dfrac{N-1}{N}\\sigma^2$$  \n",
    "\n",
    "**왜** $\\dfrac{N-1}{N}$배, 더 작게 나올까?  \n",
    "\n",
    "$\\mu$ -> m 기준점이 달라졌기 때문에, $\\mu$를 정확히 알지 못 한다.\n",
    "\n",
    "\n",
    "기대값이 정확히 \\sigma^2가 되려면, $\\dfrac{N}{N-1}$이 되어야 한다.\n",
    "\n",
    "$$\n",
    "\\sigma^2 \n",
    "= \\dfrac{N}{N-1} \\text{E}[s^2] \n",
    "= \\dfrac{N}{N-1} \\text{E} \\left[ \\dfrac{1}{N} \\sum (X_i-\\bar{X})^2 \\right] \n",
    "= \\text{E} \\left[ \\dfrac{1}{N-1} \\sum (X_i-\\bar{X})^2 \\right] \n",
    "= \\text{E} \\left[ s^2_{\\text{unbiased}} \\right]\n",
    "$$"
   ]
  },
  {
   "cell_type": "markdown",
   "metadata": {},
   "source": [
    "### 파이썬에서 분산과 표준편차"
   ]
  },
  {
   "cell_type": "code",
   "execution_count": 1,
   "metadata": {},
   "outputs": [],
   "source": [
    "sp.random.seed(0)\n",
    "x = sp.stats.norm(0, 2).rvs(1000)    # mean = 0, std = 2"
   ]
  },
  {
   "cell_type": "code",
   "execution_count": 2,
   "metadata": {},
   "outputs": [
    {
     "data": {
      "text/plain": [
       "3.8969378252486169"
      ]
     },
     "execution_count": 2,
     "metadata": {},
     "output_type": "execute_result"
    }
   ],
   "source": [
    "np.var(x)"
   ]
  },
  {
   "cell_type": "code",
   "execution_count": 3,
   "metadata": {},
   "outputs": [
    {
     "data": {
      "text/plain": [
       "1.9740663173380515"
      ]
     },
     "execution_count": 3,
     "metadata": {},
     "output_type": "execute_result"
    }
   ],
   "source": [
    "np.std(x)"
   ]
  },
  {
   "cell_type": "code",
   "execution_count": 4,
   "metadata": {},
   "outputs": [
    {
     "data": {
      "text/plain": [
       "3.8969378252486169"
      ]
     },
     "execution_count": 4,
     "metadata": {},
     "output_type": "execute_result"
    }
   ],
   "source": [
    "np.nanvar(x)"
   ]
  },
  {
   "cell_type": "code",
   "execution_count": 5,
   "metadata": {},
   "outputs": [
    {
     "data": {
      "text/plain": [
       "1.9740663173380515"
      ]
     },
     "execution_count": 5,
     "metadata": {},
     "output_type": "execute_result"
    }
   ],
   "source": [
    "np.nanstd(x)"
   ]
  },
  {
   "cell_type": "markdown",
   "metadata": {},
   "source": [
    "# 모멘트\n",
    "\n",
    "(정의)  \n",
    "\n",
    "기대값, 분상 등의 **특징값**을 확률분포의 모멘트라고 함\n",
    "\n",
    "\n",
    "- 1차 모멘트 = $\\text{E}[X]$ : 기댓값 (Expectation), 어디쯤 있는지?\n",
    "\n",
    "- 2차 모멘트 = $\\text{E}[(X-\\mu)^2]$ : 분산 (Variance), 어느 정도 폭으로 모여 있는지?\n",
    "\n",
    "- 3차 모멘트 = $\\text{E}[(X-\\mu)^3]$ : 스큐니스 (Skewness), 왜도; 0이면 $\\mu$를 기점으로 대칭\n",
    "\n",
    "- 4차 모멘트 = $\\text{E}[(X-\\mu)^4]$ : 커토시스 (Kurtosis), 첨도, 분포가 얼마나 중앙으로 모여 있는지, Tail 쪽에 얼마나 있는지?\n",
    "\n",
    "\n",
    "- 모든 차수의 모멘트가 같으면, 같은 확률 분포라고 할 수 있다.\n",
    "- uni-model(봉우리가 하나)일 때는 4차까지 같으면 같은 분포라고 볼 수 있음"
   ]
  },
  {
   "cell_type": "code",
   "execution_count": null,
   "metadata": {},
   "outputs": [],
   "source": []
  }
 ],
 "metadata": {
  "kernelspec": {
   "display_name": "Python 3",
   "language": "python",
   "name": "python3"
  },
  "language_info": {
   "codemirror_mode": {
    "name": "ipython",
    "version": 3
   },
   "file_extension": ".py",
   "mimetype": "text/x-python",
   "name": "python",
   "nbconvert_exporter": "python",
   "pygments_lexer": "ipython3",
   "version": "3.6.2"
  }
 },
 "nbformat": 4,
 "nbformat_minor": 2
}
