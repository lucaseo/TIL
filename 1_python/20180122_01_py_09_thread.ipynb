{
 "cells": [
  {
   "cell_type": "markdown",
   "metadata": {},
   "source": [
    "# Thread"
   ]
  },
  {
   "cell_type": "markdown",
   "metadata": {},
   "source": [
    "If runningh a program or codes consume considering amount of time, most of the time the reasons narrow down into two.\n",
    "\n",
    "1. **I/O Bound** : common case of data input/output issue\n",
    "2. **CPU Bound** : when there are enormous amount of calculation"
   ]
  },
  {
   "cell_type": "markdown",
   "metadata": {},
   "source": [
    "2 ways of of processing data\n",
    "\n",
    "    (1) Synchronous\n",
    "        - one task must be done/completed in order to move on to the next one.\n",
    "    \n",
    "    (2) Asynchronous\n",
    "        - tasks are run independantly\n",
    "        - while one task is on process, other tasks could run by utilizint the 'idle time'. it is quicker but does not return the result in order"
   ]
  },
  {
   "cell_type": "code",
   "execution_count": 1,
   "metadata": {},
   "outputs": [],
   "source": [
    "import threading"
   ]
  },
  {
   "cell_type": "code",
   "execution_count": 16,
   "metadata": {},
   "outputs": [],
   "source": [
    "ls1 = []\n",
    "ls2 = []\n",
    "\n",
    "def threading_func_1 (number=10000):\n",
    "    for idx in range(number):\n",
    "        ls1.append(idx)\n",
    "        if idx % 100 == 0:\n",
    "            print(\"ls1\", idx)\n",
    "            \n",
    "def threading_func_2 (number = 10000):\n",
    "    for idx in range(number):\n",
    "        ls2.append(idx)\n",
    "        if idx % 100 == 0:\n",
    "            print(\"ls2:\", idx)"
   ]
  },
  {
   "cell_type": "markdown",
   "metadata": {},
   "source": [
    "With `threading`, instead of waiting for `threading_func_1` to complete, `threading_func_2` can also run at the same time. However, the result will not be in order"
   ]
  },
  {
   "cell_type": "code",
   "execution_count": 17,
   "metadata": {},
   "outputs": [
    {
     "name": "stdout",
     "output_type": "stream",
     "text": [
      "ls1 0\n",
      "ls1 100\n",
      "ls1 200\n",
      "ls1 300\n",
      "ls1 400\n",
      "ls1 500\n",
      "ls1 600\n",
      "ls1 700\n",
      "ls1 800\n",
      "ls1 900\n",
      "ls1 1000\n",
      "ls1 1100\n",
      "ls1 1200\n",
      "ls1 1300\n",
      "ls1 1400\n",
      "ls2: 0\n",
      "ls2: 100\n",
      "ls2: 200\n",
      "ls2: 300\n",
      "ls2: 400\n",
      "ls2: 500\n",
      "ls2: 600\n",
      "ls2: 700\n",
      "ls2: 800\n",
      "ls2: 900\n",
      "ls2: 1000\n",
      "ls2: 1100\n",
      "ls2: 1200\n",
      "ls2: 1300\n",
      "ls2: 1400\n",
      "ls2: 1500\n",
      "ls2: 1600\n",
      "ls2: 1700\n",
      "ls2: 1800\n",
      "ls2: 1900\n",
      "ls2: 2000\n",
      "ls2: 2100\n",
      "ls2: 2200\n",
      "ls2: 2300\n",
      "ls2: 2400\n",
      "ls2: 2500\n",
      "ls2: 2600\n",
      "ls2: 2700\n",
      "ls2: 2800\n",
      "ls2: 2900\n",
      "ls1 1500\n",
      "ls1 1600\n",
      "ls1 1700\n",
      "ls1 1800\n",
      "ls1 1900\n"
     ]
    }
   ],
   "source": [
    "th1 = threading.Thread(target = threading_func_1, args=(2000,))\n",
    "th1.start()\n",
    "\n",
    "th2 = threading.Thread(target = threading_func_2, args=(3000,))\n",
    "th2.start()"
   ]
  },
  {
   "cell_type": "code",
   "execution_count": 18,
   "metadata": {},
   "outputs": [
    {
     "data": {
      "text/plain": [
       "(2000, 3000)"
      ]
     },
     "execution_count": 18,
     "metadata": {},
     "output_type": "execute_result"
    }
   ],
   "source": [
    "len(ls1), len(ls2)"
   ]
  },
  {
   "cell_type": "markdown",
   "metadata": {},
   "source": [
    "For ...  \n",
    "\n",
    "    I/O Bound -> Thread  \n",
    "    CPU Bound -> process"
   ]
  },
  {
   "cell_type": "code",
   "execution_count": null,
   "metadata": {},
   "outputs": [],
   "source": []
  }
 ],
 "metadata": {
  "kernelspec": {
   "display_name": "Python 3",
   "language": "python",
   "name": "python3"
  },
  "language_info": {
   "codemirror_mode": {
    "name": "ipython",
    "version": 3
   },
   "file_extension": ".py",
   "mimetype": "text/x-python",
   "name": "python",
   "nbconvert_exporter": "python",
   "pygments_lexer": "ipython3",
   "version": "3.6.2"
  }
 },
 "nbformat": 4,
 "nbformat_minor": 2
}
