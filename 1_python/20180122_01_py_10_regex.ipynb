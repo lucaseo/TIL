{
 "cells": [
  {
   "cell_type": "markdown",
   "metadata": {},
   "source": [
    "# Regular Expression (Regex)\n",
    "\n",
    "Regular expressions are used to identify whether a **pattern** exists in a given sequence of characters (string) or not."
   ]
  },
  {
   "cell_type": "code",
   "execution_count": 1,
   "metadata": {},
   "outputs": [],
   "source": [
    "import re"
   ]
  },
  {
   "cell_type": "code",
   "execution_count": 21,
   "metadata": {},
   "outputs": [],
   "source": [
    "ls = \"Computer science, statistics, and maths are all required knowleges in order to become a data scientist. Others are also plus for data science\""
   ]
  },
  {
   "cell_type": "markdown",
   "metadata": {},
   "source": [
    "### match  \n",
    "find pattern starting from the very beginning of the string"
   ]
  },
  {
   "cell_type": "code",
   "execution_count": 22,
   "metadata": {},
   "outputs": [
    {
     "name": "stdout",
     "output_type": "stream",
     "text": [
      "result_1 None\n",
      "result_2 <_sre.SRE_Match object; span=(0, 8), match='Computer'>\n",
      "result_3 None\n"
     ]
    }
   ],
   "source": [
    "result_1 = re.match('maths', ls)\n",
    "result_2 = re.match('Computer', ls)\n",
    "result_3 = re.match('datascientist', ls)\n",
    "\n",
    "print(\"result_1\", result_1)\n",
    "print(\"result_2\", result_2)\n",
    "print(\"result_3\", result_3)"
   ]
  },
  {
   "cell_type": "code",
   "execution_count": 23,
   "metadata": {},
   "outputs": [
    {
     "name": "stdout",
     "output_type": "stream",
     "text": [
      "Computer 0 8 (0, 8)\n"
     ]
    }
   ],
   "source": [
    "if result_2:\n",
    "    print(result_2.group(), \n",
    "          result_2.start(), \n",
    "          result_2.end(), \n",
    "          result_2.span())"
   ]
  },
  {
   "cell_type": "markdown",
   "metadata": {},
   "source": [
    "### search  \n",
    "find the pattern that matches the first"
   ]
  },
  {
   "cell_type": "code",
   "execution_count": 24,
   "metadata": {},
   "outputs": [
    {
     "name": "stdout",
     "output_type": "stream",
     "text": [
      "result_4 : <_sre.SRE_Match object; span=(34, 39), match='maths'>\n",
      "result_5 : None\n"
     ]
    }
   ],
   "source": [
    "result_4 = re.search('maths', ls)\n",
    "result_5 = re.search('datascientist', ls)\n",
    "print(\"result_4 :\", result_4)\n",
    "print(\"result_5 :\", result_5)"
   ]
  },
  {
   "cell_type": "code",
   "execution_count": 25,
   "metadata": {},
   "outputs": [
    {
     "name": "stdout",
     "output_type": "stream",
     "text": [
      "maths 34 39 (34, 39)\n"
     ]
    }
   ],
   "source": [
    "if result_4:\n",
    "    print(result_4.group(), \n",
    "          result_4.start(), \n",
    "          result_4.end(), \n",
    "          result_4.span())"
   ]
  },
  {
   "cell_type": "markdown",
   "metadata": {},
   "source": [
    "### findall  \n",
    "find all matching pattern"
   ]
  },
  {
   "cell_type": "code",
   "execution_count": 27,
   "metadata": {},
   "outputs": [
    {
     "name": "stdout",
     "output_type": "stream",
     "text": [
      "result_6 ['are', 'are'] 2\n",
      "result_7 ['data', 'data'] 2\n"
     ]
    }
   ],
   "source": [
    "result_6 = re.findall('are', ls)\n",
    "result_7 = re.findall('data', ls)\n",
    "print(\"result_6\", result_6, len(result_6))\n",
    "print(\"result_7\", result_7, len(result_7))"
   ]
  },
  {
   "cell_type": "markdown",
   "metadata": {},
   "source": [
    "### split\n",
    "\n",
    "split by pattern  \n",
    "split string with particular pattern"
   ]
  },
  {
   "cell_type": "code",
   "execution_count": 28,
   "metadata": {},
   "outputs": [
    {
     "name": "stdout",
     "output_type": "stream",
     "text": [
      "result_8 :  ['Computer science, st', 'tistics, ', 'nd m', 'ths ', 're ', 'll required knowleges in order to become ', ' d', 't', ' scientist.']\n"
     ]
    }
   ],
   "source": [
    "ls2 = \"Computer science, statistics, and maths are all required knowleges in order to become a data scientist.\"\n",
    "result_8 = re.split('a', ls2)\n",
    "print(\"result_8 : \", result_8)"
   ]
  },
  {
   "cell_type": "markdown",
   "metadata": {},
   "source": [
    "### pattern\n",
    "\n",
    "some frequently used patterns  \n",
    "\n",
    "string\n",
    "- `\\d` : digits\n",
    "- `\\D` : nondigits\n",
    "- `\\w` : word characters & underscore `_`\n",
    "- `\\W` : nonword character\n",
    "- `\\s` : whitespace [\\t, \\n, \\r, \\f]\n",
    "- `\\S` : nonwhitespace\n",
    "\n",
    "specifier\n",
    "- `[]` : set of characters\n",
    "- `-` : ranging\n",
    "- `.` : any character\n",
    "- `?` : 0 or 1 repetition\n",
    "- `*` : 0 or more repetition\n",
    "- `+` : 1 or more repetitions\n",
    "- `{m,n}` : `m` to `n` times repetition\n",
    "- `()` : grouping\n",
    "- `|` : or"
   ]
  },
  {
   "cell_type": "markdown",
   "metadata": {},
   "source": [
    "**string**"
   ]
  },
  {
   "cell_type": "code",
   "execution_count": 29,
   "metadata": {},
   "outputs": [],
   "source": [
    "import string"
   ]
  },
  {
   "cell_type": "code",
   "execution_count": 30,
   "metadata": {},
   "outputs": [
    {
     "data": {
      "text/plain": [
       "(100,\n",
       " '0123456789abcdefghijklmnopqrstuvwxyzABCDEFGHIJKLMNOPQRSTUVWXYZ!\"#$%&\\'()*+,-./:;<=>?@[\\\\]^_`{|}~ \\t\\n\\r\\x0b\\x0c')"
      ]
     },
     "execution_count": 30,
     "metadata": {},
     "output_type": "execute_result"
    }
   ],
   "source": [
    "# show all printable string\n",
    "pt = string.printable\n",
    "len(pt), pt"
   ]
  },
  {
   "cell_type": "code",
   "execution_count": 32,
   "metadata": {},
   "outputs": [
    {
     "name": "stdout",
     "output_type": "stream",
     "text": [
      "0123456789\n"
     ]
    }
   ],
   "source": [
    "# show all digits\n",
    "digits = re.findall('\\d', pt)\n",
    "print(''.join(digits))"
   ]
  },
  {
   "cell_type": "code",
   "execution_count": 33,
   "metadata": {},
   "outputs": [
    {
     "name": "stdout",
     "output_type": "stream",
     "text": [
      "abcdefghijklmnopqrstuvwxyzABCDEFGHIJKLMNOPQRSTUVWXYZ!\"#$%&'()*+,-./:;<=>?@[\\]^_`{|}~ \t\n",
      "\r",
      "\u000b",
      "\f",
      "\n"
     ]
    }
   ],
   "source": [
    "# show all nondigits\n",
    "nondigits = re.findall('\\D', pt)\n",
    "print(''.join(nondigits))"
   ]
  },
  {
   "cell_type": "code",
   "execution_count": 34,
   "metadata": {},
   "outputs": [
    {
     "name": "stdout",
     "output_type": "stream",
     "text": [
      "0123456789abcdefghijklmnopqrstuvwxyzABCDEFGHIJKLMNOPQRSTUVWXYZ_\n"
     ]
    }
   ],
   "source": [
    "# show all word characters & underscore '_'\n",
    "words_ = re.findall('\\w', pt)\n",
    "print(''.join(words_))"
   ]
  },
  {
   "cell_type": "code",
   "execution_count": 35,
   "metadata": {},
   "outputs": [
    {
     "name": "stdout",
     "output_type": "stream",
     "text": [
      "!\"#$%&'()*+,-./:;<=>?@[\\]^`{|}~ \t\n",
      "\r",
      "\u000b",
      "\f",
      "\n"
     ]
    }
   ],
   "source": [
    "# show all nonwords characters\n",
    "nonwords = re.findall('\\W', pt)\n",
    "print(''.join(nonwords))"
   ]
  },
  {
   "cell_type": "code",
   "execution_count": 36,
   "metadata": {},
   "outputs": [
    {
     "name": "stdout",
     "output_type": "stream",
     "text": [
      "[' ', '\\t', '\\n', '\\r', '\\x0b', '\\x0c']\n"
     ]
    }
   ],
   "source": [
    "# show all whitespace\n",
    "whitespace = re.findall('\\s',pt)\n",
    "print(whitespace)"
   ]
  },
  {
   "cell_type": "code",
   "execution_count": 38,
   "metadata": {},
   "outputs": [
    {
     "name": "stdout",
     "output_type": "stream",
     "text": [
      "['0', '1', '2', '3', '4', '5', '6', '7', '8', '9', 'a', 'b', 'c', 'd', 'e', 'f', 'g', 'h', 'i', 'j', 'k', 'l', 'm', 'n', 'o', 'p', 'q', 'r', 's', 't', 'u', 'v', 'w', 'x', 'y', 'z', 'A', 'B', 'C', 'D', 'E', 'F', 'G', 'H', 'I', 'J', 'K', 'L', 'M', 'N', 'O', 'P', 'Q', 'R', 'S', 'T', 'U', 'V', 'W', 'X', 'Y', 'Z', '!', '\"', '#', '$', '%', '&', \"'\", '(', ')', '*', '+', ',', '-', '.', '/', ':', ';', '<', '=', '>', '?', '@', '[', '\\\\', ']', '^', '_', '`', '{', '|', '}', '~']\n"
     ]
    }
   ],
   "source": [
    "# show all nonwhitespace\n",
    "nonwhitespaces = re.findall('\\S',pt)\n",
    "print(nonwhitespaces)"
   ]
  },
  {
   "cell_type": "markdown",
   "metadata": {},
   "source": [
    "**specifier**"
   ]
  },
  {
   "cell_type": "markdown",
   "metadata": {},
   "source": [
    "`-` : ranging"
   ]
  },
  {
   "cell_type": "code",
   "execution_count": 39,
   "metadata": {},
   "outputs": [
    {
     "name": "stdout",
     "output_type": "stream",
     "text": [
      "0123456789\n"
     ]
    }
   ],
   "source": [
    "# [0-9] : all numbers\n",
    "numbers = re.findall('[0-9]', pt)\n",
    "print(''.join(numbers))"
   ]
  },
  {
   "cell_type": "code",
   "execution_count": 40,
   "metadata": {},
   "outputs": [
    {
     "name": "stdout",
     "output_type": "stream",
     "text": [
      "abcdefghijklmnopqrstuvwxyz\n"
     ]
    }
   ],
   "source": [
    "# [a-z] : all alphabet lowercase\n",
    "alpha_low = re.findall('[a-z]', pt)\n",
    "print(''.join(alpha_low))"
   ]
  },
  {
   "cell_type": "code",
   "execution_count": 41,
   "metadata": {},
   "outputs": [
    {
     "name": "stdout",
     "output_type": "stream",
     "text": [
      "012345\n",
      "012345\n",
      "\n"
     ]
    }
   ],
   "source": [
    "# compare [012345] == [0-5]\n",
    "result = re.findall('[012345]', pt)\n",
    "print(''.join(result))\n",
    "result = re.findall('[0-5]', pt)\n",
    "print(''.join(result), end=\"\\n\\n\")"
   ]
  },
  {
   "cell_type": "code",
   "execution_count": 42,
   "metadata": {},
   "outputs": [
    {
     "name": "stdout",
     "output_type": "stream",
     "text": [
      "234789\n",
      "234789\n",
      "\n"
     ]
    }
   ],
   "source": [
    "# compare [234789] = [2-47-9]\n",
    "result = re.findall('[234789]', pt)\n",
    "print(''.join(result))\n",
    "result = re.findall('[2-47-9]', pt)\n",
    "print(''.join(result), end=\"\\n\\n\")"
   ]
  },
  {
   "cell_type": "code",
   "execution_count": 43,
   "metadata": {},
   "outputs": [
    {
     "name": "stdout",
     "output_type": "stream",
     "text": [
      "bcde\n",
      "bcde\n",
      "bcde\n",
      "\n"
     ]
    }
   ],
   "source": [
    "# compare [bcde] == [bc-e] = [b-e]\n",
    "result = re.findall('[bcde]', pt)\n",
    "print(''.join(result))\n",
    "result = re.findall('[bc-e]', pt)\n",
    "print(''.join(result))\n",
    "result = re.findall('[b-e]', pt)\n",
    "print(''.join(result), end=\"\\n\\n\")"
   ]
  },
  {
   "cell_type": "markdown",
   "metadata": {},
   "source": [
    "`.` : one character"
   ]
  },
  {
   "cell_type": "code",
   "execution_count": 44,
   "metadata": {},
   "outputs": [
    {
     "name": "stdout",
     "output_type": "stream",
     "text": [
      "aab ['aab']\n",
      "a0b ['a0b']\n",
      "abc []\n"
     ]
    }
   ],
   "source": [
    "ls = [\"aab\", \"a0b\", \"abc\"]\n",
    "for s in ls:\n",
    "    result = re.findall('a.b', s)\n",
    "    # a + one of all characters + b\n",
    "    print(s, result)"
   ]
  },
  {
   "cell_type": "markdown",
   "metadata": {},
   "source": [
    "`?` 0 or 1 repetition"
   ]
  },
  {
   "cell_type": "code",
   "execution_count": 45,
   "metadata": {},
   "outputs": [
    {
     "name": "stdout",
     "output_type": "stream",
     "text": [
      "aab ['aab']\n",
      "a3b ['a3b']\n",
      "abc ['ab']\n",
      "accb []\n"
     ]
    }
   ],
   "source": [
    "l = [\"aab\", \"a3b\", \"abc\", \"accb\"]\n",
    "for s in l:\n",
    "    result = re.findall('a.?b', s) \n",
    "    # a + 0 or 1 of all character + b\n",
    "    print(s, result)"
   ]
  },
  {
   "cell_type": "code",
   "execution_count": 46,
   "metadata": {},
   "outputs": [
    {
     "name": "stdout",
     "output_type": "stream",
     "text": [
      "aab ['ab']\n",
      "a3b ['a3b']\n",
      "a8b []\n",
      "abc ['ab']\n",
      "accb []\n"
     ]
    }
   ],
   "source": [
    "l = [\"aab\", \"a3b\", \"a8b\", \"abc\", \"accb\"]\n",
    "for s in l:\n",
    "    result = re.findall('a[0-4]?b', s) \n",
    "    # a + 0 or 1 of characters between digits 0-4 + b\n",
    "    print(s, result)"
   ]
  },
  {
   "cell_type": "markdown",
   "metadata": {},
   "source": [
    "`*` : 0 or more repetitions"
   ]
  },
  {
   "cell_type": "code",
   "execution_count": 47,
   "metadata": {},
   "outputs": [
    {
     "name": "stdout",
     "output_type": "stream",
     "text": [
      "ac ['ac']\n",
      "abc ['abc']\n",
      "abbbbc ['abbbbc']\n",
      "a3bec []\n"
     ]
    }
   ],
   "source": [
    "l = [\"ac\",\"abc\",\"abbbbc\",\"a3bec\"]\n",
    "for s in l:\n",
    "    result = re.findall('ab*c', s) \n",
    "    # a + 0 or more repetitions of 'b' + c\n",
    "    print(s, result)"
   ]
  },
  {
   "cell_type": "markdown",
   "metadata": {},
   "source": [
    "`+` : 1 or more repetitions"
   ]
  },
  {
   "cell_type": "code",
   "execution_count": 49,
   "metadata": {},
   "outputs": [
    {
     "name": "stdout",
     "output_type": "stream",
     "text": [
      "ac []\n",
      "abc ['abc']\n",
      "abbbbc ['abbbbc']\n",
      "a3bec []\n"
     ]
    }
   ],
   "source": [
    "l = [\"ac\",\"abc\",\"abbbbc\",\"a3bec\"]\n",
    "for s in l:\n",
    "    result = re.findall('ab+c', s) \n",
    "    # a + 1 or more repetitions of 'b' + c\n",
    "    print(s, result)"
   ]
  },
  {
   "cell_type": "markdown",
   "metadata": {},
   "source": [
    "`{m,n}` : m ~ n times repetitions"
   ]
  },
  {
   "cell_type": "code",
   "execution_count": 50,
   "metadata": {},
   "outputs": [
    {
     "name": "stdout",
     "output_type": "stream",
     "text": [
      "ac []\n",
      "abcasd ['abc']\n",
      "abbc ['abbc']\n",
      "abbbc ['abbbc']\n",
      "abbbbbbc []\n"
     ]
    }
   ],
   "source": [
    "l = [\"ac\",\"abcasd\",\"abbc\",\"abbbc\",\"abbbbbbc\"]\n",
    "for s in l:\n",
    "    result = re.findall('ab{1,3}c', s) \n",
    "    # a + 1~3 times repetitions of 'b' + c\n",
    "    print(s, result)"
   ]
  },
  {
   "cell_type": "markdown",
   "metadata": {},
   "source": [
    "`()` : grouping"
   ]
  },
  {
   "cell_type": "code",
   "execution_count": 51,
   "metadata": {},
   "outputs": [
    {
     "name": "stdout",
     "output_type": "stream",
     "text": [
      "aaa5.djfi [('5', 'dj')]\n",
      "abdddc5 []\n",
      "1abbbbc []\n",
      "a3.bec [('3', 'be')]\n"
     ]
    }
   ],
   "source": [
    "l = [\"aaa5.djfi\",\"abdddc5\",\"1abbbbc\",\"a3.bec\"]\n",
    "for s in l:\n",
    "    result = re.findall('([0-9]+)[.]([a-z]{2})', s) \n",
    "    # 1 or more digits + . + 2 characters\n",
    "    print(s, result)"
   ]
  },
  {
   "cell_type": "markdown",
   "metadata": {},
   "source": [
    "### `re.compile` \n",
    "\n",
    "**result = re.match(pattern, string)** is equivalent to ...\n",
    "\n",
    "```\n",
    "prog = re.compile(pattern) \n",
    "result = prog.match(string)\n",
    "```\n",
    "\n",
    "this is more efficient when the expression will be used several times in a single program"
   ]
  },
  {
   "cell_type": "markdown",
   "metadata": {},
   "source": [
    "### regex example\n",
    "\n",
    "**re.search(pattern, string)**\n",
    "\n",
    "for `\\.` is to avoid confusion with `string .` and `regex pattern .` "
   ]
  },
  {
   "cell_type": "code",
   "execution_count": 53,
   "metadata": {},
   "outputs": [
    {
     "name": "stdout",
     "output_type": "stream",
     "text": [
      "True ['abc123deft@abc.com', 'hellopython@python.com']\n"
     ]
    }
   ],
   "source": [
    "s = \"My email address is abc123deft@abc.com. My secondary email is hellopython@python.com\"\n",
    "email = \"[0-9a-zA-Z]+@[0-9a-z]+\\.[0-9a-z]+\"\n",
    "result = True if re.search(email, s) else False\n",
    "print(result, re.findall(email, s))"
   ]
  },
  {
   "cell_type": "code",
   "execution_count": 72,
   "metadata": {},
   "outputs": [
    {
     "name": "stdout",
     "output_type": "stream",
     "text": [
      "email :  ['abc123deft@abc.com']\n",
      "password :  ****************\n"
     ]
    }
   ],
   "source": [
    "# email and password\n",
    "entry_1 = \"abc123deft@abc.com.\"\n",
    "entry_2 = \"!hellopython0147\"\n",
    "email = \"[0-9a-zA-Z]+@[0-9a-z]+\\.[0-9a-z]+\"\n",
    "pw = \"[\\S]+\"\n",
    "pw_2 = \"*\" * len(entry_2)\n",
    "print(\"email : \", re.findall(email, entry_1))\n",
    "print(\"password : \", re.sub(pw, pw_2, entry_2))\n",
    "# re.sub(pw, \"********\", entry_2) # \\g<1> : 그룹핑 첫번째 데이터 사용"
   ]
  },
  {
   "cell_type": "markdown",
   "metadata": {},
   "source": [
    " "
   ]
  },
  {
   "cell_type": "markdown",
   "metadata": {},
   "source": [
    "reference : testing regex  \n",
    "\n",
    "https://pythex.org/"
   ]
  },
  {
   "cell_type": "code",
   "execution_count": null,
   "metadata": {},
   "outputs": [],
   "source": []
  }
 ],
 "metadata": {
  "kernelspec": {
   "display_name": "Python 3",
   "language": "python",
   "name": "python3"
  },
  "language_info": {
   "codemirror_mode": {
    "name": "ipython",
    "version": 3
   },
   "file_extension": ".py",
   "mimetype": "text/x-python",
   "name": "python",
   "nbconvert_exporter": "python",
   "pygments_lexer": "ipython3",
   "version": "3.6.2"
  }
 },
 "nbformat": 4,
 "nbformat_minor": 2
}
