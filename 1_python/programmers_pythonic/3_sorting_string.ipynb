{
 "cells": [
  {
   "cell_type": "markdown",
   "metadata": {},
   "source": [
    "**문제 설명**\n",
    "\n",
    "문자열 s와 자연수 n이 입력으로 주어집니다.  \n",
    "문자열 s를 좌측 / 가운데 / 우측 정렬한 길이 n인 문자열을 한 줄씩 프린트해보세요.\n",
    "\n",
    "**제한조건**\n",
    "\n",
    "- s의 길이는 n보다 작습니다.  \n",
    "- (n - s의 길이)는 짝수입니다.  \n",
    "- s는 알파벳과 숫자로만 이루어져 있으며, 공백 문자가 포함되어있지 않습니다."
   ]
  },
  {
   "cell_type": "code",
   "execution_count": 19,
   "metadata": {},
   "outputs": [],
   "source": [
    "left = s + str(' ' * (n-len(s)))\n",
    "center = str(' ' * int((n-len(s))/2)) + s + str(' ' * int((n-len(s))/2))\n",
    "right = str(' ' * (n-len(s))) + s"
   ]
  },
  {
   "cell_type": "code",
   "execution_count": 20,
   "metadata": {},
   "outputs": [
    {
     "name": "stdout",
     "output_type": "stream",
     "text": [
      "abc    \n",
      "  abc  \n",
      "    abc\n"
     ]
    }
   ],
   "source": [
    "print(left)\n",
    "print(center)\n",
    "print(right)"
   ]
  },
  {
   "cell_type": "markdown",
   "metadata": {},
   "source": [
    "* * * *\n",
    "\n",
    "파이썬에서는 다음 string 메서드를 통해 똑같은 작업을 시행할 수 있다."
   ]
  },
  {
   "cell_type": "code",
   "execution_count": 22,
   "metadata": {},
   "outputs": [
    {
     "name": "stdout",
     "output_type": "stream",
     "text": [
      "abc    \n",
      "  abc  \n",
      "    abc\n"
     ]
    }
   ],
   "source": [
    "s = 'abc'\n",
    "n = 7\n",
    "\n",
    "print(s.ljust(n)) # 좌측 정렬\n",
    "print(s.center(n)) # 우측 정렬\n",
    "print(s.rjust(n)) # 가운데 정렬"
   ]
  },
  {
   "cell_type": "code",
   "execution_count": null,
   "metadata": {},
   "outputs": [],
   "source": []
  }
 ],
 "metadata": {
  "kernelspec": {
   "display_name": "Python 3",
   "language": "python",
   "name": "python3"
  },
  "language_info": {
   "codemirror_mode": {
    "name": "ipython",
    "version": 3
   },
   "file_extension": ".py",
   "mimetype": "text/x-python",
   "name": "python",
   "nbconvert_exporter": "python",
   "pygments_lexer": "ipython3",
   "version": "3.6.2"
  }
 },
 "nbformat": 4,
 "nbformat_minor": 2
}
