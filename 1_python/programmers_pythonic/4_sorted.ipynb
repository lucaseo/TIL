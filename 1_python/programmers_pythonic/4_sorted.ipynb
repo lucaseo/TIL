{
 "cells": [
  {
   "cell_type": "markdown",
   "metadata": {},
   "source": [
    "# Getting sorted list"
   ]
  },
  {
   "cell_type": "markdown",
   "metadata": {},
   "source": [
    "파이썬의 `sort()`는 익숙하다. 리스트의 원소를 정렬하기 위해 자주 사용하기 때문. 하지만 `sort`함수는 기존의 리스트의 순서를 변경하기 때문에, 기존 리스트의 순서를 보존하기 위해서는 `.copy()`를 사용하여 또 다른 변수를 선언 후, 정렬을 하는 방법을 사용했다. "
   ]
  },
  {
   "cell_type": "code",
   "execution_count": 4,
   "metadata": {},
   "outputs": [],
   "source": [
    "# 기존 1\n",
    "\n",
    "ls_1 = [1, 12, 234, 25, 5, 754 ,354, 55, 23, 6, 23, 121, 41]\n",
    "ls_1.sort()"
   ]
  },
  {
   "cell_type": "code",
   "execution_count": 6,
   "metadata": {},
   "outputs": [
    {
     "name": "stdout",
     "output_type": "stream",
     "text": [
      "[1, 5, 6, 12, 23, 23, 25, 41, 55, 121, 234, 354, 754]\n"
     ]
    }
   ],
   "source": [
    "# 리스트가 변경됨\n",
    "\n",
    "print(ls_1)"
   ]
  },
  {
   "cell_type": "code",
   "execution_count": 7,
   "metadata": {},
   "outputs": [],
   "source": [
    "# 기존 2\n",
    "\n",
    "ls_2 = [1, 12, 234, 25, 5, 754 ,354, 55, 23, 6, 23, 121, 41]\n",
    "ls_3 = ls_1.copy()\n",
    "ls_3.sort()"
   ]
  },
  {
   "cell_type": "code",
   "execution_count": 8,
   "metadata": {},
   "outputs": [
    {
     "name": "stdout",
     "output_type": "stream",
     "text": [
      "[1, 12, 234, 25, 5, 754, 354, 55, 23, 6, 23, 121, 41]\n",
      "[1, 5, 6, 12, 23, 23, 25, 41, 55, 121, 234, 354, 754]\n"
     ]
    }
   ],
   "source": [
    "print(ls_2)\n",
    "print(ls_3)"
   ]
  },
  {
   "cell_type": "markdown",
   "metadata": {},
   "source": [
    "* * * *"
   ]
  },
  {
   "cell_type": "markdown",
   "metadata": {},
   "source": [
    "**하지만** 때로는 기존의 리스트의 순서를 변경하지 않고도 원소가 정렬된 결과를 구하기 위해서는 다음 함수를 사용할 수 있다."
   ]
  },
  {
   "cell_type": "code",
   "execution_count": 9,
   "metadata": {},
   "outputs": [],
   "source": [
    "ls_4 = [1, 12, 234, 25, 5, 754 ,354, 55, 23, 6, 23, 121, 41]\n",
    "ls_5 = sorted(ls_4)"
   ]
  },
  {
   "cell_type": "code",
   "execution_count": 10,
   "metadata": {},
   "outputs": [
    {
     "name": "stdout",
     "output_type": "stream",
     "text": [
      "[1, 12, 234, 25, 5, 754, 354, 55, 23, 6, 23, 121, 41]\n",
      "[1, 5, 6, 12, 23, 23, 25, 41, 55, 121, 234, 354, 754]\n"
     ]
    }
   ],
   "source": [
    "print(ls_4)\n",
    "print(ls_5)"
   ]
  },
  {
   "cell_type": "code",
   "execution_count": null,
   "metadata": {},
   "outputs": [],
   "source": []
  }
 ],
 "metadata": {
  "kernelspec": {
   "display_name": "Python 3",
   "language": "python",
   "name": "python3"
  },
  "language_info": {
   "codemirror_mode": {
    "name": "ipython",
    "version": 3
   },
   "file_extension": ".py",
   "mimetype": "text/x-python",
   "name": "python",
   "nbconvert_exporter": "python",
   "pygments_lexer": "ipython3",
   "version": "3.6.2"
  }
 },
 "nbformat": 4,
 "nbformat_minor": 2
}
