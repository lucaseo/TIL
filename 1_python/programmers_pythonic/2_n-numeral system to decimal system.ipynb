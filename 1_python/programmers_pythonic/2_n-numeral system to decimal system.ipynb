{
 "cells": [
  {
   "cell_type": "markdown",
   "metadata": {},
   "source": [
    "### n진법으로 표기된 string을 10진법 숫자로 변환하기\n",
    "\n",
    "`base` 진법으로 표기된 숫자를 10진법 숫자 출력해보세요.\n",
    "\n",
    "**input**\n",
    "\n",
    "입력으로는 공백으로 구분된 숫자가 두 개 주어집니다.  \n",
    "첫 번째 숫자는 num을 나타내며, 두 번째 숫자는 base를 나타냅니다.\n",
    "\n",
    "**output**\n",
    "\n",
    "base 진법으로 표기된 num을 10진법 숫자로 출력해보세요.\n",
    "\n",
    "**condition**\n",
    "\n",
    "base는 10 이하인 자연수입니다.  \n",
    "num은 3000 이하인 자연수입니다.  \n",
    "\n",
    "**example**\n",
    "\n",
    "input\t\n",
    "`12 3`  \n",
    "output  \n",
    "`5`\n",
    "\n",
    "input  \n",
    "`444 5`  \n",
    "output  \n",
    "`124`\n",
    "\n",
    "<br>\n",
    "\n",
    "입출력 예1  \n",
    "3진법으로 표기된 12는 10진법으로 표현하면 5입니다. ( 1 x 3 + 2 )\n",
    "\n",
    "입출력 예2  \n",
    "5진법으로 표기된 444는 10진법으로 표현하면 124입니다. ( 4 x 5 x 5 + 4 x 5 + 4 )\n",
    "\n",
    "* * * *"
   ]
  },
  {
   "cell_type": "code",
   "execution_count": 69,
   "metadata": {},
   "outputs": [
    {
     "name": "stdout",
     "output_type": "stream",
     "text": [
      "12 3\n"
     ]
    }
   ],
   "source": [
    "num, base = map(int, input().strip().split(' '))"
   ]
  },
  {
   "cell_type": "code",
   "execution_count": 74,
   "metadata": {},
   "outputs": [],
   "source": [
    "def get_decimal():\n",
    "    num, base = map(int, input().strip().split(' '))\n",
    "    \n",
    "    result = 0\n",
    "    length = len(list(str(num)))\n",
    "\n",
    "    for i in list(str(num)):\n",
    "        if list(str(num)).index(i) == len(ls) - 1:\n",
    "            result += int(i)\n",
    "        else:\n",
    "            a = int(i) * (base**(length-1))\n",
    "            result += a\n",
    "            length -= 1\n",
    "    \n",
    "    return result"
   ]
  },
  {
   "cell_type": "code",
   "execution_count": 75,
   "metadata": {},
   "outputs": [
    {
     "name": "stdout",
     "output_type": "stream",
     "text": [
      "12 3\n"
     ]
    },
    {
     "data": {
      "text/plain": [
       "5"
      ]
     },
     "execution_count": 75,
     "metadata": {},
     "output_type": "execute_result"
    }
   ],
   "source": [
    "get_decimal()"
   ]
  },
  {
   "cell_type": "code",
   "execution_count": 76,
   "metadata": {},
   "outputs": [
    {
     "name": "stdout",
     "output_type": "stream",
     "text": [
      "444 5\n"
     ]
    },
    {
     "data": {
      "text/plain": [
       "124"
      ]
     },
     "execution_count": 76,
     "metadata": {},
     "output_type": "execute_result"
    }
   ],
   "source": [
    "get_decimal()"
   ]
  },
  {
   "cell_type": "markdown",
   "metadata": {},
   "source": [
    "* * * *\n",
    "\n",
    "### Other approach\n",
    "\n",
    "`num`를 뒤에서부터 읽으며 enumerate함수를 통해서 idx로 제곱해주면 더 간단하게 구현할 수 있다. "
   ]
  },
  {
   "cell_type": "code",
   "execution_count": 85,
   "metadata": {},
   "outputs": [],
   "source": [
    "def get_decimal_2():\n",
    "    num, base = map(int, input().strip().split(' '))\n",
    "    \n",
    "    result = 0\n",
    "    \n",
    "    for idx, i in enumerate(list(str(num)[::-1])):\n",
    "        result += int(i) * ( base ** idx )\n",
    "    \n",
    "    return result"
   ]
  },
  {
   "cell_type": "code",
   "execution_count": 86,
   "metadata": {},
   "outputs": [
    {
     "name": "stdout",
     "output_type": "stream",
     "text": [
      "3212 5\n"
     ]
    },
    {
     "data": {
      "text/plain": [
       "432"
      ]
     },
     "execution_count": 86,
     "metadata": {},
     "output_type": "execute_result"
    }
   ],
   "source": [
    "get_decimal_2()"
   ]
  },
  {
   "cell_type": "markdown",
   "metadata": {},
   "source": [
    "* * * *\n",
    "\n",
    "파이썬에서는  \n",
    "int(num, base = base) 함수를 통해 10진법 변환을 할 수 있다.  \n",
    "이 기본적인 함수를 잘 쓰면 코드를 짧게 쓸 수 있고, 또 시간을 절약할 수 있다."
   ]
  },
  {
   "cell_type": "code",
   "execution_count": 90,
   "metadata": {},
   "outputs": [
    {
     "name": "stdout",
     "output_type": "stream",
     "text": [
      "3212 5\n"
     ]
    },
    {
     "data": {
      "text/plain": [
       "432"
      ]
     },
     "execution_count": 90,
     "metadata": {},
     "output_type": "execute_result"
    }
   ],
   "source": [
    "num, base = map(int, input().strip().split(' '))\n",
    "answer = int(str(num), base)\n",
    "answer"
   ]
  },
  {
   "cell_type": "code",
   "execution_count": 91,
   "metadata": {},
   "outputs": [
    {
     "name": "stdout",
     "output_type": "stream",
     "text": [
      "12 3\n"
     ]
    },
    {
     "data": {
      "text/plain": [
       "5"
      ]
     },
     "execution_count": 91,
     "metadata": {},
     "output_type": "execute_result"
    }
   ],
   "source": [
    "num, base = map(int, input().strip().split(' '))\n",
    "answer = int(str(num), base)\n",
    "answer"
   ]
  },
  {
   "cell_type": "code",
   "execution_count": 92,
   "metadata": {},
   "outputs": [
    {
     "name": "stdout",
     "output_type": "stream",
     "text": [
      "444 5\n"
     ]
    },
    {
     "data": {
      "text/plain": [
       "124"
      ]
     },
     "execution_count": 92,
     "metadata": {},
     "output_type": "execute_result"
    }
   ],
   "source": [
    "num, base = map(int, input().strip().split(' '))\n",
    "answer = int(str(num), base)\n",
    "answer"
   ]
  },
  {
   "cell_type": "code",
   "execution_count": null,
   "metadata": {},
   "outputs": [],
   "source": []
  }
 ],
 "metadata": {
  "kernelspec": {
   "display_name": "Python 3",
   "language": "python",
   "name": "python3"
  },
  "language_info": {
   "codemirror_mode": {
    "name": "ipython",
    "version": 3
   },
   "file_extension": ".py",
   "mimetype": "text/x-python",
   "name": "python",
   "nbconvert_exporter": "python",
   "pygments_lexer": "ipython3",
   "version": "3.6.2"
  }
 },
 "nbformat": 4,
 "nbformat_minor": 2
}
