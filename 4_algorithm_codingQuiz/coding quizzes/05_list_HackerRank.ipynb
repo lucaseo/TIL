{
 "cells": [
  {
   "cell_type": "markdown",
   "metadata": {},
   "source": [
    "# Lists  \n",
    "from: [HackerRank](https://www.hackerrank.com/challenges/python-lists/problem) - (easy)\n",
    "\n",
    "Consider a list (list = []). You can perform the following commands:\n",
    "\n",
    "insert `i`, `e`: Insert integer at position.  \n",
    "print(): Print the list.  \n",
    "remove `e`: Delete the first occurrence of integer.  \n",
    "append `e`: Insert integer  at the end of the list.  \n",
    "sort: Sort the list.  \n",
    "pop: Pop the last element from the list.  \n",
    "reverse: Reverse the list.  \n",
    "\n",
    "Initialize your list and read in the value of  followed by  lines of commands where each command will be of the types listed above. Iterate through each command in order and perform the corresponding operation on your list.\n",
    "\n",
    "**Input Format**\n",
    "The first line contains an integer, n, denoting the number of commands.\n",
    "Each line  of the  subsequent lines contains one of the commands described above.\n",
    "\n",
    "**Constraints**  \n",
    "The elements added to the list must be integers.\n",
    "\n",
    "**Output Format**  \n",
    "For each command of type print, print the list on a new line.\n",
    "\n",
    "**Sample Input**\n",
    "```\n",
    "12\n",
    "insert 0 5\n",
    "insert 1 10\n",
    "insert 0 6\n",
    "print\n",
    "remove 6\n",
    "append 9\n",
    "append 1\n",
    "sort\n",
    "print\n",
    "pop\n",
    "reverse\n",
    "print\n",
    "```\n",
    "**Sample Output**\n",
    "```\n",
    "[6, 5, 10]\n",
    "[1, 5, 9, 10]\n",
    "[9, 5, 1]\n",
    "```"
   ]
  },
  {
   "cell_type": "code",
   "execution_count": 1,
   "metadata": {},
   "outputs": [
    {
     "name": "stdout",
     "output_type": "stream",
     "text": [
      "12\n",
      "insert 0 5\n",
      "insert 1 10\n",
      "insert 0 6\n",
      "print\n",
      "[6, 5, 10]\n",
      "remove 6\n",
      "append 9\n",
      "append 1\n",
      "sort\n",
      "print\n",
      "[1, 5, 9, 10]\n",
      "pop\n",
      "reverse\n",
      "print\n",
      "[9, 5, 1]\n"
     ]
    }
   ],
   "source": [
    "N = int(input())\n",
    "ls = []\n",
    "for i in range(N):\n",
    "    n = input()\n",
    "    a = n.split()\n",
    "    cmd = a[0]\n",
    "    if cmd == \"insert\":\n",
    "        ls.insert(int(a[1]), int(a[2]))\n",
    "    elif cmd == \"remove\":\n",
    "        ls.remove(int(a[1]))\n",
    "    elif cmd == \"append\":\n",
    "        ls.append(int(a[1]))\n",
    "    elif cmd == \"sort\":\n",
    "        ls.sort()\n",
    "    elif cmd == \"pop\":\n",
    "        ls.pop()\n",
    "    elif cmd == \"reverse\":\n",
    "        ls.reverse()\n",
    "    elif cmd == \"print\":\n",
    "        print(ls)"
   ]
  },
  {
   "cell_type": "code",
   "execution_count": 5,
   "metadata": {},
   "outputs": [
    {
     "name": "stdout",
     "output_type": "stream",
     "text": [
      "12\n",
      "insert 0 5\n",
      "insert 1 10\n",
      "insert 0 6\n",
      "print\n",
      "[6, 5, 10]\n",
      "remove 6\n",
      "append 9\n",
      "append 1\n",
      "sort\n",
      "print\n",
      "[1, 5, 9, 10]\n",
      "pop\n",
      "reverse\n",
      "print\n",
      "[9, 5, 1]\n"
     ]
    }
   ],
   "source": [
    "n = int(input())\n",
    "ls = []\n",
    "for _ in range(n):\n",
    "    s = input().split()\n",
    "    cmd = s[0]\n",
    "    args = s[1:]\n",
    "    if cmd !=\"print\":\n",
    "        cmd += \"(\"+ \",\".join(args) +\")\"\n",
    "        eval(\"ls.\"+cmd)\n",
    "    else:\n",
    "        print(ls)"
   ]
  },
  {
   "cell_type": "code",
   "execution_count": null,
   "metadata": {},
   "outputs": [],
   "source": []
  }
 ],
 "metadata": {
  "kernelspec": {
   "display_name": "Python 3",
   "language": "python",
   "name": "python3"
  },
  "language_info": {
   "codemirror_mode": {
    "name": "ipython",
    "version": 3
   },
   "file_extension": ".py",
   "mimetype": "text/x-python",
   "name": "python",
   "nbconvert_exporter": "python",
   "pygments_lexer": "ipython3",
   "version": "3.6.2"
  }
 },
 "nbformat": 4,
 "nbformat_minor": 2
}
