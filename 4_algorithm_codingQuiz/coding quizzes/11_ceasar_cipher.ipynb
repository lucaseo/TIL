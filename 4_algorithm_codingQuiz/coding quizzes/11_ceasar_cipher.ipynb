{
 "cells": [
  {
   "cell_type": "markdown",
   "metadata": {},
   "source": [
    "어떤 문장의 각 알파벳을 일정한 거리만큼 밀어서 다른 알파벳으로 바꾸는 암호화 방식을 시저 암호라고 합니다.\n",
    "\n",
    "A를 3만큼 밀면 D가 되고 z를 1만큼 밀면 a가 됩니다. 공백은 수정하지 않습니다.\n",
    "\n",
    "보낼 문자열 s와 얼마나 밀지 알려주는 n을 입력받아 암호문을 만드는 caesar 함수를 완성해 보세요.\n",
    "\n",
    "“a B z”,4를 입력받았다면 “e F d”를 리턴합니다."
   ]
  },
  {
   "cell_type": "code",
   "execution_count": 3,
   "metadata": {
    "scrolled": true
   },
   "outputs": [],
   "source": [
    "def caesar(s, n):\n",
    "    ls = list(s)\n",
    "    result = []\n",
    "    \n",
    "    alpha_cap = \"ABCDEFGHIJKLMNOPQRSTUVWXYZ\"\n",
    "    alpha_low = alpha_cap.lower()\n",
    "    \n",
    "    alpha_cap = list(alpha_cap)\n",
    "    alpha_low = list(alpha_low)\n",
    "    \n",
    "    for i in ls:\n",
    "        if i == ' ':\n",
    "            result.append(' ')\n",
    "        else :\n",
    "            for j in range(0,26):\n",
    "                if alpha_low[j] == i :\n",
    "                    a = alpha_low[j+n - 26]\n",
    "                    result.append(a)\n",
    "                elif alpha_low[j] == i:\n",
    "                    b = alpha_low[j + n]\n",
    "                    result.append(b)\n",
    "                elif alpha_cap[j] == i:\n",
    "                    c = alpha_cap[j+n - 26]\n",
    "                    result.append(c)\n",
    "                elif alpha_cap[j] == i:\n",
    "                    d = alpha_cap[j + n]\n",
    "                    result.append(d)\n",
    "\n",
    "\n",
    "\n",
    "    result = ''.join(result)         \n",
    "    return result\n",
    "    # 주어진 문장을 암호화하여 반환하세요.\n",
    "\n",
    "\n",
    "# 실행을 위한 테스트코드입니다.\n"
   ]
  },
  {
   "cell_type": "code",
   "execution_count": 5,
   "metadata": {
    "scrolled": true
   },
   "outputs": [
    {
     "data": {
      "text/plain": [
       "'Ymnx nx fs jcfruqj tk Hfjxfw Hnumjw'"
      ]
     },
     "execution_count": 5,
     "metadata": {},
     "output_type": "execute_result"
    }
   ],
   "source": [
    "caesar(\"This is an example of Caesar Cipher\", 5)"
   ]
  },
  {
   "cell_type": "code",
   "execution_count": null,
   "metadata": {},
   "outputs": [],
   "source": []
  }
 ],
 "metadata": {
  "kernelspec": {
   "display_name": "Python 3",
   "language": "python",
   "name": "python3"
  },
  "language_info": {
   "codemirror_mode": {
    "name": "ipython",
    "version": 3
   },
   "file_extension": ".py",
   "mimetype": "text/x-python",
   "name": "python",
   "nbconvert_exporter": "python",
   "pygments_lexer": "ipython3",
   "version": "3.6.2"
  }
 },
 "nbformat": 4,
 "nbformat_minor": 2
}
