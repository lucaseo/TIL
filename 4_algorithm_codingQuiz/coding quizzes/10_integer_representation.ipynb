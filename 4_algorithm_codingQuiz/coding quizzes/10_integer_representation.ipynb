{
 "cells": [
  {
   "cell_type": "markdown",
   "metadata": {},
   "source": [
    "## 숫자의 표현\n",
    "수학을 공부하던 민지는 재미있는 사실을 발견하였습니다.   \n",
    "그 사실은 바로 연속된 자연수의 합으로 어떤 숫자를 표현하는 방법이 여러 가지라는 것입니다.   \n",
    "예를 들어, 15를 표현하는 방법은  \n",
    "(1+2+3+4+5)  \n",
    "(4+5+6)  \n",
    "(7+8)  \n",
    "(15)  \n",
    "로 총 4가지가 존재합니다. \n",
    "숫자를 입력받아 연속된 수로 표현하는 방법을 반환하는  \n",
    "expressions 함수를 만들어 민지를 도와주세요.  \n",
    "예를 들어 15가 입력된다면 4를 반환해 주면 됩니다."
   ]
  },
  {
   "cell_type": "code",
   "execution_count": 1,
   "metadata": {},
   "outputs": [],
   "source": [
    "# 지수님 풀이 참조\n",
    "\n",
    "def expressions(num):\n",
    "    answer_e = 1  ## 짝수는 자기자신은 무조건 표현가능\n",
    "    answer_o = 2  ## 1을 제외한 홀수는 자기자신과 두 개의 수로 무조건 표현가능\n",
    "    if num == 1:   ## 1일 때는 자기자신 밖에 표현하지 못한다.\n",
    "        answer = 1\n",
    "    elif num % 2 == 0:  ## 짝수일 때\n",
    "        ls = [i for i in range(1, num+1) if i % 2 == 0]\n",
    "        for k in ls:    ## 짝수개로 표현\n",
    "            if (num-k) % (2*k) == 0 and ((num-k)/(2*k)-k+1) > 0:\n",
    "                answer_e += 1\n",
    "        ls = [i for i in range(3, num+1) if i % 2 != 0]\n",
    "        for j in ls:    ## 홀수개로 표현\n",
    "            if num % j == 0 and (num/j)-((j-1)/2) > 0:\n",
    "                answer_e += 1\n",
    "        answer = answer_e\n",
    "    else:  ## 홀수일 때\n",
    "        ls = [i for i in range(3, num+1) if i % 2 != 0]\n",
    "        for k in ls:  ## 홀수개로 표현\n",
    "            if num % k == 0 and (num/k)-((k-1)/2) > 0:\n",
    "                answer_o += 1\n",
    "        for j in ls:  ## 짝수개로 표현\n",
    "            if (num-j) % (2*j) == 0 and ((num-j)/(2*j)-j+1) > 0:\n",
    "                answer_o += 1\n",
    "        answer = answer_o  \n",
    "    return answer\n",
    "    \n",
    "# 아래는 테스트로 출력해 보기 위한 코드입니다.\n",
    "\n",
    "\n"
   ]
  },
  {
   "cell_type": "code",
   "execution_count": null,
   "metadata": {},
   "outputs": [],
   "source": []
  }
 ],
 "metadata": {
  "kernelspec": {
   "display_name": "Python 3",
   "language": "python",
   "name": "python3"
  },
  "language_info": {
   "codemirror_mode": {
    "name": "ipython",
    "version": 3
   },
   "file_extension": ".py",
   "mimetype": "text/x-python",
   "name": "python",
   "nbconvert_exporter": "python",
   "pygments_lexer": "ipython3",
   "version": "3.6.2"
  }
 },
 "nbformat": 4,
 "nbformat_minor": 2
}
