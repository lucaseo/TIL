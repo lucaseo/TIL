{
 "cells": [
  {
   "cell_type": "markdown",
   "metadata": {},
   "source": [
    "http://codingdojang.com/scode/408?answer_mode=hide\n",
    "\n",
    "1차원의 점들이 주어졌을 때, 그 중 가장 거리가 짧은 것의 쌍을 출력하는 함수를 작성하시오. (단 점들의 배열은 모두 정렬되어있다고 가정한다.)\n",
    "\n",
    "예를들어 S={1, 3, 4, 8, 13, 17, 20} 이 주어졌다면, 결과값은 (3, 4)가 될 것이다."
   ]
  },
  {
   "cell_type": "code",
   "execution_count": 1,
   "metadata": {},
   "outputs": [
    {
     "name": "stdout",
     "output_type": "stream",
     "text": [
      "[44, 156, 174, 227, 243, 389, 414, 625, 896, 963, 988]\n",
      "[112, 18, 53, 16, 146, 25, 211, 271, 67, 25]\n",
      "16\n",
      "227 243\n"
     ]
    }
   ],
   "source": [
    "import random\n",
    "\n",
    "input_ls = []\n",
    "for x in range(10+1):\n",
    "    data = random.randint(1, 1000)\n",
    "    input_ls.append(data)\n",
    "    \n",
    "input_ls.sort()\n",
    "print(input_ls)\n",
    "\n",
    "diffs = []\n",
    "for index in range(10):\n",
    "    in_deduct = input_ls[index+1] - input_ls[index]\n",
    "    if in_deduct != 0:\n",
    "        diffs.append(in_deduct)\n",
    "print(diffs)\n",
    "        \n",
    "y = input_ls[10]\n",
    "for diff in diffs:\n",
    "    if diff < y:\n",
    "        y = diff\n",
    "print(y)\n",
    "        \n",
    "\n",
    "for idx, j in enumerate(diffs):\n",
    "    if j == y:\n",
    "        print(input_ls[idx], input_ls[idx+1])\n",
    "        \n"
   ]
  },
  {
   "cell_type": "markdown",
   "metadata": {},
   "source": [
    "# 개선점 : list comprehension을 적극적으로 사용한다."
   ]
  },
  {
   "cell_type": "markdown",
   "metadata": {},
   "source": [
    "지수님 코드"
   ]
  },
  {
   "cell_type": "code",
   "execution_count": 2,
   "metadata": {},
   "outputs": [],
   "source": [
    "def min_dist(list):\n",
    "    new_list = [list[i+1] - list[i] for i in range(len(list)-1)]\n",
    "    md = min(new_list)\n",
    "    index = [i for i, j in enumerate(new_list) if j == md] \n",
    "    answer = []\n",
    "    for i in index:\n",
    "        answer.append((list[i],list[i+1]))\n",
    "    return(answer)\n",
    "### 거리가 최소인 것이 여러개 일 때도 가능 "
   ]
  },
  {
   "cell_type": "code",
   "execution_count": 3,
   "metadata": {},
   "outputs": [
    {
     "name": "stdout",
     "output_type": "stream",
     "text": [
      "[(3, 4)]\n",
      "[(3, 4), (4, 5), (13, 14)]\n"
     ]
    }
   ],
   "source": [
    "ex = [1, 3, 4, 8, 13, 17, 20]\n",
    "ex_2 = [-1, 1, 3, 4, 5, 8, 13, 14, 20]\n",
    "print(min_dist(ex))\n",
    "print(min_dist(ex_2))"
   ]
  },
  {
   "cell_type": "markdown",
   "metadata": {},
   "source": [
    "준성님 코드"
   ]
  },
  {
   "cell_type": "code",
   "execution_count": 6,
   "metadata": {},
   "outputs": [
    {
     "name": "stdout",
     "output_type": "stream",
     "text": [
      "[5, 171, 125, 50, 46, 81, 45, 166, 119, 198]\n",
      "(45,46)\n"
     ]
    }
   ],
   "source": [
    "import random\n",
    "import numpy as np\n",
    "\n",
    "np.random.seed(23)\n",
    "data = [random.randint(1,200) for _ in range(10)]\n",
    "print(data)\n",
    "data.sort()\n",
    "\n",
    "lenls = [data[x+1] - data[x] for x in range(len(data)-1)]\n",
    "m = data[len(data)-1]\n",
    "for len_ in lenls:\n",
    "    if m > len_:\n",
    "        m = len_\n",
    "for idx, x in enumerate(lenls):\n",
    "    if x == m:\n",
    "        print('({},{})'.format(data[idx],data[idx+1]))"
   ]
  },
  {
   "cell_type": "code",
   "execution_count": null,
   "metadata": {},
   "outputs": [],
   "source": []
  }
 ],
 "metadata": {
  "kernelspec": {
   "display_name": "Python 3",
   "language": "python",
   "name": "python3"
  },
  "language_info": {
   "codemirror_mode": {
    "name": "ipython",
    "version": 3
   },
   "file_extension": ".py",
   "mimetype": "text/x-python",
   "name": "python",
   "nbconvert_exporter": "python",
   "pygments_lexer": "ipython3",
   "version": "3.6.2"
  }
 },
 "nbformat": 4,
 "nbformat_minor": 2
}
