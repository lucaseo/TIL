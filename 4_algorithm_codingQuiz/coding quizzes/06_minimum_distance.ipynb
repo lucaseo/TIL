{
 "cells": [
  {
   "cell_type": "markdown",
   "metadata": {},
   "source": [
    "http://codingdojang.com/scode/408?answer_mode=hide\n",
    "\n",
    "1차원의 점들이 주어졌을 때, 그 중 가장 거리가 짧은 것의 쌍을 출력하는 함수를 작성하시오. (단 점들의 배열은 모두 정렬되어있다고 가정한다.)\n",
    "\n",
    "예를들어 S={1, 3, 4, 8, 13, 17, 20} 이 주어졌다면, 결과값은 (3, 4)가 될 것이다."
   ]
  },
  {
   "cell_type": "code",
   "execution_count": 2,
   "metadata": {},
   "outputs": [],
   "source": [
    "import random"
   ]
  },
  {
   "cell_type": "code",
   "execution_count": 3,
   "metadata": {},
   "outputs": [
    {
     "name": "stdout",
     "output_type": "stream",
     "text": [
      "[60, 136, 181, 234, 331, 418, 497, 689, 768, 867, 966]\n",
      "[76, 45, 53, 97, 87, 79, 192, 79, 99, 99]\n",
      "45\n",
      "136 181\n"
     ]
    }
   ],
   "source": [
    "input_ls = []\n",
    "for x in range(10+1):\n",
    "    data = random.randint(1, 1000)\n",
    "    input_ls.append(data)\n",
    "    \n",
    "input_ls.sort()\n",
    "print(input_ls)\n",
    "\n",
    "diffs = []\n",
    "for index in range(10):\n",
    "    in_deduct = input_ls[index+1] - input_ls[index]\n",
    "    if in_deduct != 0:\n",
    "        diffs.append(in_deduct)\n",
    "print(diffs)\n",
    "        \n",
    "y = input_ls[10]\n",
    "for diff in diffs:\n",
    "    if diff < y:\n",
    "        y = diff\n",
    "print(y)\n",
    "        \n",
    "\n",
    "for idx, j in enumerate(diffs):\n",
    "    if j == y:\n",
    "        print(input_ls[idx], input_ls[idx+1])"
   ]
  },
  {
   "cell_type": "code",
   "execution_count": null,
   "metadata": {},
   "outputs": [],
   "source": []
  }
 ],
 "metadata": {
  "kernelspec": {
   "display_name": "Python 3",
   "language": "python",
   "name": "python3"
  },
  "language_info": {
   "codemirror_mode": {
    "name": "ipython",
    "version": 3
   },
   "file_extension": ".py",
   "mimetype": "text/x-python",
   "name": "python",
   "nbconvert_exporter": "python",
   "pygments_lexer": "ipython3",
   "version": "3.6.2"
  }
 },
 "nbformat": 4,
 "nbformat_minor": 2
}
