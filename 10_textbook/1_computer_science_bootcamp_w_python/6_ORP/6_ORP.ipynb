{
 "cells": [
  {
   "cell_type": "code",
   "execution_count": null,
   "metadata": {},
   "outputs": [],
   "source": [
    "from openpyxl import *"
   ]
  },
  {
   "cell_type": "code",
   "execution_count": null,
   "metadata": {},
   "outputs": [],
   "source": [
    "wb = load_workbook('exam.xlsx')"
   ]
  },
  {
   "cell_type": "code",
   "execution_count": null,
   "metadata": {},
   "outputs": [],
   "source": [
    "wb.sheetnames"
   ]
  },
  {
   "cell_type": "code",
   "execution_count": null,
   "metadata": {},
   "outputs": [],
   "source": [
    "ws = wb.active"
   ]
  },
  {
   "cell_type": "code",
   "execution_count": null,
   "metadata": {},
   "outputs": [],
   "source": [
    "ws"
   ]
  },
  {
   "cell_type": "code",
   "execution_count": null,
   "metadata": {},
   "outputs": [],
   "source": [
    "g = ws.rows # .rows는 데이터가 있는 모든 행을 발생자 객체로 반환"
   ]
  },
  {
   "cell_type": "code",
   "execution_count": null,
   "metadata": {},
   "outputs": [],
   "source": [
    "g"
   ]
  },
  {
   "cell_type": "code",
   "execution_count": null,
   "metadata": {},
   "outputs": [],
   "source": [
    "cells = next(g)"
   ]
  },
  {
   "cell_type": "code",
   "execution_count": null,
   "metadata": {},
   "outputs": [],
   "source": [
    "cells"
   ]
  },
  {
   "cell_type": "code",
   "execution_count": null,
   "metadata": {},
   "outputs": [],
   "source": [
    "keys = []\n",
    "\n",
    "for cell in cells:\n",
    "    keys.append(cell.value)\n",
    "    \n",
    "keys"
   ]
  },
  {
   "cell_type": "code",
   "execution_count": null,
   "metadata": {},
   "outputs": [],
   "source": [
    "student_data = []\n",
    "\n",
    "for row in g:\n",
    "    dic = {k : c.value for k, c in zip(keys, row)} # dictionary comprehension\n",
    "    student_data.append(dic)\n",
    "    \n",
    "student_data"
   ]
  },
  {
   "cell_type": "markdown",
   "metadata": {},
   "source": [
    "# 절차지향프로그래밍 (메서드) 예제 \n",
    "\n",
    "평균과 분산을 구하는 프로그램"
   ]
  },
  {
   "cell_type": "markdown",
   "metadata": {},
   "source": [
    "### 기본 Baseline"
   ]
  },
  {
   "cell_type": "code",
   "execution_count": null,
   "metadata": {},
   "outputs": [],
   "source": [
    "import math"
   ]
  },
  {
   "cell_type": "code",
   "execution_count": null,
   "metadata": {},
   "outputs": [],
   "source": [
    "raw_data = {}"
   ]
  },
  {
   "cell_type": "code",
   "execution_count": null,
   "metadata": {},
   "outputs": [],
   "source": [
    "wb = openpyxl.load_workbook('class_2_3.xlsx')\n",
    "ws = wb.active\n",
    "g = ws.rows"
   ]
  },
  {
   "cell_type": "code",
   "execution_count": null,
   "metadata": {},
   "outputs": [],
   "source": [
    "for name, score in g:\n",
    "    raw_data[name.value] = score.value"
   ]
  },
  {
   "cell_type": "code",
   "execution_count": null,
   "metadata": {},
   "outputs": [],
   "source": [
    "scores = list(raw_data.values())"
   ]
  },
  {
   "cell_type": "code",
   "execution_count": null,
   "metadata": {},
   "outputs": [],
   "source": [
    "scores"
   ]
  },
  {
   "cell_type": "code",
   "execution_count": null,
   "metadata": {},
   "outputs": [],
   "source": [
    "s = 0\n",
    "for score in scores : \n",
    "    s += score"
   ]
  },
  {
   "cell_type": "code",
   "execution_count": null,
   "metadata": {},
   "outputs": [],
   "source": [
    "avg = round(s/len(scores), 1)"
   ]
  },
  {
   "cell_type": "code",
   "execution_count": null,
   "metadata": {},
   "outputs": [],
   "source": [
    "s = 0\n",
    "for score in scores:\n",
    "\n",
    "    s += (score - avg) ** 2"
   ]
  },
  {
   "cell_type": "code",
   "execution_count": null,
   "metadata": {},
   "outputs": [],
   "source": [
    "var = round(s/len(scores), 1)"
   ]
  },
  {
   "cell_type": "code",
   "execution_count": null,
   "metadata": {},
   "outputs": [],
   "source": [
    "std_dev = round(math.sqrt(var), 1)"
   ]
  },
  {
   "cell_type": "code",
   "execution_count": null,
   "metadata": {},
   "outputs": [],
   "source": [
    "print(\"평균 : {0}, 분산 : {1}, 표준편차 : {2}\".format(avg, var, std_dev))"
   ]
  },
  {
   "cell_type": "code",
   "execution_count": null,
   "metadata": {},
   "outputs": [],
   "source": [
    "if avg < 50 and std_dev > 20:\n",
    "    print(\"성적이 너무 저조하고 학생들의 실력 차이가 너무 크다.\")\n",
    "    \n",
    "elif avg > 50 and std_dev > 20:\n",
    "    print(\"성적이 평균 이상이지만, 학생들의 실력 차이가 너무 크다.\")\n",
    "    \n",
    "elif avg < 50 and std_dev < 20:\n",
    "    print(\"성적이 저조하고, 학생들의 실력차이는 크지 않다\")\n",
    "    \n",
    "elif avg >50 and std_dev < 20:\n",
    "    print(\"성적은 평균이상, 학생들의 실력차이도 크지 않다\")"
   ]
  },
  {
   "cell_type": "markdown",
   "metadata": {},
   "source": [
    "* * * *"
   ]
  },
  {
   "cell_type": "markdown",
   "metadata": {},
   "source": [
    "### 절차 지향 식으로 구현하기"
   ]
  },
  {
   "cell_type": "markdown",
   "metadata": {},
   "source": [
    "아래와 같이 모듈화 하여 .py파일로 저장"
   ]
  },
  {
   "cell_type": "raw",
   "metadata": {},
   "source": [
    "\n",
    "import openpyxl\n",
    "import math\n",
    "\n",
    "def get_data_from_excel(filename):\n",
    "    \"\"\"\n",
    "    get_data_from_excel(filename) -> {'name1' : 'score1', 'name2' : 'score2'....}\n",
    "    import data from excel file\n",
    "\n",
    "    retern value (dictionary)\n",
    "    key : student name\n",
    "    value : score\n",
    "    \"\"\"\n",
    "\n",
    "    dic = {}\n",
    "    wb = openpyxl.load_workbook(filename)\n",
    "    ws = wb.active\n",
    "    g = ws.rows\n",
    "\n",
    "    for name, score in g:\n",
    "        dic[name.value] = score.value\n",
    "\n",
    "    return dic\n",
    "\n",
    "\n",
    "def avg(scores):\n",
    "    s = 0\n",
    "    for score in scores:\n",
    "        s += score\n",
    "    return round(s/len(scores), 1)\n",
    "\n",
    "\n",
    "def var(scores, avg):\n",
    "    s = 0\n",
    "    for score in scores:\n",
    "        s += (score - avg) ** 2\n",
    "    return round(s/len(scores), 1)\n",
    "\n",
    "\n",
    "def std_dev(var):\n",
    "    return round(math.sqrt(variance), 1)\n",
    "\n",
    "\n",
    "def evaluateClass(avg, total_avg, std_dev, sd):\n",
    "    \"\"\"\n",
    "    evaluateCalss(avg, total_avg, std_dev, sd) --> None\n",
    "\n",
    "    avg: class avg score\n",
    "    total_avg : grade avg score\n",
    "    std_dev : class standard deviation\n",
    "    sd : target standard deviation\n",
    "    \"\"\"\n",
    "\n",
    "\n",
    "    if avg < total_avg and std_dev > sd:\n",
    "        print(\"성적이 너무 저조하고 학생들의 실력 차이가 너무 크다.\")\n",
    "\n",
    "    elif avg > total_avg and std_dev > sd:\n",
    "        print(\"성적이 평균 이상이지만, 학생들의 실력 차이가 너무 크다.\")\n",
    "\n",
    "    elif avg < total_avg and std_dev < sd:\n",
    "        print(\"성적이 저조하고, 학생들의 실력차이는 크지 않다\")\n",
    "\n",
    "    elif avg > total_avg and std_dev < sd:\n",
    "        print(\"성적은 평균이상, 학생들의 실력차이도 크지 않다\")\n"
   ]
  },
  {
   "cell_type": "markdown",
   "metadata": {},
   "source": [
    "* * * *"
   ]
  },
  {
   "cell_type": "code",
   "execution_count": 1,
   "metadata": {},
   "outputs": [],
   "source": [
    "from functions import *"
   ]
  },
  {
   "cell_type": "code",
   "execution_count": 2,
   "metadata": {},
   "outputs": [
    {
     "name": "stdout",
     "output_type": "stream",
     "text": [
      "평균 : 51.5, 분산 : 1240.2, 표준편차 : 35.2\n",
      "성적이 평균 이상이지만, 학생들의 실력 차이가 너무 크다.\n"
     ]
    }
   ],
   "source": [
    "if __name__==\"__main__\":\n",
    "    raw_data = get_data_from_excel(\"class_2_3.xlsx\")\n",
    "    scores = list(raw_data.values())\n",
    "    \n",
    "    average = avg(scores)\n",
    "    variance = var(scores, average)\n",
    "    standard_deviation = std_dev(variance)\n",
    "    \n",
    "    print(\"평균 : {0}, 분산 : {1}, 표준편차 : {2}\".format(average, variance, standard_deviation))\n",
    "    \n",
    "    evaluateClass(average, 50, standard_deviation, 20)"
   ]
  },
  {
   "cell_type": "code",
   "execution_count": null,
   "metadata": {},
   "outputs": [],
   "source": []
  },
  {
   "cell_type": "code",
   "execution_count": null,
   "metadata": {},
   "outputs": [],
   "source": []
  },
  {
   "cell_type": "code",
   "execution_count": null,
   "metadata": {},
   "outputs": [],
   "source": []
  },
  {
   "cell_type": "code",
   "execution_count": null,
   "metadata": {},
   "outputs": [],
   "source": []
  },
  {
   "cell_type": "code",
   "execution_count": null,
   "metadata": {},
   "outputs": [],
   "source": []
  },
  {
   "cell_type": "code",
   "execution_count": null,
   "metadata": {},
   "outputs": [],
   "source": []
  },
  {
   "cell_type": "code",
   "execution_count": null,
   "metadata": {},
   "outputs": [],
   "source": []
  },
  {
   "cell_type": "code",
   "execution_count": null,
   "metadata": {},
   "outputs": [],
   "source": []
  },
  {
   "cell_type": "markdown",
   "metadata": {},
   "source": [
    "# 객체 지향 프로그래밍"
   ]
  },
  {
   "cell_type": "code",
   "execution_count": 3,
   "metadata": {},
   "outputs": [],
   "source": [
    "def person_init(name, money):\n",
    "    obj = {'name': name, 'money': money}\n",
    "    obj['give_money'] = Person[1]\n",
    "    obj['get_money'] = Person[2]\n",
    "    obj['show'] = Person[3]\n",
    "    return obj"
   ]
  },
  {
   "cell_type": "code",
   "execution_count": 4,
   "metadata": {},
   "outputs": [],
   "source": [
    "def give_money(self, other, money):\n",
    "    self['money'] -= money\n",
    "    other['get_money'](other, money)\n",
    "    \n",
    "def get_money(self, money):\n",
    "    self['money'] += money\n",
    "    \n",
    "def show(self):\n",
    "    print('{} : {}'.format(self['name'], self['money']))"
   ]
  },
  {
   "cell_type": "code",
   "execution_count": 5,
   "metadata": {},
   "outputs": [],
   "source": [
    "Person = person_init, give_money, get_money, show"
   ]
  },
  {
   "cell_type": "code",
   "execution_count": 7,
   "metadata": {},
   "outputs": [
    {
     "name": "stdout",
     "output_type": "stream",
     "text": [
      "greg : 5000\n",
      "john : 2000\n",
      "\n",
      "greg : 3000\n",
      "john : 4000\n"
     ]
    }
   ],
   "source": [
    "if __name__ == \"__main__\":\n",
    "    \n",
    "    # 객체 생성\n",
    "    g = Person[0]('greg', 5000)\n",
    "    j = Person[0]('john', 2000)\n",
    "    \n",
    "    g['show'](g)\n",
    "    j['show'](j)\n",
    "    print('')\n",
    "    \n",
    "    # 메세지 패싱\n",
    "    g['give_money'](g, j, 2000)\n",
    "    \n",
    "    g['show'](g)\n",
    "    j['show'](j)"
   ]
  },
  {
   "cell_type": "code",
   "execution_count": null,
   "metadata": {},
   "outputs": [],
   "source": []
  },
  {
   "cell_type": "code",
   "execution_count": null,
   "metadata": {},
   "outputs": [],
   "source": []
  },
  {
   "cell_type": "code",
   "execution_count": null,
   "metadata": {},
   "outputs": [],
   "source": []
  },
  {
   "cell_type": "code",
   "execution_count": null,
   "metadata": {},
   "outputs": [],
   "source": []
  },
  {
   "cell_type": "markdown",
   "metadata": {},
   "source": [
    "# 클래스를 사용해서 객체 만들기"
   ]
  },
  {
   "cell_type": "code",
   "execution_count": 8,
   "metadata": {},
   "outputs": [],
   "source": [
    "\n",
    "# Person 클래스 선언 , give money, getmoney, show 는 메서드\n",
    "class Person:\n",
    "    \n",
    "    # __init__ --> 생성자 : 인스턴스 멤버를 초기화 하는 역할\n",
    "    # self --> 객체 자신\n",
    "    def __init__(self, name, money):\n",
    "        self.name = name\n",
    "        self.money = money\n",
    "        \n",
    "    # \n",
    "    def give_money(self, other, money):\n",
    "        self.money -= money\n",
    "        other.get_money(money)\n",
    "        \n",
    "    def get_money(self, money):\n",
    "        self.money += money\n",
    "        \n",
    "    def show(self):\n",
    "        print('{} : {}'.format(self.name, self.money))"
   ]
  },
  {
   "cell_type": "code",
   "execution_count": 9,
   "metadata": {},
   "outputs": [
    {
     "name": "stdout",
     "output_type": "stream",
     "text": [
      "greg : 5000\n",
      "john : 2000\n",
      "\n",
      "greg : 3000\n",
      "john : 4000\n"
     ]
    }
   ],
   "source": [
    "if __name__ == \"__main__\":\n",
    "    \n",
    "    g = Person('greg', 5000)\n",
    "    j = Person('john', 2000)\n",
    "    \n",
    "    g.show()\n",
    "    j.show()\n",
    "    \n",
    "    g.give_money(j, 2000)\n",
    "    print('')\n",
    "    \n",
    "    g.show()\n",
    "    j.show()"
   ]
  },
  {
   "cell_type": "code",
   "execution_count": 10,
   "metadata": {},
   "outputs": [
    {
     "data": {
      "text/plain": [
       "function"
      ]
     },
     "execution_count": 10,
     "metadata": {},
     "output_type": "execute_result"
    }
   ],
   "source": [
    "type(Person.__init__)"
   ]
  },
  {
   "cell_type": "code",
   "execution_count": 12,
   "metadata": {},
   "outputs": [
    {
     "data": {
      "text/plain": [
       "function"
      ]
     },
     "execution_count": 12,
     "metadata": {},
     "output_type": "execute_result"
    }
   ],
   "source": [
    "type(Person.give_money)"
   ]
  },
  {
   "cell_type": "code",
   "execution_count": 13,
   "metadata": {},
   "outputs": [
    {
     "data": {
      "text/plain": [
       "function"
      ]
     },
     "execution_count": 13,
     "metadata": {},
     "output_type": "execute_result"
    }
   ],
   "source": [
    "type(Person.get_money)"
   ]
  },
  {
   "cell_type": "code",
   "execution_count": 14,
   "metadata": {},
   "outputs": [
    {
     "data": {
      "text/plain": [
       "function"
      ]
     },
     "execution_count": 14,
     "metadata": {},
     "output_type": "execute_result"
    }
   ],
   "source": [
    "type(Person.show)"
   ]
  },
  {
   "cell_type": "code",
   "execution_count": 15,
   "metadata": {},
   "outputs": [
    {
     "data": {
      "text/plain": [
       "method"
      ]
     },
     "execution_count": 15,
     "metadata": {},
     "output_type": "execute_result"
    }
   ],
   "source": [
    "type(g.give_money)"
   ]
  },
  {
   "cell_type": "code",
   "execution_count": 16,
   "metadata": {},
   "outputs": [
    {
     "data": {
      "text/plain": [
       "<function __main__.Person.give_money>"
      ]
     },
     "execution_count": 16,
     "metadata": {},
     "output_type": "execute_result"
    }
   ],
   "source": [
    "g.give_money.__func__"
   ]
  },
  {
   "cell_type": "code",
   "execution_count": 17,
   "metadata": {},
   "outputs": [
    {
     "data": {
      "text/plain": [
       "<__main__.Person at 0x1116d0cc0>"
      ]
     },
     "execution_count": 17,
     "metadata": {},
     "output_type": "execute_result"
    }
   ],
   "source": [
    "g.give_money.__self__"
   ]
  },
  {
   "cell_type": "markdown",
   "metadata": {},
   "source": [
    "### 클래스의 멤버와 메서드"
   ]
  },
  {
   "cell_type": "code",
   "execution_count": 18,
   "metadata": {},
   "outputs": [],
   "source": [
    "class A:\n",
    "    c_mem = 10\n",
    "    \n",
    "    @classmethod\n",
    "    def cls_f(cls):\n",
    "        print(cls.c_mem)\n",
    "        \n",
    "    def __init__(self, num):\n",
    "        self.i_mem = num\n",
    "        \n",
    "    def ins_f(self):\n",
    "        print(self.i_mem)"
   ]
  },
  {
   "cell_type": "code",
   "execution_count": 19,
   "metadata": {},
   "outputs": [
    {
     "data": {
      "text/plain": [
       "10"
      ]
     },
     "execution_count": 19,
     "metadata": {},
     "output_type": "execute_result"
    }
   ],
   "source": [
    "A.c_mem"
   ]
  },
  {
   "cell_type": "code",
   "execution_count": 20,
   "metadata": {},
   "outputs": [
    {
     "name": "stdout",
     "output_type": "stream",
     "text": [
      "10\n"
     ]
    }
   ],
   "source": [
    "A.cls_f()"
   ]
  },
  {
   "cell_type": "code",
   "execution_count": 21,
   "metadata": {},
   "outputs": [
    {
     "name": "stdout",
     "output_type": "stream",
     "text": [
      "10\n"
     ]
    }
   ],
   "source": [
    "print(A.c_mem)"
   ]
  },
  {
   "cell_type": "code",
   "execution_count": 22,
   "metadata": {},
   "outputs": [
    {
     "name": "stdout",
     "output_type": "stream",
     "text": [
      "10\n"
     ]
    }
   ],
   "source": [
    "A.cls_f()"
   ]
  },
  {
   "cell_type": "code",
   "execution_count": 23,
   "metadata": {},
   "outputs": [],
   "source": [
    "a = A(20)"
   ]
  },
  {
   "cell_type": "code",
   "execution_count": 24,
   "metadata": {},
   "outputs": [
    {
     "data": {
      "text/plain": [
       "10"
      ]
     },
     "execution_count": 24,
     "metadata": {},
     "output_type": "execute_result"
    }
   ],
   "source": [
    "a.c_mem"
   ]
  },
  {
   "cell_type": "code",
   "execution_count": 26,
   "metadata": {},
   "outputs": [
    {
     "name": "stdout",
     "output_type": "stream",
     "text": [
      "10\n"
     ]
    }
   ],
   "source": [
    "a.cls_f()"
   ]
  },
  {
   "cell_type": "code",
   "execution_count": 28,
   "metadata": {},
   "outputs": [
    {
     "name": "stdout",
     "output_type": "stream",
     "text": [
      "20\n"
     ]
    }
   ],
   "source": [
    "a.ins_f()"
   ]
  },
  {
   "cell_type": "code",
   "execution_count": null,
   "metadata": {},
   "outputs": [],
   "source": []
  }
 ],
 "metadata": {
  "kernelspec": {
   "display_name": "Python 3",
   "language": "python",
   "name": "python3"
  },
  "language_info": {
   "codemirror_mode": {
    "name": "ipython",
    "version": 3
   },
   "file_extension": ".py",
   "mimetype": "text/x-python",
   "name": "python",
   "nbconvert_exporter": "python",
   "pygments_lexer": "ipython3",
   "version": "3.6.2"
  }
 },
 "nbformat": 4,
 "nbformat_minor": 2
}
