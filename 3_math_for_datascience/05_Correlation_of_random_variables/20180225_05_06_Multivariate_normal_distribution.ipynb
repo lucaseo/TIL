{
 "cells": [
  {
   "cell_type": "markdown",
   "metadata": {},
   "source": [
    "# 다변수 정규분포\n",
    "\n",
    "복수의 확률 변수를 모형화 할 때 가장 많이 사용되는 분포\n",
    "\n",
    "(수식)\n",
    "$$ \\mathcal{N}(x ; \\mu, \\Sigma) = \\dfrac{1}{(2\\pi)^{D/2} |\\Sigma| ^{1/2}} \\exp \\left( -\\dfrac{1}{2} (x-\\mu)^T \\Sigma^{-1} (x-\\mu) \\right) $$\n",
    "\n",
    "- $x \\in \\mathbf{R}^D$ : 확률 변수 벡터\n",
    "- $\\mu \\in \\mathbf{R}^D$ : 평균 벡터\n",
    "- $\\Sigma \\in \\mathbf{R}^{D\\times D}$ : 공분산 행렬\n",
    "- $\\Sigma^-1 \\in \\mathbf{R}^{D\\times D}$ : 공분산 행렬의 역행렬 (precesion matrix)"
   ]
  },
  {
   "cell_type": "markdown",
   "metadata": {},
   "source": [
    "2차원 (D = 2) 다변수 정규분포일 때,  \n",
    "2차원 확률변수 벡터는 \n",
    "\n",
    "$$x = \\begin{bmatrix}x_1 \\\\ x_2 \\end{bmatrix}$$\n"
   ]
  },
  {
   "cell_type": "markdown",
   "metadata": {},
   "source": [
    "### 경우 1\n",
    "\n",
    "만약\n",
    "\n",
    "$$\\mu = \\begin{bmatrix}2 \\\\ 3 \\end{bmatrix}. \\;\\;\\;\n",
    "\\Sigma = \\begin{bmatrix}1 & 0 \\\\ 0 & 1 \\end{bmatrix}$$\n",
    "\n",
    "라고 하면, \n",
    "\n",
    "$$| \\Sigma| = 1. \\;\\;\\;\n",
    "\\Sigma^{-1} = \\begin{bmatrix}1 & 0 \\\\ 0 & 1 \\end{bmatrix}$$\n",
    "\n",
    "$$(x-\\mu)^T \\Sigma^{-1} (x-\\mu) =  \n",
    "\\begin{bmatrix}x_1 - 2 & x_2 - 3 \\end{bmatrix}\n",
    "\\begin{bmatrix}1 & 0 \\\\ 0 & 1 \\end{bmatrix} \n",
    "\\begin{bmatrix}x_1 - 2 \\\\ x_2 - 3 \\end{bmatrix}\n",
    "=\n",
    "(x_1 - 2)^2 + (x_2 - 3)^2$$\n",
    "\n",
    "$$\\mathcal{N}(x_1, x_2) = \\dfrac{1}{2\\pi}\n",
    "\\exp \\left( -\\dfrac{1}{2} \\left( (x_1 - 2)^2 + (x_2 - 3)^2 \\right) \\right)$$\n",
    "\n",
    "이 확률 밀도의 함수 모양"
   ]
  },
  {
   "cell_type": "code",
   "execution_count": 2,
   "metadata": {},
   "outputs": [
    {
     "data": {
      "image/png": "[encoded data removed]",
      "text/plain": [
       "<matplotlib.figure.Figure at 0x106576b70>"
      ]
     },
     "metadata": {},
     "output_type": "display_data"
    }
   ],
   "source": [
    "mu = [2, 3]\n",
    "cov = [[1, 0], [0, 1]]\n",
    "rv = sp.stats.multivariate_normal(mu, cov)\n",
    "xx = np.linspace(0, 4, 120)\n",
    "yy = np.linspace(1, 5, 150)\n",
    "XX, YY = np.meshgrid(xx, yy)\n",
    "plt.grid(False)\n",
    "plt.contourf(XX, YY, rv.pdf(np.dstack([XX, YY])))\n",
    "plt.axis(\"equal\")\n",
    "plt.show()"
   ]
  },
  {
   "cell_type": "markdown",
   "metadata": {},
   "source": [
    "### 경우 2\n",
    "\n",
    "만약\n",
    "\n",
    "$$\\mu = \\begin{bmatrix}2 \\\\ 3 \\end{bmatrix}. \\;\\;\\;\n",
    "\\Sigma = \\begin{bmatrix}2 & 3 \\\\ 3 & 7 \\end{bmatrix}$$\n",
    "\n",
    "이라면, \n",
    "\n",
    "$$|\\Sigma| = 5,\\;\\;\\;\n",
    "\\Sigma^{-1} = \\begin{bmatrix}1.4 & -0.6 \\\\ -0.6 & 0.4 \\end{bmatrix}$$\n",
    "\n",
    "$$(x-\\mu)^T \\Sigma^{-1} (x-\\mu) =  \n",
    "\\begin{bmatrix}x_1 - 2 & x_2 - 3 \\end{bmatrix}\n",
    "\\begin{bmatrix}1.4 & -0.6 \\\\ -0.6 & 0.4\\end{bmatrix}\n",
    "\\begin{bmatrix}x_1 - 2 \\\\ x_2 - 3 \\end{bmatrix}\n",
    "=\n",
    "\\dfrac{1}{10}\\left(14(x_1 - 2)^2 - 12(x_1 - 2)(x_2 - 3) + 4(x_2 - 3)^2\\right)$$\n",
    "\n",
    "$$\\mathcal{N}(x_1, x_2) = \\dfrac{1}{20\\pi}\n",
    "\\exp \\left( -\\dfrac{1}{10}\\left(7(x_1 - 2)^2 - 6(x_1 - 2)(x_2 - 3) + 2(x_2 - 3)^2\\right) \\right)$$"
   ]
  },
  {
   "cell_type": "code",
   "execution_count": 3,
   "metadata": {},
   "outputs": [
    {
     "data": {
      "image/png": "[encoded data removed]",
      "text/plain": [
       "<matplotlib.figure.Figure at 0x113527d68>"
      ]
     },
     "metadata": {},
     "output_type": "display_data"
    }
   ],
   "source": [
    "mu = [2, 3]\n",
    "cov = [[2, 3],[3, 7]]\n",
    "rv = sp.stats.multivariate_normal(mu, cov)\n",
    "xx = np.linspace(0, 4, 120)\n",
    "yy = np.linspace(1, 5, 150)\n",
    "XX, YY = np.meshgrid(xx, yy)\n",
    "plt.grid(False)\n",
    "plt.contourf(XX, YY, rv.pdf(np.dstack([XX, YY])))\n",
    "plt.axis(\"equal\")\n",
    "plt.show()"
   ]
  },
  {
   "cell_type": "code",
   "execution_count": null,
   "metadata": {},
   "outputs": [],
   "source": []
  },
  {
   "cell_type": "code",
   "execution_count": null,
   "metadata": {},
   "outputs": [],
   "source": []
  },
  {
   "cell_type": "code",
   "execution_count": null,
   "metadata": {},
   "outputs": [],
   "source": []
  },
  {
   "cell_type": "code",
   "execution_count": null,
   "metadata": {},
   "outputs": [],
   "source": []
  },
  {
   "cell_type": "code",
   "execution_count": null,
   "metadata": {},
   "outputs": [],
   "source": []
  },
  {
   "cell_type": "code",
   "execution_count": null,
   "metadata": {},
   "outputs": [],
   "source": []
  },
  {
   "cell_type": "code",
   "execution_count": null,
   "metadata": {},
   "outputs": [],
   "source": []
  },
  {
   "cell_type": "code",
   "execution_count": null,
   "metadata": {},
   "outputs": [],
   "source": []
  },
  {
   "cell_type": "code",
   "execution_count": 1,
   "metadata": {},
   "outputs": [],
   "source": [
    "import numpy as np\n",
    "import scipy as sp\n",
    "from scipy import stats\n",
    "import matplotlib as mpl\n",
    "import matplotlib.pyplot as plt\n",
    "import seaborn as sns\n",
    "import statsmodels as sm"
   ]
  },
  {
   "cell_type": "code",
   "execution_count": null,
   "metadata": {},
   "outputs": [],
   "source": []
  }
 ],
 "metadata": {
  "kernelspec": {
   "display_name": "Python 3",
   "language": "python",
   "name": "python3"
  },
  "language_info": {
   "codemirror_mode": {
    "name": "ipython",
    "version": 3
   },
   "file_extension": ".py",
   "mimetype": "text/x-python",
   "name": "python",
   "nbconvert_exporter": "python",
   "pygments_lexer": "ipython3",
   "version": "3.6.2"
  }
 },
 "nbformat": 4,
 "nbformat_minor": 2
}
