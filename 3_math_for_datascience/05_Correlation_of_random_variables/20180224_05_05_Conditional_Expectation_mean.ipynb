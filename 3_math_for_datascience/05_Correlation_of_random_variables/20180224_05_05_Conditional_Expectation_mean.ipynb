{
 "cells": [
  {
   "cell_type": "markdown",
   "metadata": {},
   "source": [
    "# 조건부 기대값\n",
    "확률변수 Y의 기대값을 구할 때, marginal PDF가 아닌  \n",
    "conditional PDF ,  $f_{Y|X}(y|x)$를 이용해서 가중치를 계산한다.\n",
    "\n",
    "$$\\text{E}[Y \\vert X] = \\int y \\, f(y|x) dy$$\n",
    "\n",
    "- 일반적으로 기대값은 상수니까, y를 적분 하면 상수가 된다.  (X가 없다는 전제 하에 ...)\n",
    "- But,  \n",
    ">- 조건부 기대값이라면, $X$는 사라지지 않고 변경의 여지가 있는 모수로 남아있다.  \n",
    ">- $\\text{E}[Y|X] = X$ 에 따라 결정되는, **조건 X에 대한 확률밀도 함수**\n",
    "\n",
    "\n",
    "조건이 되는 확률변수의 값이 상수라면, 계산 연산자 밖으로 꺼낼 수 있음\n",
    "\n",
    "$$\\text{E}[g(X) \\vert X] = g(X)$$\n",
    "\n",
    "$$\\text{E}[g(X) Y \\vert X] = g(X) \\text{E}[Y \\vert X]$$"
   ]
  },
  {
   "cell_type": "markdown",
   "metadata": {},
   "source": [
    "## 전체 기댓값의 법칙 , 반복 기대값의 법칙\n",
    "\n",
    "- 조건부 기대값은 여전히 확률변수\n",
    "- 조건이 되는 확률변수에 대해 다시 기대값\n",
    "- 조건부 기대값의 기대값은 원래 확률 변수의 보통 기대값\n",
    "\n",
    "$$\\text{E}_X[\\text{E}_Y[Y \\vert X]] = \\text{E}_Y[Y]$$"
   ]
  },
  {
   "cell_type": "markdown",
   "metadata": {},
   "source": [
    "연습 문제 1¶\n",
    "\n",
    "전체 기댓값의 법칙을 사용하여 다음을 증명하라.\n",
    " \n",
    "$$\\text{E}[(Y - \\text{E}[Y \\vert X])g(X)] = 0$$"
   ]
  },
  {
   "cell_type": "markdown",
   "metadata": {},
   "source": [
    "## 조건부 분산\n",
    "\n",
    "$$\\text{Var}_Y[Y \\vert X] \n",
    "= \\text{E}_Y[(Y - \\text{E}_Y[Y \\vert X])^2 \\vert X] \n",
    "= \\int (Y - \\text{E}_Y[Y \\vert X])^2 f_{Y \\vert X}(y \\vert x) dy$$"
   ]
  },
  {
   "cell_type": "markdown",
   "metadata": {},
   "source": [
    "## 전체 분산의 법칙\n",
    "\n",
    "조건부 분산의 기대값 + 조건부 기대값의 분산\n",
    "\n",
    "$$\\text{Var}[Y] = \\text{E}[\\text{Var}[Y\\vert X]] + \\text{Var}[\\text{E}[Y\\vert X]]$$"
   ]
  },
  {
   "cell_type": "markdown",
   "metadata": {},
   "source": [
    "## 조건부 공분산\n",
    "\n",
    "$$\\text{Cov}[X, Y \\vert Z] \n",
    "= \\text{E}[(X - \\text{E}[X \\vert Z])(Y - \\text{E}[Y \\vert Z]) \\vert Z] \n",
    "= \\int (x - \\text{E}[X \\vert Z])(y - \\text{E}[Y \\vert Z]) f(x, y \\vert z) dxdy$$"
   ]
  },
  {
   "cell_type": "markdown",
   "metadata": {},
   "source": [
    "## 전체 공분산의 법칙\n",
    "\n",
    "조건부 공분산의 기대값 + 조건부 기대값의 공분산\n",
    "\n",
    "$$\\text{Cov}[X,Y] = \\text{E}[\\text{Cov}[X,Y\\vert Z]] + \\text{Cov}[\\text{E}[X\\vert Z]\\text{E}[Y\\vert Z]]$$"
   ]
  },
  {
   "cell_type": "code",
   "execution_count": null,
   "metadata": {},
   "outputs": [],
   "source": []
  }
 ],
 "metadata": {
  "kernelspec": {
   "display_name": "Python 3",
   "language": "python",
   "name": "python3"
  },
  "language_info": {
   "codemirror_mode": {
    "name": "ipython",
    "version": 3
   },
   "file_extension": ".py",
   "mimetype": "text/x-python",
   "name": "python",
   "nbconvert_exporter": "python",
   "pygments_lexer": "ipython3",
   "version": "3.6.2"
  }
 },
 "nbformat": 4,
 "nbformat_minor": 2
}
