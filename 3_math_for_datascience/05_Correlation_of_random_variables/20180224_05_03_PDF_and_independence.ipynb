{
 "cells": [
  {
   "cell_type": "markdown",
   "metadata": {},
   "source": [
    "# 확률 밀도 함수의 독립\n",
    "\n",
    "(정의)  \n",
    "두 확률 변수의 joint PDF가 marginal PDF의 곱으로 나타나면  \n",
    "두 확률 변수가 서로 **독립(independent)**한다.\n",
    "\n",
    "(수식)\n",
    "$$f_{XY}(x, y) = f_X(x)f_Y(y)$$\n",
    "\n",
    "- 독립인 경우, marginal PDF으로 joint PDF의 **모양**이 결정된다. 모양은 변하지 않는다."
   ]
  },
  {
   "cell_type": "markdown",
   "metadata": {},
   "source": [
    "## 반복시행\n",
    "\n",
    "같은 확류변수를 가지고, 반복시행을 통해 여러 표본을 수집할 때, _대부분_ 독립이다.\n",
    "$$f(x_1, x_2, x_3, \\cdots, x_N ) = \\prod_{i=1}^N f(x_i)$$"
   ]
  },
  {
   "cell_type": "markdown",
   "metadata": {},
   "source": [
    "## 모멘트\n",
    "\n",
    "### 독립 확률 변수의 기대값\n",
    "\n",
    "(기대값)\n",
    "$$\\text{E}[XY] = \\text{E}[X]\\text{E}[Y]$$\n",
    "\n",
    "(증명)\n",
    "\n",
    "$$\\begin{eqnarray}\n",
    "\\text{E}[XY] \n",
    "&=& \\iint xy \\;f_{XY}(x, y) \\; dx dy  \\\\\n",
    "&=& \\iint  xy \\;f_{X}(x)f_{Y}(y) \\; dx dy \\\\\n",
    "\\end{eqnarray}$$\n",
    "\n",
    "(Funini의 정리) 다중적분의 값 $\\longrightarrow$ 적분을 연속한 값\n",
    "\n",
    "$$\\begin{eqnarray}\n",
    "\\text{E}[XY] \n",
    "&=& \\int \\left( \\int xy \\;f_{X}(x)f_{Y}(y) dx \\right) dy \\\\\n",
    "&=& \\int \\left( y\\; f_{Y}(y) \\left( \\int x\\; f_{X}(x) \\; dx \\right) \\right) dy \\\\\n",
    "&=& \\left( \\int x\\;f_{X}(x) \\; dx \\right) \\left( \\int y\\;f_{Y}(y) \\; dy \\right) \\\\\n",
    "&=& \\text{E}[X] \\text{E}[Y] \\\\\n",
    "\\end{eqnarray}$$\n",
    "\n",
    "\n",
    "(확장)\n",
    "\n",
    "$$\\text{E}[(X - \\mu_X)(Y-\\mu_Y)] = 0$$\n",
    "\n",
    "(증명)\n",
    "\n",
    "$$\\begin{eqnarray}\n",
    "\\text{E}[(X - \\mu_X)(Y-\\mu_Y)] \n",
    "&=& \\text{E}\\left[XY - \\mu_XY-\\mu_YX + \\mu_X\\mu_Y\\right] \\\\\n",
    "&=& \\text{E}[XY] - \\mu_X\\text{E}[Y]-\\mu_Y\\text{E}[X] + \\mu_X\\mu_Y  \\\\\n",
    "&=& \\text{E}[XY] - \\mu_X\\mu_Y  \\\\\n",
    "&=& \\text{E}[XY] - \\text{E}[X]\\text{E}[Y] = 0 \n",
    "\\end{eqnarray}$$"
   ]
  },
  {
   "cell_type": "markdown",
   "metadata": {},
   "source": [
    "### 독립 확률 변수의 분산\n",
    "\n",
    "(분산)\n",
    "$$\\text{Var}[X+Y] = \\text{Var}[X] + \\text{Var}[Y]$$\n",
    "\n",
    "(증명)\n",
    "$$\n",
    "\\begin{eqnarray}\n",
    "\\text{Var}[X + Y] \n",
    "&=& \\text{E}[((X + Y) - (\\mu_X + \\mu_Y))^2] \\\\\n",
    "&=& \\text{E}[(X+Y)^2 - 2(X+Y)(\\mu_X + \\mu_Y) + (\\mu_X + \\mu_Y)^2] \\\\\n",
    "&=& \\text{E}[X^2+2XY+Y^2] - 2(\\mu_X + \\mu_Y)\\text{E}[X+Y] + (\\mu_X + \\mu_Y)^2 \\\\\n",
    "&=& \\text{E}[X^2+2XY+Y^2] - 2(\\mu_X + \\mu_Y)^2 + (\\mu_X + \\mu_Y)^2 \\\\\n",
    "&=& \\text{E}[X^2]+2\\text{E}[XY]+\\text{E}[Y^2] - (\\mu_X + \\mu_Y)^2 \\\\\n",
    "&=& \\text{E}[X^2]+2\\text{E}[X]\\text{E}[Y]+\\text{E}[Y^2] - (\\mu_X^2 + 2\\mu_X\\mu_Y + \\mu_Y^2) \\\\\n",
    "&=& \\text{E}[X^2]-\\mu_X^2+\\text{E}[Y^2]-\\mu_Y^2+2\\text{E}[X]\\text{E}[Y] - 2\\mu_X\\mu_Y \\\\\n",
    "&=& \\text{Var}[X]+\\text{Var}[Y] \\\\\n",
    "\\end{eqnarray}$$"
   ]
  },
  {
   "cell_type": "markdown",
   "metadata": {},
   "source": [
    "# 독립인 두 확률 변수의 conditional PDF\n",
    "\n",
    "$$f_{X \\mid Y} (x | y) = \\dfrac{f_{XY}(x, y)}{f_{Y}(y)} = \\dfrac{f_{X}(x) f_{Y}(y)}{f_{Y}(y)} = f_{X}(x)$$\n",
    "\n",
    "$$f_{Y \\mid X} (y | x) = \\dfrac{f_{XY}(x, y)}{f_{X}(x)} = \\dfrac{f_{X}(x) f_{Y}(y)}{f_{X}(x)} = f_{Y}(y)$$"
   ]
  },
  {
   "cell_type": "markdown",
   "metadata": {},
   "source": [
    "확률 변수 X가 Y에 독립이면\n",
    ">- 조건부 확률분포 X가, 조건이 되는 Y의 영향을 받지 않는다.\n",
    ">- Y값에 무엇을 넣든, X의 분포는 모양이 같다.\n",
    ">- $f(x \\mid y_1)$나 $f(x \\mid y_2)$나 같다는 뜻\n",
    "\n",
    "\n",
    "두 확률 변수가 독립이 아닌 경우,\n",
    "- joint PDF가 marginal PDF로 나누어지지 않는 경우, \n",
    ">- 두 확률 변수는 서로 **의존(dependent)** 하다."
   ]
  },
  {
   "cell_type": "code",
   "execution_count": 33,
   "metadata": {},
   "outputs": [],
   "source": [
    "import numpy as np\n",
    "import scipy as sp\n",
    "from scipy import stats\n",
    "import matplotlib as mpl\n",
    "import matplotlib.pyplot as plt\n",
    "import seaborn as sns\n",
    "import statsmodels as sm"
   ]
  },
  {
   "cell_type": "code",
   "execution_count": 9,
   "metadata": {},
   "outputs": [
    {
     "data": {
      "text/plain": [
       "array([[ 0.0111,  0.0222,  0.0333,  0.0222,  0.0111],\n",
       "       [ 0.0222,  0.0444,  0.0667,  0.0444,  0.0222],\n",
       "       [ 0.0444,  0.0889,  0.1333,  0.0889,  0.0444],\n",
       "       [ 0.0222,  0.0444,  0.0667,  0.0444,  0.0222],\n",
       "       [ 0.0111,  0.0222,  0.0333,  0.0222,  0.0111]])"
      ]
     },
     "execution_count": 9,
     "metadata": {},
     "output_type": "execute_result"
    }
   ],
   "source": [
    "# 두 이산 확률 변수의 Joint PDF\n",
    "np.set_printoptions(precision=4)\n",
    "pmf1 = np.array([[1, 2, 3, 2, 1],\n",
    "                 [2, 4, 6, 4, 2],\n",
    "                 [4, 8,12, 8, 4],\n",
    "                 [2, 4, 6, 4, 2],\n",
    "                 [1, 2, 3, 2, 1]])\n",
    "pmf1 = pmf1/pmf1.sum()\n",
    "pmf1"
   ]
  },
  {
   "cell_type": "code",
   "execution_count": 10,
   "metadata": {},
   "outputs": [
    {
     "data": {
      "image/png": "[encoded data removed]",
      "text/plain": [
       "<matplotlib.figure.Figure at 0x106593198>"
      ]
     },
     "metadata": {},
     "output_type": "display_data"
    }
   ],
   "source": [
    "sns.heatmap(pmf1, cmap=mpl.cm.bone_r)\n",
    "plt.xlabel(\"x\")\n",
    "plt.ylabel(\"y\")\n",
    "plt.title(\"Joint Probability (Independent)\")\n",
    "plt.show()"
   ]
  },
  {
   "cell_type": "code",
   "execution_count": 12,
   "metadata": {},
   "outputs": [
    {
     "data": {
      "text/plain": [
       "array([[ 0.0111,  0.0222,  0.0333,  0.0222,  0.0111],\n",
       "       [ 0.0222,  0.0444,  0.0667,  0.0444,  0.0222],\n",
       "       [ 0.0444,  0.0889,  0.1333,  0.0889,  0.0444],\n",
       "       [ 0.0222,  0.0444,  0.0667,  0.0444,  0.0222],\n",
       "       [ 0.0111,  0.0222,  0.0333,  0.0222,  0.0111]])"
      ]
     },
     "execution_count": 12,
     "metadata": {},
     "output_type": "execute_result"
    }
   ],
   "source": [
    "# 주변 확률 분포의 곱으로도 같은 값\n",
    "pmf1_marginal_x = pmf1.sum(axis=0) # 확률변수 X\n",
    "pmf1_marginal_y = pmf1.sum(axis=1) # 확률변수 Y\n",
    "pmf = pmf1_marginal_x * pmf1_marginal_y[:, np.newaxis]\n",
    "pmf/pmf.sum()"
   ]
  },
  {
   "cell_type": "code",
   "execution_count": 23,
   "metadata": {},
   "outputs": [
    {
     "data": {
      "text/plain": [
       "array([ 0.1111,  0.2222,  0.3333,  0.2222,  0.1111])"
      ]
     },
     "execution_count": 23,
     "metadata": {},
     "output_type": "execute_result"
    }
   ],
   "source": [
    "# y[0]일 때, 조건부 확률\n",
    "cond_x_y0 = pmf1[0, :]/pmf1_marginal_y[0]\n",
    "cond_x_y0"
   ]
  },
  {
   "cell_type": "code",
   "execution_count": 24,
   "metadata": {},
   "outputs": [
    {
     "data": {
      "text/plain": [
       "array([ 0.1111,  0.2222,  0.3333,  0.2222,  0.1111])"
      ]
     },
     "execution_count": 24,
     "metadata": {},
     "output_type": "execute_result"
    }
   ],
   "source": [
    "# y[1]일 때, 조건부 확률\n",
    "cond_x_y0 = pmf1[1, :]/pmf1_marginal_y[1]\n",
    "cond_x_y0"
   ]
  },
  {
   "cell_type": "code",
   "execution_count": 26,
   "metadata": {},
   "outputs": [
    {
     "data": {
      "text/plain": [
       "array([ 0.1111,  0.2222,  0.3333,  0.2222,  0.1111])"
      ]
     },
     "execution_count": 26,
     "metadata": {},
     "output_type": "execute_result"
    }
   ],
   "source": [
    "# y[2]일 때, 조건부 확률\n",
    "cond_x_y0 = pmf1[2, :]/pmf1_marginal_y[2]\n",
    "cond_x_y0"
   ]
  },
  {
   "cell_type": "markdown",
   "metadata": {},
   "source": [
    "#### 다른 결합분포의 예"
   ]
  },
  {
   "cell_type": "code",
   "execution_count": 27,
   "metadata": {},
   "outputs": [
    {
     "data": {
      "text/plain": [
       "array([[ 0.  ,  0.  ,  0.  ,  0.04,  0.04],\n",
       "       [ 0.  ,  0.  ,  0.08,  0.12,  0.04],\n",
       "       [ 0.  ,  0.08,  0.2 ,  0.08,  0.  ],\n",
       "       [ 0.04,  0.12,  0.08,  0.  ,  0.  ],\n",
       "       [ 0.04,  0.04,  0.  ,  0.  ,  0.  ]])"
      ]
     },
     "execution_count": 27,
     "metadata": {},
     "output_type": "execute_result"
    }
   ],
   "source": [
    "pmf2 = np.array([[0, 0, 0, 1, 1],\n",
    "                 [0, 0, 2, 3, 1],\n",
    "                 [0, 2, 5, 2, 0],\n",
    "                 [1, 3, 2, 0, 0],\n",
    "                 [1, 1, 0, 0, 0]])\n",
    "pmf2 = pmf2/pmf2.sum()\n",
    "pmf2"
   ]
  },
  {
   "cell_type": "code",
   "execution_count": 28,
   "metadata": {},
   "outputs": [
    {
     "data": {
      "image/png": "[encoded data removed]",
      "text/plain": [
       "<matplotlib.figure.Figure at 0x113f29c18>"
      ]
     },
     "metadata": {},
     "output_type": "display_data"
    }
   ],
   "source": [
    "sns.heatmap(pmf2, cmap=mpl.cm.bone_r)\n",
    "plt.xlabel(\"x\")\n",
    "plt.ylabel(\"y\")\n",
    "plt.title(\"Joint Probability (Dependent)\")\n",
    "plt.show()"
   ]
  },
  {
   "cell_type": "code",
   "execution_count": 29,
   "metadata": {},
   "outputs": [],
   "source": [
    "pmf2_marginal_x = pmf2.sum(axis=0)\n",
    "pmf2_marginal_y = pmf2.sum(axis=1)"
   ]
  },
  {
   "cell_type": "code",
   "execution_count": 30,
   "metadata": {},
   "outputs": [
    {
     "data": {
      "text/plain": [
       "array([ 0. ,  0. ,  0. ,  0.5,  0.5])"
      ]
     },
     "execution_count": 30,
     "metadata": {},
     "output_type": "execute_result"
    }
   ],
   "source": [
    "# y의 값에 따라 x의 분포가 달라짐\n",
    "cond_x_y0 = pmf2[0, :]/pmf2_marginal_y[0]\n",
    "cond_x_y0"
   ]
  },
  {
   "cell_type": "code",
   "execution_count": 31,
   "metadata": {},
   "outputs": [
    {
     "data": {
      "text/plain": [
       "array([ 0.    ,  0.    ,  0.3333,  0.5   ,  0.1667])"
      ]
     },
     "execution_count": 31,
     "metadata": {},
     "output_type": "execute_result"
    }
   ],
   "source": [
    "cond_x_y1 = pmf2[1, :]/pmf2_marginal_y[1]\n",
    "cond_x_y1"
   ]
  },
  {
   "cell_type": "code",
   "execution_count": null,
   "metadata": {},
   "outputs": [],
   "source": []
  }
 ],
 "metadata": {
  "kernelspec": {
   "display_name": "Python 3",
   "language": "python",
   "name": "python3"
  },
  "language_info": {
   "codemirror_mode": {
    "name": "ipython",
    "version": 3
   },
   "file_extension": ".py",
   "mimetype": "text/x-python",
   "name": "python",
   "nbconvert_exporter": "python",
   "pygments_lexer": "ipython3",
   "version": "3.6.2"
  }
 },
 "nbformat": 4,
 "nbformat_minor": 2
}
