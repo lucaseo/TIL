{
 "cells": [
  {
   "cell_type": "markdown",
   "metadata": {},
   "source": [
    "# 다변수 이산확률변수"
   ]
  },
  {
   "cell_type": "markdown",
   "metadata": {},
   "source": [
    "- 이산확률변수가 2개 이상일 경우,  \n",
    "확률분포 쌍이 가지는 복합적인 확률변수도 존재\n",
    "  \n",
    "  \n",
    "- 카테고리 확률변수 $X, Y$가 있을 때,   \n",
    "이산확률변수의 확률질량함수(pmf)는 $P_X(x), P_Y(y)$로 나타낸다"
   ]
  },
  {
   "cell_type": "markdown",
   "metadata": {},
   "source": [
    "### 다변수 이산확률변수의 Joint PMF"
   ]
  },
  {
   "cell_type": "markdown",
   "metadata": {},
   "source": [
    "$$P_XY(x, y)$$"
   ]
  },
  {
   "cell_type": "markdown",
   "metadata": {},
   "source": [
    "### 시뮬레이션 (학점)"
   ]
  },
  {
   "cell_type": "code",
   "execution_count": 6,
   "metadata": {},
   "outputs": [],
   "source": [
    "import numpy as np\n",
    "import scipy as sp\n",
    "from scipy import stats\n",
    "import matplotlib as mpl\n",
    "import matplotlib.pyplot as plt\n",
    "import seaborn as sns"
   ]
  },
  {
   "cell_type": "code",
   "execution_count": 7,
   "metadata": {},
   "outputs": [
    {
     "data": {
      "text/plain": [
       "array([[ 0.02,  0.04,  0.02,  0.  ,  0.  ,  0.  ],\n",
       "       [ 0.  ,  0.04,  0.06,  0.02,  0.  ,  0.  ],\n",
       "       [ 0.  ,  0.08,  0.12,  0.08,  0.02,  0.  ],\n",
       "       [ 0.  ,  0.02,  0.08,  0.12,  0.08,  0.  ],\n",
       "       [ 0.  ,  0.  ,  0.02,  0.06,  0.04,  0.  ],\n",
       "       [ 0.  ,  0.  ,  0.  ,  0.02,  0.04,  0.02]])"
      ]
     },
     "execution_count": 7,
     "metadata": {},
     "output_type": "execute_result"
    }
   ],
   "source": [
    "pmf = np.array([[1, 2, 1, 0, 0, 0],\n",
    "                [0, 2, 3, 1, 0, 0],\n",
    "                [0, 4, 6, 4, 1, 0],\n",
    "                [0, 1, 4, 6, 4, 0],\n",
    "                [0, 0, 1, 3, 2, 0],\n",
    "                [0, 0, 0, 1, 2, 1]])\n",
    "pmf = pmf/pmf.sum()\n",
    "pmf"
   ]
  },
  {
   "cell_type": "code",
   "execution_count": 8,
   "metadata": {},
   "outputs": [
    {
     "data": {
      "image/png": "[encoded data removed]",
      "text/plain": [
       "<matplotlib.figure.Figure at 0x113e516a0>"
      ]
     },
     "metadata": {},
     "output_type": "display_data"
    }
   ],
   "source": [
    "# 히트맵으로 구현\n",
    "ax = sns.heatmap(pmf, cmap=mpl.cm.bone_r, \n",
    "                 xticklabels=['A', 'B', 'C', 'D', 'E', 'F'],\n",
    "                 yticklabels=['A', 'B', 'C', 'D', 'E', 'F'])\n",
    "ax.xaxis.tick_top()\n",
    "ax.xaxis.set_label_position(\"top\")\n",
    "plt.xlabel(\"x\")\n",
    "plt.ylabel(\"y\")\n",
    "plt.title(\"Joint Probability Mass Function P(x,y)\", y=-0.1)\n",
    "plt.show()"
   ]
  },
  {
   "cell_type": "code",
   "execution_count": 9,
   "metadata": {},
   "outputs": [
    {
     "data": {
      "image/png": "[encoded data removed]",
      "text/plain": [
       "<matplotlib.figure.Figure at 0x114037710>"
      ]
     },
     "metadata": {},
     "output_type": "display_data"
    }
   ],
   "source": [
    "x = np.arange(6)\n",
    "plt.subplot(611); plt.bar(x, pmf[0, :]); plt.ylabel(\"P(x, y=A)\", rotation=0, labelpad=30); plt.ylim(0, 0.15)\n",
    "plt.xticks(range(6), ['A', 'B', 'C', 'D', 'E', 'F'])\n",
    "plt.title(\"Joint Probability Mass Function P(x,y) for fixed y\")\n",
    "plt.subplot(612); plt.bar(x, pmf[1, :]); plt.ylabel(\"P(x, y=B)\", rotation=0, labelpad=30); plt.ylim(0, 0.15)\n",
    "plt.xticks(range(6), ['A', 'B', 'C', 'D', 'E', 'F'])\n",
    "plt.subplot(613); plt.bar(x, pmf[2, :]); plt.ylabel(\"P(x, y=C)\", rotation=0, labelpad=30); plt.ylim(0, 0.15)\n",
    "plt.xticks(range(6), ['A', 'B', 'C', 'D', 'E', 'F'])\n",
    "plt.subplot(614); plt.bar(x, pmf[3, :]); plt.ylabel(\"P(x, y=D)\", rotation=0, labelpad=30); plt.ylim(0, 0.15)\n",
    "plt.xticks(range(6), ['A', 'B', 'C', 'D', 'E', 'F'])\n",
    "plt.subplot(615); plt.bar(x, pmf[4, :]); plt.ylabel(\"P(x, y=E)\", rotation=0, labelpad=30); plt.ylim(0, 0.15)\n",
    "plt.xticks(range(6), ['A', 'B', 'C', 'D', 'E', 'F'])\n",
    "plt.subplot(616); plt.bar(x, pmf[5, :]); plt.ylabel(\"P(x, y=F)\", rotation=0, labelpad=30); plt.ylim(0, 0.15)\n",
    "plt.xticks(range(6), ['A', 'B', 'C', 'D', 'E', 'F'])\n",
    "plt.xlabel(\"x\")\n",
    "plt.tight_layout()\n",
    "plt.show()"
   ]
  },
  {
   "cell_type": "markdown",
   "metadata": {},
   "source": [
    "연습 문제 1¶\n",
    "\n",
    "1. 이 확률변수의 표본 값이 (D,E)일 확률을 구하라. 답 : 0.06\n",
    "2. 이 확률변수의 표본 값이 (E,A)일 확률을 구하라. 답 : 0\n",
    "3. 확률 변수의 값을 모른다고 할 때 어떤 값이 나올 가능성이 가장 높은가. 답 : (C, C) or (D, D)\n",
    "3. 만약 확률 변수  Y의 값이 A가 나왔다면 확률 변수  X의 값은 어떤 값이 나올 가능성이 가장 높은가. 답 : 0.06\n",
    "4. 만약 확률 변수  Y의 값이 C가 나왔다면 확률 변수  X의 값은 어떤 값이 나올 가능성이 가장 높은가. 답 : 0.12"
   ]
  },
  {
   "cell_type": "markdown",
   "metadata": {},
   "source": [
    "### 다변수 이산확률분포의 Margial PMF\n",
    "\n",
    "두 확률변수 중 하나의 확률변수 값에 대해서만 확률분포를 표시한 함수\n",
    "\n",
    "$$\\nonumber  P_X(x) = \\sum_{y_i} P_{XY}(x,y_i)$$\n",
    "\n",
    "$$\\nonumber  P_Y(y) = \\sum_{x_i} P_{XY}(x_i,y)$$\n"
   ]
  },
  {
   "cell_type": "code",
   "execution_count": 10,
   "metadata": {},
   "outputs": [
    {
     "data": {
      "text/plain": [
       "array([ 0.02,  0.18,  0.3 ,  0.3 ,  0.18,  0.02])"
      ]
     },
     "execution_count": 10,
     "metadata": {},
     "output_type": "execute_result"
    }
   ],
   "source": [
    "pmf_marginal_x = pmf.sum(axis=0)\n",
    "pmf_marginal_x"
   ]
  },
  {
   "cell_type": "code",
   "execution_count": 11,
   "metadata": {},
   "outputs": [
    {
     "data": {
      "text/plain": [
       "array([[ 0.08],\n",
       "       [ 0.12],\n",
       "       [ 0.3 ],\n",
       "       [ 0.3 ],\n",
       "       [ 0.12],\n",
       "       [ 0.08]])"
      ]
     },
     "execution_count": 11,
     "metadata": {},
     "output_type": "execute_result"
    }
   ],
   "source": [
    "pmf_marginal_y = pmf.sum(axis=1)\n",
    "pmf_marginal_y[:, np.newaxis]"
   ]
  },
  {
   "cell_type": "markdown",
   "metadata": {},
   "source": [
    "연습 문제 2¶\n",
    "\n",
    "1. 확률변수  Y의 표본 값이 A일 확률을 구하라. 답 : 0.08\n",
    "2. 확률변수  Y의 표본 값이 C일 확률을 구하라. 답 : 0.3\n",
    "3. 확률변수  X의 표본 값이 B일 확률을 구하라. 답 : 0.18"
   ]
  },
  {
   "cell_type": "markdown",
   "metadata": {},
   "source": [
    "### 다변수 이산확률분포의 Joint PMF\n",
    "\n",
    "$$\n",
    "P_{X \\mid Y}(x \\mid y) = \\dfrac{P_{XY}(x, y)}{P_{Y}(y)}$$\n",
    "\n",
    "$$P_{Y \\mid X}(y \\mid x) = \\dfrac{P_{XY}(x, y)}{P_{X}(x)}$$\n",
    "\n",
    "\n",
    "각 조건부 질량함수의 합은 1이 된다."
   ]
  },
  {
   "cell_type": "code",
   "execution_count": null,
   "metadata": {},
   "outputs": [],
   "source": []
  }
 ],
 "metadata": {
  "kernelspec": {
   "display_name": "Python 3",
   "language": "python",
   "name": "python3"
  },
  "language_info": {
   "codemirror_mode": {
    "name": "ipython",
    "version": 3
   },
   "file_extension": ".py",
   "mimetype": "text/x-python",
   "name": "python",
   "nbconvert_exporter": "python",
   "pygments_lexer": "ipython3",
   "version": "3.6.2"
  }
 },
 "nbformat": 4,
 "nbformat_minor": 2
}
