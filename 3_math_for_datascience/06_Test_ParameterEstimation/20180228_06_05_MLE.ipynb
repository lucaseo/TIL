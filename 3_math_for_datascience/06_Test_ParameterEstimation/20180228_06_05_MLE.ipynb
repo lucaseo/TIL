{
 "cells": [
  {
   "cell_type": "markdown",
   "metadata": {},
   "source": [
    "# MLE 모수 추정\n",
    "\n",
    "### Maximum Likelihood Estimation"
   ]
  },
  {
   "cell_type": "markdown",
   "metadata": {},
   "source": [
    "# Likelihood"
   ]
  },
  {
   "cell_type": "markdown",
   "metadata": {},
   "source": [
    "\n",
    "확률변수 X의 확률모형의 경우,\n",
    "- PDF $f_X(x;\\theta)$에 의해 정의된다.\n",
    "- x = 실수값 , theta = PDF의 모수 집합\n",
    "- 일반적으로 theta는 상수 계수(고정된 값), x는  변수(variable)로 가정\n",
    "\n",
    "\n",
    "**x를 변수로 가지는 PDF란**\n",
    ">고정된 변수 모형에서,  \n",
    ">주어진 실수 입력값에 대해  \n",
    ">그 실수값이 나올 상대적 가능성을 출력"
   ]
  },
  {
   "cell_type": "markdown",
   "metadata": {},
   "source": [
    "### 하지만\n",
    "\n",
    "추정 문제의 경우, \n",
    "- x(실현된 샘플값)는 알고 있지만, 모수 theta를 모르고 있는 상태.\n",
    "- x는 상수 계수 (고정값), theta가 찾아야 하는 변수\n",
    "- PDF는 x가 나올 수 있는 확률밀도 값 = **Likelihood**\n",
    "\n",
    ">x가 이미 발생. 값을 알고 있는 상태  \n",
    ">x는 상수, theta는 변수  \n",
    ">x가 이미 정해져 있는 상황에서의 theta값의 상대적 가능성  \n",
    "\n",
    "$$\\mathcal{L}(\\theta;x) = f_X(x ; \\theta)  = f_X(x \\vert \\theta)$$\n",
    "\n",
    "모수를 확률변수로 볼 때, 조건부 확률밀도함수로도 쓸 수 있다.\n",
    "\n",
    "\n",
    "\n",
    "\n",
    "\n"
   ]
  },
  {
   "cell_type": "markdown",
   "metadata": {},
   "source": [
    "# MLE\n",
    "주어진 샘플 x에 대해 likelihood를 가장 크게 해주는 모수를 찾는 방법"
   ]
  },
  {
   "cell_type": "code",
   "execution_count": 4,
   "metadata": {},
   "outputs": [
    {
     "name": "stderr",
     "output_type": "stream",
     "text": [
      "/Library/Frameworks/Python.framework/Versions/3.6/lib/python3.6/site-packages/ipykernel_launcher.py:5: MatplotlibDeprecationWarning: pyplot.hold is deprecated.\n",
      "    Future behavior will be consistent with the long-time default:\n",
      "    plot commands add elements without first clearing the\n",
      "    Axes and/or Figure.\n",
      "  \"\"\"\n",
      "/Library/Frameworks/Python.framework/Versions/3.6/lib/python3.6/site-packages/matplotlib/__init__.py:805: MatplotlibDeprecationWarning: axes.hold is deprecated. Please remove it from your matplotlibrc and/or style files.\n",
      "  mplDeprecation)\n",
      "/Library/Frameworks/Python.framework/Versions/3.6/lib/python3.6/site-packages/matplotlib/rcsetup.py:155: MatplotlibDeprecationWarning: axes.hold is deprecated, will be removed in 3.0\n",
      "  mplDeprecation)\n"
     ]
    },
    {
     "data": {
      "image/png": "[encoded data removed]",
      "text/plain": [
       "<matplotlib.figure.Figure at 0x1142c17f0>"
      ]
     },
     "metadata": {},
     "output_type": "display_data"
    }
   ],
   "source": [
    "# 예시\n",
    "\n",
    "x = np.linspace(-5, 5, 100)\n",
    "plt.plot(x, sp.stats.norm(loc=0).pdf(x))\n",
    "plt.hold(True)\n",
    "plt.scatter(1, 0, s=100, c='k')\n",
    "plt.vlines(1, -0.05, 0.45, linestyle=\":\")\n",
    "plt.text(1-0.09, -0.08, \"$x_0$\")\n",
    "plt.plot(x, sp.stats.norm(loc=-1).pdf(x))\n",
    "plt.plot(x, sp.stats.norm(loc=1).pdf(x))\n",
    "plt.scatter(1, sp.stats.norm(loc=-1).pdf(1), s=100, c='g');\n",
    "plt.scatter(1, sp.stats.norm(loc=0).pdf(1), s=100, c='b');\n",
    "plt.scatter(1, sp.stats.norm(loc=1).pdf(1), s=100, c='r');\n",
    "plt.text(-3.3, 0.35, \"$f_X(x;-1)$\")\n",
    "plt.text(-0.5, 0.44, \"$f_X(x;0)$\")\n",
    "plt.text(1.9, 0.35, \"$f_X(x;1)$\");"
   ]
  },
  {
   "cell_type": "markdown",
   "metadata": {},
   "source": [
    "# MLE의 구현\n",
    "\n",
    "likelihood가 최대가 되는 theta를 수치적으로 계산\n",
    "- 수치 최적화 (numerical optimization)\n",
    "\n",
    "\n",
    "$$\\hat\\theta_{\\text{MLE}} = \\arg \\max_{\\theta} L(\\theta; \\{x_i\\})$$\n",
    "\n",
    "일반적으로는 로그 변환한 로그 Likelihood함수 $\\mathcal{LL} = \\log{\\mathcal{L}}$ 사용한다.\n",
    "\n",
    "왜?\n",
    "- 로그변환 해도 최대값의 위치는 변하지 않는다\n",
    "- 로그변환을 하면 곱셈이 덧셈이 되어 계산이 단순해짐"
   ]
  },
  {
   "cell_type": "markdown",
   "metadata": {},
   "source": [
    "# MLE : 베르누이 분포 모수 추정"
   ]
  },
  {
   "cell_type": "markdown",
   "metadata": {},
   "source": [
    "- 베르누이 분포의 PDF\n",
    "\n",
    "$$P(x ; \\theta ) = \\text{Bern}(x ; \\theta ) = \\theta^x (1 - \\theta)^{1-x}$$\n",
    "\n",
    "\n",
    "- N번의 반복 시행은 모두 독립이므로, 전체 PDF = 각각의 PDF의 곱\n",
    "- 이후 Likelihood\n",
    "$$L(\\theta ; x_{1:N}) = P(x_{1:N};\\theta) = \\prod_{i=1}^N  \\theta^{x_i} (1 - \\theta)^{1-x_i}$$\n",
    "\n",
    "- Log Likelihood\n",
    "$$\\begin{eqnarray*}\n",
    "\\log L \n",
    "&=& \\log P(x_{1:N};\\theta)  \\\\\n",
    "&=& \\sum_{i=1}^N \\big\\{ {x_i} \\log\\theta + (1-x_i)\\log(1 - \\theta) \\big\\} \\\\\n",
    "&=&  \\sum_{i=1}^N {x_i} \\log\\theta +  \\left( N-\\sum_{i=1}^N x_i \\right) \\log( 1 - \\theta ) \\\\\n",
    "\\end{eqnarray*}$$  \n",
    "\n",
    "  \n",
    "\n",
    "성공은 x = 1, 실패는 x = 0 이므로 $N_1 = \\sum_{i=1}^N {x_i}$\n",
    "\n",
    "따라서\n",
    "$$\n",
    "\\begin{eqnarray*}\n",
    "\\log L \n",
    "&=&  N_1 \\log\\theta  + (N-N_1) \\log(1 - \\theta) \\\\\n",
    "\\end{eqnarray*}$$\n",
    "\n",
    "\n",
    "이 값을 미분\n",
    "\n",
    "$$\\begin{eqnarray*}\n",
    "\\dfrac{\\partial \\log L}{\\partial \\theta} \n",
    "&=& \\dfrac{\\partial}{\\partial \\theta} \\big\\{ N_1 \\log\\theta  + (N-N_1) \\log(1 - \\theta)  \\big\\} = 0\\\\\n",
    "&=& \\dfrac{N_1}{\\theta}  - \\dfrac{N-N_1}{1-\\theta} = 0 \\\\\n",
    "\\end{eqnarray*}$$\n",
    "\n",
    "$$\\dfrac{N_1}{\\theta}  = \\dfrac{N-N_1}{1-\\theta}$$\n",
    "\n",
    "$$\\dfrac{1-\\theta}{\\theta} = \\dfrac{N-N_1}{N_1}$$\n",
    "\n",
    "$$\\dfrac{1}{\\theta} - 1 = \\dfrac{N}{N_1} - 1$$\n",
    "\n",
    "$$\\theta= \\dfrac{N_1}{N}$$"
   ]
  },
  {
   "cell_type": "code",
   "execution_count": 6,
   "metadata": {},
   "outputs": [
    {
     "data": {
      "text/plain": [
       "0.60999999999999999"
      ]
     },
     "execution_count": 6,
     "metadata": {},
     "output_type": "execute_result"
    }
   ],
   "source": [
    "np.random.seed(0)\n",
    "theta0 = 0.6\n",
    "x = sp.stats.bernoulli(theta0).rvs(1000)\n",
    "N0, N1 = np.bincount(x, minlength=2)\n",
    "N = N0 + N1\n",
    "theta = N1/N\n",
    "theta"
   ]
  },
  {
   "cell_type": "markdown",
   "metadata": {},
   "source": [
    "# MLE : 카테고리 분포\n"
   ]
  },
  {
   "cell_type": "markdown",
   "metadata": {},
   "source": [
    "$$P(x ; \\theta ) = \\text{Cat}(x ; \\theta) = \\prod_{k=1}^K \\theta_k^{x_k}$$\n",
    "\n",
    "$$\\sum_{k=1}^K \\theta_k = 1$$\n",
    "\n",
    "- 모두 독립일 때, 전체 PDF는 각각 PDF의 곱\n",
    "\n",
    "$$L(\\theta ; x_{1:N}) = P(x_{1:N};\\theta) = \\prod_{i=1}^N \\prod_{k=1}^K \\theta_k^{x_{i,k}}$$\n",
    "\n",
    "- Log-Likelihood를 위한 로그변환\n",
    "\n",
    "$$\\begin{eqnarray*}\n",
    "\\log L \n",
    "&=& \\log P(x_{1:N};\\theta)  \\\\\n",
    "&=& \\sum_{i=1}^N \\sum_{k=1}^K  \\left( {x_{i,k}} \\log\\theta_k  \\right) \\\\\n",
    "&=& \\sum_{k=1}^K  \\sum_{i=1}^N  \\left(  \\log\\theta_k  {x_{i,k}}\\right) \\\\\n",
    "&=& \\sum_{k=1}^K \\left( \\log\\theta_k \\left( \\sum_{i=1}^N {x_{i,k}}   \\right)  \\right)\n",
    "\\end{eqnarray*}$$\n",
    "\n",
    "x_k가 나온 횟수를 N_K로 다음과 같이 표기해줄 때, $N_k = \\sum_{i=1}^N {x_{i,k}}$\n",
    "\n",
    "Log-Likelihood는 다음과 같아지며, 이 함수를 최대화 하는 theta의 값을 찾아야 함.  \n",
    "\n",
    "(모수에 대한 조건 : $\\sum_{k=1}^K \\theta_k = 1$)\n",
    "\n",
    "\n",
    "$$\\log L = \\sum_{k=1}^K \\left( \\log\\theta_k  N_k  \\right)$$\n",
    "\n",
    "라그랑주 승수법을 사용, LL을 다음과 같이 변형 후, 모수로 미분한 값이 0이 되는 값을 구함\n",
    "\n",
    "$$\\begin{eqnarray*}\n",
    "\\dfrac{\\partial \\log L}{\\partial \\theta_k} \n",
    "&=& \\dfrac{\\partial}{\\partial \\theta_k} \\left\\{ \\sum_{k=1}^K \\log\\theta_k N_k  + \\lambda \\left(1- \\sum_{k=1}^K \\theta_k\\right)  \\right\\} = 0 \\\\\n",
    "\\dfrac{\\partial \\log L}{\\partial \\lambda} \n",
    "&=& \\dfrac{\\partial}{\\partial \\lambda} \\left\\{ \\sum_{k=1}^K \\log\\theta_k N_k  + \\lambda \\left(1- \\sum_{k=1}^K \\theta_k \\right)  \\right\\} = 0\\\\\n",
    "\\end{eqnarray*}$$\n",
    "\n",
    "위를 풀면, \n",
    "\n",
    "$$\\dfrac{N_1}{\\theta_1}  = \\dfrac{N_2}{\\theta_2} = \\cdots = \\dfrac{N_K}{\\theta_K} = \\lambda$$\n",
    "\n",
    "$$\\sum_{k=1}^K N_k = N$$\n",
    "\n",
    "$$\\lambda \\sum_{k=1}^K \\theta_k  = \\lambda = N$$\n",
    "\n",
    "$$\\theta_k = \\dfrac{N_k}{N}$$"
   ]
  },
  {
   "cell_type": "code",
   "execution_count": 7,
   "metadata": {},
   "outputs": [
    {
     "data": {
      "text/plain": [
       "array([ 0.098,  0.317,  0.585])"
      ]
     },
     "execution_count": 7,
     "metadata": {},
     "output_type": "execute_result"
    }
   ],
   "source": [
    "np.random.seed(0)\n",
    "theta0 = np.array([0.1, 0.3, 0.6])\n",
    "x = np.random.choice(np.arange(3), 1000, p=theta0)\n",
    "N0, N1, N2 = np.bincount(x, minlength=3)\n",
    "N = N0 + N1 + N2\n",
    "theta = np.array([N0, N1, N2]) / N\n",
    "theta"
   ]
  },
  {
   "cell_type": "markdown",
   "metadata": {},
   "source": [
    "# MLE : 가우시안 정규분포"
   ]
  },
  {
   "cell_type": "markdown",
   "metadata": {},
   "source": [
    "가우시안 정규분포의 PDF\n",
    "\n",
    "$$ p(x ; \\theta ) = N(x ; \\mu, \\sigma^2) = \\dfrac{1}{\\sqrt{2\\pi\\sigma^2}} \\exp \\left(-\\dfrac{(x-\\mu)^2}{2\\sigma^2}\\right) $$\n",
    "\n",
    "모두 독립일 때는, 전체 PDF = 각각 PDF의 곱\n",
    "\n",
    "$$ L(\\theta;x_{1:N}) = p(x_{1:N};\\theta) = \\prod_{i=1}^N  \\dfrac{1}{\\sqrt{2\\pi\\sigma^2}} \\exp \\left(-\\dfrac{(x_i-\\mu)^2}{2\\sigma^2}\\right)$$\n",
    "\n",
    "Log-Likelihood, 상수 부분은 C로 표기한다.\n",
    "\n",
    "$$ \n",
    "\\begin{eqnarray*}\n",
    "\\log L \n",
    "&=& \\log p(x_{1:N};\\theta)  \\\\\n",
    "&=& \\sum_{i=1}^N \\left\\{ -\\dfrac{1}{2}\\log(2\\pi\\sigma^2) - \\dfrac{(x_i-\\mu)^2}{2\\sigma^2} \\right\\} \\\\\n",
    "&=& -\\dfrac{N}{2} \\log(2\\pi\\sigma^2) - \\dfrac{1}{2\\sigma^2}\\sum_{i=1}^N (x_i-\\mu)^2\n",
    "\\end{eqnarray*}\n",
    "$$\n",
    "\n",
    "PDF가 최대가 되는 모수 값을 찾기 위해서, 각각 모수로 미분한 값이 0\n",
    "\n",
    "$$\n",
    "\\begin{eqnarray*}\n",
    "\\dfrac{\\partial \\log L}{\\partial \\mu} \n",
    "&=& \\dfrac{\\partial}{\\partial \\mu} \\left\\{ \\dfrac{N}{2} \\log(2\\pi\\sigma^2) + \\dfrac{1}{2\\sigma^2}\\sum_{i=1}^N (x_i-\\mu)^2  \\right\\} = 0 \\\\\n",
    "\\dfrac{\\partial \\log L}{\\partial \\sigma^2} \n",
    "&=& \\dfrac{\\partial}{\\partial \\sigma^2} \\left\\{ \\dfrac{N}{2} \\log(2\\pi\\sigma^2) + \\dfrac{1}{2\\sigma^2}\\sum_{i=1}^N (x_i-\\mu)^2 \\right\\} = 0\\\\\n",
    "\\end{eqnarray*}\n",
    "$$\n",
    "\n",
    "위의 두 식을 풀어, likelihood를 최대로 하는 모수 값을 구할 수 있음\n",
    "\n",
    "$$\n",
    "\\dfrac{2}{2\\sigma^2}\\sum_{i=1}^N (x_i-\\mu) = 0\n",
    "$$\n",
    "\n",
    "$$\n",
    "N \\mu = \\sum_{i=1}^N x_i\n",
    "$$\n",
    "\n",
    "$$\n",
    "\\mu = \\dfrac{1}{N}\\sum_{i=1}^N x_i = \\bar{x}\n",
    "$$\n",
    "\n",
    "$$\n",
    "\\dfrac{N}{2\\sigma^2 } -  \\dfrac{1}{2(\\sigma^2)^2}\\sum_{i=1}^N (x_i-\\mu)^2  = 0\n",
    "$$\n",
    "\n",
    "\n",
    "$$\n",
    "\\sigma^2  =  \\dfrac{1}{N}\\sum_{i=1}^N (x_i-\\mu)^2 = \\dfrac{1}{N}\\sum_{i=1}^N (x_i-\\bar{x})^2 = s^2\n",
    "$$"
   ]
  },
  {
   "cell_type": "code",
   "execution_count": 8,
   "metadata": {},
   "outputs": [
    {
     "data": {
      "text/plain": [
       "(0.90948658501960922, 1.9750540913890255)"
      ]
     },
     "execution_count": 8,
     "metadata": {},
     "output_type": "execute_result"
    }
   ],
   "source": [
    "np.random.seed(0)\n",
    "mu0 = 1\n",
    "sigma0 = 2\n",
    "x = sp.stats.norm(mu0, sigma0).rvs(1000)\n",
    "xbar = x.mean()\n",
    "s2 = x.std(ddof=1)\n",
    "xbar, s2"
   ]
  },
  {
   "cell_type": "markdown",
   "metadata": {},
   "source": [
    "# MLE : 다변수 정규 분포"
   ]
  },
  {
   "cell_type": "markdown",
   "metadata": {},
   "source": [
    "다변수 정규분포의 PDF \n",
    "\n",
    "$$ p(x ; \\theta ) = N(x ; \\mu, \\Sigma) = \\dfrac{1}{(2\\pi)^{D/2} |\\Sigma|^{1/2}} \\exp \\left( -\\dfrac{1}{2} (x-\\mu)^T \\Sigma^{-1} (x-\\mu) \\right) $$\n",
    "\n",
    "반복 시행은 모두 독립이므로 전체 PDF = 각각 PDF의 곱\n",
    "\n",
    "$$ L(\\theta;x_{1:N}) = p(x_{1:N};\\theta) = \\prod_{i=1}^N  \\dfrac{1}{(2\\pi)^{D/2} |\\Sigma|^{1/2}} \\exp \\left( -\\dfrac{1}{2} (x_i-\\mu)^T \\Sigma^{-1} (x_i-\\mu) \\right)$$\n",
    "\n",
    "미분을 위한 Log-Likelihood, 상수 부분은 C로 표기\n",
    "\n",
    "$$ \n",
    "\\begin{eqnarray*}\n",
    "\\log L \n",
    "&=& \\log P(x_{1:N};\\theta)  \\\\\n",
    "&=& \\sum_{i=1}^N \\left\\{ -\\log((2\\pi)^{D/2} |\\Sigma|^{1/2}) - \\dfrac{1}{2} (x-\\mu)^T \\Sigma^{-1} (x-\\mu) \\right\\} \\\\\n",
    "&=& C -\\dfrac{N}{2} \\log|\\Sigma| - \\dfrac{1}{2} \\sum_i^N (x_i-\\mu)^T \\Sigma^{-1} (x_i-\\mu) \n",
    "\\end{eqnarray*}\n",
    "$$\n",
    "\n",
    "precision matrix $\\Sigma ^{-1} $를 Lambda $ \\Lambda$ 로 단순하게 표기.\n",
    "\n",
    "$$ \n",
    "\\begin{eqnarray*}\n",
    "\\log L \n",
    "&=& C + \\dfrac{N}{2} \\log|\\Lambda| - \\dfrac{1}{2} \\sum_i^N(x_i-\\mu)^T \\Lambda (x_i-\\mu) \n",
    "\\end{eqnarray*}\n",
    "$$\n",
    "\n",
    "각각 모수로 미분한 값이 0이 되어야 함수가 최대값이 되는 모수를 구할 수 있다.\n",
    "\n",
    "$$ \\dfrac{\\partial L}{\\partial \\mu} = -  \\dfrac{\\partial}{\\partial \\mu}  \\sum_{i=1}^N (x_i-\\mu)^T \\Lambda (x_i-\\mu) =  - \\sum_{i=1}^N 2\\Lambda (x_i - \\mu) = -2\\Lambda \\sum_{i=1}^N  (x_i - \\mu) = 0 $$\n",
    "\n",
    "$$ \\dfrac{\\partial L}{\\partial \\Lambda} = \\dfrac{\\partial}{\\partial \\Lambda} \\dfrac{N}{2} \\log|\\Lambda| - \\dfrac{\\partial}{\\partial \\Lambda}  \\dfrac{1}{2} \\sum_{i=1}^N \\text{tr}( (x_i-\\mu)(x_i-\\mu)^T\\Lambda) =0  $$\n",
    "\n",
    "likelihood를 가장 크게 하는 모수의 값\n",
    "\n",
    "$$ \\sum_{i=1}^N  (x_i - \\mu) = 0 $$\n",
    "\n",
    "$$ \\mu = \\dfrac{1}{N}\\sum_{i=1}^N x_i $$\n",
    "\n",
    "$$ \\dfrac{N}{2} \\Lambda^{-T} = \\dfrac{1}{2}\\sum_{i=1}^N (x_i-\\mu)(x_i-\\mu)^T $$ \n",
    "\n",
    "$$ \\Sigma = \\dfrac{1}{N}\\sum_{i=1}^N (x_i-\\mu)(x_i-\\mu)^T $$ "
   ]
  },
  {
   "cell_type": "code",
   "execution_count": 9,
   "metadata": {},
   "outputs": [
    {
     "name": "stdout",
     "output_type": "stream",
     "text": [
      "[-0.0126996   0.95720206]\n",
      "[[ 0.96100921  0.16283508]\n",
      " [ 0.16283508  3.80507694]]\n"
     ]
    }
   ],
   "source": [
    "np.random.seed(0)\n",
    "mu0 = np.array([0, 1])\n",
    "sigma0 = np.array([[1, 0.2], [0.2, 4]])\n",
    "x = sp.stats.multivariate_normal(mu0, sigma0).rvs(1000)\n",
    "xbar = x.mean(axis=0)\n",
    "S2 = np.cov(x, rowvar=0)\n",
    "print(xbar)\n",
    "print(S2)"
   ]
  },
  {
   "cell_type": "code",
   "execution_count": null,
   "metadata": {},
   "outputs": [],
   "source": []
  },
  {
   "cell_type": "code",
   "execution_count": null,
   "metadata": {},
   "outputs": [],
   "source": []
  },
  {
   "cell_type": "code",
   "execution_count": null,
   "metadata": {},
   "outputs": [],
   "source": []
  },
  {
   "cell_type": "code",
   "execution_count": null,
   "metadata": {},
   "outputs": [],
   "source": []
  },
  {
   "cell_type": "code",
   "execution_count": null,
   "metadata": {},
   "outputs": [],
   "source": []
  },
  {
   "cell_type": "code",
   "execution_count": null,
   "metadata": {},
   "outputs": [],
   "source": []
  },
  {
   "cell_type": "code",
   "execution_count": 2,
   "metadata": {},
   "outputs": [],
   "source": [
    "import numpy as np\n",
    "import scipy as sp\n",
    "from scipy import stats\n",
    "import matplotlib as mpl\n",
    "import matplotlib.pyplot as plt\n",
    "import seaborn as sns\n",
    "import statsmodels as sm"
   ]
  },
  {
   "cell_type": "code",
   "execution_count": null,
   "metadata": {},
   "outputs": [],
   "source": []
  }
 ],
 "metadata": {
  "kernelspec": {
   "display_name": "Python 3",
   "language": "python",
   "name": "python3"
  },
  "language_info": {
   "codemirror_mode": {
    "name": "ipython",
    "version": 3
   },
   "file_extension": ".py",
   "mimetype": "text/x-python",
   "name": "python",
   "nbconvert_exporter": "python",
   "pygments_lexer": "ipython3",
   "version": "3.6.2"
  }
 },
 "nbformat": 4,
 "nbformat_minor": 2
}
