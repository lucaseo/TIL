{
 "cells": [
  {
   "cell_type": "markdown",
   "metadata": {},
   "source": [
    "# 검정과 유의 확률"
   ]
  },
  {
   "cell_type": "markdown",
   "metadata": {},
   "source": [
    "## 검정의 기본적 논리 (가설 증명)\n",
    "\n",
    "(1). \n",
    "- 데이터가 고정된 확률 분포를 가지는 확률변수라고 가정\n",
    "- 예) 동전은 베르누이 분포를 따르는 확률변수의 표본\n",
    "\n",
    "\n",
    "(2). \n",
    "- 이 확률 분포의 모수 값이 특정한 값을 가진다고 가정한다.\n",
    "- 귀무 가설 (null hypothesis)\n",
    "- 이 가설은 항사 고정이다.\n",
    "\n",
    "\n",
    "(3). \n",
    "- 귀무가설에 따른 표본 데이터를 특정 수식에 따라 계산한 숫자\n",
    "- 검정 통계량 (test statistics)\n",
    "- 검정 통계량의 확률 분포는 검정 통계 분포 (test statistics distribution\n",
    "\n",
    "\n",
    "(4).\n",
    "- 귀무가설의 가정에 따라\n",
    "- 더 극단적인, 희귀한, 값이 나올 수 있는 확률 계산(나오기 힘든 경우)\n",
    "- P-value , 유의 확률\n",
    "- 특정 기준 값을 정해놓고, P-value와 비교한다.\n",
    "\n",
    "(5).\n",
    "- 기준 값 유의 수준(significance interval)을 정해놓고 유의 확률과 비교.\n",
    "- 유의 확률이 유의 수준보다 낮을 경우\n",
    "- 해당 검정 통계 분포에서 검정 통계치가 나올 수 있는 확률이 아주 작다는 것을 의미, \n",
    "- 귀무 가설이 틀렸다고 해석하고, 기각 (reject)\n",
    "\n",
    "(6).\n",
    "- 유의 확률이 유의 수준보다 크다면, 해당 검정 통계 분포에서 검정 통계치가 나오는 것이 불가능하지 않다는 것을 의미.\n",
    "- 귀무 가설을 기각할 수 없으므로\n",
    "- 귀무 가설 채택 (accept)\n",
    "\n"
   ]
  },
  {
   "cell_type": "markdown",
   "metadata": {},
   "source": [
    "## 가설\n",
    "\n",
    "hypothesis라고 하며 $H$로 표기.  \n",
    "가설을 증명하는 행위를 검정. \n",
    "모수 값이 특정한 값을 가진다는 주장 --> 모수 검정\n",
    "\n",
    "가장 널리 사용하는 가설 중 하나 \n",
    "$$H : \\theta = \\theta_0$$\n",
    "\n",
    "회귀 계수의 값이 0이면, 종속 변수 (target)가 독립 변수 (feature)의 영향을 받지 않난다는 의미"
   ]
  },
  {
   "cell_type": "markdown",
   "metadata": {},
   "source": [
    "## 귀무 가설과 대립 가설\n",
    "\n",
    "귀무가설 $H_0$ (null hypothesis)\n",
    "- 검정 작업을 위해서 데이터가 따르는 분포가 어떤 특정한 모수 값으로 고정되어 있다 가정. 등식 (=) 으로 표현\n",
    "\n",
    "대립가설 $H_a$(research, alternative hypothesis)\n",
    "- 모수의 값이 특정한 값보다 크거나 작다는 것을 나타냄.\n",
    "- 대립가설이 사실일 가능성이 높아지면, 귀무는 기각.\n",
    "- 약품 성능 개선, 불량품 감소 등을 증명하고자 할 때 사용되기도.\n",
    "\n",
    "(예)\n",
    "$$H_0: \\theta = 0 ,\\;\\;\\; H_a: \\theta \\neq 0$$\n",
    "- 양측 검정\n",
    "\n",
    "$$H_0: \\theta = 0, \\;\\;\\; H_a: \\theta > 0$$\n",
    "\n",
    "$$H_0: \\theta = 0 ,\\;\\;\\; H_a: \\theta < 0$$ \n",
    "- 단측 검정"
   ]
  },
  {
   "cell_type": "markdown",
   "metadata": {},
   "source": [
    "## 검정 통계량\n",
    "\n",
    "귀무 가설이 맞거나 틀린 것을 증명하기 위한 수치적 증거\n",
    "\n",
    "검정 통계량 $t = f(x_1, x_2, \\ldots, x_N) $\n",
    "\n",
    "검정 통계량 또한 어떤 값이 나올 지 정확하게 예측할 수 없으므로, 확률적이라 볼 수 있고, 검정통계량 확률 변수 T라고 둘 수 있다.\n",
    "\n",
    "**검정통계량이 되기 위해서는,**  \n",
    "귀무 가설이 사실일 경우, 표본에서 계산된 검정 통계량이 따르는 검정 통계량 확률 변수 T의 확률 분포를 정량적으로 알고 있어야 한다"
   ]
  },
  {
   "cell_type": "markdown",
   "metadata": {},
   "source": [
    "## 검정 통계량 의 예\n",
    "\n",
    "#### 1. 베르누이 분포 확률 변수\n",
    "\n",
    "$$x \\sim \\text{Bern}  \\;\\; \\rightarrow \\;\\; t = \\sum x \\sim \\text{Bin}$$\n",
    "\n",
    "#### 2. 분산 값을 알고 있는 정규 분포 확률 변수 **$z$**\n",
    "(샘플 평균을 정규화 한 값)\n",
    "\n",
    "$$ x \\sim \\mathcal{N}(\\mu, \\sigma^2) \\;\\; \\rightarrow \\;\\; z = \\dfrac{m-\\mu}{\\frac{\\sigma}{\\sqrt{N}}} \\sim \\mathcal{N}(z;0,1)$$\n",
    "\n",
    "#### 3. 분산 값을 모르는 정규 분포 확률 변수  \n",
    "\n",
    "- 평균 모수 $\\mu$에 대한 검정 시, 샘플 평균을 샘플 분산으로 정규화 한 값\n",
    "\n",
    "$$x \\sim \\mathcal{N}(\\mu, \\sigma^2) \\;\\; \\rightarrow \\;\\; t = \\dfrac{m-\\mu}{\\frac{s}{\\sqrt{N}}} \\sim t(t;0,1,N-1)$$\n",
    "\n",
    "$$m = \\dfrac{1}{N}\\sum_{i=1}^{N} x_i$$\n",
    "\n",
    "$$s^2 = \\dfrac{1}{N-1}\\sum_{i=1}^{N} (x_i-m)^2$$\n",
    "\n",
    "- 분산 모수 $\\sigma^2$에 대한 검정 시, 샘플 분산을 정규화 한 값.\n",
    "- 자유도가 N-1인 카이제곱 분포. N = 데이터의 수\n",
    "\n",
    "$$x \\sim \\mathcal{N}(\\mu, \\sigma^2) \\;\\; \\rightarrow \\;\\; t = (N-1)\\dfrac{s^2}{\\sigma^2} \\sim \\chi^2 (t;N-1)$$"
   ]
  },
  {
   "cell_type": "markdown",
   "metadata": {},
   "source": [
    "## 유의 확률 (P-value)\n",
    "\n",
    "이제, 검정 통계량이 따르는 검정 통계량 분포를 알고 있다.  \n",
    "분포에서 실제 데이터의 검정 통계량 숫자가 어디에 위치하는 지   \n",
    "$\\rightarrow$ 유의 확률 (P-value)\n",
    "\n",
    "**검정 통계량의 유의 확률**  \n",
    "- 검정 통계량과 같거나  \n",
    "- 더 극단적인  \n",
    "- 더 희귀한 값이 나올 수 있는 확률.  \n",
    ">검정통계PDF에서 tail부분에 해당하는 영역의 면적을 계산\n",
    "\n",
    "#### (해석)  \n",
    "귀무 가설이 맞음에도 불구하고  \n",
    "대립 가설을 옹호하는 현재의 검정 통계량과  \n",
    "같은 표본 데이터가 나올 확률\n",
    ">유의 확률이 아주 작다는 것은  \n",
    ">귀무 가설이 맞다는 가정 하에,   \n",
    ">현재의 검정 통계량 값이 나올 확률이  \n",
    ">매우 희박하다는 뜻\n",
    ">>귀무 가설 기각  \n",
    ">>대립 가설 채택"
   ]
  },
  {
   "cell_type": "markdown",
   "metadata": {},
   "source": [
    "### 양측 유의 확률\n",
    "\n",
    "$$H_0: \\theta = 0 ,\\;\\;\\; H_a: \\theta \\neq 0$$\n",
    "\n",
    "희귀한 정도 : 검정 통계량의 확률 밀도 p(t)\n",
    "\n",
    "$$P( t_2 < T \\text{ or } T < t_1 | H_0 )  = F(t_1) + (1 - F(t_2))$$\n",
    "\n",
    "$$t_1 \\text{or} t_2 = p(t)$$\n",
    "\n",
    "### 우측 유의 확률\n",
    "\n",
    "$\\theta$가 양수라는 것을 증명하고 싶을 때.\n",
    "\n",
    "$$H_0: \\theta = 0 ,\\;\\;\\; H_a: \\theta > 0$$\n",
    "\n",
    "아래 식에서 $F(t)$는 검정 통계량 분포의 CDF\n",
    "\n",
    "$$P( T > t | H_0 ) = 1 - F(t)$$\n",
    "\n",
    "\n",
    "#### 좌측 유의 확률\n",
    "\n",
    "$\\theta$가 음수임을 증명하고자 할 때, \n",
    "\n",
    "$$H_0: \\theta = 0 ,\\;\\;\\; H_a: \\theta < 0$$\n",
    "\n",
    "$$P( T > t | H_0 ) = F(t)$$"
   ]
  },
  {
   "cell_type": "code",
   "execution_count": 2,
   "metadata": {},
   "outputs": [
    {
     "data": {
      "image/png": "[encoded data removed]",
      "text/plain": [
       "<matplotlib.figure.Figure at 0x113c22208>"
      ]
     },
     "metadata": {},
     "output_type": "display_data"
    }
   ],
   "source": [
    "xx1 = np.linspace(-4, 4, 100)\n",
    "xx2 = np.linspace(-4, -2, 100)\n",
    "xx3 = np.linspace(2, 4, 100)\n",
    "\n",
    "plt.subplot(3, 1, 1)\n",
    "plt.fill_between(xx1, sp.stats.norm.pdf(xx1), facecolor='green', alpha=0.1)\n",
    "plt.fill_between(xx2, sp.stats.norm.pdf(xx2), facecolor='blue', alpha=0.35)\n",
    "plt.fill_between(xx3, sp.stats.norm.pdf(xx3), facecolor='blue', alpha=0.35)\n",
    "plt.text(-3, 0.1, \"p-value=%5.3f\" % (2*sp.stats.norm.cdf(-2)), horizontalalignment='center')\n",
    "plt.title(r\"Test statistics = 2. Two-tailed test. $H_a: \\mu \\neq 0$\")\n",
    "\n",
    "plt.subplot(3, 1, 2)\n",
    "plt.fill_between(xx1, sp.stats.norm.pdf(xx1), facecolor='green', alpha=0.1)\n",
    "plt.fill_between(xx3, sp.stats.norm.pdf(xx3), facecolor='blue', alpha=0.35)\n",
    "plt.text(3, 0.1, \"p-value=%5.3f\" % (sp.stats.norm.cdf(-2)), horizontalalignment='center')\n",
    "plt.title(r\"Test statistics = 2. One-tailed test. $H_a: \\mu > 0$\")\n",
    "\n",
    "plt.subplot(3, 1, 3)\n",
    "plt.fill_between(xx1, sp.stats.norm.pdf(xx1), facecolor='green', alpha=0.1)\n",
    "plt.fill_between(xx2, sp.stats.norm.pdf(xx2), facecolor='blue', alpha=0.35)\n",
    "plt.text(-3, 0.1, \"p-value=%5.3f\" % (sp.stats.norm.cdf(-2)), horizontalalignment='center')\n",
    "plt.title(r\"Test statistics = -2. One-tailed test. $H_a: \\mu < 0$\")\n",
    "\n",
    "plt.tight_layout()\n",
    "plt.show()"
   ]
  },
  {
   "cell_type": "markdown",
   "metadata": {},
   "source": [
    "## 유의 수준과 기각역\n",
    "기각, 채택의 결정을 내릴 수 있는 기준 값.  \n",
    "일반적으로 사용되는 유의 수준은 1, 5, 10%\n",
    "\n",
    "유의 수준에 대해 계산된 검정 통계량을 기각역이라 부른다.\n",
    "검정 통계량을 직접 기각역과 비교하여 기각 여부를 판단할 수 있다."
   ]
  },
  {
   "cell_type": "markdown",
   "metadata": {},
   "source": [
    "### 검정의 예\n",
    "\n",
    "#### 문제 1.\n",
    ">어떤 동전을 15번 던졌더니 12번이 앞면이 나왔다. 이 동전은 휘어지지 않은 공정한 동전(fair coin)인가?\n",
    "\n",
    "검정 통계량 : 15번 던져 앞면이 나온 횟수 12. 자유도가 15인 이항 분포.\n",
    "\n",
    "동전이 앞면이 더 많이 나온 것 확인? 우측 유의 확률 -> 1.76%\n",
    "\n",
    "$$\\text{Bin}(n \\geq 12;N=15, \\theta=0.5) = 1 - F(11;N=15, \\theta=0.5) = 0.017578125$$\n",
    "\n",
    "- 유의 수준이 5%라면 기각 (공정한 동전이 아니다.)\n",
    "- 1%라면 기각할 수 없다. (공정한 동전이다.)\n",
    "\n",
    "\n"
   ]
  },
  {
   "cell_type": "code",
   "execution_count": 3,
   "metadata": {},
   "outputs": [
    {
     "data": {
      "text/plain": [
       "0.017578125"
      ]
     },
     "execution_count": 3,
     "metadata": {},
     "output_type": "execute_result"
    }
   ],
   "source": [
    "1 - sp.stats.binom(15, 0.5).cdf(12-1)"
   ]
  },
  {
   "cell_type": "markdown",
   "metadata": {},
   "source": [
    "#### 문제 2.\n",
    ">어떤 트레이더의 일주일 수익률은 다음과 같다.:  \n",
    "-2.5%, -5%, 4.3%, -3.7% -5.6%   \n",
    "이 트레이더는 계속해서 돈을 잃을 사람인가?\n",
    "\n",
    "정규분포를 따른다고 가정 할 때, \n",
    "\n",
    "$$t = \\dfrac{m}{\\frac{s}{\\sqrt{N}}} = -1.4025$$\n",
    "\n",
    "장기적 \"손실\"을 낸다는 것을 보이고 싶다면, 좌측 유의 확률\n",
    "\n",
    "$$t(t\\leq -1.4025;dof=4,\\mu=0) = F(-1.4025;dof=4,\\mu=0) = 0.1167$$\n",
    "\n",
    "- 유의 수준이 10%라면 귀무가설 채택\n",
    "    - 기대값이 0보다 작다고 말 할 수 없다\n",
    "    - 손실을 본다고 말 할 수 있는 증거가 부족하다."
   ]
  },
  {
   "cell_type": "code",
   "execution_count": 5,
   "metadata": {},
   "outputs": [
    {
     "data": {
      "text/plain": [
       "(-1.4025921414082105, 0.11669216509589829)"
      ]
     },
     "execution_count": 5,
     "metadata": {},
     "output_type": "execute_result"
    }
   ],
   "source": [
    "x = np.array([-0.025, -0.05, 0.043, -0.037, -0.056])\n",
    "t = x.mean()/x.std(ddof=1)*np.sqrt(len(x))\n",
    "t, sp.stats.t(df=4).cdf(t)"
   ]
  },
  {
   "cell_type": "code",
   "execution_count": null,
   "metadata": {},
   "outputs": [],
   "source": []
  },
  {
   "cell_type": "code",
   "execution_count": null,
   "metadata": {},
   "outputs": [],
   "source": []
  },
  {
   "cell_type": "code",
   "execution_count": 1,
   "metadata": {},
   "outputs": [],
   "source": [
    "import numpy as np\n",
    "import scipy as sp\n",
    "from scipy import stats\n",
    "import matplotlib as mpl\n",
    "import matplotlib.pyplot as plt\n",
    "import seaborn as sns\n",
    "import statsmodels as sm"
   ]
  },
  {
   "cell_type": "code",
   "execution_count": null,
   "metadata": {},
   "outputs": [],
   "source": []
  }
 ],
 "metadata": {
  "kernelspec": {
   "display_name": "Python 3",
   "language": "python",
   "name": "python3"
  },
  "language_info": {
   "codemirror_mode": {
    "name": "ipython",
    "version": 3
   },
   "file_extension": ".py",
   "mimetype": "text/x-python",
   "name": "python",
   "nbconvert_exporter": "python",
   "pygments_lexer": "ipython3",
   "version": "3.6.2"
  }
 },
 "nbformat": 4,
 "nbformat_minor": 2
}
