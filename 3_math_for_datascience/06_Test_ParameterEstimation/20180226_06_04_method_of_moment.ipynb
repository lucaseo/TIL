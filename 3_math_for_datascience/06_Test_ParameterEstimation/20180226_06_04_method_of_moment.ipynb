{
 "cells": [
  {
   "cell_type": "markdown",
   "metadata": {},
   "source": [
    "# 모멘트 방법 MM\n",
    "\n",
    "모수를 구하는 방법  \n",
    "\n",
    "가정 : 샘플 자료에 대한 샘플 모멘트 = 확률 변수의 이론적 모멘트"
   ]
  },
  {
   "cell_type": "markdown",
   "metadata": {},
   "source": [
    "1차 모멘트 : (기대값, 평균)\n",
    "\n",
    "- 이론적 모형 평균 $\\mu = \\text{E}[X] = $ 샘플 평균 $\\bar x$\n",
    "\n",
    "$$\\bar{x} = \\dfrac{1}{N} \\sum_{i=1}^N x_i$$\n",
    "\n",
    "2차 모멘트 : (분산)\n",
    "\n",
    "- 이론적 모형 분산 $\\sigma^2 = \\text{E}[(X - \\mu)^2] = $ 샘플 분산 $s^2$\n",
    "\n",
    "$$\\bar{s}^2 = \\dfrac{1}{N} \\sum_{i=1}^N (x_i - \\bar{x})^2$$"
   ]
  },
  {
   "cell_type": "markdown",
   "metadata": {},
   "source": [
    "### 베르누이 분포의 모수 추정\n",
    "\n",
    "$$\\text{E}[X] = \\theta = \\dfrac{1}{N} \\sum_{i=1}^N x_i  = \\dfrac{N1}{N}$$"
   ]
  },
  {
   "cell_type": "markdown",
   "metadata": {},
   "source": [
    "### 정규 분포의 모수 추정\n",
    "\n",
    "$$\\text{E}[X] = \\mu = \\dfrac{1}{N} \\sum_{i=1}^N x_i  = \\bar{x}$$\n",
    "\n",
    "$$\\text{E}[(X-\\mu)^2] = \\sigma^2 = \\dfrac{1}{N} \\sum_{i=1}^N (x_i - \\mu)^2 = s^2$$"
   ]
  },
  {
   "cell_type": "markdown",
   "metadata": {},
   "source": [
    "### 베타 분포의 모수 추정\n",
    "\n",
    "$$\\text{E}[X] = \\dfrac{a}{a+b} = \\bar{x}$$\n",
    "\n",
    "$$\\text{E}[(X-\\mu)^2] = \\dfrac{ab}{(a+b)^2(a+b+1)} = s^2$$\n",
    "\n",
    "곧,\n",
    "\n",
    "$$a = \\bar{x} \\left( \\frac{\\bar{x} (1 - \\bar{x})}{s^2} - 1 \\right)$$\n",
    "\n",
    "$$b = (1 - \\bar{x}) \\left( \\frac{\\bar{x} (1 - \\bar{x})}{s^2} - 1 \\right)$$\n"
   ]
  },
  {
   "cell_type": "code",
   "execution_count": 6,
   "metadata": {},
   "outputs": [
    {
     "name": "stdout",
     "output_type": "stream",
     "text": [
      "(15.455080715555846, 12.292335248133712)\n"
     ]
    }
   ],
   "source": [
    "np.random.seed(0)\n",
    "x = sp.stats.beta(15,12).rvs(1000)\n",
    "\n",
    "def estimate_beta(x):\n",
    "    x_bar = x.mean()\n",
    "    s2 = x.var()\n",
    "    a = x_bar * (x_bar * (1 - x_bar) / s2 - 1)\n",
    "    b = (1 - x_bar) * (x_bar * (1 - x_bar) / s2 - 1)\n",
    "    return a, b\n",
    "\n",
    "print(estimate_beta(x))"
   ]
  },
  {
   "cell_type": "code",
   "execution_count": 5,
   "metadata": {},
   "outputs": [],
   "source": [
    "import numpy as np\n",
    "import scipy as sp\n",
    "from scipy import stats"
   ]
  },
  {
   "cell_type": "code",
   "execution_count": null,
   "metadata": {},
   "outputs": [],
   "source": []
  }
 ],
 "metadata": {
  "kernelspec": {
   "display_name": "Python 3",
   "language": "python",
   "name": "python3"
  },
  "language_info": {
   "codemirror_mode": {
    "name": "ipython",
    "version": 3
   },
   "file_extension": ".py",
   "mimetype": "text/x-python",
   "name": "python",
   "nbconvert_exporter": "python",
   "pygments_lexer": "ipython3",
   "version": "3.6.2"
  }
 },
 "nbformat": 4,
 "nbformat_minor": 2
}
