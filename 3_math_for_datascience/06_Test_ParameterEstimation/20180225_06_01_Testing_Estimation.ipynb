{
 "cells": [
  {
   "cell_type": "markdown",
   "metadata": {},
   "source": [
    "# 검정과 모수 추정"
   ]
  },
  {
   "cell_type": "markdown",
   "metadata": {},
   "source": [
    "- 우리가 알고자 하는 것은, 표본 데이터 (실현체)를 만들고 있는 확률변수.\n",
    "\n",
    "확률분포의 분포모형(distribution model)과 모수(parameter)\n",
    "- 데이터가 특정 분포모형을 띄는가? (가우시안 정규분포로부터 생성된 것인가?\n",
    "- 정규분포의 기대값고 분산이 특정한 값을 가지고 있는가? (예: 기대값 = 0)\n",
    "- 정규분포의 기대값 모수가 0이 아니라면, 어떤 값을 가질 것인가?\n",
    "\n",
    "\n"
   ]
  },
  {
   "cell_type": "markdown",
   "metadata": {},
   "source": [
    "### 1. 분포검정 (distribution test)\n",
    "\n",
    "분포에 대한 가설을 확인하는 검정.  \n",
    "확률 변수의 분포가 정규분포라는 것을 가설로 설정."
   ]
  },
  {
   "cell_type": "markdown",
   "metadata": {},
   "source": [
    "### 2. 모수검정 (parameter test)\n",
    "\n",
    "확률 변수의 분포가 어떤 모형을 따르는지 정해져 있는 상태에서  \n",
    "PDF의 계수, 즉 모수가 특정한 값을 가지는지, 비교해서 큰지 작은지 확인하는 과정"
   ]
  },
  {
   "cell_type": "markdown",
   "metadata": {},
   "source": [
    "### 3. 추정 (estimation), 모수 추정\n",
    "\n",
    "모수가 실제로 어떤 숫자를 가질 확률이 가장 높은지\n",
    "\n",
    "- MLE (Maximum Likelihood Estimation)\n",
    "- MSE (Maximum Squared Error)"
   ]
  }
 ],
 "metadata": {
  "kernelspec": {
   "display_name": "Python 3",
   "language": "python",
   "name": "python3"
  },
  "language_info": {
   "codemirror_mode": {
    "name": "ipython",
    "version": 3
   },
   "file_extension": ".py",
   "mimetype": "text/x-python",
   "name": "python",
   "nbconvert_exporter": "python",
   "pygments_lexer": "ipython3",
   "version": "3.6.2"
  }
 },
 "nbformat": 4,
 "nbformat_minor": 2
}
