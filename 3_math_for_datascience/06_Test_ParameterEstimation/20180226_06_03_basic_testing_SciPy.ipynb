{
 "cells": [
  {
   "cell_type": "markdown",
   "metadata": {},
   "source": [
    "# Scipy를 이용한 기초 검정"
   ]
  },
  {
   "cell_type": "code",
   "execution_count": 1,
   "metadata": {},
   "outputs": [],
   "source": [
    "import numpy as np\n",
    "import scipy as sp\n",
    "from scipy import stats\n",
    "import matplotlib as mpl\n",
    "import matplotlib.pyplot as plt\n",
    "import seaborn as sns\n",
    "import statsmodels as sm"
   ]
  },
  {
   "cell_type": "markdown",
   "metadata": {},
   "source": [
    "- 이항 검정 (Binomial test)\n",
    "- 카이 제곱 검정 (Chi-square test)\n",
    "- 단일 표본 z-검정 (One-sample z-test)\n",
    "- 단일 표본 t-검정 (One-sample t-test)\n",
    "- 독립 표본 t-검정 (Independent-two-sample t-test)\n",
    "- 대응 표본 t-검정 (Paired-two-sample t-test)\n",
    "- 분산 검정 (Chi squared variance test)\n",
    "- 등분산 검정 (Equal-variance test)\n",
    "- 정규성 검정 (Normality test)"
   ]
  },
  {
   "cell_type": "markdown",
   "metadata": {},
   "source": [
    "## 이항 검정 `binom_test`\n",
    "\n",
    "http://docs.scipy.org/doc/scipy/reference/generated/scipy.stats.binom_test.html\n",
    "\n",
    "- 이항 분포를 사용해서 베르누이 분포 모수에 대한 가설을 조사  \n",
    "- `binom_test` 명령 사용\n",
    "- 디폴트 귀무 가설 $\\theta = 0.5$"
   ]
  },
  {
   "cell_type": "code",
   "execution_count": 4,
   "metadata": {},
   "outputs": [
    {
     "data": {
      "text/plain": [
       "7"
      ]
     },
     "execution_count": 4,
     "metadata": {},
     "output_type": "execute_result"
    }
   ],
   "source": [
    "# 데이터 10개, theta = 0.5\n",
    "N = 10\n",
    "theta_0 = 0.5\n",
    "np.random.seed(0)\n",
    "x = sp.stats.bernoulli(theta_0).rvs(N)\n",
    "n = np.count_nonzero(x)\n",
    "n"
   ]
  },
  {
   "cell_type": "code",
   "execution_count": 5,
   "metadata": {},
   "outputs": [
    {
     "data": {
      "text/plain": [
       "0.34374999999999989"
      ]
     },
     "execution_count": 5,
     "metadata": {},
     "output_type": "execute_result"
    }
   ],
   "source": [
    "sp.stats.binom_test(n, N)"
   ]
  },
  {
   "cell_type": "code",
   "execution_count": 6,
   "metadata": {},
   "outputs": [
    {
     "data": {
      "text/plain": [
       "49"
      ]
     },
     "execution_count": 6,
     "metadata": {},
     "output_type": "execute_result"
    }
   ],
   "source": [
    "# 데이터 100개, theta = 0.5\n",
    "N = 100\n",
    "theta_0 = 0.5\n",
    "np.random.seed(0)\n",
    "x = sp.stats.bernoulli(theta_0).rvs(N)\n",
    "n = np.count_nonzero(x)\n",
    "n"
   ]
  },
  {
   "cell_type": "code",
   "execution_count": 7,
   "metadata": {},
   "outputs": [
    {
     "data": {
      "text/plain": [
       "0.92041076261282062"
      ]
     },
     "execution_count": 7,
     "metadata": {},
     "output_type": "execute_result"
    }
   ],
   "source": [
    "sp.stats.binom_test(n, N)\n",
    "\n",
    "# p-value 92%이므로, 귀무가설 기각할 수 없다."
   ]
  },
  {
   "cell_type": "code",
   "execution_count": 13,
   "metadata": {},
   "outputs": [
    {
     "data": {
      "text/plain": [
       "32"
      ]
     },
     "execution_count": 13,
     "metadata": {},
     "output_type": "execute_result"
    }
   ],
   "source": [
    "# 데이터 100개, theta =0.35\n",
    "N = 100\n",
    "theta_0 = 0.35\n",
    "x = sp.stats.bernoulli(theta_0).rvs(N)\n",
    "n = np.count_nonzero(x)\n",
    "n"
   ]
  },
  {
   "cell_type": "code",
   "execution_count": 14,
   "metadata": {},
   "outputs": [
    {
     "data": {
      "text/plain": [
       "0.00040877716742681512"
      ]
     },
     "execution_count": 14,
     "metadata": {},
     "output_type": "execute_result"
    }
   ],
   "source": [
    "sp.stats.binom_test(n, N)\n",
    "\n",
    "# p-value 0.04%이므로 귀무가설 기각할 수 있다. theta는 0.5가 아니다."
   ]
  },
  {
   "cell_type": "markdown",
   "metadata": {},
   "source": [
    "## 카이제곱 검정 `chisquare`\n",
    "**goodness of fit**이라고도 부른다. \n",
    "\n",
    "http://docs.scipy.org/doc/scipy/reference/generated/scipy.stats.chisquare.html\n",
    "\n",
    "- 카테고리 분포의 모수에 대한 가설을 조사하는 검정 방법.\n",
    "- 카테고리 k가 나와야할 횟수의 기댓값 $m_k$와 실제 나온 횟수 $x_k$의 차이를 이용한다.\n",
    "\n",
    "$$\\sum_{k=1}^K \\dfrac{(x_k - m_k)^2}{m_k^2}$$\n",
    "\n",
    "- 디폴트 귀무가설 $\\theta = \\left(\\frac{1}{K}, \\ldots, \\frac{1}{K} \\right)$"
   ]
  },
  {
   "cell_type": "code",
   "execution_count": 16,
   "metadata": {},
   "outputs": [
    {
     "data": {
      "text/plain": [
       "array([0, 3, 5, 2])"
      ]
     },
     "execution_count": 16,
     "metadata": {},
     "output_type": "execute_result"
    }
   ],
   "source": [
    "# 데이터 갯수  N=10 , 실제 모수  theta_0=(0.25,0.25,0.25,0.25) 인 경우\n",
    "\n",
    "N = 10\n",
    "K = 4\n",
    "theta_0 = np.ones(K)/K\n",
    "np.random.seed(0)\n",
    "x = np.random.choice(K, N, p=theta_0)\n",
    "n = np.bincount(x, minlength=K)\n",
    "n"
   ]
  },
  {
   "cell_type": "code",
   "execution_count": 17,
   "metadata": {},
   "outputs": [
    {
     "data": {
      "text/plain": [
       "Power_divergenceResult(statistic=5.1999999999999993, pvalue=0.157724450396663)"
      ]
     },
     "execution_count": 17,
     "metadata": {},
     "output_type": "execute_result"
    }
   ],
   "source": [
    "sp.stats.chisquare(n)\n",
    "\n",
    "# p-value 17.8% 이므로 귀무가설 기각할 수 없다.\n",
    "# 따라서 실제 모수를 따라간다."
   ]
  },
  {
   "cell_type": "code",
   "execution_count": 18,
   "metadata": {},
   "outputs": [
    {
     "data": {
      "text/plain": [
       "array([37, 32, 20, 11])"
      ]
     },
     "execution_count": 18,
     "metadata": {},
     "output_type": "execute_result"
    }
   ],
   "source": [
    "#데이터 갯수  N=100, 실제 모수  theta_0=(0.35,0.30,0.20,0.15) 인 경우.\n",
    "\n",
    "N = 100\n",
    "K = 4\n",
    "theta_0 = np.array([0.35, 0.30, 0.20, 0.15])\n",
    "np.random.seed(0)\n",
    "x = np.random.choice(K, N, p=theta_0)\n",
    "n = np.bincount(x, minlength=K)\n",
    "n"
   ]
  },
  {
   "cell_type": "code",
   "execution_count": 19,
   "metadata": {},
   "outputs": [
    {
     "data": {
      "text/plain": [
       "Power_divergenceResult(statistic=16.559999999999999, pvalue=0.00087034719789121269)"
      ]
     },
     "execution_count": 19,
     "metadata": {},
     "output_type": "execute_result"
    }
   ],
   "source": [
    "sp.stats.chisquare(n)\n",
    "\n",
    "# p-value  0.08%이므로 귀무가설 기각할 수 있다.\n",
    "# theta_0=(0.35,0.30,0.20,0.15)가 아니다."
   ]
  },
  {
   "cell_type": "markdown",
   "metadata": {},
   "source": [
    "## 단일 표본 z-검정 `norm`\n",
    "\n",
    "(One-sample z-test)\n",
    "\n",
    "http://docs.scipy.org/doc/scipy/reference/generated/scipy.stats.norm.html\n",
    "\n",
    "- 분산의 값을 정확히 아는 정규 분포의 표본에 대한 기대값 조사\n",
    "- `norm`과 `cdf`를 이용하여 구함.\n",
    "\n",
    "\n",
    "#### 데이터 수가 매우 부족하여, 결과가 오류인 경우, 유형 1 오류 (Type 1 Error) 라고 한다."
   ]
  },
  {
   "cell_type": "markdown",
   "metadata": {},
   "source": [
    "## 단일 표본 t-검정 `ttest_1samp`\n",
    "\n",
    "(One-sample t-test)\n",
    "\n",
    "http://docs.scipy.org/doc/scipy/reference/generated/scipy.stats.ttest_1samp.html\n",
    "\n",
    "- 정규분포의 표본에 대해 기대값을 조사하는 방법\n",
    "- `ttest_1samp`명령을 사용한다.\n",
    "- 디폴트 모수가 없으므로 `popmean`으로 직접 지정"
   ]
  },
  {
   "cell_type": "code",
   "execution_count": 25,
   "metadata": {},
   "outputs": [
    {
     "name": "stdout",
     "output_type": "stream",
     "text": [
      "Ttest_1sampResult(statistic=2.2894396723896699, pvalue=0.047818464908570578)\n"
     ]
    },
    {
     "data": {
      "image/png": "[encoded data removed]",
      "text/plain": [
       "<matplotlib.figure.Figure at 0x114075518>"
      ]
     },
     "metadata": {},
     "output_type": "display_data"
    }
   ],
   "source": [
    "N = 10\n",
    "mu_0 = 0\n",
    "np.random.seed(0)\n",
    "x = sp.stats.norm(mu_0).rvs(N)\n",
    "sns.distplot(x, kde=False, fit=sp.stats.norm)\n",
    "print(sp.stats.ttest_1samp(x, popmean=0))\n",
    "plt.show()\n",
    "\n",
    "# 유의 확률 4%, 하지만 Type 1 error"
   ]
  },
  {
   "cell_type": "code",
   "execution_count": 23,
   "metadata": {},
   "outputs": [
    {
     "name": "stdout",
     "output_type": "stream",
     "text": [
      "Ttest_1sampResult(statistic=0.59042834028516977, pvalue=0.55624891586946745)\n"
     ]
    },
    {
     "data": {
      "image/png": "[encoded data removed]",
      "text/plain": [
       "<matplotlib.figure.Figure at 0x1140ecac8>"
      ]
     },
     "metadata": {},
     "output_type": "display_data"
    }
   ],
   "source": [
    "N = 100\n",
    "mu_0 = 0\n",
    "np.random.seed(0)\n",
    "x = sp.stats.norm(mu_0).rvs(N)\n",
    "sns.distplot(x, kde=False, fit=sp.stats.norm)\n",
    "print(sp.stats.ttest_1samp(x, popmean=0))\n",
    "plt.show()\n",
    "\n",
    "# 유의 확률 55.62%"
   ]
  },
  {
   "cell_type": "markdown",
   "metadata": {},
   "source": [
    "## 독립 표본 t-검정 `ttest_ind`\n",
    "\n",
    "(Independent-two-sample t-test)\n",
    "\n",
    "http://docs.scipy.org/doc/scipy/reference/generated/scipy.stats.ttest_ind.html\n",
    "\n",
    "- 두 개의 독립적인 정규분포의 두 데이터셋을 사용\n",
    "- 두 정규 분포의 기대값이 동일한지 검사\n",
    "- 두 정규 분포의 분간 값이 같고 다르고에 따라 , 검정 통계량이 다르기 때문에, `equal_var`인수를 사용하여 지정"
   ]
  },
  {
   "cell_type": "code",
   "execution_count": 26,
   "metadata": {},
   "outputs": [
    {
     "data": {
      "image/png": "[encoded data removed]",
      "text/plain": [
       "<matplotlib.figure.Figure at 0x1142b2198>"
      ]
     },
     "metadata": {},
     "output_type": "display_data"
    }
   ],
   "source": [
    "# 기대값이 다르고, 분산과 샘플의 수는 같은 경우\n",
    "\n",
    "N_1 = 10; mu_1 = 0; sigma_1 = 1\n",
    "N_2 = 10; mu_2 = 0.5; sigma_2 = 1\n",
    "np.random.seed(0)\n",
    "x1 = sp.stats.norm(mu_1, sigma_1).rvs(N_1)\n",
    "x2 = sp.stats.norm(mu_2, sigma_2).rvs(N_2)\n",
    "sns.distplot(x1, kde=False, fit=sp.stats.norm)\n",
    "sns.distplot(x2, kde=False, fit=sp.stats.norm)\n",
    "plt.show()"
   ]
  },
  {
   "cell_type": "code",
   "execution_count": 27,
   "metadata": {},
   "outputs": [
    {
     "data": {
      "text/plain": [
       "Ttest_indResult(statistic=-0.41399685269886549, pvalue=0.68376768941164268)"
      ]
     },
     "execution_count": 27,
     "metadata": {},
     "output_type": "execute_result"
    }
   ],
   "source": [
    "sp.stats.ttest_ind(x1, x2, equal_var=True)"
   ]
  },
  {
   "cell_type": "markdown",
   "metadata": {},
   "source": [
    "기대값이 다름에도, p-value가 작기 때문에 귀무 가설을 기각할 수 없다. \n",
    "- Type 2 Error\n",
    "\n",
    "데이터 수가 증가하면 오류 발생 가능성도 줄어든다."
   ]
  },
  {
   "cell_type": "code",
   "execution_count": 28,
   "metadata": {},
   "outputs": [
    {
     "data": {
      "image/png": "[encoded data removed]",
      "text/plain": [
       "<matplotlib.figure.Figure at 0x1145940f0>"
      ]
     },
     "metadata": {},
     "output_type": "display_data"
    }
   ],
   "source": [
    "N_1 = 50; mu_1 = 0; sigma_1 = 1\n",
    "N_2 = 100; mu_2 = 0.5; sigma_2 = 1\n",
    "np.random.seed(0)\n",
    "x1 = sp.stats.norm(mu_1, sigma_1).rvs(N_1)\n",
    "x2 = sp.stats.norm(mu_2, sigma_2).rvs(N_2)\n",
    "sns.distplot(x1, kde=False, fit=sp.stats.norm)\n",
    "sns.distplot(x2, kde=False, fit=sp.stats.norm)\n",
    "plt.show()"
   ]
  },
  {
   "cell_type": "code",
   "execution_count": 30,
   "metadata": {},
   "outputs": [
    {
     "data": {
      "text/plain": [
       "Ttest_indResult(statistic=-2.6826951236616963, pvalue=0.0081339709157226582)"
      ]
     },
     "execution_count": 30,
     "metadata": {},
     "output_type": "execute_result"
    }
   ],
   "source": [
    "sp.stats.ttest_ind(x1, x2, equal_var=True)\n",
    "\n",
    "# p-value가 낮기 때문에, 귀무가설 기각한다."
   ]
  },
  {
   "cell_type": "markdown",
   "metadata": {},
   "source": [
    "## 대응 표본 검정 `ttest_rel`\n",
    "\n",
    "http://docs.scipy.org/doc/scipy/reference/generated/scipy.stats.ttest_rel.html\n",
    "\n",
    "- 두 정규 분포의 기대값이 같은지 확인하기 위한 검정\n",
    "- 대응하는 정보를 알고 있다면, 샘플 간의 차이의 영향을 없앨 수 있으므로, 영향을 보다 정확하게 추정 가능."
   ]
  },
  {
   "cell_type": "code",
   "execution_count": 31,
   "metadata": {},
   "outputs": [
    {
     "data": {
      "image/png": "[encoded data removed]",
      "text/plain": [
       "<matplotlib.figure.Figure at 0x1145c81d0>"
      ]
     },
     "metadata": {},
     "output_type": "display_data"
    }
   ],
   "source": [
    "# 평균이 달라진 경우, N = 5\n",
    "\n",
    "N = 5\n",
    "mu_1 = 0\n",
    "mu_2 = 0.5\n",
    "np.random.seed(1)\n",
    "x1 = sp.stats.norm(mu_1).rvs(N)\n",
    "x2 = x1 + sp.stats.norm(mu_2, 0.1).rvs(N)\n",
    "sns.distplot(x1, kde=False, fit=sp.stats.norm)\n",
    "sns.distplot(x2, kde=False, fit=sp.stats.norm)\n",
    "plt.show()"
   ]
  },
  {
   "cell_type": "code",
   "execution_count": 33,
   "metadata": {},
   "outputs": [
    {
     "data": {
      "text/plain": [
       "Ttest_relResult(statistic=-7.1723380661732756, pvalue=0.0020008849290622677)"
      ]
     },
     "execution_count": 33,
     "metadata": {},
     "output_type": "execute_result"
    }
   ],
   "source": [
    "sp.stats.ttest_rel(x1, x2)\n",
    "\n",
    "# 두 데이터의 평균이 다르다.\n",
    "# 정확도 p-value = 0.2%"
   ]
  },
  {
   "cell_type": "markdown",
   "metadata": {},
   "source": [
    "## 카이 제곱 분산 검정 `chi2`\n",
    "\n",
    "정규 분포의 분산.\n",
    "- 샘플 분산 값을 정규화 $\\rightarrow$ 카이 제곱 분포를 따른다."
   ]
  },
  {
   "cell_type": "code",
   "execution_count": 34,
   "metadata": {},
   "outputs": [],
   "source": [
    "def chi2var_test(x, sigma2=1):\n",
    "    v = x.var(ddof=1)\n",
    "    t = (len(x) - 1)*v/sigma2\n",
    "    return t, sp.stats.chi2(df=len(x)-1).sf(np.abs(t))"
   ]
  },
  {
   "cell_type": "code",
   "execution_count": 35,
   "metadata": {},
   "outputs": [
    {
     "data": {
      "image/png": "[encoded data removed]",
      "text/plain": [
       "<matplotlib.figure.Figure at 0x1146caa58>"
      ]
     },
     "metadata": {},
     "output_type": "display_data"
    },
    {
     "data": {
      "text/plain": [
       "1.0637871321863899"
      ]
     },
     "execution_count": 35,
     "metadata": {},
     "output_type": "execute_result"
    }
   ],
   "source": [
    "N = 10\n",
    "mu_0 = 0\n",
    "sigma_0 = 1.1\n",
    "np.random.seed(0)\n",
    "x = sp.stats.norm(mu_0, sigma_0).rvs(N)\n",
    "sns.distplot(x, kde=False, fit=sp.stats.norm)\n",
    "plt.show()\n",
    "x.std()"
   ]
  },
  {
   "cell_type": "code",
   "execution_count": 36,
   "metadata": {},
   "outputs": [
    {
     "data": {
      "text/plain": [
       "(11.316430626053437, 0.25464123584764542)"
      ]
     },
     "execution_count": 36,
     "metadata": {},
     "output_type": "execute_result"
    }
   ],
   "source": [
    "chi2var_test(x)"
   ]
  },
  {
   "cell_type": "markdown",
   "metadata": {},
   "source": [
    "## 등분산 검정 `bartlett` `flinger` `levene`\n",
    "\n",
    "- scipy.stats.bartlett\n",
    "http://docs.scipy.org/doc/scipy/reference/generated/scipy.stats.bartlett.html\n",
    "- scipy.stats.fligner\n",
    "http://docs.scipy.org/doc/scipy/reference/generated/scipy.stats.fligner.html\n",
    "- scipy.stats.levene\n",
    "http://docs.scipy.org/doc/scipy/reference/generated/scipy.stats.levene.html\n",
    "\n",
    "두 정규 분포로부터 생성된 두 개의 데이터 집합에서, 두 정규 분포의 분산 모수가 같은지 확인하는 검정"
   ]
  },
  {
   "cell_type": "code",
   "execution_count": 37,
   "metadata": {},
   "outputs": [
    {
     "data": {
      "image/png": "[encoded data removed]",
      "text/plain": [
       "<matplotlib.figure.Figure at 0x114800dd8>"
      ]
     },
     "metadata": {},
     "output_type": "display_data"
    },
    {
     "data": {
      "text/plain": [
       "(1.0078822447165796, 1.2416003969261071)"
      ]
     },
     "execution_count": 37,
     "metadata": {},
     "output_type": "execute_result"
    }
   ],
   "source": [
    "N1 = 100\n",
    "N2 = 100\n",
    "sigma_1 = 1\n",
    "sigma_2 = 1.2\n",
    "np.random.seed(0)\n",
    "x1 = sp.stats.norm(0, sigma_1).rvs(N1)\n",
    "x2 = sp.stats.norm(0, sigma_2).rvs(N2)\n",
    "sns.distplot(x1, kde=False, fit=sp.stats.norm)\n",
    "sns.distplot(x2, kde=False, fit=sp.stats.norm)\n",
    "plt.show()\n",
    "x1.std(), x2.std()"
   ]
  },
  {
   "cell_type": "code",
   "execution_count": 38,
   "metadata": {},
   "outputs": [
    {
     "data": {
      "text/plain": [
       "BartlettResult(statistic=4.2534738372322662, pvalue=0.039170128783651344)"
      ]
     },
     "execution_count": 38,
     "metadata": {},
     "output_type": "execute_result"
    }
   ],
   "source": [
    "sp.stats.bartlett(x1, x2)"
   ]
  },
  {
   "cell_type": "code",
   "execution_count": 39,
   "metadata": {},
   "outputs": [
    {
     "data": {
      "text/plain": [
       "FlignerResult(statistic=7.2248419904094572, pvalue=0.0071901501067483673)"
      ]
     },
     "execution_count": 39,
     "metadata": {},
     "output_type": "execute_result"
    }
   ],
   "source": [
    "sp.stats.fligner(x1, x2)"
   ]
  },
  {
   "cell_type": "code",
   "execution_count": 40,
   "metadata": {},
   "outputs": [
    {
     "data": {
      "text/plain": [
       "LeveneResult(statistic=7.6807089476794372, pvalue=0.0061135154970207925)"
      ]
     },
     "execution_count": 40,
     "metadata": {},
     "output_type": "execute_result"
    }
   ],
   "source": [
    "sp.stats.levene(x1, x2)"
   ]
  },
  {
   "cell_type": "markdown",
   "metadata": {},
   "source": [
    "# 정규성 검정 (normality test)\n",
    "\n",
    "(매우 중요) 회귀분석에서 확률분포가 가우시안 정규분포를 따르는지 확인"
   ]
  },
  {
   "cell_type": "markdown",
   "metadata": {},
   "source": [
    "### statsmodels 정규성 검정 명령어\n",
    "\n",
    "- Omnibus Normality test\n",
    "- `statsmodels.stats.stattools.omni_normtest`\n",
    "http://statsmodels.sourceforge.net/devel/generated/statsmodels.stats.stattools.omni_normtest.html  \n",
    "\n",
    "\n",
    "\n",
    "- Jarque–Bera test\n",
    "- `statsmodels.stats.stattools.jarque_bera`\n",
    "http://statsmodels.sourceforge.net/devel/generated/statsmodels.stats.stattools.jarque_bera.html  \n",
    "\n",
    "\n",
    "- Kolmogorov-Smirnov test\n",
    "- `statsmodels.stats.diagnostic.kstest_normal`\n",
    "http://statsmodels.sourceforge.net/devel/generated/statsmodels.stats.diagnostic.kstest_normal.html  \n",
    "\n",
    "\n",
    "- Lilliefors test\n",
    "- `statsmodels.stats.diagnostic.lillifors`\n",
    "http://statsmodels.sourceforge.net/devel/generated/statsmodels.stats.diagnostic.lillifors.html\n"
   ]
  },
  {
   "cell_type": "markdown",
   "metadata": {},
   "source": [
    "### SciPy 정규성 검정 명령어\n",
    "\n",
    "\n",
    "- Kolmogorov-Smirnov test\n",
    "- `scipy.stats.ks_2samp`\n",
    "http://docs.scipy.org/doc/scipy/reference/generated/scipy.stats.ks_2samp.html  \n",
    "\n",
    "\n",
    "- Shapiro–Wilk test\n",
    "- `scipy.stats.shapiro`\n",
    "http://docs.scipy.org/doc/scipy/reference/generated/scipy.stats.shapiro.html  \n",
    "\n",
    "\n",
    "- Anderson–Darling test\n",
    "- `scipy.stats.anderson`\n",
    "http://docs.scipy.org/doc/scipy/reference/generated/scipy.stats.anderson.html  \n",
    "\n",
    "\n",
    "- D'Agostino's K-squared test\n",
    "- `scipy.stats.mstats.normaltest`\n",
    "http://docs.scipy.org/doc/scipy/reference/generated/scipy.stats.mstats.normaltest.html\n"
   ]
  },
  {
   "cell_type": "markdown",
   "metadata": {},
   "source": [
    "- 이 중에서 Kolmogorov-Smirnov 검정은 사실 정규 분포에 국한되지 않음\n",
    "- 두 샘플이 같은 분포를 따르는지 확인할 수 있는 방법."
   ]
  },
  {
   "cell_type": "code",
   "execution_count": 42,
   "metadata": {},
   "outputs": [
    {
     "data": {
      "image/png": "[encoded data removed]",
      "text/plain": [
       "<matplotlib.figure.Figure at 0x11466b470>"
      ]
     },
     "metadata": {},
     "output_type": "display_data"
    }
   ],
   "source": [
    "np.random.seed(0)\n",
    "N1 = 50\n",
    "N2 = 100\n",
    "x1 = sp.stats.norm(0, 1).rvs(N1)\n",
    "x2 = sp.stats.norm(0.5, 1.5).rvs(N2)\n",
    "sns.distplot(x1)\n",
    "sns.distplot(x2)\n",
    "plt.show()"
   ]
  },
  {
   "cell_type": "code",
   "execution_count": 44,
   "metadata": {},
   "outputs": [
    {
     "data": {
      "text/plain": [
       "Ks_2sampResult(statistic=0.23000000000000004, pvalue=0.049516112814422863)"
      ]
     },
     "execution_count": 44,
     "metadata": {},
     "output_type": "execute_result"
    }
   ],
   "source": [
    "sp.stats.ks_2samp(x1, x2)\n",
    "\n",
    "# p-value 4.95% "
   ]
  },
  {
   "cell_type": "code",
   "execution_count": null,
   "metadata": {},
   "outputs": [],
   "source": []
  }
 ],
 "metadata": {
  "kernelspec": {
   "display_name": "Python 3",
   "language": "python",
   "name": "python3"
  },
  "language_info": {
   "codemirror_mode": {
    "name": "ipython",
    "version": 3
   },
   "file_extension": ".py",
   "mimetype": "text/x-python",
   "name": "python",
   "nbconvert_exporter": "python",
   "pygments_lexer": "ipython3",
   "version": "3.6.2"
  }
 },
 "nbformat": 4,
 "nbformat_minor": 2
}
