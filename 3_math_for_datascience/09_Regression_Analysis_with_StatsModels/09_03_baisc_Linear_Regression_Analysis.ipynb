{
 "cells": [
  {
   "cell_type": "code",
   "execution_count": 25,
   "metadata": {},
   "outputs": [],
   "source": [
    "import numpy as np\n",
    "import scipy as sp\n",
    "import pandas as pd\n",
    "from scipy import stats\n",
    "import matplotlib as mpl\n",
    "import matplotlib.pyplot as plt\n",
    "import seaborn as sns\n",
    "import statsmodels.api as sm\n",
    "import sklearn\n",
    "from sklearn.datasets import make_regression"
   ]
  },
  {
   "cell_type": "markdown",
   "metadata": {},
   "source": [
    "# 선형 회귀 분석의 기초"
   ]
  },
  {
   "cell_type": "markdown",
   "metadata": {},
   "source": [
    "## 결정론적 모형 (Deterministic Model) \n",
    "\n",
    "단순히 독립변수 $x$에 대해 종속변수 $y$와 가장 가까운 $\\hat{y}$ 을 찾는 함수 $f(x)$\n",
    "\n",
    "$$\\hat{y} = f(x) \\approx y$$\n",
    "\n",
    "아래는 $f(x)$의 계수, 즉 선형 회귀모형의 모수(parameter)\n",
    "$$\\hat{y} = w_0 + w_1 x_1 + w_2 x_2 + \\cdots + w_D x_D = w_0 + w^Tx$$"
   ]
  },
  {
   "cell_type": "markdown",
   "metadata": {},
   "source": [
    "## Bias Augmentation\n",
    "수식을 간단하게 만들기 위해서 무조건 1을 추가한다.\n",
    "\n",
    "$$x_i =\n",
    "\\begin{bmatrix}\n",
    "x_{i1} \\\\ x_{i2} \\\\ \\vdots \\\\ x_{iD}\n",
    "\\end{bmatrix}\n",
    "\\rightarrow \n",
    "x_{i,a} =\n",
    "\\begin{bmatrix}\n",
    "1 \\\\ x_{i1} \\\\ x_{i2} \\\\ \\vdots \\\\ x_{iD}\n",
    "\\end{bmatrix}$$\n",
    "\n",
    "$$X =\n",
    "\\begin{bmatrix}\n",
    "x_{11} & x_{12} & \\cdots & x_{1D} \\\\\n",
    "x_{21} & x_{22} & \\cdots & x_{2D} \\\\\n",
    "\\vdots & \\vdots & \\vdots & \\vdots \\\\\n",
    "x_{N1} & x_{N2} & \\cdots & x_{ND} \\\\\n",
    "\\end{bmatrix}\n",
    "\\rightarrow \n",
    "X_a =\n",
    "\\begin{bmatrix}\n",
    "1 & x_{11} & x_{12} & \\cdots & x_{1D} \\\\\n",
    "1 & x_{21} & x_{22} & \\cdots & x_{2D} \\\\\n",
    "\\vdots & \\vdots & \\vdots & \\vdots & \\vdots \\\\\n",
    "1 & x_{N1} & x_{N2} & \\cdots & x_{ND} \\\\\n",
    "\\end{bmatrix}$$\n",
    "\n",
    "\n",
    "Bias Augmentation을 거치면서,  \n",
    "$f(x)는$ 가중치 벡터와 입력 벡터의 내적으로 간단히 표현 가능\n",
    "\n",
    "$$f(x) = w_0 + w_1 x_1 + w_2 x_2 + \\cdots + w_D x_D\n",
    "= \n",
    "\\begin{bmatrix}\n",
    "1 & x_1 & x_2 & \\cdots & x_D\n",
    "\\end{bmatrix}\n",
    "\\begin{bmatrix}\n",
    "w_0 \\\\ w_1 \\\\ w_2 \\\\ \\vdots \\\\ w_D\n",
    "\\end{bmatrix}\n",
    "= x_a^T w_a = w_a^T x_a$$"
   ]
  },
  {
   "cell_type": "markdown",
   "metadata": {},
   "source": [
    "`add_constant` : StatsModels에서의 **bias augmentation** "
   ]
  },
  {
   "cell_type": "code",
   "execution_count": 8,
   "metadata": {},
   "outputs": [],
   "source": [
    "X0, y, coef = make_regression(n_samples=100, n_features=2, bias=100, noise=10, coef=True, random_state=1)"
   ]
  },
  {
   "cell_type": "code",
   "execution_count": 10,
   "metadata": {},
   "outputs": [
    {
     "data": {
      "text/plain": [
       "array([[ 0.0465673 ,  0.80186103],\n",
       "       [-2.02220122,  0.31563495],\n",
       "       [-0.38405435, -0.3224172 ],\n",
       "       [-1.31228341,  0.35054598],\n",
       "       [-0.88762896, -0.19183555]])"
      ]
     },
     "execution_count": 10,
     "metadata": {},
     "output_type": "execute_result"
    }
   ],
   "source": [
    "X0[:5]"
   ]
  },
  {
   "cell_type": "code",
   "execution_count": 11,
   "metadata": {},
   "outputs": [
    {
     "data": {
      "text/plain": [
       "array([[ 1.        ,  0.0465673 ,  0.80186103],\n",
       "       [ 1.        , -2.02220122,  0.31563495],\n",
       "       [ 1.        , -0.38405435, -0.3224172 ],\n",
       "       [ 1.        , -1.31228341,  0.35054598],\n",
       "       [ 1.        , -0.88762896, -0.19183555]])"
      ]
     },
     "execution_count": 11,
     "metadata": {},
     "output_type": "execute_result"
    }
   ],
   "source": [
    "X = sm.add_constant(X0)\n",
    "X[:5]"
   ]
  },
  {
   "cell_type": "markdown",
   "metadata": {},
   "source": [
    "## Ordinary Least Squares : OLS\n",
    "\n",
    "잔차 제곱합 **RSS** (Residual Sum of Squares)를 최소화 하는 가중치 벡터를 행렬미분으로 구한다. (가장 기본)\n",
    "\n",
    "- 구하고자 하는 값\n",
    "$$ \\hat{y} = Xw$$\n",
    "\n",
    "- `e` 잔차 벡터\n",
    "$$ e = y-\\hat{y} = y-Xw $$\n",
    "\n",
    "- 잔차제곱합\n",
    "$$\\begin{eqnarray}\n",
    "\\text{RSS}\n",
    "&=&  e^Te \\\\\n",
    "&=& (y - Xw)^T(y - Xw) \\\\\n",
    "&=& y^Ty - 2y^T X w + w^TX^TXw  \n",
    "\\end{eqnarray}$$\n",
    "\n",
    "\n",
    "- 잔차제곱합의 최소값을 구하기 위한 미분, gradient벡터 (아래의 결과는 선형대수의 법칙 참조)\n",
    "\n",
    "$$\\dfrac{d \\text{RSS}}{d w} = -2 X^T y + 2 X^TX w$$\n",
    "\n",
    "\n",
    "- 잔차가 최소화 되는 최적화 조건\n",
    "$$\\dfrac{d \\text{RSS}}{d w} = 0$$\n",
    "\n",
    "$$X^TXw = X^Ty$$\n",
    "\n",
    "$$w = (X^TX)^{-1} X^T y$$\n",
    "\n",
    "- 정규방정식 **(normal equation)**\n",
    "\n",
    "$$X^Ty - X^TXw = 0$$\n",
    "\n",
    "$$X^T(y - Xw) = 0$$\n",
    "\n",
    "$$X^T \\cdot e = 0$$\n",
    "\n",
    "- x가 d차원의 원소로 이루어진 데이터 벡터라고 할 때, \n",
    "- 모든 차원에 대해 x는 잔차벡터 e와 수직을 있다.\n",
    "\n",
    "$$x_d^T e = 0 \\;\\;\\; (d=1, \\ldots, D)$$\n",
    "\n",
    "$$x_d \\perp e \\;\\;\\; (d=1, \\ldots, D)$$\n",
    "\n",
    "(부연 설명)\n",
    "\n",
    "1. $x_1, x_2$ 벡터가 있을 때\n",
    "2. $w_1, w_2$ 가 벡터의 크기를 결정\n",
    "3. $w_1 x_1 + w_2 x_2 $를 통한 범위 형성\n",
    "4. $\\hat{y}$는 이 범위 어딘가에 위치\n",
    "5. 실제 정답 $y$ 값의 벡터가 어딘가에 존재할 때, \n",
    "6. $\\hat{y}$ 와 $y$의 오차 $e$를 최소로 줄일 수 있는 것은\n",
    "7. $e$가 $\\hat{y}$벡터와 직교할 때, 라고 할 수 있다."
   ]
  },
  {
   "cell_type": "markdown",
   "metadata": {},
   "source": [
    "## OLS : Numpy를 이용한 선형회귀분석"
   ]
  },
  {
   "cell_type": "code",
   "execution_count": 13,
   "metadata": {},
   "outputs": [],
   "source": [
    "from sklearn.datasets import make_regression\n",
    "\n",
    "bias = 100\n",
    "X0, y, coef = make_regression(n_samples=100, n_features=1, bias=bias, \n",
    "                              noise=10, coef=True, random_state=1)\n",
    "X = sm.add_constant(X0) # bias augmentation\n",
    "y = y.reshape(len(y), 1)"
   ]
  },
  {
   "cell_type": "code",
   "execution_count": 14,
   "metadata": {},
   "outputs": [
    {
     "data": {
      "text/plain": [
       "array(80.71051956187792)"
      ]
     },
     "execution_count": 14,
     "metadata": {},
     "output_type": "execute_result"
    }
   ],
   "source": [
    "coef"
   ]
  },
  {
   "cell_type": "markdown",
   "metadata": {},
   "source": [
    "$$y = 100 + 80.7105x + e$$"
   ]
  },
  {
   "cell_type": "code",
   "execution_count": 15,
   "metadata": {},
   "outputs": [
    {
     "data": {
      "text/plain": [
       "array([[ 102.02701439],\n",
       "       [  81.59750943]])"
      ]
     },
     "execution_count": 15,
     "metadata": {},
     "output_type": "execute_result"
    }
   ],
   "source": [
    "# OLS 해를 직접 찾는다.\n",
    "w = np.dot(np.dot(np.linalg.inv(np.dot(X.T, X)), X.T), y)\n",
    "w"
   ]
  },
  {
   "cell_type": "code",
   "execution_count": 16,
   "metadata": {},
   "outputs": [
    {
     "data": {
      "text/plain": [
       "array([[ 102.02701439],\n",
       "       [  81.59750943]])"
      ]
     },
     "execution_count": 16,
     "metadata": {},
     "output_type": "execute_result"
    }
   ],
   "source": [
    "# lstsq 명령 적용\n",
    "w = np.linalg.lstsq(X, y)[0]\n",
    "w"
   ]
  },
  {
   "cell_type": "code",
   "execution_count": 22,
   "metadata": {},
   "outputs": [
    {
     "data": {
      "image/png": "[encoded data removed]",
      "text/plain": [
       "<matplotlib.figure.Figure at 0x1155213c8>"
      ]
     },
     "metadata": {},
     "output_type": "display_data"
    }
   ],
   "source": [
    "x_new = np.linspace(np.min(X0), np.max(X0), 100)\n",
    "X_new = sm.add_constant(x_new)  # 오그멘테이션\n",
    "y_new = np.dot(X_new, w)\n",
    "\n",
    "plt.scatter(X0, y, label=\"data\")\n",
    "plt.plot(x_new, y_new, 'r--', label=\"regression\")\n",
    "plt.xlabel(\"x\")\n",
    "plt.ylabel(\"y\")\n",
    "plt.title(\"Example of Linear Regression Analysis\")\n",
    "plt.legend()\n",
    "plt.show()"
   ]
  },
  {
   "cell_type": "markdown",
   "metadata": {},
   "source": [
    "## OLS : StatsModels 선형회귀분석"
   ]
  },
  {
   "cell_type": "code",
   "execution_count": 29,
   "metadata": {},
   "outputs": [],
   "source": [
    "from sklearn.datasets import load_boston\n",
    "boston = load_boston()"
   ]
  },
  {
   "cell_type": "code",
   "execution_count": 32,
   "metadata": {},
   "outputs": [
    {
     "name": "stdout",
     "output_type": "stream",
     "text": [
      "                            OLS Regression Results                            \n",
      "==============================================================================\n",
      "Dep. Variable:                   MEDV   R-squared:                       0.741\n",
      "Model:                            OLS   Adj. R-squared:                  0.734\n",
      "Method:                 Least Squares   F-statistic:                     108.1\n",
      "Date:                Sat, 03 Mar 2018   Prob (F-statistic):          6.95e-135\n",
      "Time:                        03:06:55   Log-Likelihood:                -1498.8\n",
      "No. Observations:                 506   AIC:                             3026.\n",
      "Df Residuals:                     492   BIC:                             3085.\n",
      "Df Model:                          13                                         \n",
      "Covariance Type:            nonrobust                                         \n",
      "==============================================================================\n",
      "                 coef    std err          t      P>|t|      [0.025      0.975]\n",
      "------------------------------------------------------------------------------\n",
      "const         36.4911      5.104      7.149      0.000      26.462      46.520\n",
      "CRIM          -0.1072      0.033     -3.276      0.001      -0.171      -0.043\n",
      "ZN             0.0464      0.014      3.380      0.001       0.019       0.073\n",
      "INDUS          0.0209      0.061      0.339      0.735      -0.100       0.142\n",
      "CHAS           2.6886      0.862      3.120      0.002       0.996       4.381\n",
      "NOX          -17.7958      3.821     -4.658      0.000     -25.302     -10.289\n",
      "RM             3.8048      0.418      9.102      0.000       2.983       4.626\n",
      "AGE            0.0008      0.013      0.057      0.955      -0.025       0.027\n",
      "DIS           -1.4758      0.199     -7.398      0.000      -1.868      -1.084\n",
      "RAD            0.3057      0.066      4.608      0.000       0.175       0.436\n",
      "TAX           -0.0123      0.004     -3.278      0.001      -0.020      -0.005\n",
      "PTRATIO       -0.9535      0.131     -7.287      0.000      -1.211      -0.696\n",
      "B              0.0094      0.003      3.500      0.001       0.004       0.015\n",
      "LSTAT         -0.5255      0.051    -10.366      0.000      -0.625      -0.426\n",
      "==============================================================================\n",
      "Omnibus:                      178.029   Durbin-Watson:                   1.078\n",
      "Prob(Omnibus):                  0.000   Jarque-Bera (JB):              782.015\n",
      "Skew:                           1.521   Prob(JB):                    1.54e-170\n",
      "Kurtosis:                       8.276   Cond. No.                     1.51e+04\n",
      "==============================================================================\n",
      "\n",
      "Warnings:\n",
      "[1] Standard Errors assume that the covariance matrix of the errors is correctly specified.\n",
      "[2] The condition number is large, 1.51e+04. This might indicate that there are\n",
      "strong multicollinearity or other numerical problems.\n"
     ]
    }
   ],
   "source": [
    "# 데이터 값\n",
    "dfX0 = pd.DataFrame(boston.data, columns=boston.feature_names)\n",
    "\n",
    "# add_constant 상수항 추가\n",
    "dfX = sm.add_constant(dfX0)\n",
    "\n",
    "# 종속변수 명시\n",
    "dfy = pd.DataFrame(boston.target, columns=[\"MEDV\"])\n",
    "\n",
    "# OLS 클래스 객체 생성\n",
    "model_boston2 = sm.OLS(dfy, dfX)\n",
    "\n",
    "# fit 메서드로 모형 추정\n",
    "result_boston2 = model_boston2.fit()\n",
    "print(result_boston2.summary())\n",
    "\n",
    "\n",
    "# Regression Result 출력"
   ]
  },
  {
   "cell_type": "markdown",
   "metadata": {},
   "source": [
    "- `std err` : 오차의 표준편차 (+-)\n",
    "- `t` : test statistics\n",
    "- `P > |t|` : test statistics에 대응하는 p-value\n",
    "    - 귀무가설 H0--> w0의 계수가 0이다 --> 귀무가설 기각. 즉, w0는 0이 아니다.\n",
    "- `confidance interval` (95%의 확률로): coef +- stderr^2\n",
    "\n",
    "아랫단,\n",
    "- 잔차가 정규성을 띄고 있는지 normality test의 결과를 보여준다.\n",
    "    - 귀무가설 H0 --> normal을 띈다 --> Omnibus 테스트에서 귀무가설 기각. "
   ]
  },
  {
   "cell_type": "code",
   "execution_count": 37,
   "metadata": {},
   "outputs": [
    {
     "data": {
      "image/png": "[encoded data removed]",
      "text/plain": [
       "<matplotlib.figure.Figure at 0x116217278>"
      ]
     },
     "metadata": {},
     "output_type": "display_data"
    }
   ],
   "source": [
    "dfy_new = result_boston2.predict(dfX)\n",
    "\n",
    "plt.scatter(dfy, dfy_new)\n",
    "plt.xlabel(u\"Acutal House Price\")\n",
    "plt.ylabel(u\"House Price Prediction\")\n",
    "plt.show()"
   ]
  },
  {
   "cell_type": "markdown",
   "metadata": {},
   "source": [
    "- `resid` : 잔차 벡터\n",
    "- `params`: 모수 벡터"
   ]
  },
  {
   "cell_type": "code",
   "execution_count": 34,
   "metadata": {},
   "outputs": [
    {
     "data": {
      "text/plain": [
       "0   -6.008213\n",
       "1   -3.429861\n",
       "2    4.129768\n",
       "3    4.791859\n",
       "4    8.257118\n",
       "dtype: float64"
      ]
     },
     "execution_count": 34,
     "metadata": {},
     "output_type": "execute_result"
    }
   ],
   "source": [
    "result_boston2.resid.head()"
   ]
  },
  {
   "cell_type": "code",
   "execution_count": 35,
   "metadata": {},
   "outputs": [
    {
     "data": {
      "text/plain": [
       "const      36.491103\n",
       "CRIM       -0.107171\n",
       "ZN          0.046395\n",
       "INDUS       0.020860\n",
       "CHAS        2.688561\n",
       "NOX       -17.795759\n",
       "RM          3.804752\n",
       "AGE         0.000751\n",
       "DIS        -1.475759\n",
       "RAD         0.305655\n",
       "TAX        -0.012329\n",
       "PTRATIO    -0.953464\n",
       "B           0.009393\n",
       "LSTAT      -0.525467\n",
       "dtype: float64"
      ]
     },
     "execution_count": 35,
     "metadata": {},
     "output_type": "execute_result"
    }
   ],
   "source": [
    "result_boston2.params"
   ]
  },
  {
   "cell_type": "markdown",
   "metadata": {},
   "source": [
    "`plot_regress_exog`\n",
    "\n",
    "예) X1 (crime rate)와 Y값의 관계를 보여주는 `plot_regress_exog`\n",
    "\n",
    "`partial regression plot`, `CCPR Plot`\n",
    "- X1, Y값을 재조정하여\n",
    "- X1과 Y값의 관계를 좀 더 잘 보여준다."
   ]
  },
  {
   "cell_type": "code",
   "execution_count": 36,
   "metadata": {},
   "outputs": [
    {
     "data": {
      "image/png": "[encoded data removed]",
      "text/plain": [
       "<matplotlib.figure.Figure at 0x114d2dcf8>"
      ]
     },
     "metadata": {},
     "output_type": "display_data"
    }
   ],
   "source": [
    "fig = sm.graphics.plot_regress_exog(result_boston2, \"CRIM\")\n",
    "fig.suptitle(\"\")\n",
    "plt.show()"
   ]
  },
  {
   "cell_type": "code",
   "execution_count": null,
   "metadata": {},
   "outputs": [],
   "source": []
  }
 ],
 "metadata": {
  "kernelspec": {
   "display_name": "Python 3",
   "language": "python",
   "name": "python3"
  },
  "language_info": {
   "codemirror_mode": {
    "name": "ipython",
    "version": 3
   },
   "file_extension": ".py",
   "mimetype": "text/x-python",
   "name": "python",
   "nbconvert_exporter": "python",
   "pygments_lexer": "ipython3",
   "version": "3.6.2"
  }
 },
 "nbformat": 4,
 "nbformat_minor": 2
}
