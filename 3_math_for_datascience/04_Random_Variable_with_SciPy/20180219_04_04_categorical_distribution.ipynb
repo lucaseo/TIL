{
 "cells": [
  {
   "cell_type": "markdown",
   "metadata": {},
   "source": [
    "# 카테고리 분포 (Categorical Distribution)\n",
    "\n",
    "- 베르누이 분포의 확장판 (벡터형 분포)\n",
    "- 1~K개의 정수 값 중 하나가 나오는 확률변수의 분포\n",
    "- 예) 주사위 K=6 확률변수 {1, 2, 3, 4, 5, 6}\n",
    "\n",
    "(표현) One-Hot Encoding \n",
    "\n",
    "\\begin{eqnarray}\n",
    "x = 1  \\;\\; & \\rightarrow & \\;\\; x = (1, 0, 0, 0, 0, 0) \\\\\n",
    "x = 2  \\;\\; & \\rightarrow & \\;\\; x = (0, 1, 0, 0, 0, 0) \\\\\n",
    "x = 3  \\;\\; & \\rightarrow & \\;\\; x = (0, 0, 1, 0, 0, 0) \\\\\n",
    "x = 4  \\;\\; & \\rightarrow & \\;\\; x = (0, 0, 0, 1, 0, 0) \\\\\n",
    "x = 5  \\;\\; & \\rightarrow & \\;\\; x = (0, 0, 0, 0, 1, 0) \\\\\n",
    "x = 6  \\;\\; & \\rightarrow & \\;\\; x = (0, 0, 0, 0, 0, 1) \\\\\n",
    "\\end{eqnarray}\n",
    "\n",
    "$$ 곧, x = (x_1, x_2, x_3, x_4, x_5, x_6) $$\n",
    "\n",
    "(조건)\n",
    "- 0, 1만 가능하고 $x_i = \\begin{cases} 0 \\\\ 1 \\end{cases} \\;\\longrightarrow $ \n",
    "- 여러 개의$x_i$ 즉 K 중 하나만 1 $\\sum_{k=1}^K x_k = 1$\n",
    "\n",
    "\n",
    "(모수의 제한조건)  \n",
    "$x_k$값은 베르누이 확률 분포로 볼 수 있으므로, 모수 $\\theta_k$를 가진다\n",
    "$$ \\theta = ( \\theta_1, \\cdots , \\theta_K )\\; ,\\;\\;\\;  (0 \\leq \\theta_i \\leq 1,\\;\\; \\sum_{k=1}^K \\theta_k = 1) $$"
   ]
  },
  {
   "cell_type": "markdown",
   "metadata": {},
   "source": [
    "## 카테고리 분포의 표기\n",
    "- $\\text{Cat}(x_1, x_2, \\dots, x_K;\\theta_1, \\dots, \\theta_K)$\n",
    "\n",
    "혹은\n",
    "\n",
    "- 출력 벡터 $x=(x_1, x_2, \\dots, x_K)^T$, 모수 벡터 $\\theta=(\\theta_1, \\dots, \\theta_K)^T$를 활용,\n",
    "\n",
    "$$\\rightarrow \\text{Cat}(x;\\theta) $$\n",
    "\n",
    "\n",
    "(함수의 표기)\n",
    "$$ \n",
    "\\text{Cat}(x;\\theta) = \n",
    "\\begin{cases}\n",
    "\\theta_1 & \\text{if } x = (1, 0, 0, \\cdots, 0) \\\\\n",
    "\\theta_2 & \\text{if } x = (0, 1, 0, \\cdots, 0) \\\\\n",
    "\\theta_3 & \\text{if } x = (0, 0, 1, \\cdots, 0) \\\\\n",
    "\\vdots & \\vdots \\\\\n",
    "\\theta_K & \\text{if } x = (0, 0, 0, \\cdots, 1) \\\\\n",
    "\\end{cases}\n",
    "$$\n",
    "\n",
    "$$ \\text{Cat}(x;\\theta) = \\theta_1^{x_1} \\theta_2^{x_2}  \\cdots \\theta_K^{x_K}  =  \\prod_{k=1}^K \\theta_k^{x_k} $$"
   ]
  },
  {
   "cell_type": "markdown",
   "metadata": {},
   "source": [
    "# 카테고리 분포의 모멘트\n",
    "\n",
    "#### 기대값\n",
    "\n",
    "$$\\text{E}[x_k] = \\theta_k$$\n",
    "\n",
    "#### 분산\n",
    "\n",
    "$$\\text{Var}[x_k] = \\theta_k(1-\\theta_k)$$"
   ]
  },
  {
   "cell_type": "markdown",
   "metadata": {},
   "source": [
    "## 카테고리 분포 만들기"
   ]
  },
  {
   "cell_type": "code",
   "execution_count": 11,
   "metadata": {},
   "outputs": [],
   "source": [
    "np.random.seed(0)\n",
    "theta = np.array([1/6]*6) # 1/6확률이 6개인 벡터 생성\n",
    "X = np.random.multinomial(1, theta, size=20) # 합이 1로 이루어진 벡터를 20개 생성"
   ]
  },
  {
   "cell_type": "code",
   "execution_count": 12,
   "metadata": {},
   "outputs": [
    {
     "data": {
      "image/png": "[encoded data removed]",
      "text/plain": [
       "<matplotlib.figure.Figure at 0x114bb21d0>"
      ]
     },
     "metadata": {},
     "output_type": "display_data"
    }
   ],
   "source": [
    "plt.bar(np.arange(1, 7), X.sum(axis=0), align=\"center\")\n",
    "plt.show() # 빈도 도출"
   ]
  },
  {
   "cell_type": "code",
   "execution_count": 13,
   "metadata": {},
   "outputs": [
    {
     "data": {
      "text/html": [
       "<div>\n",
       "<style scoped>\n",
       "    .dataframe tbody tr th:only-of-type {\n",
       "        vertical-align: middle;\n",
       "    }\n",
       "\n",
       "    .dataframe tbody tr th {\n",
       "        vertical-align: top;\n",
       "    }\n",
       "\n",
       "    .dataframe thead th {\n",
       "        text-align: right;\n",
       "    }\n",
       "</style>\n",
       "<table border=\"1\" class=\"dataframe\">\n",
       "  <thead>\n",
       "    <tr style=\"text-align: right;\">\n",
       "      <th></th>\n",
       "      <th>value</th>\n",
       "      <th>type</th>\n",
       "      <th>ratio</th>\n",
       "    </tr>\n",
       "  </thead>\n",
       "  <tbody>\n",
       "    <tr>\n",
       "      <th>0</th>\n",
       "      <td>0</td>\n",
       "      <td>simulation</td>\n",
       "      <td>0.100000</td>\n",
       "    </tr>\n",
       "    <tr>\n",
       "      <th>1</th>\n",
       "      <td>0</td>\n",
       "      <td>theoretic</td>\n",
       "      <td>0.166667</td>\n",
       "    </tr>\n",
       "    <tr>\n",
       "      <th>2</th>\n",
       "      <td>1</td>\n",
       "      <td>simulation</td>\n",
       "      <td>0.200000</td>\n",
       "    </tr>\n",
       "    <tr>\n",
       "      <th>3</th>\n",
       "      <td>1</td>\n",
       "      <td>theoretic</td>\n",
       "      <td>0.166667</td>\n",
       "    </tr>\n",
       "    <tr>\n",
       "      <th>4</th>\n",
       "      <td>2</td>\n",
       "      <td>simulation</td>\n",
       "      <td>0.100000</td>\n",
       "    </tr>\n",
       "  </tbody>\n",
       "</table>\n",
       "</div>"
      ],
      "text/plain": [
       "   value        type     ratio\n",
       "0      0  simulation  0.100000\n",
       "1      0   theoretic  0.166667\n",
       "2      1  simulation  0.200000\n",
       "3      1   theoretic  0.166667\n",
       "4      2  simulation  0.100000"
      ]
     },
     "execution_count": 13,
     "metadata": {},
     "output_type": "execute_result"
    }
   ],
   "source": [
    "# 이론과 시뮬레이션 비교\n",
    "# theta와 각 숫자가 고르게 평균인 시뮬레이션\n",
    "df = pd.DataFrame({\"theoretic\": theta, \"simulation\": X.mean(axis=0)}).stack()\n",
    "df = df.reset_index()\n",
    "df.columns = [\"value\", \"type\", \"ratio\"]\n",
    "df.head()"
   ]
  },
  {
   "cell_type": "code",
   "execution_count": 14,
   "metadata": {},
   "outputs": [
    {
     "data": {
      "image/png": "[encoded data removed]",
      "text/plain": [
       "<matplotlib.figure.Figure at 0x114ad2e10>"
      ]
     },
     "metadata": {},
     "output_type": "display_data"
    }
   ],
   "source": [
    "sns.barplot(x=\"value\", y=\"ratio\", hue=\"type\", data=df)\n",
    "plt.show()"
   ]
  },
  {
   "cell_type": "markdown",
   "metadata": {},
   "source": [
    "$\\theta$를 다른 값으로 지정한다면"
   ]
  },
  {
   "cell_type": "code",
   "execution_count": 15,
   "metadata": {},
   "outputs": [
    {
     "data": {
      "text/plain": [
       "array([[0, 0, 0, 0, 0, 1],\n",
       "       [0, 0, 0, 1, 0, 0],\n",
       "       [0, 0, 0, 0, 1, 0],\n",
       "       [0, 0, 0, 1, 0, 0],\n",
       "       [0, 0, 1, 0, 0, 0],\n",
       "       [0, 0, 0, 0, 1, 0],\n",
       "       [0, 0, 0, 0, 0, 1],\n",
       "       [0, 0, 0, 0, 1, 0],\n",
       "       [0, 0, 1, 0, 0, 0],\n",
       "       [0, 0, 0, 0, 0, 1],\n",
       "       [0, 0, 0, 0, 0, 1],\n",
       "       [0, 0, 0, 1, 0, 0],\n",
       "       [0, 0, 0, 0, 0, 1],\n",
       "       [0, 0, 0, 0, 1, 0],\n",
       "       [0, 0, 0, 1, 0, 0],\n",
       "       [0, 0, 0, 1, 0, 0],\n",
       "       [0, 0, 0, 0, 0, 1],\n",
       "       [0, 0, 0, 0, 0, 1],\n",
       "       [0, 0, 0, 0, 0, 1],\n",
       "       [0, 0, 0, 1, 0, 0]])"
      ]
     },
     "execution_count": 15,
     "metadata": {},
     "output_type": "execute_result"
    }
   ],
   "source": [
    "np.random.seed(0)\n",
    "theta = np.array([0, 0, 0.1, 0.2, 0.3, 0.4]) # 사용자 지정\n",
    "X = np.random.multinomial(1, theta, size=20)\n",
    "X"
   ]
  },
  {
   "cell_type": "code",
   "execution_count": 16,
   "metadata": {},
   "outputs": [
    {
     "data": {
      "image/png": "[encoded data removed]",
      "text/plain": [
       "<matplotlib.figure.Figure at 0x114bec400>"
      ]
     },
     "metadata": {},
     "output_type": "display_data"
    }
   ],
   "source": [
    "plt.bar(np.arange(1, 7), X.sum(axis=0), align=\"center\")\n",
    "plt.show()"
   ]
  },
  {
   "cell_type": "code",
   "execution_count": 18,
   "metadata": {},
   "outputs": [
    {
     "data": {
      "text/html": [
       "<div>\n",
       "<style scoped>\n",
       "    .dataframe tbody tr th:only-of-type {\n",
       "        vertical-align: middle;\n",
       "    }\n",
       "\n",
       "    .dataframe tbody tr th {\n",
       "        vertical-align: top;\n",
       "    }\n",
       "\n",
       "    .dataframe thead th {\n",
       "        text-align: right;\n",
       "    }\n",
       "</style>\n",
       "<table border=\"1\" class=\"dataframe\">\n",
       "  <thead>\n",
       "    <tr style=\"text-align: right;\">\n",
       "      <th></th>\n",
       "      <th>value</th>\n",
       "      <th>type</th>\n",
       "      <th>ratio</th>\n",
       "    </tr>\n",
       "  </thead>\n",
       "  <tbody>\n",
       "    <tr>\n",
       "      <th>0</th>\n",
       "      <td>0</td>\n",
       "      <td>simulation</td>\n",
       "      <td>0.0</td>\n",
       "    </tr>\n",
       "    <tr>\n",
       "      <th>1</th>\n",
       "      <td>0</td>\n",
       "      <td>theoretic</td>\n",
       "      <td>0.0</td>\n",
       "    </tr>\n",
       "    <tr>\n",
       "      <th>2</th>\n",
       "      <td>1</td>\n",
       "      <td>simulation</td>\n",
       "      <td>0.0</td>\n",
       "    </tr>\n",
       "    <tr>\n",
       "      <th>3</th>\n",
       "      <td>1</td>\n",
       "      <td>theoretic</td>\n",
       "      <td>0.0</td>\n",
       "    </tr>\n",
       "    <tr>\n",
       "      <th>4</th>\n",
       "      <td>2</td>\n",
       "      <td>simulation</td>\n",
       "      <td>0.1</td>\n",
       "    </tr>\n",
       "    <tr>\n",
       "      <th>5</th>\n",
       "      <td>2</td>\n",
       "      <td>theoretic</td>\n",
       "      <td>0.1</td>\n",
       "    </tr>\n",
       "    <tr>\n",
       "      <th>6</th>\n",
       "      <td>3</td>\n",
       "      <td>simulation</td>\n",
       "      <td>0.3</td>\n",
       "    </tr>\n",
       "    <tr>\n",
       "      <th>7</th>\n",
       "      <td>3</td>\n",
       "      <td>theoretic</td>\n",
       "      <td>0.2</td>\n",
       "    </tr>\n",
       "    <tr>\n",
       "      <th>8</th>\n",
       "      <td>4</td>\n",
       "      <td>simulation</td>\n",
       "      <td>0.2</td>\n",
       "    </tr>\n",
       "    <tr>\n",
       "      <th>9</th>\n",
       "      <td>4</td>\n",
       "      <td>theoretic</td>\n",
       "      <td>0.3</td>\n",
       "    </tr>\n",
       "    <tr>\n",
       "      <th>10</th>\n",
       "      <td>5</td>\n",
       "      <td>simulation</td>\n",
       "      <td>0.4</td>\n",
       "    </tr>\n",
       "    <tr>\n",
       "      <th>11</th>\n",
       "      <td>5</td>\n",
       "      <td>theoretic</td>\n",
       "      <td>0.4</td>\n",
       "    </tr>\n",
       "  </tbody>\n",
       "</table>\n",
       "</div>"
      ],
      "text/plain": [
       "    value        type  ratio\n",
       "0       0  simulation    0.0\n",
       "1       0   theoretic    0.0\n",
       "2       1  simulation    0.0\n",
       "3       1   theoretic    0.0\n",
       "4       2  simulation    0.1\n",
       "5       2   theoretic    0.1\n",
       "6       3  simulation    0.3\n",
       "7       3   theoretic    0.2\n",
       "8       4  simulation    0.2\n",
       "9       4   theoretic    0.3\n",
       "10      5  simulation    0.4\n",
       "11      5   theoretic    0.4"
      ]
     },
     "execution_count": 18,
     "metadata": {},
     "output_type": "execute_result"
    }
   ],
   "source": [
    "df = pd.DataFrame({\"theoretic\": theta, \"simulation\": X.mean(axis=0)}).stack()\n",
    "df = df.reset_index()\n",
    "df.columns = [\"value\", \"type\", \"ratio\"]\n",
    "df"
   ]
  },
  {
   "cell_type": "code",
   "execution_count": 19,
   "metadata": {},
   "outputs": [
    {
     "data": {
      "image/png": "[encoded data removed]",
      "text/plain": [
       "<matplotlib.figure.Figure at 0x114bec710>"
      ]
     },
     "metadata": {},
     "output_type": "display_data"
    }
   ],
   "source": [
    "sns.barplot(x=\"value\", y=\"ratio\", hue=\"type\", data=df)\n",
    "plt.show()"
   ]
  },
  {
   "cell_type": "markdown",
   "metadata": {},
   "source": [
    "베르누이의 시뮬레이션 -> 이항 분포  \n",
    "\n",
    "카테고리 분포의 시뮬레이션 -> 다항 분포\n"
   ]
  },
  {
   "cell_type": "code",
   "execution_count": null,
   "metadata": {},
   "outputs": [],
   "source": []
  }
 ],
 "metadata": {
  "kernelspec": {
   "display_name": "Python 3",
   "language": "python",
   "name": "python3"
  },
  "language_info": {
   "codemirror_mode": {
    "name": "ipython",
    "version": 3
   },
   "file_extension": ".py",
   "mimetype": "text/x-python",
   "name": "python",
   "nbconvert_exporter": "python",
   "pygments_lexer": "ipython3",
   "version": "3.6.2"
  }
 },
 "nbformat": 4,
 "nbformat_minor": 2
}
