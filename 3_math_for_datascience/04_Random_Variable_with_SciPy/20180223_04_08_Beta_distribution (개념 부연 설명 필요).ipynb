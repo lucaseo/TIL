{
 "cells": [
  {
   "cell_type": "markdown",
   "metadata": {},
   "source": [
    "# 베타 분포\n",
    "\n",
    "베이지안 추정의 결과를 묘사하기 위한 인위적인 분포"
   ]
  },
  {
   "cell_type": "markdown",
   "metadata": {},
   "source": [
    "(모수)  a, b는 1 이상의 자연수\n",
    "\n",
    "$$\\text{Beta}(x;a,b), \\;\\; 0 \\leq x \\leq 1$$\n",
    "\n",
    "\n",
    "\n",
    "(PDF)\n",
    "\n",
    "$$\\begin{align}\n",
    "\\text{Beta}(x;a,b) \n",
    "& = \\frac{\\Gamma(a+b)}{\\Gamma(a)\\Gamma(b)}\\, x^{a-1}(1-x)^{b-1} \n",
    "\\end{align}$$"
   ]
  },
  {
   "cell_type": "markdown",
   "metadata": {},
   "source": [
    "(기대값)\n",
    "$$E[x] = \\dfrac{a}{a+b}$$\n",
    "\n",
    "(mode)\n",
    "$$\\dfrac{a - 1}{a+b - 2}$$\n",
    "\n",
    "(분산)\n",
    "$$\\text{Var}[x] = \\dfrac{ab}{(a+b)^2(a+b+1)}$$"
   ]
  },
  {
   "cell_type": "markdown",
   "metadata": {},
   "source": [
    "용도 : \n",
    "    - 실제 데이터를 보고 theta를 추정해야 한다. \n",
    "    - theta값을 설명하는 방법 (신뢰도를 묘사)\n",
    "        1. confidance interval\n",
    "        2. \"a, b 값을 통해 구한 베타분포\""
   ]
  },
  {
   "cell_type": "markdown",
   "metadata": {},
   "source": [
    "### 시뮬레이션"
   ]
  },
  {
   "cell_type": "code",
   "execution_count": 1,
   "metadata": {},
   "outputs": [],
   "source": [
    "import numpy as np\n",
    "import scipy as sp\n",
    "from scipy import stats\n",
    "import matplotlib as mpt\n",
    "import matplotlib.pyplot as plt\n",
    "import seaborn as sns"
   ]
  },
  {
   "cell_type": "code",
   "execution_count": 2,
   "metadata": {},
   "outputs": [
    {
     "data": {
      "image/png": "[encoded data removed]",
      "text/plain": [
       "<matplotlib.figure.Figure at 0x113d252b0>"
      ]
     },
     "metadata": {},
     "output_type": "display_data"
    }
   ],
   "source": [
    "xx = np.linspace(0, 1, 1000)\n",
    "plt.subplot(221)\n",
    "plt.fill(xx, sp.stats.beta(1.0001, 1.0001).pdf(xx)); plt.ylim(0, 6)\n",
    "plt.title(\"(A) a=1, b=1\")\n",
    "plt.subplot(222)\n",
    "plt.fill(xx, sp.stats.beta(4, 2).pdf(xx)); plt.ylim(0, 6)\n",
    "plt.title(\"(B) a=4, b=2, mode={0}\".format((4-1)/(4+2-2)))\n",
    "plt.subplot(223)\n",
    "plt.fill(xx, sp.stats.beta(8, 4).pdf(xx)); plt.ylim(0, 6)\n",
    "plt.title(\"(C) a=8, b=4, mode={0}\".format((8-1)/(8+4-2)))\n",
    "plt.subplot(224)\n",
    "plt.fill(xx, sp.stats.beta(30, 12).pdf(xx)); plt.ylim(0, 6)\n",
    "plt.title(\"(D) a=30, b=12, mode={0}\".format((30-1)/(30+12-2)))\n",
    "plt.tight_layout()\n",
    "plt.show()"
   ]
  },
  {
   "cell_type": "markdown",
   "metadata": {},
   "source": [
    "(A): 추정할 수 없다. (정보가 없음)\n",
    "\n",
    "(B): 모수값이 0.75일 가능성이 가장 크다. (정확도 낮음)\n",
    "\n",
    "(C): 모수값이 0.70일 가능성이 가장 크다. (정확도 중간)\n",
    "\n",
    "(D): 모수값이 0.725일 가능성이 가장 크다. (정확도 높음)"
   ]
  },
  {
   "cell_type": "code",
   "execution_count": null,
   "metadata": {},
   "outputs": [],
   "source": []
  }
 ],
 "metadata": {
  "kernelspec": {
   "display_name": "Python 3",
   "language": "python",
   "name": "python3"
  },
  "language_info": {
   "codemirror_mode": {
    "name": "ipython",
    "version": 3
   },
   "file_extension": ".py",
   "mimetype": "text/x-python",
   "name": "python",
   "nbconvert_exporter": "python",
   "pygments_lexer": "ipython3",
   "version": "3.6.2"
  }
 },
 "nbformat": 4,
 "nbformat_minor": 2
}
