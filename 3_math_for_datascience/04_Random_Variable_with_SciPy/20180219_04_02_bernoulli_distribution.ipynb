{
 "cells": [
  {
   "cell_type": "markdown",
   "metadata": {},
   "source": [
    "# 베르누이 분포\n",
    "\n",
    "### True/Fase, 성공/실패, Y/N, 앞/뒤"
   ]
  },
  {
   "cell_type": "markdown",
   "metadata": {},
   "source": [
    "- 이산확률분포\n",
    "- 확률질량함수 PMF 로 정의\n",
    "\n",
    "\n",
    "(정의) 1, 0\n",
    "\n",
    "$\\theta$ : \"1이 나올 확률\" 모수  \n",
    "변수와 모수는 세미콜론(;)으로 분리\n",
    "\n",
    "$$\n",
    "\\text{Bern}(x; \\theta) = \n",
    "\\begin{cases}\n",
    "\\theta & \\text{if }x = 1, \\\\\n",
    "1-\\theta & \\text{if }x = 0\n",
    "\\end{cases}\n",
    "$$\n",
    "\n",
    "(정의) 1, -1로 정의할 때,\n",
    "$$ \\text{Bern}(x; \\theta) = \\theta^{(1+x)/2} (1-\\theta)^{(1-x)/2} $$  \n",
    "\n",
    "\n",
    "(의미)\n",
    "확률 변수 X가 베르누이 분포를 따른다\n",
    "$$ X \\sim \\text{Bern}(x;\\theta) $$"
   ]
  },
  {
   "cell_type": "markdown",
   "metadata": {},
   "source": [
    "## 베르누이 분포의 모멘트\n",
    "\n",
    "#### 기대값\n",
    "$$\\text{E}[X]  = \\theta$$\n",
    "\n",
    "(증명)\n",
    "$$\\text{E}[X] = \\sum x_i P(x_i) = 1 \\cdot \\theta + 0 \\cdot (1 - \\theta) =  \\theta$$"
   ]
  },
  {
   "cell_type": "code",
   "execution_count": 12,
   "metadata": {},
   "outputs": [
    {
     "data": {
      "text/plain": [
       "0.62"
      ]
     },
     "execution_count": 12,
     "metadata": {},
     "output_type": "execute_result"
    }
   ],
   "source": [
    "# 시뮬레이션의 베르누이 기대값 구하기 (평균)\n",
    "np.mean(x)"
   ]
  },
  {
   "cell_type": "markdown",
   "metadata": {},
   "source": [
    "#### 분산\n",
    "\n",
    "$$\\text{Var}[X] = \\theta(1-\\theta)$$\n",
    "\n",
    "(증명)\n",
    "\n",
    "$$\\text{Var}[X] = \\sum (x_i - \\mu)^2 P(x_i) = (1 - \\theta)^2 \\cdot \\theta + (0 - \\theta)^2 \\cdot (1 - \\theta) = \\theta(1-\\theta)$$"
   ]
  },
  {
   "cell_type": "code",
   "execution_count": 16,
   "metadata": {},
   "outputs": [
    {
     "data": {
      "text/plain": [
       "0.23797979797979804"
      ]
     },
     "execution_count": 16,
     "metadata": {},
     "output_type": "execute_result"
    }
   ],
   "source": [
    "# 시뮬레이션의 베르누이 분산 구하기\n",
    "np.var(x, ddof=1)   # ddof=1의 의미는?"
   ]
  },
  {
   "cell_type": "code",
   "execution_count": 18,
   "metadata": {},
   "outputs": [
    {
     "data": {
      "text/plain": [
       "DescribeResult(nobs=100, minmax=(0, 1), mean=0.62, variance=0.23797979797979804, skewness=-0.4944513860581973, kurtosis=-1.755517826825128)"
      ]
     },
     "execution_count": 18,
     "metadata": {},
     "output_type": "execute_result"
    }
   ],
   "source": [
    "# 베르누이 기대값, 분산 둘다 구하기 (describe)\n",
    "s = sp.stats.describe(x)\n",
    "s"
   ]
  },
  {
   "cell_type": "code",
   "execution_count": 19,
   "metadata": {},
   "outputs": [
    {
     "data": {
      "text/plain": [
       "((0, 1), 0.62, 0.23797979797979804)"
      ]
     },
     "execution_count": 19,
     "metadata": {},
     "output_type": "execute_result"
    }
   ],
   "source": [
    "s[1], s[2], s[3]"
   ]
  },
  {
   "cell_type": "markdown",
   "metadata": {},
   "source": [
    "# 베르누이 분포의 모수 추정\n",
    "모수추정 (parameter estimation) : 데이터에서 모수의 값을 찾아내는 것\n",
    "\n",
    "베르누이 분포 모수 추정\n",
    "\n",
    "$$ \\hat{\\theta} = \\dfrac{\\sum_{i=1}^N x_i}{N}= \\dfrac{N_1}{N} \\;\\;\\dfrac{\\text{(1이 나온 횟수)}}{\\text{(전체 데이터 수)}}$$ "
   ]
  },
  {
   "cell_type": "markdown",
   "metadata": {},
   "source": [
    "# 베르누이 분포의 활용\n",
    "- 분류 에측 문제의 출력 데이터가 두 개의 값으로 구분되는 카테고리 값인 경우\n",
    "    - 어느 값이 가능성이 높은지 표현  \n",
    "    \n",
    "    \n",
    "- 입력 데이터가 0, 1 혹은 참,거짓 등 두 개의 값으로 구분되는 경우\n",
    "    - 두 종류의 값이 나타내는 비율을 표현"
   ]
  },
  {
   "cell_type": "markdown",
   "metadata": {},
   "source": [
    "예) 스팸메일\n",
    "\n",
    "스팸메일로 구분되는 키워드 4가지\n",
    "$$\\begin{bmatrix} x_1 \\\\ x_2 \\\\ x_3 \\\\ x_4 \\end{bmatrix}$$\n",
    "\n",
    "6개의 스팸메일 데이터가 있다.\n",
    "$$\n",
    "\\begin{bmatrix} \n",
    "1 & 0 & 1 & 0 \\\\\n",
    "1 & 1 & 1 & 0 \\\\\n",
    "1 & 1 & 0 & 1 \\\\\n",
    "0 & 0 & 1 & 1 \\\\\n",
    "1 & 1 & 0 & 0 \\\\\n",
    "1 & 1 & 0 & 1 \\\\\n",
    "\\end{bmatrix} \n",
    "$$\n",
    "\n",
    "각 키워드의 확률  \n",
    "$X_1 \\sim \\text{Bern}(x_1; \\theta_1)$ : 스팸 메일이 $x_1$ 키워드를 포함하고 있을 확률 $\\theta_1 = \\dfrac{5}{6}$  \n",
    "\n",
    "$X_2 \\sim \\text{Bern}(x_2; \\theta_2)$ : 스팸 메일이 $x_2$ 키워드를 포함하고 있을 확률 $\\theta_2 = \\dfrac{4}{6}$  \n",
    "\n",
    "$X_3 \\sim \\text{Bern}(x_3; \\theta_3)$ : 스팸 메일이 $x_3$ 키워드를 포함하고 있을 확률 $\\theta_3 = \\dfrac{3}{6}$  \n",
    "\n",
    "$X_4 \\sim \\text{Bern}(x_4; \\theta_4)$ : 스팸 메일이 $x_4$ 키워드를 포함하고 있을 확률 $\\theta_4 = \\dfrac{3}{6}$  \n",
    "\n",
    "\n",
    "(다른 표현 ex)  \n",
    "조건부 확률  스팸메일인데, $x_1$이 포함되어 있을 확률  \n",
    "\n",
    "$$P(X_1 | Spam)$$\n",
    "\n",
    "\n",
    "\n",
    "표현 방법 $X_1, X_4$가 나오는 스팸일 확률\n",
    "\n",
    "$$ P(S|(X_1, X^C_2, X^C_3, X_4) $$\n"
   ]
  },
  {
   "cell_type": "markdown",
   "metadata": {},
   "source": [
    "### 베르누이 분포 만들기"
   ]
  },
  {
   "cell_type": "code",
   "execution_count": 3,
   "metadata": {},
   "outputs": [
    {
     "data": {
      "image/png": "[encoded data removed]",
      "text/plain": [
       "<matplotlib.figure.Figure at 0x1145b3320>"
      ]
     },
     "metadata": {},
     "output_type": "display_data"
    }
   ],
   "source": [
    "theta = 0.6    # 성공(1)의 확률 정의 ; 모수 정의\n",
    "rv = sp.stats.bernoulli(theta) # 확률분포 정의\n",
    "\n",
    "xx = [0, 1]\n",
    "plt.bar(xx, rv.pmf(xx))\n",
    "plt.xlim(-1, 2)\n",
    "plt.ylim(0, 1)\n",
    "plt.xticks([0, 1], [\"x=0\", \"x=1\"])\n",
    "plt.xlabel(\"sample\")\n",
    "plt.ylabel(\"P(x)\")\n",
    "plt.title(\"pmf of bernoulli\")\n",
    "plt.show()"
   ]
  },
  {
   "cell_type": "code",
   "execution_count": 4,
   "metadata": {},
   "outputs": [
    {
     "data": {
      "text/plain": [
       "array([1, 0, 0, 1, 1, 0, 1, 0, 0, 1, 0, 1, 1, 0, 1, 1, 1, 0, 0, 0, 0, 0, 1,\n",
       "       0, 1, 0, 1, 0, 1, 1, 1, 0, 1, 1, 1, 0, 0, 0, 0, 0, 1, 1, 0, 1, 0, 0,\n",
       "       1, 1, 1, 1, 1, 1, 0, 1, 1, 1, 0, 1, 1, 1, 1, 1, 0, 1, 1, 1, 0, 1, 0,\n",
       "       1, 0, 1, 0, 0, 0, 1, 1, 1, 1, 1, 1, 1, 1, 0, 1, 1, 1, 1, 1, 0, 1, 0,\n",
       "       1, 0, 1, 1, 1, 1, 0, 1])"
      ]
     },
     "execution_count": 4,
     "metadata": {},
     "output_type": "execute_result"
    }
   ],
   "source": [
    "x = rv.rvs(100, random_state=0) # 베르누이 시행 랜덤 변수 추출\n",
    "x"
   ]
  },
  {
   "cell_type": "code",
   "execution_count": 6,
   "metadata": {},
   "outputs": [
    {
     "data": {
      "image/png": "[encoded data removed]",
      "text/plain": [
       "<matplotlib.figure.Figure at 0x114a28940>"
      ]
     },
     "metadata": {},
     "output_type": "display_data"
    }
   ],
   "source": [
    "# 시뮬레이션\n",
    "x = rv.rvs(100, random_state=0) # 베르누이 시행 랜덤 변수 추출\n",
    "x\n",
    "\n",
    "sns.countplot(x)\n",
    "plt.title(\"Simulation result of bernoulli\")\n",
    "plt.xlabel(\"sample\")\n",
    "plt.show()"
   ]
  },
  {
   "cell_type": "code",
   "execution_count": 8,
   "metadata": {},
   "outputs": [
    {
     "data": {
      "text/html": [
       "<div>\n",
       "<style scoped>\n",
       "    .dataframe tbody tr th:only-of-type {\n",
       "        vertical-align: middle;\n",
       "    }\n",
       "\n",
       "    .dataframe tbody tr th {\n",
       "        vertical-align: top;\n",
       "    }\n",
       "\n",
       "    .dataframe thead th {\n",
       "        text-align: right;\n",
       "    }\n",
       "</style>\n",
       "<table border=\"1\" class=\"dataframe\">\n",
       "  <thead>\n",
       "    <tr style=\"text-align: right;\">\n",
       "      <th></th>\n",
       "      <th>simulation</th>\n",
       "      <th>theory</th>\n",
       "    </tr>\n",
       "  </thead>\n",
       "  <tbody>\n",
       "    <tr>\n",
       "      <th>0</th>\n",
       "      <td>0.38</td>\n",
       "      <td>0.4</td>\n",
       "    </tr>\n",
       "    <tr>\n",
       "      <th>1</th>\n",
       "      <td>0.62</td>\n",
       "      <td>0.6</td>\n",
       "    </tr>\n",
       "  </tbody>\n",
       "</table>\n",
       "</div>"
      ],
      "text/plain": [
       "   simulation  theory\n",
       "0        0.38     0.4\n",
       "1        0.62     0.6"
      ]
     },
     "execution_count": 8,
     "metadata": {},
     "output_type": "execute_result"
    }
   ],
   "source": [
    "# 이론적 확률 분포(0.6)와 샘플의 확률 분포를 같이 표현\n",
    "y = np.bincount(x, minlength=2) / float(len(x))\n",
    "\n",
    "df = pd.DataFrame({\"theory\": rv.pmf(xx), \"simulation\": y})\n",
    "df.index = [0, 1]\n",
    "df"
   ]
  },
  {
   "cell_type": "code",
   "execution_count": 9,
   "metadata": {},
   "outputs": [
    {
     "data": {
      "text/html": [
       "<div>\n",
       "<style scoped>\n",
       "    .dataframe tbody tr th:only-of-type {\n",
       "        vertical-align: middle;\n",
       "    }\n",
       "\n",
       "    .dataframe tbody tr th {\n",
       "        vertical-align: top;\n",
       "    }\n",
       "\n",
       "    .dataframe thead th {\n",
       "        text-align: right;\n",
       "    }\n",
       "</style>\n",
       "<table border=\"1\" class=\"dataframe\">\n",
       "  <thead>\n",
       "    <tr style=\"text-align: right;\">\n",
       "      <th></th>\n",
       "      <th>sample</th>\n",
       "      <th>type</th>\n",
       "      <th>ratio</th>\n",
       "    </tr>\n",
       "  </thead>\n",
       "  <tbody>\n",
       "    <tr>\n",
       "      <th>0</th>\n",
       "      <td>0</td>\n",
       "      <td>simulation</td>\n",
       "      <td>0.38</td>\n",
       "    </tr>\n",
       "    <tr>\n",
       "      <th>1</th>\n",
       "      <td>0</td>\n",
       "      <td>theory</td>\n",
       "      <td>0.40</td>\n",
       "    </tr>\n",
       "    <tr>\n",
       "      <th>2</th>\n",
       "      <td>1</td>\n",
       "      <td>simulation</td>\n",
       "      <td>0.62</td>\n",
       "    </tr>\n",
       "    <tr>\n",
       "      <th>3</th>\n",
       "      <td>1</td>\n",
       "      <td>theory</td>\n",
       "      <td>0.60</td>\n",
       "    </tr>\n",
       "  </tbody>\n",
       "</table>\n",
       "</div>"
      ],
      "text/plain": [
       "   sample        type  ratio\n",
       "0       0  simulation   0.38\n",
       "1       0      theory   0.40\n",
       "2       1  simulation   0.62\n",
       "3       1      theory   0.60"
      ]
     },
     "execution_count": 9,
     "metadata": {},
     "output_type": "execute_result"
    }
   ],
   "source": [
    "df2 = df.stack().reset_index()\n",
    "df2.columns = [\"sample\", \"type\", \"ratio\"]\n",
    "df2"
   ]
  },
  {
   "cell_type": "code",
   "execution_count": 10,
   "metadata": {},
   "outputs": [
    {
     "data": {
      "image/png": "[encoded data removed]",
      "text/plain": [
       "<matplotlib.figure.Figure at 0x1147ce908>"
      ]
     },
     "metadata": {},
     "output_type": "display_data"
    }
   ],
   "source": [
    "sns.barplot(x=\"sample\", y=\"ratio\", hue=\"type\", data=df2)\n",
    "plt.show()"
   ]
  }
 ],
 "metadata": {
  "kernelspec": {
   "display_name": "Python 3",
   "language": "python",
   "name": "python3"
  },
  "language_info": {
   "codemirror_mode": {
    "name": "ipython",
    "version": 3
   },
   "file_extension": ".py",
   "mimetype": "text/x-python",
   "name": "python",
   "nbconvert_exporter": "python",
   "pygments_lexer": "ipython3",
   "version": "3.6.2"
  }
 },
 "nbformat": 4,
 "nbformat_minor": 2
}
