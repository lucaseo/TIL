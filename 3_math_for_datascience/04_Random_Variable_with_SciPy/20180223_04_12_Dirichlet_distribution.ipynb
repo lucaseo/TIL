{
 "cells": [
  {
   "cell_type": "markdown",
   "metadata": {},
   "source": [
    "# 디리클레 분포\n",
    "\n",
    "- 베타 분포의 확장판 (베타분포는 단일 확률변수)\n",
    "- 0, 1 사이 값을 가지는 다변수 확률 변수의 베이지안 모형\n",
    "\n",
    "(모수) : 나올 수 있는 경우의 수 = $K$ (예: 정육면체 주사위 $K$ = 6)\n",
    "\n",
    "제한조건 : 다변수 확률 변수들의 합이 1이 되어야 한다.\n",
    "\n",
    "$$\\sum{i=1}^{K} x_1 = 1$$\n"
   ]
  },
  {
   "cell_type": "markdown",
   "metadata": {},
   "source": [
    "(PDF)\n",
    "\n",
    "$$f(x_1, x_2, \\cdots, x_K) \n",
    "= \n",
    "\\frac{1}{\\mathrm{Beta}(\\alpha_1, \\alpha_2, \\cdots, \\alpha_K)} \\prod_{i=1}^K x_i^{\\alpha_i - 1}$$\n",
    "\n",
    "\n",
    "(참고)  \n",
    "디리클레 분포의 모수 벡터 : $(\\alpha_1, \\alpha_2, \\cdots, \\alpha_K)$\n",
    "\n",
    "$$\\mathrm{Beta}(\\alpha_1, \\alpha_2, \\cdots, \\alpha_K) = \\frac{\\prod_{i=1}^K \\Gamma(\\alpha_i)} {\\Gamma\\bigl(\\sum_{i=1}^K \\alpha_i\\bigr)}$$\n",
    "\n"
   ]
  },
  {
   "cell_type": "markdown",
   "metadata": {},
   "source": [
    "### 베타 분포와 디리클레 분포의 관계\n",
    "\n",
    "K = 2인 디리클레 분포 --> 베타분포\n",
    "\n",
    "$ x_1 = x \\;\\;\\; x_2 = (1-x) \\;\\;\\; a_1 = a \\;\\;\\; a_2 = b $ 라고 볼 때,\n",
    "\n",
    "$$\n",
    "\\begin{eqnarray}\n",
    "\\text{Beta}(x;a,b) \n",
    "&=& \\frac{\\Gamma(a+b)}{\\Gamma(a)\\Gamma(b)}\\, x^{a-1}(1-x)^{b-1} \\\\\n",
    "&=& \\frac{\\Gamma(\\alpha_1+\\alpha_2)}{\\Gamma(\\alpha_1)\\Gamma(\\alpha_2)}\\,  x_1^{\\alpha_1 - 1} x_2^{\\alpha_2 - 1} \\\\\n",
    "&=& \\frac{1}{\\mathrm{B}(\\alpha_1, \\alpha_2)} \\prod_{i=1}^2 x_i^{\\alpha_i - 1}\n",
    "\\end{eqnarray}\n",
    "$$"
   ]
  },
  {
   "cell_type": "markdown",
   "metadata": {},
   "source": [
    "### 모멘트\n",
    "\n",
    "$a = \\sum a_k이다$\n",
    "\n",
    "\n",
    "(기대값)\n",
    "$$\\text{E}[x_k] = \\dfrac{\\alpha_k}{\\alpha}$$\n",
    "\n",
    "(mode)\n",
    "$$\\dfrac{\\alpha_k - 1}{\\alpha - K}$$\n",
    "\n",
    "(분산)\n",
    "$$\\text{Var}[x_k] =\\dfrac{\\alpha_k(\\alpha - \\alpha_k)}{\\alpha^2(\\alpha + 1)}$$"
   ]
  },
  {
   "cell_type": "code",
   "execution_count": null,
   "metadata": {},
   "outputs": [],
   "source": []
  }
 ],
 "metadata": {
  "kernelspec": {
   "display_name": "Python 3",
   "language": "python",
   "name": "python3"
  },
  "language_info": {
   "codemirror_mode": {
    "name": "ipython",
    "version": 3
   },
   "file_extension": ".py",
   "mimetype": "text/x-python",
   "name": "python",
   "nbconvert_exporter": "python",
   "pygments_lexer": "ipython3",
   "version": "3.6.2"
  }
 },
 "nbformat": 4,
 "nbformat_minor": 2
}
