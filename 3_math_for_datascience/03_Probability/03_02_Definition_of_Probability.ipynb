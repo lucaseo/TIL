{
 "cells": [
  {
   "cell_type": "markdown",
   "metadata": {},
   "source": [
    "# 확률의 수학적 정의"
   ]
  },
  {
   "cell_type": "markdown",
   "metadata": {},
   "source": [
    "### 01. **표본 공관과 확률 표본 **\n",
    "\n",
    "**확률 표본 (sample)** :\n",
    "    - 확률적 문제에서 선택, 답이 될 수 있는 하나의 경우 혹은 숫자\n",
    "\n",
    "**표본 공간 (sample space, $\\Omega$)** :\n",
    "    - 답이 될 수 있는 혹은 선택될 수 있는 모든 표본의 집합\n",
    "\n",
    "\n",
    "확률론으로 문제를 풀 때 `우리가 원하는 답`이란 표본 공간에서 선택된 어떤 특정 표본을 뜻함. 표본이 **선택(sampled)** 되었다고도 하고 **발생(realized)** 하였다고도 한다."
   ]
  },
  {
   "cell_type": "markdown",
   "metadata": {},
   "source": [
    "### 02. 사건"
   ]
  },
  {
   "cell_type": "markdown",
   "metadata": {},
   "source": [
    "**사건 (event) ** : \n",
    "    - 표본 공간 Ω의 부분집합.\n",
    "    - 전체 표본 공간 중에서 우리가 관심을 가지는 일부 표본의 집합."
   ]
  },
  {
   "cell_type": "markdown",
   "metadata": {},
   "source": [
    "### 03. 확률"
   ]
  },
  {
   "cell_type": "markdown",
   "metadata": {},
   "source": [
    "**확률 (Probability) ** :\n",
    "    - 사건 (부분집합) 을 입력하면 숫자(확률값)이 출력되는 함수.\n",
    "    - 각각의 사건에 특정 숫자를 할당한 것 (allocation)"
   ]
  },
  {
   "cell_type": "markdown",
   "metadata": {},
   "source": [
    "확률의 규칙 : Komogorov's zxioms 콜모고로프의 공리\n",
    "1. 모든 사건에 대해 확률은 **실수이고 양수**이다.  \n",
    "\n",
    "    $$P(A) \\in \\mathbb{R}, P(A) \\geq 0$$\n",
    "    \n",
    "\n",
    "2. **표본공간**이라는 사건에 대한 확률은 **1**이다.\n",
    "\n",
    "$$P(\\Omega) = 1$$\n",
    "\n",
    "\n",
    "3. **공통 원소가 없는 두 사건**의 합집합의 확률은 각각의 사건의 확률의 합니다. \n",
    "\n",
    "$$A \\cap B = \\emptyset \\;\\;\\; \\rightarrow \\;\\;\\; P(A \\cup B) = P(A) + P(B)$$"
   ]
  },
  {
   "cell_type": "markdown",
   "metadata": {},
   "source": [
    "#### 파이썬에서의 구현\n",
    "\n",
    "사건을 Key로 가지고 숫자를 value로 가지는 딕셔너리를 사용하여 확률을 구함."
   ]
  },
  {
   "cell_type": "code",
   "execution_count": 4,
   "metadata": {},
   "outputs": [
    {
     "data": {
      "text/plain": [
       "{frozenset(), frozenset({'H'}), frozenset({'T'}), frozenset({'H', 'T'})}"
      ]
     },
     "execution_count": 4,
     "metadata": {},
     "output_type": "execute_result"
    }
   ],
   "source": [
    "# 부분집합 구하기 (frozenset)\n",
    "A = frozenset([])\n",
    "B = frozenset(['H'])\n",
    "C = frozenset(['T'])\n",
    "D = frozenset(['H', 'T'])\n",
    "set([A, B, C, D])"
   ]
  },
  {
   "cell_type": "code",
   "execution_count": 5,
   "metadata": {},
   "outputs": [
    {
     "data": {
      "text/plain": [
       "{frozenset(): 0,\n",
       " frozenset({'H'}): 0.4,\n",
       " frozenset({'T'}): 0.6,\n",
       " frozenset({'H', 'T'}): 1}"
      ]
     },
     "execution_count": 5,
     "metadata": {},
     "output_type": "execute_result"
    }
   ],
   "source": [
    "# 딕셔너리를 통해 확률 표현하기\n",
    "P = {A: 0, B: 0.4, C: 0.6, D: 1}\n",
    "P"
   ]
  },
  {
   "cell_type": "markdown",
   "metadata": {},
   "source": [
    "### _확률은 표본이 아닌 사건을 입력으로 가지는 함수_\n",
    "\n",
    "확률은 표본이 아닌 사건(부분집합)에 대해 정의한다.  \n",
    "\n",
    "$$ P(\\{1\\})= \\dfrac{1}{6} $$\n",
    " \n"
   ]
  },
  {
   "cell_type": "markdown",
   "metadata": {},
   "source": [
    "### 04. 단순사건과 확률질량함수"
   ]
  },
  {
   "cell_type": "markdown",
   "metadata": {},
   "source": [
    "표본을 1개만 가지는, 교집합이 없는 사건을 단순사건(elementary event, atomic event). **유한개의 사건만 있는 경우, 모든 단순사건의 확률값을 알면 콜모고로프의 세번째 공리에 의해 다른 모든 사건의 확률값을 계산할 수 있다.**  \n",
    "\n",
    "표본이 숫자인 경우(뒤에서 설명할 확률 변수의 경우), 사건 대신 숫자(표본)를 입력으로 가지고 확률값을 출력으로 가지는 함수 $p$를 정의할 수 있는데 이를 **확률질량함수(probability mass function, PMF)**라고 한다. 확률과 확률질량함수는 다른 개념 !!"
   ]
  },
  {
   "cell_type": "markdown",
   "metadata": {},
   "source": [
    "** 표본의 수가 무한대인 경우 **  \n",
    "\n",
    "표본의 수가 무한하고 모든 표본에 대해 표본 하나만을 가진 사건의 확률이 동일하다면, 표본 하나에 대한 사건의 확률은 언제나 0이다."
   ]
  }
 ],
 "metadata": {
  "kernelspec": {
   "display_name": "Python 3",
   "language": "python",
   "name": "python3"
  },
  "language_info": {
   "codemirror_mode": {
    "name": "ipython",
    "version": 3
   },
   "file_extension": ".py",
   "mimetype": "text/x-python",
   "name": "python",
   "nbconvert_exporter": "python",
   "pygments_lexer": "ipython3",
   "version": "3.6.2"
  }
 },
 "nbformat": 4,
 "nbformat_minor": 2
}
