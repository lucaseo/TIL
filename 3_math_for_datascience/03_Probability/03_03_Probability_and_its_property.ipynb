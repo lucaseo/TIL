{
 "cells": [
  {
   "cell_type": "markdown",
   "metadata": {},
   "source": [
    "# 확률의 의미"
   ]
  },
  {
   "cell_type": "markdown",
   "metadata": {},
   "source": [
    "### 빈도주의 관점  \n",
    "\n",
    "반복적으로 선택된 표본이 사건 $A$의 원소가 될 경향(propensity)"
   ]
  },
  {
   "cell_type": "markdown",
   "metadata": {},
   "source": [
    "### 베이지안 관점\n",
    "\n",
    "이미 발생한 일이 특정한 사건에 속할 가능성  \n",
    "\n",
    "이미 발생한 일이 특정한 사건에 속한다는  \n",
    "**가설(hypothesis), 명제(proposition), 주장(assertion)의 신뢰도**"
   ]
  },
  {
   "cell_type": "markdown",
   "metadata": {},
   "source": [
    "사건의 발생 (occur) ?\n",
    "- 사건(표본집합) 안에 정말로 선택된 표본이 있다는, **추가적인 정보**를 알게 되었다는 것.\n"
   ]
  },
  {
   "cell_type": "markdown",
   "metadata": {},
   "source": [
    " # 확률의 성질"
   ]
  },
  {
   "cell_type": "markdown",
   "metadata": {},
   "source": [
    "### 1. 공집합의 확률  \n",
    "공집합인 사건의 확률은 0이다.\n",
    "\n",
    "(증명)\n",
    "$$P(A \\cup \\emptyset) = P(A) = P(A) + P(\\emptyset)$$\n",
    "\n",
    "$$ \\therefore P(\\emptyset) = 0 $$ "
   ]
  },
  {
   "cell_type": "markdown",
   "metadata": {},
   "source": [
    "### 2. 여집합( $A^C$ )의 확률  \n",
    "어떤 사건의 여집합인 사건의 확률은 (1 - 원래 사건의 확률)\n",
    "\n",
    "$$P(A^C) = 1 - P(A)$$\n",
    "\n",
    "(증명)\n",
    "\n",
    "$$ P(A \\cap B) = \\emptyset \\;\\;\\rightarrow\\;\\; P(A \\cup B) = P(A) + P(B)$$  \n",
    "\n",
    "$$ P(A \\cup A^C) = P(\\Omega) = 1 = P(A) + P(A^C)$$  \n",
    "\n",
    "$$ \\therefore P(A^C) = 1-P(A) $$"
   ]
  },
  {
   "cell_type": "markdown",
   "metadata": {},
   "source": [
    "### 3. 포함-배제 원리  \n",
    "두 사건의 합집합의 확률 = 각 사건의 확률의 합 - 두 사건의 교집합의 확률\n",
    "\n",
    "$$ P(A \\cup B) = P(A) + P(B) – P(A \\cap B) $$  \n",
    "\n",
    "(증명)  \n",
    "\n",
    "\\begin{eqnarray*}\n",
    "P(A \\cup B)\n",
    "&=& P(A \\cup (B\\cap A^C)) \\\\\n",
    "&=& P(A) + P(B\\cap A^C) \\\\\n",
    "&=& P(A) + P(B\\cap A^C) + P(A ∩ B) – P(A ∩ B) \\\\\n",
    "&=& P(A) + P((A^C\\cap B) ∪ (A ∩ B)) – P(A ∩ B) \\\\\n",
    "&=& P(A) + P(B) – P(A ∩ B) \n",
    "\\end{eqnarray*}"
   ]
  },
  {
   "cell_type": "markdown",
   "metadata": {},
   "source": [
    "### 4. 전체 확률의 법칙  \n",
    "복수의 사건 $C_i$ 가 ...\n",
    "- 교집합이 없고  \n",
    "\n",
    "$$ C_i \\cap C_j = \\emptyset \\;\\;\\; (i \\neq j)$$\n",
    "\n",
    "- 합집합 --> 전체 표본 공간이면\n",
    "\n",
    "$$ C_1 \\cup C_2 \\cup \\cdots  = \\Omega$$  \n",
    "  \n",
    "  \n",
    "다음이 성립한다 --> $P(A) = \\sum_i P(A \\cap C_i)$  \n",
    "  \n",
    "  \n",
    "(증명)\n",
    "\n",
    "\\begin{eqnarray}\n",
    "A \n",
    "&=& A \\cap \\Omega \\\\\n",
    "&=& A \\cap (C_1 \\cup C_2 \\cup \\cdots ) \\\\\n",
    "&=& (A \\cap C_1) \\cup (A \\cap C_2) \\cup \\cdots  \\\\\n",
    "\\end{eqnarray}\n",
    "\n",
    "$$ P(A) = P(A \\cap C_1) + P(A \\cap C_2) + \\cdots = \\sum_i P(A\\cap C_i) $$"
   ]
  }
 ],
 "metadata": {
  "kernelspec": {
   "display_name": "Python 3",
   "language": "python",
   "name": "python3"
  },
  "language_info": {
   "codemirror_mode": {
    "name": "ipython",
    "version": 3
   },
   "file_extension": ".py",
   "mimetype": "text/x-python",
   "name": "python",
   "nbconvert_exporter": "python",
   "pygments_lexer": "ipython3",
   "version": "3.6.2"
  }
 },
 "nbformat": 4,
 "nbformat_minor": 2
}
