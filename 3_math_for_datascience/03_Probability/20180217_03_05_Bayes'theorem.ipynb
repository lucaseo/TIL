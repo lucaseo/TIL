{
 "cells": [
  {
   "cell_type": "markdown",
   "metadata": {},
   "source": [
    "# 베이즈 정리\n",
    "\n",
    "사건 B가 발생함으로써 ( 사건 B의 확률 P(B)=1 임을 알게 됨으로 ) 사건 A 의 확률이 어떻게 변화하는지\n",
    "\n",
    "$$ P(A|B) = \\dfrac{P(B|A)P(A)}{P(B)} $$  \n",
    "\n",
    "(증명)\n",
    "\n",
    "$$ P(A|B) = \\dfrac{P(A,B)}{P(B)} \\;\\; \\rightarrow \\;\\; P(A,B) = P(A|B)P(B) $$\n",
    "\n",
    "\n",
    "$$ P(B|A) = \\dfrac{P(A,B)}{P(A)} \\;\\; \\rightarrow \\;\\; P(A,B) = P(B|A)P(A) $$\n",
    "\n",
    "\n",
    "$$ P(A,B) = P(A|B)P(B) = P(B|A)P(A) $$\n",
    "\n",
    "\n",
    "$$ P(A|B) = \\dfrac{P(B|A)P(A)}{P(B)} $$"
   ]
  },
  {
   "cell_type": "markdown",
   "metadata": {},
   "source": [
    "- P(A) : 사전 확률 **prior** - 사건 B가 발생하기 전에 가지고 있던 사건 A의 확률\n",
    "- P(A|B) : 사후 확률 **posterior** - 사건 B가 발생한 후 갱신된 사건 A의 확률\n",
    "- P(B|A) : **likelihood** - 사건 A가 발생한 경우 사건 B의 확률\n",
    "- P(B) : 정규화 상수 **normalizing constant** - 확률의 크기 조정"
   ]
  },
  {
   "cell_type": "markdown",
   "metadata": {},
   "source": [
    "# 확장 1 - 개념"
   ]
  },
  {
   "cell_type": "markdown",
   "metadata": {},
   "source": [
    "다음과 같은 조건을 만족하는 경우, \n",
    "$$ A_i \\cap A_j = \\emptyset \\text{  ........  (1)}$$\n",
    "\n",
    "\n",
    "$$ A_1 \\cup A_2 \\cup A_3 \\cup \\cdot\\cdot\\cdot = \\Omega \\text{ ...... (2) }$$\n",
    "\n",
    "\n",
    "전체확률의 법칙을 이용, 다음과 같이 정리가 가능\n",
    "\n",
    "$$P(A_1|B) = \\dfrac{P(B|A_1)P(A_1)}{P(B)} = \\dfrac{P(B|A_1)P(A_1)}{\\sum_i P(A_i, B)}= \\dfrac{P(B|A_1)P(A_1)}{\\sum_i P(B|A_i)P(A_i)}$$\n",
    "\n",
    "-------------\n",
    "\n",
    "전체확률의 법칙 Review $ \\longrightarrow P(A) = P(A \\cap C_1) + P(A \\cap C_2) + \\cdots = \\sum_i P(A\\cap C_i)$\n",
    "\n",
    "-------------"
   ]
  },
  {
   "cell_type": "markdown",
   "metadata": {},
   "source": [
    "ex)  \n",
    "\\begin{eqnarray}\n",
    "P(A|B)\n",
    "&=& \\dfrac{P(B|A)}{P(B)}\\\\\n",
    "&=& \\dfrac{P(B|A)P(A)}{P(B, A) + P(B, A^C)}\\\\\n",
    "&=& \\dfrac{P(B|A)P(A)}{P(B|A)P(A) + P(B|A^C)P(A^C)}\\\\\n",
    "&=& \\dfrac{P(B|A)P(A)}{P(B|A)P(A) + P(B|A^C)(1-P(A))}\n",
    "\\end{eqnarray}"
   ]
  },
  {
   "cell_type": "markdown",
   "metadata": {},
   "source": [
    "# Drug Test"
   ]
  },
  {
   "cell_type": "markdown",
   "metadata": {},
   "source": [
    "사건\n",
    "- D   : 실제로 병에 걸리는 경우\n",
    "- S   : 시약 검사에 양성 반응을 보이는 경우\n",
    "- S|D : 병에 걸린 사람이 양성 반응을 보이는 경우\n",
    "- D|S : 양성 반응을 보인 사람이 실제로 병에 걸려 있을 경우\n",
    "\n",
    "문제\n",
    "- P(S|D)가 0.99일 때\n",
    "- P(D|S)는 ?\n",
    "\n",
    "$$ P(D|S) = \\dfrac{P(S|D)P(D)}{P(S)} $$\n",
    "\n",
    "$\\rightarrow$ P(D)와 P(S)를 모르기 때문에 구할 수가 없다."
   ]
  },
  {
   "cell_type": "markdown",
   "metadata": {},
   "source": [
    "**추가 정보**\n",
    "- $P(D)$ = 0.002\n",
    "- $P(S|D^C)$ = 0.05 ............... (False Positive)"
   ]
  },
  {
   "cell_type": "markdown",
   "metadata": {},
   "source": [
    "$$\n",
    "\\begin{eqnarray}\n",
    "P(D|S) \n",
    "&=& \\dfrac{P(S|D)P(D)}{P(S)} \\\\\n",
    "&=& \\dfrac{P(S|D)P(D)}{P(S, D) + P(S, D^C)} \\\\\n",
    "&=& \\dfrac{P(S|D)P(D)}{P(S|D)P(D) + P(S|D^C)P(D^C)} \\\\\n",
    "&=& \\dfrac{P(S|D)P(D)}{P(S|D)P(D) + P(S|D^C)(1-P(D))} \\\\\n",
    "&=& \\dfrac{0.99 \\cdot 0.002}{0.99 \\cdot 0.002 + 0.05 \\cdot 0.998}\\\\\n",
    "&=& 0.038\n",
    "\\end{eqnarray}\n",
    "$$\n",
    "\n",
    "\n",
    "시약 검사에서 양성 반응을 보이는 사람 중, 실제로 병에 걸려있는 사람의 확률은  \n",
    "3.8% ... 성능이 매우 낮다  \n",
    "\n",
    "왜 이런 반응이 나타나는가? $\\longrightarrow$ 희귀병이기 때문"
   ]
  },
  {
   "cell_type": "markdown",
   "metadata": {},
   "source": [
    "<table class=\"table-bordered\" style=\"width:70%\">\n",
    "  <tr>\n",
    "    <td></td>\n",
    "    <td>양성 반응 $S$</td>\n",
    "    <td>음성 반응 $S^C$</td> \n",
    "  </tr>\n",
    "  <tr>\n",
    "    <td>병에 걸림 $P(D) = 0.002$</td>\n",
    "    <td>$P(S,D) = P(D)P(S|D) = 0.002 \\cdot 0.99 = 0.00198$ </td>\n",
    "    <td>$P(S^C,D) = P(D)P(S^C|D) = 0.002 \\cdot 0.01 = 0.00002$</td>\n",
    "  </tr>\n",
    "  <tr>\n",
    "    <td>병에 안걸림 $P(D^C) = 0.998$</td> \n",
    "    <td>$P(S,D^C) = P(D^C)P(S|D^C) = 0.998 \\cdot 0.05 = 0.0499$ </td>\n",
    "    <td>$P(S^C|D^C) = P(D^C)P(S^C|D^C) = 0.998 \\cdot 0.95 = 0.9481$</td> \n",
    "  </tr>\n",
    "</table>"
   ]
  },
  {
   "cell_type": "markdown",
   "metadata": {},
   "source": [
    "# 확장 2\n",
    "\n",
    "베이즈 정리 :  \n",
    "사건 B가 발생한 것을 확인함에 따라 갱신 된 사건 A의 확률를 구하는 것.  \n",
    "**추가적인 사건 C**가 발생한다면 ... ?\n",
    "\n",
    "$$P(A|B, C) = \\dfrac{P(C|A, B)P(A|B)}{P(C|B}$$\n",
    "\n",
    "(참고) 가정과 조건부 결론\n",
    "$$P(A, B) = P(A|B)P(B) = P(B|A)P(A)$$\n"
   ]
  },
  {
   "cell_type": "markdown",
   "metadata": {},
   "source": [
    "$$ P(A,B,C) = P(A|B,C)P(B,C) = P(A|B,C)P(C|B)P(B)$$\n",
    "\n",
    "\n",
    "$$ P(A,B,C) = P(C|A,B)P(A,B) = P(C|A,B)P(A|B)P(B) $$\n",
    "\n",
    "\n",
    "$$ P(A|B,C)P(C|B)P(B) = P(B|A,C)P(A|B)P(B) $$\n",
    "\n",
    "\n",
    "$$ P(A|B,C) =  \\dfrac{P(B|A,C)P(A|B)}{P(C|B)} $$"
   ]
  },
  {
   "cell_type": "markdown",
   "metadata": {},
   "source": [
    "**연습 문제**  \n",
    "\n",
    "\n",
    "$$ P(A|B,C) = \\dfrac{P(B|A,C)P(A|C)}{P(B|C)} $$\n",
    "\n",
    "(증명)\n",
    "\n",
    "$$ P(A,B,C) = P(A|B,C)P(C,B) = P(A|B,C)P(B|C)P(C)$$\n",
    "\n",
    "\n",
    "$$ P(A,B,C) = P(B|A,C)P(A,C) = P(B|A,C)P(A|C)P(C) $$\n",
    "\n",
    "\n",
    "$$ P(A|B,C)P(B|C)P(C) = P(B|A,C)P(A|C)P(C) $$\n",
    "\n",
    "\n",
    "$$ P(A|B,C) =  \\dfrac{P(B|A,C)P(A|C)}{P(B|C)} $$"
   ]
  },
  {
   "cell_type": "code",
   "execution_count": null,
   "metadata": {},
   "outputs": [],
   "source": []
  }
 ],
 "metadata": {
  "kernelspec": {
   "display_name": "Python 3",
   "language": "python",
   "name": "python3"
  },
  "language_info": {
   "codemirror_mode": {
    "name": "ipython",
    "version": 3
   },
   "file_extension": ".py",
   "mimetype": "text/x-python",
   "name": "python",
   "nbconvert_exporter": "python",
   "pygments_lexer": "ipython3",
   "version": "3.6.2"
  }
 },
 "nbformat": 4,
 "nbformat_minor": 2
}
