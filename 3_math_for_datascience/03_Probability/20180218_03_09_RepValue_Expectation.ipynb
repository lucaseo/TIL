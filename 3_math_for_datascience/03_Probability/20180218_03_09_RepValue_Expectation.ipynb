{
 "cells": [
  {
   "cell_type": "markdown",
   "metadata": {},
   "source": [
    "### 분포\n",
    "- 데이터 전체의 특성\n",
    "- 히스토그램 등 시각화, 분포 함수 등 수식을 사용하여 특성을 살핌\n",
    "\n",
    "# 대표값 (Representative Value)\n",
    "(정의)\n",
    "- 분포를 하나의 숫자로 대표할 수 있는 값\n",
    "- 몇 개의 수치를 통해 분포의 특성을 파악 가능\n",
    "- 평균, 중앙값, 최빈값"
   ]
  },
  {
   "cell_type": "markdown",
   "metadata": {},
   "source": [
    "## 샘플 평균 (Sample Mean)\n",
    "\n",
    "\n",
    "1) **샘플 평균**\n",
    "$$ m = \\bar{x} = \\dfrac{1}{N}\\sum_{i=1}^{N} x_i $$\n",
    "\n",
    "N : 자료의 갯수  \n",
    "i = 1 ... N : 자료의 순서, 인덱스  \n",
    "$x_i$ : 자료의 값\n",
    "\n",
    "2) 어떤 확률 분포를 따르는 **확률 변수 X의 샘플 평균**(매번 다르기 때문에 달라질 수 있다)  \n",
    "$$ \\bar{X} = \\dfrac{1}{N}\\sum_{i=1}^{N} X_i $$"
   ]
  },
  {
   "cell_type": "markdown",
   "metadata": {},
   "source": [
    "## 확률 분포의 기대값 (Expectation)\n",
    "(정의)\n",
    "- 확률모형, 확률 밀도 함수를 알고 있을 경우, 이론적인 평균\n",
    "- 확률모형이 존재한다는 것이 확실한 경우 단순히 평균(mean)이라고도 함\n",
    "\n",
    ">연속형 : f(x) * dx 은 곧 면적(확률)\n",
    ">$$ \\mu_X = \\mu = \\operatorname{E}[X] = \\int_{-\\infty}^{\\infty} x f(x) dx $$\n",
    "\n",
    ">이산형 : P(x) 확률\n",
    ">$$ \\mu = \\operatorname{E}[X] = \\sum xP(x) $$\n",
    "\n",
    "- 기대값은 확률 P(x) 또는 확률밀도 f(x)를 가중치로 하는 x의 '가중합'\n",
    "- (연속형) 확률밀도함수 f(x)를 가중치로 x를 적분해서 구한다\n",
    "- (이산형) x 값에 P(x) 가중치를 곱해서 구한다 (이산형)\n",
    "- 기대값은 가장 확률 밀도가 높은 x값 근처의 값이 된다. 즉 확률 밀도가 모여있는 근처의 위치를 나타냄"
   ]
  },
  {
   "cell_type": "markdown",
   "metadata": {},
   "source": [
    "### 기대값의 성질\n",
    "\n",
    "고정된 값 c에 대해서 ...\n",
    "$$\\operatorname{E}[c] = c$$  \n",
    "\n",
    "$$\\begin{align}\\operatorname{E}[cX]&= c \\operatorname{E}[X]\\end{align}$$\n",
    "\n",
    "$$\\begin{align}\\operatorname{E}[X + Y] &= \\operatorname{E}[X] + \\operatorname{E}[Y] \\end{align}$$\n",
    "\n",
    "독립인 두 확률 변수의 기대값\n",
    "\n",
    "$$ \\text{E}\\left[ (X-\\mu_X)(Y-\\mu_Y) \\right] = 0 $$"
   ]
  },
  {
   "cell_type": "code",
   "execution_count": null,
   "metadata": {},
   "outputs": [],
   "source": [
    "# 기대값 구하기\n",
    "np.random.seed(0)\n",
    "x = np.random.normal(size=1000)"
   ]
  },
  {
   "cell_type": "code",
   "execution_count": null,
   "metadata": {},
   "outputs": [],
   "source": [
    "np.mean(x)"
   ]
  },
  {
   "cell_type": "markdown",
   "metadata": {},
   "source": [
    "### 리얼공간+샘플평균 $\\leftarrow$ _관계_ $\\rightarrow$ 확률모형+기대값\n",
    "\n",
    "- 샘플 평균의 기대값 : 매번 뽑을 때마다 다를 수 있음  \n",
    "- 확률 모형의 기대값 : 모델, 함수의 특성을 이용하기 때문에 변하지 않음\n",
    "\n",
    "\n",
    "\n",
    "**하지만 기대값은 일치한다**$\\cdot\\cdot\\cdot \\operatorname{E}[\\bar{X}] = \\operatorname{E}[X] $\n",
    "\n",
    "(증명)\n",
    "\n",
    "$$ \n",
    "\\begin{eqnarray}\n",
    "\\operatorname{E}[\\bar{X}] \n",
    "&=& \\operatorname{E}\\left[\\dfrac{1}{N}\\sum_{1}^{N}X_i \\right]  \\\\\\\\\n",
    "&=& \\dfrac{1}{N}\\sum_{1}^{N}\\operatorname{E}[X_i]  \\\\\\\\\n",
    "&=& \\dfrac{1}{N}\\sum_{1}^{N}\\operatorname{E}[X] \\;\\; (X_1, X_2, ... 모두 X를 복제한 것이므로, X와 같다)\\\\\\\\\n",
    "&=& \\dfrac{1}{N} N \\operatorname{E}[X]\\;\\; (N번째를 모두 더한 다는 건, 결국 N번 곱한다는 것)\\\\ \\\\\n",
    "&=& \\operatorname{E}[X]  \\\\\\\\\n",
    "\\end{eqnarray}\n",
    "$$"
   ]
  },
  {
   "cell_type": "markdown",
   "metadata": {},
   "source": [
    "## 중앙값 (Median)\n",
    "\n",
    "- 전체 자료를 크기 별로 정렬 했을 때, 가장 중앙에 위치한 값\n",
    "- 샘플 중앙값, 이론적 중앙값(확률분포)\n",
    "\n",
    "(정의)\n",
    "- N 홀수 : (n+1)/2번 째 샘플의 값\n",
    "- N 짝수 : (n/2)번째, (n/2 + 1)번째 값의 평균  \n",
    "\n",
    "\n",
    "- 이론적 중앙값 : \n",
    "$$ \\text{median} = F^{-1}(0.5) $$\n",
    "$$ 0.5 = F(\\text{median}) $$\n",
    "\n"
   ]
  },
  {
   "cell_type": "code",
   "execution_count": 6,
   "metadata": {},
   "outputs": [
    {
     "data": {
      "text/plain": [
       "-0.052497821772340664"
      ]
     },
     "execution_count": 6,
     "metadata": {},
     "output_type": "execute_result"
    }
   ],
   "source": [
    "# 중앙값 구하기\n",
    "x = np.random.normal(size=1000)\n",
    "np.median(x)"
   ]
  },
  {
   "cell_type": "markdown",
   "metadata": {},
   "source": [
    "## 최빈값 (Mode)\n",
    "(정의)\n",
    "- 가장 빈번하게 나올 수 있는 값 \n",
    "- $\\text{mode} = \\arg \\max_x f(x) $"
   ]
  },
  {
   "cell_type": "markdown",
   "metadata": {},
   "source": [
    "- 연속 확률 분포일 때는, 확률 밀도의 함수값이 가장 큰 확률 변수의 값\n",
    "- 연속 자료는 구간을 분할하여 구간의 대표값으로 카테고리화 하여 구함"
   ]
  },
  {
   "cell_type": "code",
   "execution_count": 7,
   "metadata": {},
   "outputs": [
    {
     "data": {
      "text/plain": [
       "(-0.52631578947368496, 0.52631578947368318)"
      ]
     },
     "execution_count": 7,
     "metadata": {},
     "output_type": "execute_result"
    }
   ],
   "source": [
    "x = np.random.normal(size=1000)\n",
    "ns, bins = np.histogram(x, bins=np.linspace(-10,10,20))\n",
    "M = np.argmax(ns)\n",
    "bins[M], bins[M+1]"
   ]
  },
  {
   "cell_type": "markdown",
   "metadata": {},
   "source": [
    "# 기대값, 중앙값, 최빈값의 비교\n",
    "- 확률 밀도 함수가 대칭인 경우에는 기대값, 중앙값, 최빈값 모두 같음\n",
    "- 한 쪽으로 찌그러진 (skewed) 형태일 때는 모두 값이 달라짐"
   ]
  },
  {
   "cell_type": "markdown",
   "metadata": {},
   "source": [
    "<table class=\"table-bordered\" style=\"width:100%\">\n",
    "    <tr>\n",
    "        <td></td>\n",
    "        <td>E[X]</td>\n",
    "        <td>Median</td>\n",
    "        <td>Mode</td>\n",
    "    </tr>\n",
    "    <tr>\n",
    "        <td>계산</td>\n",
    "        <td>쉬움 : 다 더하면 그만</td>\n",
    "        <td>E[X]보다 어려움 : sorting 작업</td>\n",
    "        <td>제일 어려움 : optimization 작업</td>\n",
    "    </tr>\n",
    "    <tr>\n",
    "        <td>outlier 영향</td>\n",
    "        <td>가장 많이 받음</td>\n",
    "        <td>영향 적게 받음</td>\n",
    "        <td>영향 아예 안 받음</td>\n",
    "    </tr>    \n",
    "</table>"
   ]
  }
 ],
 "metadata": {
  "kernelspec": {
   "display_name": "Python 3",
   "language": "python",
   "name": "python3"
  },
  "language_info": {
   "codemirror_mode": {
    "name": "ipython",
    "version": 3
   },
   "file_extension": ".py",
   "mimetype": "text/x-python",
   "name": "python",
   "nbconvert_exporter": "python",
   "pygments_lexer": "ipython3",
   "version": "3.6.2"
  }
 },
 "nbformat": 4,
 "nbformat_minor": 2
}
