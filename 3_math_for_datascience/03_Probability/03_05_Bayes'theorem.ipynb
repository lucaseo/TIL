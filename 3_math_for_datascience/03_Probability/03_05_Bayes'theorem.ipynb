{
 "cells": [
  {
   "cell_type": "markdown",
   "metadata": {},
   "source": [
    "# 베이즈 정리\n",
    "\n",
    "사건 B가 발생함으로써 ( 사건 B의 확률 P(B)=1 임을 알게 됨으로 ) 사건 A 의 확률이 어떻게 변화하는지\n",
    "\n",
    "$$ P(A|B) = \\dfrac{P(B|A)P(A)}{P(B)} $$  \n",
    "\n",
    "(증명)\n",
    "\n",
    "$$ P(A|B) = \\dfrac{P(A,B)}{P(B)} \\;\\; \\rightarrow \\;\\; P(A,B) = P(A|B)P(B) $$\n",
    "\n",
    "\n",
    "$$ P(B|A) = \\dfrac{P(A,B)}{P(A)} \\;\\; \\rightarrow \\;\\; P(A,B) = P(B|A)P(A) $$\n",
    "\n",
    "\n",
    "$$ P(A,B) = P(A|B)P(B) = P(B|A)P(A) $$\n",
    "\n",
    "\n",
    "$$ P(A|B) = \\dfrac{P(B|A)P(A)}{P(B)} $$"
   ]
  },
  {
   "cell_type": "markdown",
   "metadata": {},
   "source": [
    "- P(A) : 사전 확률 **prior** - 사건 B가 발생하기 전에 가지고 있던 사건 A의 확률\n",
    "- P(A|B) : 사후 확률 **posterior** - 사건 B가 발생한 후 갱신된 사건 A의 확률\n",
    "- P(B|A) : **likelihood** - 사건 A가 발생한 경우 사건 B의 확률\n",
    "- P(B) : 정규화 상수 **normalizing constant** - 확률의 크기 조정"
   ]
  },
  {
   "cell_type": "code",
   "execution_count": null,
   "metadata": {},
   "outputs": [],
   "source": []
  }
 ],
 "metadata": {
  "kernelspec": {
   "display_name": "Python 3",
   "language": "python",
   "name": "python3"
  },
  "language_info": {
   "codemirror_mode": {
    "name": "ipython",
    "version": 3
   },
   "file_extension": ".py",
   "mimetype": "text/x-python",
   "name": "python",
   "nbconvert_exporter": "python",
   "pygments_lexer": "ipython3",
   "version": "3.6.2"
  }
 },
 "nbformat": 4,
 "nbformat_minor": 2
}
