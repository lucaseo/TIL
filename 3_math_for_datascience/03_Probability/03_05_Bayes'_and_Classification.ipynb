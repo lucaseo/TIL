{
 "cells": [
  {
   "cell_type": "markdown",
   "metadata": {},
   "source": [
    "# Classification\n",
    "제일 큰 확률을 만드는 Y값은 무엇인가? 의 접근에서부터 시작한다.\n",
    "\n",
    "$$ \\hat{f}(x) = argmax(Y|X)$$\n",
    "\n",
    "\n",
    "\n",
    "Y를 생성하여, 가장 확률이 높은 Y를 통해 문제를 푸는 방법을  \n",
    "**generative method** 라고 한다."
   ]
  },
  {
   "cell_type": "markdown",
   "metadata": {},
   "source": [
    "# 과일 선택 문제\n",
    "\n",
    "Red 농장에서 온 과일  : 사과 2개, 오렌지 6개  \n",
    "Blue 농장에서 온 과일 : 사과 3개, 오렌지 1개\n",
    "\n",
    "오렌지를 하나 선택했을 때, 어느 농장에서 온 오렌지일까?"
   ]
  },
  {
   "cell_type": "markdown",
   "metadata": {},
   "source": [
    "(정리)  \n",
    "A : 사과인 사건  \n",
    "O : 오렌지인 사건  \n",
    "R : 과일이 Red 농장에서 온 사건  \n",
    "B : 과일이 Blue 농장에서 온 사건  \n",
    "\n",
    "손님이 선택한 오렌지가 Red 농장에서 왔을 확률 $ \\rightarrow P(R|O) $"
   ]
  },
  {
   "cell_type": "markdown",
   "metadata": {},
   "source": [
    "P(R) = $\\dfrac{8}{12}$"
   ]
  },
  {
   "cell_type": "markdown",
   "metadata": {},
   "source": [
    "P(O|R) = $\\dfrac{6}{8}$"
   ]
  },
  {
   "cell_type": "markdown",
   "metadata": {},
   "source": [
    "이를 이용하면, \n",
    "\n",
    "\\begin{eqnarray}\n",
    "P(R|O) \n",
    "&=& \\dfrac{P(O|R)(P(R)}{P(O)}\\\\\n",
    "&=& \\dfrac{P(O|R)(P(R)}{P(O, R)+P(O, R^C)}\\\\\n",
    "&=& \\dfrac{P(O|R)(P(R)}{P(O|R)P(R)+P(O|B)P(B)}\\\\\n",
    "&=& \\dfrac{6/8 \\cdot 8/12}{6/8 \\cdot 8/12 + 1/4 \\cdot 4/12}\n",
    "&=& \\dfrac{6}{7} \\\\\n",
    "P(B|O)\n",
    "&=& \\dfrac{1}{7}\n",
    "\\end{eqnarray}"
   ]
  },
  {
   "cell_type": "markdown",
   "metadata": {},
   "source": [
    "위의 방식은 likelihood **P(B|A)**를 알고 있어야 가능하다.  \n",
    "베이즈 정리와 likelihood를 이용하여 Y값에 대한 확률을 구한 다음,  \n",
    "**(Y값 : 오렌지를 골랐을 때, 오렌지의 생산 농장 Red or Blue)**  \n",
    "가장 확률 값이 높은 Y값을 선택하여 분류문제를 푸는 방식을  \n",
    "\n",
    "### 생성론적 방법 (generative method)라고 한다."
   ]
  },
  {
   "cell_type": "code",
   "execution_count": null,
   "metadata": {},
   "outputs": [],
   "source": []
  }
 ],
 "metadata": {
  "kernelspec": {
   "display_name": "Python 3",
   "language": "python",
   "name": "python3"
  },
  "language_info": {
   "codemirror_mode": {
    "name": "ipython",
    "version": 3
   },
   "file_extension": ".py",
   "mimetype": "text/x-python",
   "name": "python",
   "nbconvert_exporter": "python",
   "pygments_lexer": "ipython3",
   "version": "3.6.2"
  }
 },
 "nbformat": 4,
 "nbformat_minor": 2
}
