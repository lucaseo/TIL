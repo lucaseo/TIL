{
 "cells": [
  {
   "cell_type": "markdown",
   "metadata": {},
   "source": [
    "베이지안 확률론은 ...  \n",
    "  \n",
    "두 사건 A, B의 관계에 대해서, 사건 B가 발생했다는 사실이 있을 때, 이 것을 가지고 기존에 알고 있는 사건 A에 대한 확률 P(A)를 좀 더 정확한 확률로 바꿀 수 있는 방법을 알려준다."
   ]
  },
  {
   "cell_type": "markdown",
   "metadata": {},
   "source": [
    "# 결합확률 ( joint probabililty )  \n",
    "\n",
    "사건 A와 B가 동시에 발생활 확률\n",
    "\n",
    "$$ P(A \\cap B) \\text{ 또는 } P(A, B) $$  \n",
    "\n",
    "\n",
    "주변 확률 (marginal probability)\n",
    "- 개별 사건의 확률 P(A) 또는 P(B)"
   ]
  },
  {
   "cell_type": "markdown",
   "metadata": {},
   "source": [
    "# 조건부 확률 ( conditional probability )\n",
    "    - B가 사실일 경우의 사건 A에 대한 확률  \n",
    "    - 사건 B에 대한 사건 A의 조건부 확률  \n",
    "\n",
    "$$P(A|B) \\;\\;\\rightarrow\\;\\; P(A|B) = \\dfrac{P(A,B)}{P(B)}$$"
   ]
  },
  {
   "cell_type": "markdown",
   "metadata": {},
   "source": [
    "조건부 확률의 근거\n",
    "- 사건 B가 사실이므로, 표본공간 $\\Omega \\rightarrow B$\n",
    "- 사건 A의 원소는 사건 $A \\cap B$의 원소\n",
    "- 사건 A의 확률(신뢰도)\n",
    "    - 기존의 신뢰도(결합확률) $\\rightarrow$ 정규화(normalization) $\\rightarrow$ 새로운 표본 공간의 신뢰(확률)"
   ]
  },
  {
   "cell_type": "markdown",
   "metadata": {},
   "source": [
    "# 독립"
   ]
  },
  {
   "cell_type": "markdown",
   "metadata": {},
   "source": [
    "사건 A와 사건 B가 독립인 경우 (교집합이 공집합인 경우)\n",
    "\n",
    "$$P(A,B) = P(A)P(B)$$  \n",
    "\n",
    "그리고  \n",
    "\n",
    "$$P(A|B) =\\dfrac{P(A,B)}{P(B)} = \\dfrac{P(A)P(B)}{P(B)} = P(A)$$  "
   ]
  },
  {
   "cell_type": "markdown",
   "metadata": {},
   "source": [
    "# 원인과 결과, 근거와 추론 $\\rightarrow$ 가정과 조건부 결론"
   ]
  },
  {
   "cell_type": "markdown",
   "metadata": {},
   "source": [
    "사건 B에 대한 사건 A의 조건부 확률  $P(A|B)$\n",
    "1. 가정과 그 가정에 따른 조건부 결론\n",
    "2. 원인과 결과\n",
    "3. 근거와 추론  \n",
    "\n",
    "$$P(A,B) = P(A|B)P(B)$$\n",
    "\n",
    "(해석의 예)\n",
    "- 사건 B가 발생했다 $\\rightarrow$ 근거, 조건\n",
    "- 사건 B가 사건 A의 근거가 된다.\n",
    "- 사건 B가 발생하지 않는다면 사건 A는 아예 고려되지 않는다.  \n",
    "\n",
    "$$ \\text{사건 A, B가 모두 발생할 확률은} $$\n",
    "$$ \\text{(사건 B가 발생할 경우, 사건 A가 발생할 확률)} \\times \\text{(사건 B)} $$"
   ]
  },
  {
   "cell_type": "markdown",
   "metadata": {},
   "source": [
    " "
   ]
  },
  {
   "cell_type": "markdown",
   "metadata": {},
   "source": [
    " "
   ]
  },
  {
   "cell_type": "markdown",
   "metadata": {},
   "source": [
    " "
   ]
  },
  {
   "cell_type": "markdown",
   "metadata": {},
   "source": [
    " "
   ]
  },
  {
   "cell_type": "markdown",
   "metadata": {},
   "source": [
    " "
   ]
  },
  {
   "cell_type": "markdown",
   "metadata": {},
   "source": [
    "# pgmpy 패키지"
   ]
  },
  {
   "cell_type": "code",
   "execution_count": null,
   "metadata": {},
   "outputs": [],
   "source": []
  }
 ],
 "metadata": {
  "kernelspec": {
   "display_name": "Python 3",
   "language": "python",
   "name": "python3"
  },
  "language_info": {
   "codemirror_mode": {
    "name": "ipython",
    "version": 3
   },
   "file_extension": ".py",
   "mimetype": "text/x-python",
   "name": "python",
   "nbconvert_exporter": "python",
   "pygments_lexer": "ipython3",
   "version": "3.6.2"
  }
 },
 "nbformat": 4,
 "nbformat_minor": 2
}
