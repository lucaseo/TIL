{
 "cells": [
  {
   "cell_type": "markdown",
   "metadata": {},
   "source": [
    "# 집합  \n",
    "확률을 수학적으로 정의하기 위한 개념"
   ]
  },
  {
   "cell_type": "markdown",
   "metadata": {},
   "source": [
    "### 1. 집합과 원소  \n",
    "**집합 (Set)** : 구별 가능한 객체의 모임. 집합에 포함된 객체를 **원소 (element)** 라고 한다.  \n",
    "  \n",
    "ex)  \n",
    "$x \\in A$ --> 원소 $x$ 가 집합 $A$ 에 포함되는 관계  \n",
    "$x \\notin A$ --> 원소 $x$ 가 집합 $A$ 에 포함되지 않는 관계  \n",
    "  \n",
    "$ A = \\{1, 2, 3\\} $ 라고 할 때, \n",
    "$$ 1 \\in A , \\;\\;\\; 5 \\notin A $$"
   ]
  },
  {
   "cell_type": "markdown",
   "metadata": {},
   "source": [
    "### _파이썬에서의 집합_\n",
    "\n",
    "`set` 과 `frozenset` 자료형으로 집합을 나타낸다."
   ]
  },
  {
   "cell_type": "markdown",
   "metadata": {},
   "source": [
    "1. `set` 은 내용을 변경할 수 있는 mutable 자료형, 중복된 자료는 없어짐.\n",
    "2. `frozenset`은 변경이 불가능한 immutable 자료형."
   ]
  },
  {
   "cell_type": "code",
   "execution_count": 2,
   "metadata": {},
   "outputs": [
    {
     "data": {
      "text/plain": [
       "{1, 2, 3}"
      ]
     },
     "execution_count": 2,
     "metadata": {},
     "output_type": "execute_result"
    }
   ],
   "source": [
    "A = set([1, 2, 3, 3, 2])\n",
    "A"
   ]
  },
  {
   "cell_type": "code",
   "execution_count": 3,
   "metadata": {},
   "outputs": [
    {
     "data": {
      "text/plain": [
       "frozenset({'H', 'T'})"
      ]
     },
     "execution_count": 3,
     "metadata": {},
     "output_type": "execute_result"
    }
   ],
   "source": [
    "B = frozenset(['H', 'T'])\n",
    "B"
   ]
  },
  {
   "cell_type": "markdown",
   "metadata": {},
   "source": [
    "### 2. 집합의 크기 (cardinality)  \n",
    "집합의 크기는 집합이 가지는 원소의 갯수. $|A|$ 기호, 혹은 card$(A)$ 기호를 통해 나타낸다.\n",
    "\n",
    "$$ |A| = \\text{card}(A) = 3 $$  \n",
    "  \n",
    "  \n",
    "  파이썬으로는 `len`으로 구한다."
   ]
  },
  {
   "cell_type": "code",
   "execution_count": 5,
   "metadata": {},
   "outputs": [
    {
     "data": {
      "text/plain": [
       "3"
      ]
     },
     "execution_count": 5,
     "metadata": {},
     "output_type": "execute_result"
    }
   ],
   "source": [
    "len(A)"
   ]
  },
  {
   "cell_type": "markdown",
   "metadata": {},
   "source": [
    "### 3. 합집합과 교집합"
   ]
  },
  {
   "cell_type": "markdown",
   "metadata": {},
   "source": [
    "(1) **합집합 (union)** : 각 집합의 원소를 모두 포함하는 집합\n",
    "\n",
    "$$ A \\cup B $$"
   ]
  },
  {
   "cell_type": "code",
   "execution_count": 7,
   "metadata": {},
   "outputs": [
    {
     "name": "stdout",
     "output_type": "stream",
     "text": [
      "{1, 2, 3, 4, 5, 6, 7}\n",
      "{1, 2, 3, 4, 5, 6, 7}\n"
     ]
    }
   ],
   "source": [
    "A1 = set([1, 2, 3, 4, 5])\n",
    "A2 = set([2, 3, 6, 7])\n",
    "print(A1.union(A2))  # .union\n",
    "print(A1|A2)         # |"
   ]
  },
  {
   "cell_type": "markdown",
   "metadata": {},
   "source": [
    "(2) **교집합 (intersection** : 두 사건 모두에 속하는 원소로만 이루어진 집합\n",
    "\n",
    "$$ A \\cap B $$"
   ]
  },
  {
   "cell_type": "code",
   "execution_count": 8,
   "metadata": {},
   "outputs": [
    {
     "name": "stdout",
     "output_type": "stream",
     "text": [
      "{2, 3}\n",
      "{2, 3}\n"
     ]
    }
   ],
   "source": [
    "print(A1.intersection(A2)) # .intersection\n",
    "print(A2&A1)               # &"
   ]
  },
  {
   "cell_type": "markdown",
   "metadata": {},
   "source": [
    "### 4. 전체 집합과 부분 집합\n",
    "\n",
    "(1) **전체집합 (Omega)**  : 집합의 원소 중 모든 것을 포함하는 집합  \n",
    "(2) **부분집합 (subset)** : 집합의 원소 중 일부를 포함하는 집합. 모든 집합은 자기 자신의 부분 집합  \n",
    "(3) **진부분집합 (proper subset)** : 원소의 크기가 더 작은 부분집합  \n",
    "\n",
    "\n",
    "        ex) 집합 A가 집합 $ \\Omega $의 부분집합  \n",
    "\n",
    "$$ A \\subset \\Omega $$"
   ]
  },
  {
   "cell_type": "code",
   "execution_count": 10,
   "metadata": {},
   "outputs": [
    {
     "data": {
      "text/plain": [
       "False"
      ]
     },
     "execution_count": 10,
     "metadata": {},
     "output_type": "execute_result"
    }
   ],
   "source": [
    "# 부분집합 여부 확인\n",
    "# .issubset\n",
    "A2.issubset(A1)"
   ]
  },
  {
   "cell_type": "code",
   "execution_count": 11,
   "metadata": {},
   "outputs": [
    {
     "data": {
      "text/plain": [
       "False"
      ]
     },
     "execution_count": 11,
     "metadata": {},
     "output_type": "execute_result"
    }
   ],
   "source": [
    "# 부분집합 여부 확인\n",
    "# 부등호\n",
    "A2 <= A1"
   ]
  },
  {
   "cell_type": "code",
   "execution_count": 12,
   "metadata": {},
   "outputs": [
    {
     "data": {
      "text/plain": [
       "True"
      ]
     },
     "execution_count": 12,
     "metadata": {},
     "output_type": "execute_result"
    }
   ],
   "source": [
    "# 모든 집합은 자기 자신의 부분집합\n",
    "A2.issubset(A2)"
   ]
  },
  {
   "cell_type": "markdown",
   "metadata": {},
   "source": [
    "### 5. 차집합과 여집합\n",
    "1) **차집합 (difference)** : 집합 $A$엔 속하고 집합 $B$에는 속하지 않는 원소로 이뤄진 $A$의 부분집합  \n",
    "\n",
    "$$ A-B $$"
   ]
  },
  {
   "cell_type": "code",
   "execution_count": 13,
   "metadata": {},
   "outputs": [
    {
     "name": "stdout",
     "output_type": "stream",
     "text": [
      "{1, 4, 5}\n",
      "{1, 4, 5}\n"
     ]
    }
   ],
   "source": [
    "print(A1.difference(A2))  # .difference\n",
    "print(A1 - A2)            # -"
   ]
  },
  {
   "cell_type": "markdown",
   "metadata": {},
   "source": [
    "2) **여집합 (completion)** : 전체집합 $\\Omega$ 중 $A$에 속하지 않은 원소로만 이루어진 부분집합\n",
    "\n",
    "$$ A^C = \\Omega - A $$"
   ]
  },
  {
   "cell_type": "markdown",
   "metadata": {},
   "source": [
    "### 6.  공집합 (null set)"
   ]
  },
  {
   "cell_type": "markdown",
   "metadata": {},
   "source": [
    "정의 : 아무런 원소도 포함하지 않는 집합\n",
    "$$\\emptyset$$\n",
    "\n",
    "\n",
    "공집합은 모든 원소의 부분집합\n",
    "$$ \\emptyset \\subset A, \\; \\text {for all} \\;\\;A $$\n",
    "\n",
    "\n",
    "여집합과 원래의 집합의 교집합은 공집합\n",
    "$$ A \\cap A^C = \\emptyset $$"
   ]
  },
  {
   "cell_type": "code",
   "execution_count": 14,
   "metadata": {},
   "outputs": [
    {
     "data": {
      "text/plain": [
       "set()"
      ]
     },
     "execution_count": 14,
     "metadata": {},
     "output_type": "execute_result"
    }
   ],
   "source": [
    "nullset = set([])\n",
    "nullset"
   ]
  },
  {
   "cell_type": "markdown",
   "metadata": {},
   "source": [
    "### 7. 합집합과 교집합의 분배법칙"
   ]
  },
  {
   "cell_type": "markdown",
   "metadata": {},
   "source": [
    "$$ A \\cup (B \\cap C) = (A \\cup B) \\cap (A \\cup C) $$  \n",
    "\n",
    "$$ A \\cap (B \\cup C) = (A \\cap B) \\cup (A \\cap C) $$"
   ]
  },
  {
   "cell_type": "code",
   "execution_count": null,
   "metadata": {},
   "outputs": [],
   "source": []
  }
 ],
 "metadata": {
  "kernelspec": {
   "display_name": "Python 3",
   "language": "python",
   "name": "python3"
  },
  "language_info": {
   "codemirror_mode": {
    "name": "ipython",
    "version": 3
   },
   "file_extension": ".py",
   "mimetype": "text/x-python",
   "name": "python",
   "nbconvert_exporter": "python",
   "pygments_lexer": "ipython3",
   "version": "3.6.2"
  }
 },
 "nbformat": 4,
 "nbformat_minor": 2
}
