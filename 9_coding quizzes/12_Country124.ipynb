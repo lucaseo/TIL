{
 "cells": [
  {
   "cell_type": "markdown",
   "metadata": {},
   "source": [
    "'Country 124' only uses integer 1,2, and 4.  \n",
    "\n",
    "In 'Country 124', decimal numbers converted as following examples.\n",
    "\n",
    "Decimal number : 1 → Country 124 : 1  \n",
    "Decimal number : 2 → Country 124 : 2  \n",
    "Decimal number : 3 → Country 124 : 4  \n",
    "Decimal number : 4 → Country 124 : 11  \n",
    "Decimal number : 5 → Country 124 : 12  \n",
    "Decimal number : 6 → Country 124 : 14  \n",
    "Decimal number : 7 → Country 124 : 21  \n",
    "\n",
    "Create a function that converts decimal numbers into a number system in 'Country 124'\n",
    "\n",
    "If input number is 10, the output should be 41.  \n",
    "The return type is string."
   ]
  },
  {
   "cell_type": "code",
   "execution_count": 1,
   "metadata": {},
   "outputs": [],
   "source": [
    "def country_124(n):\n",
    "    num = ['1','2','4']\n",
    "    answer = \"\"\n",
    "\n",
    "\n",
    "    while n > 0:\n",
    "        n -= 1\n",
    "        answer = num[n % 3] + answer\n",
    "        n //= 3\n",
    "\n",
    "    return answer"
   ]
  },
  {
   "cell_type": "code",
   "execution_count": 2,
   "metadata": {},
   "outputs": [
    {
     "data": {
      "text/plain": [
       "'122'"
      ]
     },
     "execution_count": 2,
     "metadata": {},
     "output_type": "execute_result"
    }
   ],
   "source": [
    "country_124(17)"
   ]
  },
  {
   "cell_type": "code",
   "execution_count": null,
   "metadata": {},
   "outputs": [],
   "source": []
  }
 ],
 "metadata": {
  "kernelspec": {
   "display_name": "Python 3",
   "language": "python",
   "name": "python3"
  },
  "language_info": {
   "codemirror_mode": {
    "name": "ipython",
    "version": 3
   },
   "file_extension": ".py",
   "mimetype": "text/x-python",
   "name": "python",
   "nbconvert_exporter": "python",
   "pygments_lexer": "ipython3",
   "version": "3.6.2"
  }
 },
 "nbformat": 4,
 "nbformat_minor": 2
}
