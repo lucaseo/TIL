{
 "cells": [
  {
   "cell_type": "markdown",
   "metadata": {},
   "source": [
    "(준성) https://programmers.co.kr/learn/challenge_codes/84  \n",
    "    \n",
    "\n",
    "앞뒤를 뒤집어도 똑같은 문자열을 palindrome이라고 합니다.\n",
    "longest_palindrom함수는 문자열 s를 매개변수로 입력받습니다.\n",
    "s의 부분문자열중 가장 긴 palindrom의 길이를 리턴하는 함수를 완성하세요.\n",
    "예를들어 s가 토마토맛토마토이면 7을 리턴하고 토마토맛있어이면 3을 리턴합니다."
   ]
  },
  {
   "cell_type": "code",
   "execution_count": 1,
   "metadata": {},
   "outputs": [],
   "source": [
    "def longest_palindrome(s):\n",
    "    ls = []\n",
    "\n",
    "    for i in range(len(s)):\n",
    "        for j in range(0, i):\n",
    "            sample = s[j:i + 1]\n",
    "            \n",
    "            if sample == sample[::-1]:\n",
    "                ls.append(sample)\n",
    "\n",
    "    result = max(ls, key=len)\n",
    "                \n",
    "    return len(result)"
   ]
  },
  {
   "cell_type": "code",
   "execution_count": 3,
   "metadata": {},
   "outputs": [],
   "source": [
    "s = \"색갈은짙은갈색갈은짙은갈색\""
   ]
  },
  {
   "cell_type": "code",
   "execution_count": 4,
   "metadata": {},
   "outputs": [
    {
     "name": "stdout",
     "output_type": "stream",
     "text": [
      "40.5 µs ± 1.18 µs per loop (mean ± std. dev. of 7 runs, 10000 loops each)\n"
     ]
    }
   ],
   "source": [
    "%%timeit\n",
    "longest_palindrome(s)"
   ]
  },
  {
   "cell_type": "code",
   "execution_count": null,
   "metadata": {},
   "outputs": [],
   "source": []
  }
 ],
 "metadata": {
  "kernelspec": {
   "display_name": "Python 3",
   "language": "python",
   "name": "python3"
  },
  "language_info": {
   "codemirror_mode": {
    "name": "ipython",
    "version": 3
   },
   "file_extension": ".py",
   "mimetype": "text/x-python",
   "name": "python",
   "nbconvert_exporter": "python",
   "pygments_lexer": "ipython3",
   "version": "3.6.2"
  }
 },
 "nbformat": 4,
 "nbformat_minor": 2
}
