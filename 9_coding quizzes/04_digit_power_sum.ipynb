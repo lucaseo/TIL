{
 "cells": [
  {
   "cell_type": "markdown",
   "metadata": {},
   "source": [
    "The number 512 is interesting because it is equal to the sum of its digits raised to some power: 5 + 1 + 2 = 8, and $8^3$ = 512.  \n",
    "Another example of a number with this property is 614656 = $28^4$.\n",
    "\n",
    "We shall define $a_{n}$ to be the $n^{th}$ term of this sequence and insist that a number must contain at least two digits to have a sum.\n",
    "\n",
    "You are given that $a_{2}$ = 512 and $a_{10}$ = 614656.\n",
    "\n",
    "Find $a_{30}$."
   ]
  },
  {
   "cell_type": "code",
   "execution_count": 1,
   "metadata": {},
   "outputs": [
    {
     "name": "stdout",
     "output_type": "stream",
     "text": [
      "a(30) = 248155780267521\n"
     ]
    }
   ],
   "source": [
    "def add_all_digits(x):\n",
    "    return sum(map(int, str(x)))\n",
    "\n",
    "a = []\n",
    "n = 30\n",
    "\n",
    "for sum_of_digit in range(2, 1000):\n",
    "    for square in range(2, 100):\n",
    "        an = sum_of_digit ** square\n",
    "        if add_all_digits(an) == sum_of_digit: \n",
    "            a.append(an)\n",
    "\n",
    "a.sort()\n",
    "print(\"a({}) = {}\".format(n, a[n-1]))"
   ]
  },
  {
   "cell_type": "code",
   "execution_count": null,
   "metadata": {},
   "outputs": [],
   "source": []
  }
 ],
 "metadata": {
  "kernelspec": {
   "display_name": "Python 3",
   "language": "python",
   "name": "python3"
  },
  "language_info": {
   "codemirror_mode": {
    "name": "ipython",
    "version": 3
   },
   "file_extension": ".py",
   "mimetype": "text/x-python",
   "name": "python",
   "nbconvert_exporter": "python",
   "pygments_lexer": "ipython3",
   "version": "3.6.2"
  }
 },
 "nbformat": 4,
 "nbformat_minor": 2
}
